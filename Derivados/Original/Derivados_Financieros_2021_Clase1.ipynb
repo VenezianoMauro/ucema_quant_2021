{
 "cells": [
  {
   "cell_type": "markdown",
   "metadata": {},
   "source": [
    "# Derivados Financieros 2021 - Clase 1"
   ]
  },
  {
   "cell_type": "markdown",
   "metadata": {},
   "source": [
    "## Menu del dia:\n",
    "\n",
    "    - (1) Web scraping de rava\n",
    "    - (2) Limpieza y generacion de dataframe ad-hoc para futuros usos\n",
    "    - (3) pyhomebroker (requiere acceso a ALyC que use HomeBroker)\n",
    "    - (4) algunos plots de market data de opciones\n",
    "    - (5) exportar a exel/csv \n",
    "    - (6) Comparar paneles (rava-hb) \n",
    "    \n",
    "    "
   ]
  },
  {
   "cell_type": "markdown",
   "metadata": {},
   "source": [
    "## (1) Web Scraping de la pagina de RAVA"
   ]
  },
  {
   "cell_type": "markdown",
   "metadata": {},
   "source": [
    "Modulos necesarios\n",
    "\n",
    "data_byma (en webcampus) ;\n",
    "\n",
    "utils_opciones_byma (en webcampus)\n",
    "\n",
    "bs4,\n",
    "\n",
    "requests,\n",
    "\n",
    "pandas,\n",
    "\n",
    "matplotlib,\n",
    "\n",
    "datetime,\n",
    "\n",
    "calendar,\n",
    "\n",
    "sys,\n",
    "\n",
    "Instalarlos con Anaconda, comando Conda o comando pip install"
   ]
  },
  {
   "cell_type": "markdown",
   "metadata": {},
   "source": [
    "### Importo los modulos"
   ]
  },
  {
   "cell_type": "code",
   "execution_count": null,
   "metadata": {},
   "outputs": [],
   "source": [
    "from data_byma import *\n",
    "from utils_opciones_byma import *\n",
    "\n"
   ]
  },
  {
   "cell_type": "markdown",
   "metadata": {},
   "source": [
    "### Metodo para el web scraping"
   ]
  },
  {
   "cell_type": "code",
   "execution_count": null,
   "metadata": {},
   "outputs": [],
   "source": [
    "panel_rava = web_scraping_opciones_rava()\n",
    "panel_rava.head(20)"
   ]
  },
  {
   "cell_type": "markdown",
   "metadata": {},
   "source": [
    "### Que hace internamente el metodo??"
   ]
  },
  {
   "cell_type": "markdown",
   "metadata": {},
   "source": [
    "#### Beautiful Soup /requests \n",
    "\n",
    "\n",
    "Mas sobre BS4: https://j2logo.com/python/web-scraping-con-python-guia-inicio-beautifulsoup/\n",
    "\n",
    "Mas sobre requests: https://www.digitalocean.com/community/tutorials/how-to-get-started-with-the-requests-library-in-python-es"
   ]
  },
  {
   "cell_type": "code",
   "execution_count": null,
   "metadata": {},
   "outputs": [],
   "source": [
    "from bs4 import BeautifulSoup\n",
    "import requests\n",
    "import pandas as pd"
   ]
  },
  {
   "cell_type": "markdown",
   "metadata": {},
   "source": [
    "#### Como usamos BeautifulSoup y requests"
   ]
  },
  {
   "cell_type": "code",
   "execution_count": null,
   "metadata": {},
   "outputs": [],
   "source": [
    "#url = 'http://www.rava.com/precios/panel.php?m=OPC'\n",
    "url = 'http://clasico.rava.com/precios/panel.php?m=OPC'\n",
    "#url = 'http://datos.rava.com/cotizaciones/opciones'\n",
    "page = requests.get(url)\n",
    "page"
   ]
  },
  {
   "cell_type": "code",
   "execution_count": null,
   "metadata": {},
   "outputs": [],
   "source": [
    "# En soup voy a encontrar el codigo html de la pagina\n",
    "\n",
    "soup = BeautifulSoup(page.text, 'lxml')\n",
    "soup"
   ]
  },
  {
   "cell_type": "markdown",
   "metadata": {},
   "source": [
    "#### El arte del scraping\n",
    "\n",
    "Aqui es donde uno tiene que meterse en el codigo interno de la pagina e 'identificar' la informacion que necesita. En este caso la tabla de informacion de opciones\n",
    "Se puede hacer una inspeccion en modo dev del navegador\n"
   ]
  },
  {
   "cell_type": "code",
   "execution_count": null,
   "metadata": {},
   "outputs": [],
   "source": [
    "# En opciones tengo el contenido de la tabla correspondiente\n",
    "\n",
    "\n",
    "opciones_html = soup.find('table', {'class': 'tablapanel2'})\n",
    "\n",
    "opciones_html"
   ]
  },
  {
   "cell_type": "markdown",
   "metadata": {},
   "source": [
    "#### Aqui continua el detalle. Se identifican las filas de la tabla. *tr* sera el separador que va empezando y cerrando las filas"
   ]
  },
  {
   "cell_type": "code",
   "execution_count": null,
   "metadata": {},
   "outputs": [],
   "source": [
    "# Filas ya va ordenando cada una de las opciones\n",
    "\n",
    "\n",
    "filas = opciones_html.find_all('tr')\n",
    "filas"
   ]
  },
  {
   "cell_type": "markdown",
   "metadata": {},
   "source": [
    "#### Identifico la primera linea, la de los -headers- de la tabla"
   ]
  },
  {
   "cell_type": "code",
   "execution_count": null,
   "metadata": {},
   "outputs": [],
   "source": [
    "tr = filas[0]\n",
    "tr"
   ]
  },
  {
   "cell_type": "markdown",
   "metadata": {},
   "source": [
    "#### Identifico cada columna dentro de la fila con el marcador td\n"
   ]
  },
  {
   "cell_type": "code",
   "execution_count": null,
   "metadata": {},
   "outputs": [],
   "source": [
    "td = tr.find_all('td')\n",
    "td\n"
   ]
  },
  {
   "cell_type": "markdown",
   "metadata": {},
   "source": [
    "#### generamos una lista (ya un terreno mas conocido :)\n"
   ]
  },
  {
   "cell_type": "code",
   "execution_count": null,
   "metadata": {},
   "outputs": [],
   "source": [
    "row = [tr.text for tr in td]\n",
    "row"
   ]
  },
  {
   "cell_type": "markdown",
   "metadata": {},
   "source": [
    "#### Proceso de ir almacenando las filas en una lista d elistas (eventualmente terminara siendo un dataframe)"
   ]
  },
  {
   "cell_type": "code",
   "execution_count": null,
   "metadata": {},
   "outputs": [],
   "source": [
    "# inicializo una lista vacia, alli voy a ir poniendo el contenido de cada fila\n",
    "l = []\n",
    "l.append(row)\n",
    "\n",
    "l"
   ]
  },
  {
   "cell_type": "markdown",
   "metadata": {},
   "source": [
    "#### fila por fila  "
   ]
  },
  {
   "cell_type": "code",
   "execution_count": null,
   "metadata": {},
   "outputs": [],
   "source": [
    "\n",
    "\n",
    "tr = filas[1]\n",
    "tr"
   ]
  },
  {
   "cell_type": "code",
   "execution_count": null,
   "metadata": {},
   "outputs": [],
   "source": [
    "td = tr.find_all('td')\n",
    "row = [tr.text for tr in td]\n",
    "row"
   ]
  },
  {
   "cell_type": "markdown",
   "metadata": {},
   "source": [
    "####  Aca las primeras intervenciones sobre la data que viene del html para que sea mas facil manipularla"
   ]
  },
  {
   "cell_type": "code",
   "execution_count": null,
   "metadata": {},
   "outputs": [],
   "source": [
    "#Reemplazo ',' por '.' y paso el string a float\n",
    "for index in [1,2,3,4,5,6,8,9]:\n",
    "    row[index] = row[index].replace('.', '')\n",
    "    row[index] = row[index].replace(',', '.')\n",
    "    try:\n",
    "        row[index] = float(row[index])\n",
    "    except:\n",
    "        #Si no encuentra valor pone -99.99\n",
    "        row[index] = -99.99\n",
    "\n",
    "l.append(row)\n",
    "    \n",
    "l\n",
    "    \n",
    "    "
   ]
  },
  {
   "cell_type": "code",
   "execution_count": null,
   "metadata": {},
   "outputs": [],
   "source": [
    "#Ahora si, todas las filas\n",
    "for tr in filas[2:]:\n",
    "    td = tr.find_all('td')\n",
    "    row = [tr.text for tr in td]\n",
    "\n",
    "    #Reemplazo ',' por '.' y paso el string a float\n",
    "    for index in [1,2,3,4,5,6,8,9]:\n",
    "        row[index] = row[index].replace('.', '')\n",
    "        row[index] = row[index].replace(',', '.')\n",
    "        try:\n",
    "            row[index] = float(row[index])\n",
    "        except:\n",
    "            #Si no encuentra valor pone -99.99\n",
    "            row[index] = -99.99\n",
    "\n",
    "    l.append(row)"
   ]
  },
  {
   "cell_type": "code",
   "execution_count": null,
   "metadata": {},
   "outputs": [],
   "source": [
    "# Como se ve l despues del ciclo?\n",
    "l"
   ]
  },
  {
   "cell_type": "markdown",
   "metadata": {},
   "source": [
    "#### Lo convierto en un DataFrame"
   ]
  },
  {
   "cell_type": "code",
   "execution_count": null,
   "metadata": {},
   "outputs": [],
   "source": [
    "panel_rava = pd.DataFrame(l[1:], columns=l[0])\n",
    "\n",
    "panel_rava"
   ]
  },
  {
   "cell_type": "markdown",
   "metadata": {},
   "source": [
    "    ### lo mandamos a un csv"
   ]
  },
  {
   "cell_type": "code",
   "execution_count": null,
   "metadata": {},
   "outputs": [],
   "source": [
    "panel_rava.to_csv('panel_opciones_rava.csv')"
   ]
  },
  {
   "cell_type": "markdown",
   "metadata": {},
   "source": [
    "### Panel acciones (bonus)"
   ]
  },
  {
   "cell_type": "code",
   "execution_count": null,
   "metadata": {},
   "outputs": [],
   "source": [
    "panel_acciones = obtener_panel_acciones()\n",
    "panel_acciones"
   ]
  },
  {
   "cell_type": "markdown",
   "metadata": {},
   "source": [
    "## (2) Del panel de Rava crudo a otro con informacion customizada"
   ]
  },
  {
   "cell_type": "markdown",
   "metadata": {},
   "source": [
    "### Metodo para generar el panel customizado\n",
    "\n",
    "a) Panel crudo mas informacion masticada (columnas de la derecha)"
   ]
  },
  {
   "cell_type": "code",
   "execution_count": null,
   "metadata": {},
   "outputs": [],
   "source": [
    "panel_opciones_byma_all_raw = obtener_panel_opciones_byma(ticker = '', clean_flag = False)\n",
    "panel_opciones_byma_all_raw"
   ]
  },
  {
   "cell_type": "markdown",
   "metadata": {},
   "source": [
    "b) Panel limpiotodos los tickers"
   ]
  },
  {
   "cell_type": "code",
   "execution_count": null,
   "metadata": {},
   "outputs": [],
   "source": [
    "panel_opciones_byma_all_clean = obtener_panel_opciones_byma(ticker = '', clean_flag = True)\n",
    "panel_opciones_byma_all_clean"
   ]
  },
  {
   "cell_type": "markdown",
   "metadata": {},
   "source": [
    "b) Panel limpio paa un ticker en particular"
   ]
  },
  {
   "cell_type": "code",
   "execution_count": null,
   "metadata": {},
   "outputs": [],
   "source": [
    "panel_opciones_byma_GGAL_clean = obtener_panel_opciones_byma('GGAL', True)\n",
    "panel_opciones_byma_GGAL_clean"
   ]
  },
  {
   "cell_type": "markdown",
   "metadata": {},
   "source": [
    "### Que hace el metodo internamente?\n",
    "\n"
   ]
  },
  {
   "cell_type": "markdown",
   "metadata": {},
   "source": [
    "#### 1) Levanta los paneles de opciones y de acciones y genera una copia del de opciones"
   ]
  },
  {
   "cell_type": "code",
   "execution_count": null,
   "metadata": {},
   "outputs": [],
   "source": [
    "panel_rava = web_scraping_opciones_rava()\n",
    "#Obtengo el panel crudo de acciones (para el spot)\n",
    "panel_acciones = obtener_panel_acciones()\n",
    "\n",
    "#Genero el nuevo panel\n",
    "panel_opciones = panel_rava.copy()\n"
   ]
  },
  {
   "cell_type": "markdown",
   "metadata": {},
   "source": [
    "#### 2) Inicializo las columnas nuevas a agregar del Dataframe"
   ]
  },
  {
   "cell_type": "code",
   "execution_count": null,
   "metadata": {},
   "outputs": [],
   "source": [
    "#Le agrego las nuevas columnas (ojo con los tipos string, float, int, datetime)\n",
    "panel_opciones['Ticker_Opcion'] = ''\n",
    "panel_opciones['Ticker_Stock'] = ''\n",
    "panel_opciones['Tipo'] = ''\n",
    "panel_opciones['Strike'] = 0.0\n",
    "panel_opciones['ExpiryMonthName'] = ''\n",
    "panel_opciones['ExpiryMonthNumber'] = 0\n",
    "panel_opciones['ExpiryDate'] = datetime.date.today()\n",
    "panel_opciones['Spot'] = 0.0\n",
    "panel_opciones['TTM'] = 0\n",
    "panel_opciones['Moneyness'] = 0.0\n",
    "\n",
    "panel_opciones"
   ]
  },
  {
   "cell_type": "markdown",
   "metadata": {},
   "source": [
    "#### 3) Recorro fila por fila para llenar las nuevas columnas (1 ejemplo)"
   ]
  },
  {
   "cell_type": "markdown",
   "metadata": {},
   "source": [
    "##### *) Desgloso la especie en ticker, strike, vencimiento y tipo"
   ]
  },
  {
   "cell_type": "code",
   "execution_count": null,
   "metadata": {},
   "outputs": [],
   "source": [
    "fila = 0\n",
    "\n",
    "\n",
    "panel_opciones.Ticker_Opcion.values[fila] = panel_opciones.Especie.values[fila][0:3]\n",
    "\n",
    "panel_opciones.Tipo.values[fila] = panel_opciones.Especie.values[fila][3:4]\n",
    "panel_opciones.Strike.values[fila] = panel_opciones.Especie.values[fila][4:8]\n",
    "panel_opciones.ExpiryMonthName.values[fila] = panel_opciones.Especie.values[fila][8:10]\n",
    "\n",
    "panel_opciones.head(2)"
   ]
  },
  {
   "cell_type": "markdown",
   "metadata": {},
   "source": [
    "##### *) Uno a uno voy generando lo necesario"
   ]
  },
  {
   "cell_type": "code",
   "execution_count": null,
   "metadata": {},
   "outputs": [],
   "source": [
    "panel_opciones.Ticker_Stock.values[fila] = conversor_ticker(panel_opciones.Ticker_Opcion.values[fila])\n",
    "\n",
    "panel_opciones.Tipo.values[fila] = panel_opciones.Tipo.values[fila].replace('V', 'P')\n",
    "\n",
    "panel_opciones.head(2)"
   ]
  },
  {
   "cell_type": "code",
   "execution_count": null,
   "metadata": {},
   "outputs": [],
   "source": [
    "# Artilugio que lo tuve que usar NO RECUERDO POR QUE! :)\n",
    "\n",
    "try:\n",
    "    int(panel_opciones.ExpiryMonthName.values[fila][0])\n",
    "    panel_opciones.Strike.values[fila] = float(panel_opciones.Strike.values[fila] + int(panel_opciones.ExpiryMonthName.values[fila][0]))\n",
    "    panel_opciones.ExpiryMonthName.values[fila] = panel_opciones.ExpiryMonthName.values[fila][1]\n",
    "except:\n",
    "    panel_opciones.Strike.values[fila] = float(panel_opciones.Strike.values[fila])\n",
    "    \n",
    "    "
   ]
  },
  {
   "cell_type": "code",
   "execution_count": null,
   "metadata": {},
   "outputs": [],
   "source": [
    "#conversor_ticker('AGR')\n",
    "\n",
    "#panel_opciones.Especie.values[fila][0:3]\n",
    "\n",
    "#panel_opciones.Ticker_Opcion.values[fila]\\\n",
    "\n",
    "#conversor_ticker(panel_opciones.Ticker_Opcion.values[fila])\n",
    "\n",
    "#panel_opciones.Ticker_Stock.values[fila]\n",
    "\n"
   ]
  },
  {
   "cell_type": "markdown",
   "metadata": {},
   "source": [
    "##### *) Obtengo el precio spot del ticker con un metodo interno y aprovechando el panel de acciones"
   ]
  },
  {
   "cell_type": "code",
   "execution_count": null,
   "metadata": {},
   "outputs": [],
   "source": [
    "panel_opciones.Spot.values[fila] = obtener_spot_ticker(panel_acciones, panel_opciones.Ticker_Stock.values[fila])"
   ]
  },
  {
   "cell_type": "markdown",
   "metadata": {},
   "source": [
    "##### *) Obtengo el Time to maturity (en dias)"
   ]
  },
  {
   "cell_type": "code",
   "execution_count": null,
   "metadata": {},
   "outputs": [],
   "source": [
    "try:\n",
    "    panel_opciones.ExpiryMonthNumber.values[fila] = mes_nombre_a_numero(panel_opciones.ExpiryMonthName.values[fila])\n",
    "except:\n",
    "    panel_opciones.ExpiryMonthNumber.values[fila] = 0\n",
    "\n",
    "panel_opciones.ExpiryDate.values[fila] = fecha_expiracion(panel_opciones.ExpiryMonthNumber.values[fila])\n",
    "hoy = datetime.date.today()\n",
    "panel_opciones.TTM.values[fila] = (panel_opciones.ExpiryDate.values[fila] - hoy).days\n",
    "\n",
    "panel_opciones"
   ]
  },
  {
   "cell_type": "markdown",
   "metadata": {},
   "source": [
    "##### *) Por ultimo calculo el moneyness de valor informativo importante"
   ]
  },
  {
   "cell_type": "code",
   "execution_count": null,
   "metadata": {},
   "outputs": [],
   "source": [
    "panel_opciones.Moneyness.values[fila] = panel_opciones.Spot.values[fila] / panel_opciones.Strike.values[fila]"
   ]
  },
  {
   "cell_type": "code",
   "execution_count": null,
   "metadata": {},
   "outputs": [],
   "source": [
    "panel_opciones.head(2)"
   ]
  },
  {
   "cell_type": "markdown",
   "metadata": {},
   "source": [
    "#### 3bis) Recorro fila por fila para llenar las nuevas columnas\n"
   ]
  },
  {
   "cell_type": "code",
   "execution_count": null,
   "metadata": {},
   "outputs": [],
   "source": [
    "\n",
    "for fila in range(1,len(panel_opciones.Especie.values)):\n",
    "    panel_opciones.Ticker_Opcion.values[fila] = panel_opciones.Especie.values[fila][0:3]\n",
    "\n",
    "    panel_opciones.Ticker_Stock.values[fila] = conversor_ticker(panel_opciones.Ticker_Opcion.values[fila])\n",
    "\n",
    "    panel_opciones.Tipo.values[fila] = panel_opciones.Especie.values[fila][3:4]\n",
    "    panel_opciones.Tipo.values[fila] = panel_opciones.Tipo.values[fila].replace('V', 'P')\n",
    "\n",
    "    panel_opciones.Strike.values[fila] = panel_opciones.Especie.values[fila][4:8]\n",
    "\n",
    "    panel_opciones.ExpiryMonthName.values[fila] = panel_opciones.Especie.values[fila][8:10]\n",
    "\n",
    "    try:\n",
    "        int(panel_opciones.ExpiryMonthName.values[fila][0])\n",
    "        panel_opciones.Strike.values[fila] = float(panel_opciones.Strike.values[fila] + int(panel_opciones.ExpiryMonthName.values[fila][0]))\n",
    "        panel_opciones.ExpiryMonthName.values[fila] = panel_opciones.ExpiryMonthName.values[fila][1]\n",
    "    except:\n",
    "        panel_opciones.Strike.values[fila] = float(panel_opciones.Strike.values[fila])\n",
    "\n",
    "    try:\n",
    "        panel_opciones.ExpiryMonthNumber.values[fila] = mes_nombre_a_numero(panel_opciones.ExpiryMonthName.values[fila])\n",
    "    except:\n",
    "        panel_opciones.ExpiryMonthNumber.values[fila] = 0\n",
    "\n",
    "    panel_opciones.ExpiryDate.values[fila] = fecha_expiracion(panel_opciones.ExpiryMonthNumber.values[fila])\n",
    "\n",
    "\n",
    "    panel_opciones.Spot.values[fila] = obtener_spot_ticker(panel_acciones, panel_opciones.Ticker_Stock.values[fila])\n",
    "\n",
    "\n",
    "    hoy = datetime.date.today()\n",
    "    panel_opciones.TTM.values[fila] = (panel_opciones.ExpiryDate.values[fila] - hoy).days\n",
    "\n",
    "    panel_opciones.Moneyness.values[fila] = panel_opciones.Spot.values[fila] / panel_opciones.Strike.values[fila]\n",
    "\n"
   ]
  },
  {
   "cell_type": "code",
   "execution_count": null,
   "metadata": {},
   "outputs": [],
   "source": [
    "#Asi queda entonces el panel\n",
    "panel_opciones"
   ]
  },
  {
   "cell_type": "markdown",
   "metadata": {},
   "source": [
    "#### 4) Filtro por ticker\n"
   ]
  },
  {
   "cell_type": "code",
   "execution_count": null,
   "metadata": {},
   "outputs": [],
   "source": [
    "#Si se provee un ticker, se filtra por ticker, si no, se provee el panel completo\n",
    "\n",
    "ticker = 'ALUA'\n",
    "\n",
    "if ticker == '':\n",
    "    pass\n",
    "else:\n",
    "    panel_opciones = panel_opciones[panel_opciones.Ticker_Stock == ticker]\n",
    "    \n",
    "panel_opciones"
   ]
  },
  {
   "cell_type": "markdown",
   "metadata": {},
   "source": [
    "#### 5) Panel limpio"
   ]
  },
  {
   "cell_type": "code",
   "execution_count": null,
   "metadata": {},
   "outputs": [],
   "source": [
    "panel_limpio = panel_opciones.copy()\n",
    "\n",
    "clean_flag = True\n",
    "\n",
    "# Panel limpio: cambio de nombre, reordenamiento y limpieza minima del panel\n",
    "if clean_flag == True:\n",
    "    # Sacar opciones sobre bonos\n",
    "    panel_limpio = panel_limpio[~panel_limpio.Especie.str.contains('A24')]\n",
    "\n",
    "    panel_limpio = panel_limpio[\n",
    "            ['Especie', 'Ticker_Stock', 'Spot', 'Tipo', 'Strike', 'TTM', 'Último', 'Moneyness']]\n",
    "\n",
    "    panel_limpio = panel_limpio.rename(\n",
    "            columns={'Ticker_Stock': 'Ticker', 'Tipo': 'CallPut', 'Último': 'Last'}, inplace=False)\n",
    "\n",
    "    panel_limpio = panel_limpio.sort_values(['TTM', 'Ticker', 'Strike', 'CallPut'])\n",
    "\n",
    "    # Remover TTMs mayores de un año o negativos (por algun error)\n",
    "    panel_limpio = panel_limpio[panel_limpio.TTM < 364]\n",
    "    panel_limpio = panel_limpio[panel_limpio.TTM > 0]\n",
    "\n",
    "    panel_limpio = panel_limpio.reset_index()\n",
    "    del panel_limpio['index']\n",
    "    \n",
    "panel_limpio"
   ]
  },
  {
   "cell_type": "markdown",
   "metadata": {},
   "source": [
    "## (3) pyhomebroker"
   ]
  },
  {
   "cell_type": "markdown",
   "metadata": {},
   "source": [
    "\n",
    "### pyhomebroker es una a API para conectar a un programa/script/notebook de python al mercado a traves de AlyCs que usen la plataforma homebroker (Estudio Gallo). Se usa para recibir precios y datos de mercado en tiempo real. Permite tambien obtener data historica.\n",
    "\n",
    "\n",
    "Mas info e instrucciones de instalacion en https://pypi.org/project/pyhomebroker/\n",
    "\n",
    "Estudio Gallo: http://www.estudiogallo.com.ar/\n",
    "\n",
    "Home Broker: https://www.youtube.com/watch?v=ippFga_hKSg"
   ]
  },
  {
   "cell_type": "markdown",
   "metadata": {},
   "source": [
    "### por obvias razones, no revelo mis datos personales :) Pero aqui habria que crear un diccionario con sus datos"
   ]
  },
  {
   "cell_type": "code",
   "execution_count": null,
   "metadata": {},
   "outputs": [],
   "source": [
    "from data_byma_homebroker import *\n",
    "import pickle\n",
    "#TO SAVE\n",
    "#personal_data = {'ByMA_id' : BymaId,\n",
    "#                 'dni'     : dni, \n",
    "#                 'user'    : user,\n",
    "#                 'password': password}\n",
    "#pickle.dump(personal_data, open(\"personal_data.info\", \"wb\"))\n",
    "\n",
    "#TO LOAD\n",
    "personal_data = pickle.load(open(\"personal_data.info\", \"rb\"))\n",
    "\n",
    "\n"
   ]
  },
  {
   "cell_type": "markdown",
   "metadata": {},
   "source": [
    "### Metodos disponibles"
   ]
  },
  {
   "cell_type": "code",
   "execution_count": null,
   "metadata": {},
   "outputs": [],
   "source": [
    "panel_opciones_homebroker_all_raw = panel_opciones_homebroker(personal_data,\n",
    "                                                              ticker = '', \n",
    "                                                              clean_flag=False)\n",
    "panel_opciones_homebroker_all_raw\n"
   ]
  },
  {
   "cell_type": "code",
   "execution_count": null,
   "metadata": {},
   "outputs": [],
   "source": [
    "panel_opciones_homebroker_all_clean = panel_opciones_homebroker(personal_data, \n",
    "                                                                ticker = '', \n",
    "                                                                clean_flag=True)\n",
    "panel_opciones_homebroker_all_clean"
   ]
  },
  {
   "cell_type": "code",
   "execution_count": null,
   "metadata": {},
   "outputs": [],
   "source": [
    "panel_opciones_homebroker_GGAL_clean = panel_opciones_homebroker(personal_data, 'GGAL', True)\n",
    "panel_opciones_homebroker_GGAL_clean"
   ]
  },
  {
   "cell_type": "markdown",
   "metadata": {},
   "source": [
    "### Que hace el metodo internamente?\n"
   ]
  },
  {
   "cell_type": "markdown",
   "metadata": {},
   "source": [
    "#### a) Recupero la informacion del picke (esto es personal!)"
   ]
  },
  {
   "cell_type": "code",
   "execution_count": null,
   "metadata": {},
   "outputs": [],
   "source": [
    "# Recupero la informacion del pickle\n",
    "\n",
    "ByMA_id = personal_data['ByMA_id']\n",
    "dni = personal_data['dni']\n",
    "user = personal_data['user']\n",
    "password = personal_data['password']"
   ]
  },
  {
   "cell_type": "markdown",
   "metadata": {},
   "source": [
    "#### b) Conecto con el cliente"
   ]
  },
  {
   "cell_type": "code",
   "execution_count": null,
   "metadata": {},
   "outputs": [],
   "source": [
    "hb = HomeBroker(ByMA_id)\n",
    "hb.auth.login(dni, user, password, raise_exception=True)\n",
    "# Connect to the server\n",
    "hb.online.connect()"
   ]
  },
  {
   "cell_type": "markdown",
   "metadata": {},
   "source": [
    "#### c) Obtengo una 'foto'-snapshot del mercado [diccionario]"
   ]
  },
  {
   "cell_type": "code",
   "execution_count": null,
   "metadata": {},
   "outputs": [],
   "source": [
    "snapshot = hb.online.get_market_snapshot()\n",
    "snapshot"
   ]
  },
  {
   "cell_type": "code",
   "execution_count": null,
   "metadata": {},
   "outputs": [],
   "source": [
    "panel_opciones = snapshot['options']\n",
    "panel_merval = snapshot['bluechips']\n",
    "panel_general = snapshot['general_board']\n",
    "panel_cedears = snapshot['cedears']\n",
    "\n"
   ]
  },
  {
   "cell_type": "code",
   "execution_count": null,
   "metadata": {},
   "outputs": [],
   "source": [
    "panel_cedears\n"
   ]
  },
  {
   "cell_type": "code",
   "execution_count": null,
   "metadata": {},
   "outputs": [],
   "source": [
    "panel_opciones"
   ]
  },
  {
   "cell_type": "markdown",
   "metadata": {},
   "source": [
    "#### d) Limpiando el dataset"
   ]
  },
  {
   "cell_type": "code",
   "execution_count": null,
   "metadata": {},
   "outputs": [],
   "source": [
    "# Le agrego columnas nuevas\n",
    "panel_opciones['Spot'] = 0.0 \n",
    "panel_opciones['TTM']=0\n",
    "panel_opciones['Moneyness']=0.0"
   ]
  },
  {
   "cell_type": "code",
   "execution_count": null,
   "metadata": {},
   "outputs": [],
   "source": [
    "#Genero la columna TTM\n",
    "hoy = datetime.datetime.today()\n",
    "      \n",
    "#Codigo para obtener el TTM\n",
    "x= (panel_opciones['expiration'] - hoy).values        \n",
    "days = x.astype('timedelta64[D]')\n",
    "ttm_f = (days+1) / np.timedelta64(1, 'D')\n",
    "       \n",
    "panel_opciones['TTM'] = ttm_f.astype(np.int64)\n",
    "\n",
    "panel_opciones"
   ]
  },
  {
   "cell_type": "code",
   "execution_count": null,
   "metadata": {},
   "outputs": [],
   "source": [
    "# Renombro las columnas, renombro el tipo Call/Put, reordeno y me quedo solo con las columnas que quiero\n",
    "panel_opciones = panel_opciones.reset_index()\n",
    "panel_opciones = panel_opciones.rename(\n",
    "            columns={'symbol':'Especie','underlying_asset':'Ticker', 'kind': 'CallPut', 'last': 'Last', 'strike': 'Strike','previous_close':'Close'}, inplace=False)\n",
    "       \n",
    "panel_opciones['CallPut'] = pd.Series(panel_opciones['CallPut']).str.replace('CALL', 'C', regex=True)\n",
    "panel_opciones['CallPut'] = pd.Series(panel_opciones['CallPut']).str.replace('PUT', 'P', regex=True)\n",
    "       \n",
    "panel_opciones = panel_opciones.sort_values(['TTM', 'Ticker', 'Strike', 'CallPut'])\n",
    "panel_opciones = panel_opciones[\n",
    "            ['Especie','Ticker', 'Spot', 'CallPut', 'Strike', 'TTM', 'Last', 'Close','Moneyness']]"
   ]
  },
  {
   "cell_type": "code",
   "execution_count": null,
   "metadata": {},
   "outputs": [],
   "source": [
    "#Limpieza final\n",
    "#Saco las Nan\n",
    "panel_opciones = panel_opciones[pd.notna(panel_opciones.Last)]\n",
    "# saco la columna indice vieja\n",
    "panel_opciones = panel_opciones.reset_index()\n",
    "del panel_opciones['index']\n"
   ]
  },
  {
   "cell_type": "code",
   "execution_count": null,
   "metadata": {},
   "outputs": [],
   "source": [
    "# Agrego el spot y el moneyness\n",
    "# get_spot_from_ticker es un metodo propio\n",
    "\n",
    "for fila in range(len(panel_opciones.Especie.values)):\n",
    "    ticker_ = panel_opciones.Ticker.values[fila]\n",
    "    panel_opciones['Spot'].values[fila] = get_spot_from_ticker(ticker_,snapshot)\n",
    "        \n",
    "panel_opciones['Moneyness']= panel_opciones['Spot'] / panel_opciones['Strike']\n",
    "\n",
    "panel_opciones"
   ]
  },
  {
   "cell_type": "code",
   "execution_count": null,
   "metadata": {},
   "outputs": [],
   "source": [
    "#Limpieza final\n",
    "#Saco las Nan\n",
    "panel_opciones = panel_opciones[pd.notna(panel_opciones.Last)]\n",
    "# saco la columna indice vieja\n",
    "panel_opciones = panel_opciones.reset_index()\n",
    "del panel_opciones['index']"
   ]
  },
  {
   "cell_type": "code",
   "execution_count": null,
   "metadata": {},
   "outputs": [],
   "source": [
    "panel_opciones"
   ]
  },
  {
   "cell_type": "code",
   "execution_count": null,
   "metadata": {},
   "outputs": [],
   "source": [
    "# SI solamente quiero un ticker\n",
    "\n",
    "panel_opciones_ggal = panel_opciones[panel_opciones.Ticker == 'GGAL']\n",
    "\n",
    "panel_opciones_ggal = panel_opciones_ggal.reset_index()\n",
    "del panel_opciones_ggal['index']\n",
    "panel_opciones_ggal"
   ]
  },
  {
   "cell_type": "code",
   "execution_count": null,
   "metadata": {},
   "outputs": [],
   "source": []
  },
  {
   "cell_type": "markdown",
   "metadata": {},
   "source": [
    "## (4) Ploteando los datos"
   ]
  },
  {
   "cell_type": "markdown",
   "metadata": {},
   "source": [
    "### Para cada vencimiento, grafico los strikes"
   ]
  },
  {
   "cell_type": "code",
   "execution_count": null,
   "metadata": {},
   "outputs": [],
   "source": [
    "# BYMA\n",
    "\n",
    "\n",
    "panel_opciones_ggal_byma_limpio = obtener_panel_opciones_byma('GGAL', True)\n",
    "\n",
    "TTMs = list(set(panel_opciones_ggal_byma_limpio.TTM.values))\n",
    "TTMs"
   ]
  },
  {
   "cell_type": "code",
   "execution_count": null,
   "metadata": {},
   "outputs": [],
   "source": [
    "# El vencimiento mas liquido\n",
    "TTM = TTMs[1]\n",
    "\n",
    "panel_opciones_ggal_byma_limpio[(panel_opciones_ggal_byma_limpio.TTM == TTM)].head(20)"
   ]
  },
  {
   "cell_type": "code",
   "execution_count": null,
   "metadata": {},
   "outputs": [],
   "source": [
    "from matplotlib import pyplot as plt\n",
    "CP = \"C\"\n",
    "for TTM in TTMs:\n",
    "    Ks = panel_opciones_ggal_byma_limpio[(panel_opciones_ggal_byma_limpio.TTM == TTM) & (panel_opciones_ggal_byma_limpio.CallPut == CP)].Strike.values\n",
    "    precios = panel_opciones_ggal_byma_limpio[(panel_opciones_ggal_byma_limpio.TTM == TTM) & (panel_opciones_ggal_byma_limpio.CallPut == CP)].Last.values\n",
    "    plt.plot(Ks, precios,'*', label='TTM = '+str(TTM))\n",
    "\n",
    "\n",
    "plt.legend()\n",
    "\n",
    "plt.xlabel('Strike')\n",
    "plt.ylabel('Precio de mercado del Call')\n",
    "plt.title('Precio de mercado de las opciones Call con respecto al Strike')\n",
    "    \n",
    "plt.show()\n",
    "    "
   ]
  },
  {
   "cell_type": "code",
   "execution_count": null,
   "metadata": {},
   "outputs": [],
   "source": [
    "\n",
    "CP = \"P\"\n",
    "for TTM in TTMs:\n",
    "    Ks = panel_opciones_ggal_byma_limpio[(panel_opciones_ggal_byma_limpio.TTM == TTM) & (panel_opciones_ggal_byma_limpio.CallPut == CP)].Strike.values\n",
    "    precios = panel_opciones_ggal_byma_limpio[(panel_opciones_ggal_byma_limpio.TTM == TTM) & (panel_opciones_ggal_byma_limpio.CallPut == CP)].Last.values\n",
    "    plt.plot(Ks, precios,'*', label='TTM = '+str(TTM))\n",
    "\n",
    "\n",
    "plt.legend()\n",
    "\n",
    "plt.xlabel('Strike')\n",
    "plt.ylabel('Precio de mercado del Call')\n",
    "plt.title('Precio de mercado de las opciones Call con respecto al Strike')\n",
    "    \n",
    "plt.show()"
   ]
  },
  {
   "cell_type": "code",
   "execution_count": null,
   "metadata": {},
   "outputs": [],
   "source": [
    "Ks = list(set(panel_opciones_ggal_byma_limpio.Strike.values))\n",
    "\n",
    "Ks[0:2]"
   ]
  },
  {
   "cell_type": "code",
   "execution_count": null,
   "metadata": {},
   "outputs": [],
   "source": []
  },
  {
   "cell_type": "code",
   "execution_count": null,
   "metadata": {},
   "outputs": [],
   "source": [
    "\n",
    "CP = \"C\"\n",
    "for K in Ks:\n",
    "    TTMs = panel_opciones_ggal_byma_limpio[(panel_opciones_ggal_byma_limpio.Strike == K) & (panel_opciones_ggal_byma_limpio.CallPut == CP)].TTM.values\n",
    "    precios = panel_opciones_ggal_byma_limpio[(panel_opciones_ggal_byma_limpio.Strike == K) & (panel_opciones_ggal_byma_limpio.CallPut == CP)].Last.values\n",
    "    if len(TTMs)>1:\n",
    "        plt.plot(TTMs, precios,'*', label='Strike = '+str(K))\n",
    "\n",
    "plt.legend()\n",
    "\n",
    "plt.xlabel('TTM')\n",
    "plt.ylabel('Precio de mercado del Call')\n",
    "plt.title('Precio de mercado de las opciones Call con respecto al TTM')\n",
    "    \n",
    "plt.show()\n",
    "panel_opciones_ggal_byma_limpio[(panel_opciones_ggal_byma_limpio.Strike == K) & (panel_opciones_ggal_byma_limpio.CallPut == CP)].Last.values\n",
    "    "
   ]
  },
  {
   "cell_type": "markdown",
   "metadata": {},
   "source": [
    "## (5) Pasar a Excel/CSV"
   ]
  },
  {
   "cell_type": "code",
   "execution_count": null,
   "metadata": {},
   "outputs": [],
   "source": [
    "panel_opciones_byma_crudo = web_scraping_opciones_rava()\n",
    "panel_opciones_byma_crudo.to_excel('Clase_1_panel_opciones_byma_crudo.xls')\n",
    "\n",
    "panel_acciones_byma = obtener_panel_acciones()\n",
    "panel_acciones_byma.to_excel('Clase_1_panel_acciones.xls')\n",
    "\n",
    "panel_opciones_byma = obtener_panel_opciones_byma('', False)\n",
    "panel_opciones_byma.to_excel('Clase_1_panel_opciones_byma.xls')\n",
    "\n",
    "panel_opciones_byma_limpio = obtener_panel_opciones_byma('', True)\n",
    "panel_opciones_byma_limpio.to_excel('Clase_1_panel_opciones_byma_limpio.xls')\n",
    "panel_opciones_byma_limpio = obtener_panel_opciones_byma('', True)\n",
    "panel_opciones_byma.to_excel('Clase_1_panel_opciones_byma.xls')\n",
    "panel_opciones_byma_limpio.to_excel('Clase_1_panel_opciones_byma_limpio.xls')\n",
    "                                                  \n",
    "                                                  "
   ]
  },
  {
   "cell_type": "markdown",
   "metadata": {},
   "source": [
    "## (6) Comparando los paneles"
   ]
  },
  {
   "cell_type": "code",
   "execution_count": null,
   "metadata": {},
   "outputs": [],
   "source": [
    "panel_opciones_ggal_rava_limpio = obtener_panel_opciones_byma('GGAL',True)"
   ]
  },
  {
   "cell_type": "code",
   "execution_count": null,
   "metadata": {},
   "outputs": [],
   "source": [
    "panel_opciones_ggal_homebroker_limpio = panel_opciones_homebroker(personal_data, 'GGAL', True)"
   ]
  },
  {
   "cell_type": "code",
   "execution_count": null,
   "metadata": {},
   "outputs": [],
   "source": [
    "panel_opciones_ggal_rava_limpio"
   ]
  },
  {
   "cell_type": "code",
   "execution_count": null,
   "metadata": {},
   "outputs": [],
   "source": [
    "panel_opciones_ggal_homebroker_limpio"
   ]
  },
  {
   "cell_type": "code",
   "execution_count": null,
   "metadata": {},
   "outputs": [],
   "source": [
    "# Inner es la interseccion\n",
    "# Outer es la union\n",
    "\n",
    "merged = pd.merge(panel_opciones_ggal_rava_limpio, panel_opciones_ggal_homebroker_limpio, on=[\"Especie\", \"Ticker\", \"CallPut\", \"Strike\", \"TTM\"], how='inner')\n",
    "\n",
    "merged = merged.rename(\n",
    "            columns={'Spot_x':'Spot_rava','Spot_y':'Spot_HB', 'Last_x': 'Last_rava', 'Last_y': 'Last_HB', 'Close_x': 'Close_rava', 'Close_y': 'Close_HB','previous_close':'Close'}, inplace=False)\n",
    "       \n",
    "merged = merged[\n",
    "            ['Especie','Ticker', 'Spot_rava', 'Spot_HB', 'CallPut', 'Strike', 'TTM', 'Last_rava', 'Last_HB','Close_rava','Close_HB']]\n",
    "\n",
    "\n",
    "merged"
   ]
  },
  {
   "cell_type": "markdown",
   "metadata": {},
   "source": [
    "Genero algunas columnas de diferencias"
   ]
  },
  {
   "cell_type": "code",
   "execution_count": null,
   "metadata": {},
   "outputs": [],
   "source": [
    "\n",
    "merged['Dif_spot']=merged['Spot_rava']-merged['Spot_HB']\n",
    "merged['Dif_last']=merged['Last_rava']-merged['Last_HB']\n",
    "merged['Dif_close']=merged['Close_rava']-merged['Close_HB']\n",
    "\n",
    "merged\n",
    "\n"
   ]
  },
  {
   "cell_type": "code",
   "execution_count": null,
   "metadata": {},
   "outputs": [],
   "source": []
  }
 ],
 "metadata": {
  "kernelspec": {
   "display_name": "Python 3",
   "language": "python",
   "name": "python3"
  },
  "language_info": {
   "codemirror_mode": {
    "name": "ipython",
    "version": 3
   },
   "file_extension": ".py",
   "mimetype": "text/x-python",
   "name": "python",
   "nbconvert_exporter": "python",
   "pygments_lexer": "ipython3",
   "version": "3.8.8"
  }
 },
 "nbformat": 4,
 "nbformat_minor": 4
}
