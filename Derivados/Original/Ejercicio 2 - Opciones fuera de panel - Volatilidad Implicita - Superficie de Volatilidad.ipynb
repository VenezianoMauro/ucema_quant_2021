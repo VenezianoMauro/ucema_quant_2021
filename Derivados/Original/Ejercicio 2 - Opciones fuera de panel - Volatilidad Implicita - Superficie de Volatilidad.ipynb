{
 "cells": [
  {
   "cell_type": "markdown",
   "metadata": {},
   "source": [
    "# Ejercicio 2 - Opciones fuera de panel - Volatilidad Implicita - Superficie de Volatilidad"
   ]
  },
  {
   "cell_type": "markdown",
   "metadata": {},
   "source": [
    "### PROBLEMA: Se necesita ponerle precio a un contrato que NO esta en el mercado es decir, un par (strike, expiracion) que NO este en el mercado para un contrato OTC. \n",
    "\n",
    "La idea de este ejercicio es tomar un ticker en el mercado (ARG o US), obtener el panel de opciones, obtener las volatilidades implicitas calibrando con precios de mercado.\n",
    "\n",
    "Luego generaremos una superficie de volatilidad homogenea (strikes y maturities)\n",
    "\n",
    "Por ultimo generaremos un panel de opciones alternativo mas granular que el original usando los modelos.\n",
    "\n",
    "Ahora podriamos obtener el precio de la opcion del contrato OTC\n"
   ]
  },
  {
   "cell_type": "markdown",
   "metadata": {},
   "source": [
    "## 1) Repetir 1, 2 y 3 del ejercicio de Put Call Parity [Dificultad 2]"
   ]
  },
  {
   "cell_type": "code",
   "execution_count": 5,
   "metadata": {},
   "outputs": [],
   "source": [
    "#AQUI CODIGO\n",
    "\n"
   ]
  },
  {
   "cell_type": "markdown",
   "metadata": {},
   "source": [
    "## 2) Con la ayuda de un modelo de pricing de la libreria generar para cada una de las opciones las volatilidades implicitas  [Dificultad 3]"
   ]
  },
  {
   "cell_type": "markdown",
   "metadata": {},
   "source": [
    "Aqui pueden elegir el modelo a usar. Una recomendacion seria usar el Binomial asi se puede captar la condicion ejercicio temprano de las opcioens (Americanas).\n",
    "Tambine pueden elegir el metodo numerico para buscar la optimizacion. Newton fue visto en clase, pero aun mas sencillo seria usar Biseccion (ver abajo)\n",
    "\n",
    "No es trivial par anada ver al metodo de pricing con todos sus parametros como otra funcion con solo la volatilidad (sigma) como variable y los demas parametros fijos para hallar el optimo."
   ]
  },
  {
   "cell_type": "code",
   "execution_count": 6,
   "metadata": {},
   "outputs": [],
   "source": [
    "#AQUI CODIGO\n"
   ]
  },
  {
   "cell_type": "markdown",
   "metadata": {},
   "source": [
    "## 3) Generar una grilla uniforme (de strikes y expiries) de volatilidades implicitas (superficie de volatilidad) [Dificultad 5]"
   ]
  },
  {
   "cell_type": "markdown",
   "metadata": {},
   "source": [
    "Aqui la idea es usando las volatilidades implicitas provenientes del mercado, \"rellenar\" una grilla uniforme con volatilidades.\n",
    "\n",
    "Se puede pasar directo a 4\n",
    "\n",
    "\n",
    "Este es un ejercicio D I F I C I L - el solo hecho de investigar el tema y llegar a alguna solucion parcial, al nivel de este curso seria suficiente\n",
    "\n",
    "\n",
    "Bibliografia\n",
    "\n",
    "De menor a mayor\n",
    "\n",
    "1) Esos videos ayudan a enteder el problema:\n",
    "https://www.youtube.com/watch?v=iZR4j3K6Ayw \n",
    "\n",
    "2) Un extracto de un libro de Gatheral con el contexto:\n",
    "http://faculty.baruch.cuny.edu/jgatheral/ImpliedVolatilitySurface.pdf \n",
    "\n",
    "3) Este trabajo de Cris Homescu (comparti unos años de trabajo con el) es un compendio bastante extenso de metodologias\n",
    "https://papers.ssrn.com/sol3/papers.cfm?abstract_id=1882567 \n",
    "\n",
    "4) Aqui hay una tesis muy completa comparando diferentes metodos\n",
    "https://www.diva-portal.org/smash/get/diva2:1191887/FULLTEXT01.pdf  \n",
    "\n",
    "Voy a ver si consigo escribir 2/3 slides sobre un método en particular que yo use en el pasado. \n",
    " \n",
    "\n"
   ]
  },
  {
   "cell_type": "code",
   "execution_count": 7,
   "metadata": {},
   "outputs": [],
   "source": [
    "#AQUI CODIGO\n"
   ]
  },
  {
   "cell_type": "markdown",
   "metadata": {},
   "source": [
    "## 4) Generar una grilla uniforme (de strikes y expiries) de precios de opciones [Dificultad 2-3]"
   ]
  },
  {
   "cell_type": "markdown",
   "metadata": {},
   "source": [
    "Aqui hay dos caminos.\n",
    "\n",
    "Si se hizo 3) Entonces no es mas que generar precios usando todos los parametros con el modelo de pricing usado para obtener volatilidad implicita. y obtener un nuevo panel con strikes y matirities elegidos por nosotros\n",
    "\n",
    "Si NO se hizo 3, se puede intentar interpolar los precios de las opciones directamente [NO es 100% correcto, pero ayuda a aprender metodos de interpolacion]"
   ]
  },
  {
   "cell_type": "code",
   "execution_count": null,
   "metadata": {},
   "outputs": [],
   "source": [
    "#AQUI CODIGO"
   ]
  },
  {
   "cell_type": "markdown",
   "metadata": {},
   "source": [
    "## 5) Obtener el precio de la opcion OTC [Dificultad 2]"
   ]
  },
  {
   "cell_type": "markdown",
   "metadata": {},
   "source": [
    "Ahora, con todo el panel de precios, obtener interpolando el strike y la madurez buscada.\n",
    "Si se hizo 3 no es necesario pasar por 4"
   ]
  },
  {
   "cell_type": "code",
   "execution_count": null,
   "metadata": {},
   "outputs": [],
   "source": [
    "#grilla(Strike, TTM) -->elegir el Strike y TTM que se necesiten.\n",
    "grilla(441,115.8)"
   ]
  }
 ],
 "metadata": {
  "kernelspec": {
   "display_name": "Python 3",
   "language": "python",
   "name": "python3"
  },
  "language_info": {
   "codemirror_mode": {
    "name": "ipython",
    "version": 3
   },
   "file_extension": ".py",
   "mimetype": "text/x-python",
   "name": "python",
   "nbconvert_exporter": "python",
   "pygments_lexer": "ipython3",
   "version": "3.8.8"
  }
 },
 "nbformat": 4,
 "nbformat_minor": 4
}
