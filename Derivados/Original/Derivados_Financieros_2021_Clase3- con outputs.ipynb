{
 "cells": [
  {
   "cell_type": "markdown",
   "metadata": {},
   "source": [
    "# Derivados Financieros 2021 - Clase 3\n",
    "\n"
   ]
  },
  {
   "cell_type": "markdown",
   "metadata": {},
   "source": [
    "Plan de la clase:\n",
    "\n",
    "    1) Modelo Binomial\n",
    "    2) Modificacion para ejercicio temprano (Americanas)\n",
    "    3) Jugando con el pricer\n",
    "    4) Black Scholes\n",
    "    5) Mercado vs Modelo"
   ]
  },
  {
   "cell_type": "markdown",
   "metadata": {},
   "source": [
    "## 1) Modelo Binomial"
   ]
  },
  {
   "cell_type": "code",
   "execution_count": 2,
   "metadata": {},
   "outputs": [],
   "source": [
    "import math\n",
    "import numpy as np\n",
    "\n",
    "from opcion_europea_bin import opcion_europea_bin\n",
    "from opcion_europea_bin_c import opcion_europea_bin_c\n",
    "from opcion_americana_bin import opcion_americana_bin\n",
    "from opcion_europea_bs import opcion_europea_bs\n",
    "\n"
   ]
  },
  {
   "cell_type": "markdown",
   "metadata": {},
   "source": [
    "Definicion:\n",
    "    Calculador del precio de una opcion Europea con el modelo del Arbol Binomial (CRR)\n",
    "\n",
    "Inputs:\n",
    "    - tipo : string - Tipo de contrato entre [\"CALL\",\"PUT\"]\n",
    "    - S : float - Spot price del activo\n",
    "    - K : float - Strike price del contrato\n",
    "    - T : float - Tiempo hasta la expiracion (en años)\n",
    "    - r : float - Tasa 'libre de riesgo' (anualizada)\n",
    "    - sigma : float - Volatilidad implicita (anualizada)\n",
    "    - div : float - Tasa de dividendos continuos (anualizada)\n",
    "    - pasos : int - Cantidad de pasos del arbol binomial\n",
    "\n",
    "Outputs:\n",
    "    - precio_BIN: float - Precio del contrato\n"
   ]
  },
  {
   "cell_type": "code",
   "execution_count": 3,
   "metadata": {},
   "outputs": [
    {
     "data": {
      "text/plain": [
       "0.0"
      ]
     },
     "execution_count": 3,
     "metadata": {},
     "output_type": "execute_result"
    }
   ],
   "source": [
    "#Paramtros del metodo\n",
    "\n",
    "tipo = \"CALL\"\n",
    "S = 100\n",
    "K = 100\n",
    "T = 1\n",
    "r = 0.05\n",
    "sigma = 0.25\n",
    "div = 0\n",
    "pasos = 1000\n",
    "\n",
    "\n",
    "precio = opcion_europea_bin(tipo, S, K, T, r, sigma, div, pasos)\n",
    "precio"
   ]
  },
  {
   "cell_type": "markdown",
   "metadata": {},
   "source": [
    "## Desglosando el metodo"
   ]
  },
  {
   "cell_type": "markdown",
   "metadata": {},
   "source": [
    "### 1) Inicializo los parametros"
   ]
  },
  {
   "cell_type": "code",
   "execution_count": 4,
   "metadata": {},
   "outputs": [],
   "source": [
    "tipo = \"CALL\"\n",
    "S = 100\n",
    "K = 100\n",
    "T = 1\n",
    "r = 0.05\n",
    "sigma = 0.25\n",
    "div = 0\n",
    "pasos = 3"
   ]
  },
  {
   "cell_type": "markdown",
   "metadata": {},
   "source": [
    "### 2) Variables auxiliares"
   ]
  },
  {
   "cell_type": "code",
   "execution_count": 5,
   "metadata": {},
   "outputs": [],
   "source": [
    "#auxiliares\n",
    "dt = T / pasos\n",
    "tasa_forward = math.exp((r - div) * dt)\n",
    "descuento = math.exp(-r * dt)\n"
   ]
  },
  {
   "cell_type": "markdown",
   "metadata": {},
   "source": [
    "### 3) Parametros del Modelo (en este caso el CRR)"
   ]
  },
  {
   "cell_type": "code",
   "execution_count": 6,
   "metadata": {},
   "outputs": [],
   "source": [
    "#modelo CRR\n",
    "u = math.exp(sigma * math.pow(dt, 0.5))\n",
    "d = 1 / u\n",
    "\n",
    "#probabilidad de riesgo neutral\n",
    "q_prob = (tasa_forward - d) / (u - d)"
   ]
  },
  {
   "cell_type": "markdown",
   "metadata": {},
   "source": [
    "### 4) Vector de precios finales (ultima rama del arbol)"
   ]
  },
  {
   "cell_type": "code",
   "execution_count": 7,
   "metadata": {},
   "outputs": [
    {
     "data": {
      "text/plain": [
       "array([154.18958056, 115.52740254,  86.5595502 ,  64.85522539])"
      ]
     },
     "execution_count": 7,
     "metadata": {},
     "output_type": "execute_result"
    }
   ],
   "source": [
    "#Precios finales\n",
    "ST_precios=np.zeros((pasos+1))\n",
    "\n",
    "for i in range(0,pasos+1):\n",
    "    ST_precios[pasos-i] = math.pow(u, 2 * i - pasos) * S\n",
    "    \n",
    "ST_precios"
   ]
  },
  {
   "cell_type": "markdown",
   "metadata": {},
   "source": [
    "### 5) Matriz (representa el arbol) de precios de la opcion -  la ultima columna representa el Payoff"
   ]
  },
  {
   "cell_type": "code",
   "execution_count": 8,
   "metadata": {},
   "outputs": [
    {
     "name": "stdout",
     "output_type": "stream",
     "text": [
      "array([[ 0.        ,  0.        ,  0.        , 54.18958056],\n",
      "       [ 0.        ,  0.        ,  0.        , 15.52740254],\n",
      "       [ 0.        ,  0.        ,  0.        ,  0.        ],\n",
      "       [ 0.        ,  0.        ,  0.        ,  0.        ]])\n"
     ]
    }
   ],
   "source": [
    "from pprint import pprint as pp\n",
    "#Matriz de precios de la opcion\n",
    "opcion_precios = np.zeros((pasos+1, pasos+1))\n",
    "\n",
    "#Payoff\n",
    "for i in range (0, pasos+1):\n",
    "    if tipo == \"PUT\":\n",
    "        opcion_precios[i][pasos] = max(0, (K - ST_precios[i]))\n",
    "    elif tipo == \"CALL\":\n",
    "        opcion_precios[i][pasos] = max(0, (ST_precios[i] - K))\n",
    "        \n",
    "pp(opcion_precios)"
   ]
  },
  {
   "cell_type": "markdown",
   "metadata": {},
   "source": [
    "### 6) Recorro el arbol columna por columna"
   ]
  },
  {
   "cell_type": "code",
   "execution_count": 9,
   "metadata": {},
   "outputs": [
    {
     "data": {
      "text/plain": [
       "array([[ 0.        ,  0.        , 35.118662  , 54.18958056],\n",
       "       [ 0.        ,  0.        ,  7.9712635 , 15.52740254],\n",
       "       [ 0.        ,  0.        ,  0.        ,  0.        ],\n",
       "       [ 0.        ,  0.        ,  0.        ,  0.        ]])"
      ]
     },
     "execution_count": 9,
     "metadata": {},
     "output_type": "execute_result"
    }
   ],
   "source": [
    "j = 1\n",
    "for i in range(0, pasos+1 - j):\n",
    "    opcion_precios[i][pasos - j] = descuento * (q_prob * opcion_precios[i][pasos - j + 1] + (1  - q_prob) * opcion_precios[i + 1][pasos - j + 1])\n",
    "\n",
    "opcion_precios   "
   ]
  },
  {
   "cell_type": "code",
   "execution_count": 10,
   "metadata": {},
   "outputs": [
    {
     "data": {
      "text/plain": [
       "array([[ 0.        , 21.77610163, 35.118662  , 54.18958056],\n",
       "       [ 0.        ,  4.09218744,  7.9712635 , 15.52740254],\n",
       "       [ 0.        ,  0.        ,  0.        ,  0.        ],\n",
       "       [ 0.        ,  0.        ,  0.        ,  0.        ]])"
      ]
     },
     "execution_count": 10,
     "metadata": {},
     "output_type": "execute_result"
    }
   ],
   "source": [
    "j = 2\n",
    "for i in range(0, pasos+1 - j):\n",
    "    opcion_precios[i][pasos - j] = descuento * (q_prob * opcion_precios[i][pasos - j + 1] + (1  - q_prob) * opcion_precios[i + 1][pasos - j + 1])\n",
    "\n",
    "opcion_precios "
   ]
  },
  {
   "cell_type": "code",
   "execution_count": 11,
   "metadata": {},
   "outputs": [
    {
     "data": {
      "text/plain": [
       "array([[13.10289597, 21.77610163, 35.118662  , 54.18958056],\n",
       "       [ 0.        ,  4.09218744,  7.9712635 , 15.52740254],\n",
       "       [ 0.        ,  0.        ,  0.        ,  0.        ],\n",
       "       [ 0.        ,  0.        ,  0.        ,  0.        ]])"
      ]
     },
     "execution_count": 11,
     "metadata": {},
     "output_type": "execute_result"
    }
   ],
   "source": [
    "j = 3\n",
    "for i in range(0, pasos+1 - j):\n",
    "    opcion_precios[i][pasos - j] = descuento * (q_prob * opcion_precios[i][pasos - j + 1] + (1  - q_prob) * opcion_precios[i + 1][pasos - j + 1])\n",
    "\n",
    "opcion_precios "
   ]
  },
  {
   "cell_type": "code",
   "execution_count": 12,
   "metadata": {},
   "outputs": [
    {
     "data": {
      "text/plain": [
       "array([[13.10289597, 21.77610163, 35.118662  , 54.18958056],\n",
       "       [ 0.        ,  4.09218744,  7.9712635 , 15.52740254],\n",
       "       [ 0.        ,  0.        ,  0.        ,  0.        ],\n",
       "       [ 0.        ,  0.        ,  0.        ,  0.        ]])"
      ]
     },
     "execution_count": 12,
     "metadata": {},
     "output_type": "execute_result"
    }
   ],
   "source": [
    "j = 4\n",
    "for i in range(0, pasos+1 - j):\n",
    "    opcion_precios[i][pasos - j] = descuento * (q_prob * opcion_precios[i][pasos - j + 1] + (1  - q_prob) * opcion_precios[i + 1][pasos - j + 1])\n",
    "\n",
    "opcion_precios "
   ]
  },
  {
   "cell_type": "markdown",
   "metadata": {},
   "source": [
    "### 7) Precio de la opcion, primer nodo del arbol "
   ]
  },
  {
   "cell_type": "code",
   "execution_count": 13,
   "metadata": {},
   "outputs": [
    {
     "name": "stdout",
     "output_type": "stream",
     "text": [
      "13.102895972137345\n"
     ]
    }
   ],
   "source": [
    "precio_BIN_eur = opcion_precios[0][0]\n",
    "pp(precio_BIN_eur)"
   ]
  },
  {
   "cell_type": "markdown",
   "metadata": {},
   "source": [
    "## Formula Cerrada"
   ]
  },
  {
   "cell_type": "markdown",
   "metadata": {},
   "source": [
    "Volvemos a inicializar todas las variables\n"
   ]
  },
  {
   "cell_type": "code",
   "execution_count": 14,
   "metadata": {},
   "outputs": [],
   "source": [
    "import operator as op\n",
    "from functools import reduce\n",
    "def ncr(n, r):\n",
    "    r = min(r, n-r)\n",
    "    numer = reduce(op.mul, range(n, n-r, -1), 1)\n",
    "    denom = reduce(op.mul, range(1, r+1), 1)\n",
    "    return numer // denom  # or / in Python 2\n",
    "\n",
    "\n",
    "def nCr(n, r):\n",
    "    f = math.factorial\n",
    "    return f(n) / f(r) / f(n - r)"
   ]
  },
  {
   "cell_type": "code",
   "execution_count": 15,
   "metadata": {},
   "outputs": [],
   "source": [
    "tipo = \"CALL\"\n",
    "S = 100\n",
    "K = 100\n",
    "T = 1\n",
    "r = 0.05\n",
    "sigma = 0.25\n",
    "div = 0\n",
    "pasos = 100\n",
    "\n",
    "\n",
    "#auxiliares\n",
    "dt = T / pasos\n",
    "tasa_forward = math.exp((r - div) * dt)\n",
    "descuento = math.exp(-r * dt)\n",
    "\n",
    "#modelo CRR\n",
    "u = math.exp(sigma * math.pow(dt, 0.5))\n",
    "d = 1 / u\n",
    "#probabilidad de riesgo neutral\n",
    "q_prob = (tasa_forward - d) / (u - d)\n"
   ]
  },
  {
   "cell_type": "code",
   "execution_count": 16,
   "metadata": {},
   "outputs": [
    {
     "data": {
      "text/plain": [
       "12.311309716876048"
      ]
     },
     "execution_count": 16,
     "metadata": {},
     "output_type": "execute_result"
    }
   ],
   "source": [
    "temp = 0\n",
    "\n",
    "for k in range(pasos):\n",
    "    if tipo == \"CALL\":\n",
    "        payoff = max(0, S * math.pow(u,k) * math.pow(d,pasos-k)-K)\n",
    "    elif tipo == \"PUT\":\n",
    "        payoff = max(0, K - S * math.pow(u, k) * math.pow(d, pasos - k))\n",
    "    temp = temp +ncr(pasos, k) * math.pow(q_prob,k) * math.pow((1-q_prob),pasos-k) * payoff\n",
    "\n",
    "precio_BIN_c = math.exp(-r*T)*temp\n",
    "    \n",
    "precio_BIN_c"
   ]
  },
  {
   "cell_type": "markdown",
   "metadata": {},
   "source": [
    "## 2) Americana"
   ]
  },
  {
   "cell_type": "code",
   "execution_count": 17,
   "metadata": {},
   "outputs": [],
   "source": [
    "tipo = \"CALL\"\n",
    "S = 100\n",
    "K = 100\n",
    "T = 1\n",
    "r = 0.05\n",
    "sigma = 0.25\n",
    "div = 0\n",
    "pasos = 100\n",
    "\n",
    "\n",
    "#auxiliares\n",
    "dt = T / pasos\n",
    "tasa_forward = math.exp((r - div) * dt)\n",
    "descuento = math.exp(-r * dt)\n",
    "#modelo CRR\n",
    "u = math.exp(sigma * math.pow(dt, 0.5))\n",
    "d = 1 / u\n",
    "#probabilidad de riesgo neutral\n",
    "q_prob = (tasa_forward - d) / (u - d)\n",
    "\n",
    "\n",
    "#Precios finales\n",
    "ST_precios=np.zeros((pasos+1))\n",
    "\n",
    "for i in range(0,pasos+1):\n",
    "    ST_precios[pasos-i] = math.pow(u, 2 * i - pasos) * S\n",
    "    \n",
    "ST_precios\n",
    "opcion_precios = np.zeros((pasos+1, pasos+1))\n",
    "\n",
    "\n"
   ]
  },
  {
   "cell_type": "markdown",
   "metadata": {},
   "source": [
    "En el caso de una opcion americana, en cada punto del nodo tendremos que evaluar si nos conviene ejercer o no. Eso se resuelve de manera muy simple."
   ]
  },
  {
   "cell_type": "code",
   "execution_count": 18,
   "metadata": {},
   "outputs": [
    {
     "name": "stdout",
     "output_type": "stream",
     "text": [
      "12.279962275608838\n"
     ]
    }
   ],
   "source": [
    "for j in range(1, pasos+1):\n",
    "    for i in range(0, pasos+1 - j):\n",
    "        # Calculo primero el valor como si no hubiera ejercicio temprano (europeo)\n",
    "        eur = q_prob * opcion_precios[i][pasos - j + 1] + (1  - q_prob) * opcion_precios[i + 1][pasos - j + 1]\n",
    "        #dependiendo del contrato, comparo el valor del valor 'europeo' contra ejercer en ese momento.\n",
    "        # S * math.pow(u,-2*i+pasos-j) codifica al arbol de los S\n",
    "        if tipo == \"PUT\":\n",
    "            opcion_precios[i][pasos - j] = descuento * max(eur, K - S * math.pow(u,-2*i+pasos-j))\n",
    "        elif tipo == \"CALL\":\n",
    "            opcion_precios[i][pasos - j] = descuento * max(eur, S * math.pow(u,-2*i+pasos-j) - K)\n",
    "\n",
    "precio_BIN_ame = opcion_precios[0][0]\n",
    "pp(precio_BIN_ame) \n",
    "\n"
   ]
  },
  {
   "cell_type": "markdown",
   "metadata": {},
   "source": [
    "# 3) Jugando con el pricer"
   ]
  },
  {
   "cell_type": "code",
   "execution_count": 19,
   "metadata": {},
   "outputs": [],
   "source": [
    "import matplotlib.pyplot as plt"
   ]
  },
  {
   "cell_type": "markdown",
   "metadata": {},
   "source": [
    "## Precio y payoff con respecto a S"
   ]
  },
  {
   "cell_type": "code",
   "execution_count": 25,
   "metadata": {},
   "outputs": [
    {
     "data": {
      "image/png": "[encoded data removed]",
      "text/plain": [
       "<Figure size 432x288 with 1 Axes>"
      ]
     },
     "metadata": {
      "needs_background": "light"
     },
     "output_type": "display_data"
    }
   ],
   "source": [
    "tipo = \"C\"\n",
    "S = 100\n",
    "K = 100\n",
    "T = 1\n",
    "r = 0.05\n",
    "sigma= 0.25\n",
    "div =0\n",
    "pasos = 1000\n",
    "\n",
    "S_MAX = 2*S\n",
    "S_vec = np.linspace(0,S_MAX,50)      \n",
    "precios = np.zeros(len(S_vec))\n",
    "payoff = np.zeros(len(S_vec))\n",
    "\n",
    "\n",
    "\n",
    "\n",
    "for index in range(len(S_vec)):\n",
    "    precios[index] = opcion_europea_bin_c(tipo, S_vec[index], K, T, r, sigma, div, pasos)\n",
    "    payoff[index] = max(0, S_vec[index]-K)\n",
    "plt.plot(S_vec,precios,'r', label='Precio')\n",
    "plt.plot(S_vec,payoff,'g', label='Payoff')\n",
    "plt.axvline(x=K, color = 'black', linestyle='--')\n",
    "\n",
    "plt.legend()\n",
    "\n",
    "plt.xlabel('Spot')\n",
    "plt.ylabel('Precio del Call')\n",
    "plt.title('Precio/Payoff de una opcion Call a tiempo inicial con respecto al spot')\n",
    "\n",
    "plt.show()"
   ]
  },
  {
   "cell_type": "code",
   "execution_count": 26,
   "metadata": {},
   "outputs": [
    {
     "data": {
      "image/png": "[encoded data removed]",
      "text/plain": [
       "<Figure size 432x288 with 1 Axes>"
      ]
     },
     "metadata": {
      "needs_background": "light"
     },
     "output_type": "display_data"
    }
   ],
   "source": [
    "tipo = \"P\"\n",
    "S = 100\n",
    "K = 100\n",
    "T = 1\n",
    "r = 0.05\n",
    "sigma= 0.25\n",
    "div =0\n",
    "pasos = 1000\n",
    "\n",
    "S_MAX = 2*S\n",
    "S_vec = np.linspace(0,S_MAX,50)      \n",
    "precios = np.zeros(len(S_vec))\n",
    "payoff = np.zeros(len(S_vec))\n",
    "\n",
    "\n",
    "\n",
    "\n",
    "for index in range(len(S_vec)):\n",
    "    precios[index] = opcion_europea_bin_c(tipo, S_vec[index], K, T, r, sigma, div, pasos)\n",
    "    payoff[index] = max(0, K-S_vec[index])\n",
    "plt.plot(S_vec,precios,'r', label='Precio')\n",
    "plt.plot(S_vec,payoff,'g', label='Payoff')\n",
    "plt.axvline(x=K, color = 'black', linestyle='--')\n",
    "\n",
    "plt.legend()\n",
    "\n",
    "plt.xlabel('Spot')\n",
    "plt.ylabel('Precio del Put')\n",
    "plt.title('Precio/Payoff de una opcion Put a tiempo inicial con respecto al spot')\n",
    "\n",
    "plt.show()"
   ]
  },
  {
   "cell_type": "code",
   "execution_count": 22,
   "metadata": {},
   "outputs": [
    {
     "data": {
      "text/plain": [
       "array([  0.        ,   4.08163265,   8.16326531,  12.24489796,\n",
       "        16.32653061,  20.40816327,  24.48979592,  28.57142857,\n",
       "        32.65306122,  36.73469388,  40.81632653,  44.89795918,\n",
       "        48.97959184,  53.06122449,  57.14285714,  61.2244898 ,\n",
       "        65.30612245,  69.3877551 ,  73.46938776,  77.55102041,\n",
       "        81.63265306,  85.71428571,  89.79591837,  93.87755102,\n",
       "        97.95918367, 102.04081633, 106.12244898, 110.20408163,\n",
       "       114.28571429, 118.36734694, 122.44897959, 126.53061224,\n",
       "       130.6122449 , 134.69387755, 138.7755102 , 142.85714286,\n",
       "       146.93877551, 151.02040816, 155.10204082, 159.18367347,\n",
       "       163.26530612, 167.34693878, 171.42857143, 175.51020408,\n",
       "       179.59183673, 183.67346939, 187.75510204, 191.83673469,\n",
       "       195.91836735, 200.        ])"
      ]
     },
     "execution_count": 22,
     "metadata": {},
     "output_type": "execute_result"
    }
   ],
   "source": [
    "S_vec"
   ]
  },
  {
   "cell_type": "markdown",
   "metadata": {},
   "source": [
    "## Precio con respecto al Strike"
   ]
  },
  {
   "cell_type": "code",
   "execution_count": 27,
   "metadata": {},
   "outputs": [
    {
     "data": {
      "image/png": "[encoded data removed]",
      "text/plain": [
       "<Figure size 432x288 with 1 Axes>"
      ]
     },
     "metadata": {
      "needs_background": "light"
     },
     "output_type": "display_data"
    }
   ],
   "source": [
    "tipo = \"C\"\n",
    "S = 100\n",
    "K = 100\n",
    "T = 1\n",
    "r = 0.05\n",
    "sigma= 0.25\n",
    "div =0\n",
    "pasos = 1000\n",
    "\n",
    "K_MAX = 2*S\n",
    "K_vec = np.linspace(0,K_MAX,50)      \n",
    "precios = np.zeros(len(K_vec))\n",
    "\n",
    "\n",
    "\n",
    "\n",
    "for index in range(len(K_vec)):\n",
    "    precios[index] = opcion_europea_bin_c(tipo, S, K_vec[index], T, r, sigma, div, pasos)\n",
    "\n",
    "plt.plot(K_vec,precios,'r', label='Strike')\n",
    "plt.axvline(x=S, color = 'black', linestyle='--')\n",
    "\n",
    "plt.legend()\n",
    "\n",
    "plt.xlabel('Spot')\n",
    "plt.ylabel('Precio del Call')\n",
    "plt.title('Precio de una opcion Call a tiempo inicial con respecto al strike')\n",
    "\n",
    "plt.show()"
   ]
  },
  {
   "cell_type": "code",
   "execution_count": 28,
   "metadata": {},
   "outputs": [
    {
     "data": {
      "image/png": "[encoded data removed]",
      "text/plain": [
       "<Figure size 432x288 with 1 Axes>"
      ]
     },
     "metadata": {
      "needs_background": "light"
     },
     "output_type": "display_data"
    }
   ],
   "source": [
    "tipo = \"P\"\n",
    "S = 100\n",
    "K = 100\n",
    "T = 1\n",
    "r = 0.05\n",
    "sigma= 0.25\n",
    "div =0\n",
    "pasos = 1000\n",
    "\n",
    "K_MAX = 2*S\n",
    "K_vec = np.linspace(0,K_MAX,50)      \n",
    "precios = np.zeros(len(K_vec))\n",
    "payoff = np.zeros(len(K_vec))\n",
    "\n",
    "\n",
    "\n",
    "\n",
    "for index in range(len(K_vec)):\n",
    "    precios[index] = opcion_europea_bin_c(tipo, S, K_vec[index], T, r, sigma, div, pasos)\n",
    "\n",
    "plt.plot(K_vec,precios,'r', label='Strike')\n",
    "plt.axvline(x=S, color = 'black', linestyle='--')\n",
    "\n",
    "plt.legend()\n",
    "\n",
    "plt.xlabel('Spot')\n",
    "plt.ylabel('Precio del Put')\n",
    "plt.title('Precio de una opcion Put a tiempo inicial con respecto al strike')\n",
    "\n",
    "plt.show()"
   ]
  },
  {
   "cell_type": "markdown",
   "metadata": {},
   "source": [
    "## Precio con respecto a sigma"
   ]
  },
  {
   "cell_type": "code",
   "execution_count": 29,
   "metadata": {},
   "outputs": [
    {
     "data": {
      "image/png": "[encoded data removed]",
      "text/plain": [
       "<Figure size 432x288 with 1 Axes>"
      ]
     },
     "metadata": {
      "needs_background": "light"
     },
     "output_type": "display_data"
    }
   ],
   "source": [
    "tipo = \"C\"\n",
    "S = 100\n",
    "K = 100\n",
    "T = 1\n",
    "r = 0.05\n",
    "sigma= 0.25\n",
    "div =0\n",
    "pasos = 1000\n",
    "\n",
    "sigma_MAX = 8*sigma\n",
    "sigma_vec = np.linspace(0,sigma_MAX,50)      \n",
    "precios = np.zeros(len(sigma_vec))\n",
    "\n",
    "for index in range(1,len(sigma_vec)):\n",
    "    precios[index] = opcion_europea_bin_c(tipo, S, K, T, r, sigma_vec[index], div, pasos)\n",
    "plt.plot(sigma_vec,precios,'r', label='Precio')\n",
    "plt.legend()\n",
    "\n",
    "plt.xlabel('Volatilidad implicita')\n",
    "plt.ylabel('Precio del Call')\n",
    "plt.title('Precio de una opcion Call a tiempo inicial con respecto a la volatilidad implicita')\n",
    "\n",
    "plt.show()"
   ]
  },
  {
   "cell_type": "code",
   "execution_count": 30,
   "metadata": {},
   "outputs": [
    {
     "data": {
      "image/png": "[encoded data removed]",
      "text/plain": [
       "<Figure size 432x288 with 1 Axes>"
      ]
     },
     "metadata": {
      "needs_background": "light"
     },
     "output_type": "display_data"
    }
   ],
   "source": [
    "tipo = \"P\"\n",
    "S = 100\n",
    "K = 100\n",
    "T = 1\n",
    "r = 0.05\n",
    "sigma= 0.25\n",
    "div =0\n",
    "pasos = 1000\n",
    "\n",
    "sigma_MAX = 8*sigma\n",
    "sigma_vec = np.linspace(0,sigma_MAX,50)      \n",
    "precios = np.zeros(len(sigma_vec))\n",
    "\n",
    "for index in range(1,len(sigma_vec)):\n",
    "    precios[index] = opcion_europea_bin_c(tipo, S, K, T, r, sigma_vec[index], div, pasos)\n",
    "plt.plot(sigma_vec,precios,'r', label='Precio')\n",
    "plt.legend()\n",
    "\n",
    "plt.xlabel('Volatilidad implicita')\n",
    "plt.ylabel('Precio del Put')\n",
    "plt.title('Precio de una opcion Put a tiempo inicial con respecto a la volatilidad implicita')\n",
    "\n",
    "plt.show()"
   ]
  },
  {
   "cell_type": "markdown",
   "metadata": {},
   "source": [
    "## Precio con respecto a TTM"
   ]
  },
  {
   "cell_type": "code",
   "execution_count": 31,
   "metadata": {},
   "outputs": [
    {
     "data": {
      "image/png": "[encoded data removed]",
      "text/plain": [
       "<Figure size 432x288 with 1 Axes>"
      ]
     },
     "metadata": {
      "needs_background": "light"
     },
     "output_type": "display_data"
    }
   ],
   "source": [
    "tipo = \"C\"\n",
    "S = 100\n",
    "K = 100\n",
    "T = 1\n",
    "r = 0.05\n",
    "sigma= 0.25\n",
    "div =0\n",
    "pasos = 1000\n",
    "\n",
    "T_MAX = 2*T\n",
    "T_vec = np.linspace(0,T_MAX,50)      \n",
    "precios = np.zeros(len(T_vec))\n",
    "\n",
    "for index in range(1,len(T_vec)):\n",
    "    precios[index] = opcion_europea_bin_c(tipo, S, K, T_vec[index], r, sigma, div, pasos)\n",
    "plt.plot(T_vec,precios,'r', label='Precio')\n",
    "plt.legend()\n",
    "\n",
    "plt.xlabel('Tiempo de expiracion en años')\n",
    "plt.ylabel('Precio del Call')\n",
    "plt.title('Precio de una opcion Call a tiempo inicial con respecto al tiempo de expiracion')\n",
    "\n",
    "plt.show()"
   ]
  },
  {
   "cell_type": "markdown",
   "metadata": {},
   "source": [
    "## Convergencia del Arbol Binomial"
   ]
  },
  {
   "cell_type": "code",
   "execution_count": 32,
   "metadata": {},
   "outputs": [],
   "source": [
    "tipo = \"C\"\n",
    "S = 100\n",
    "K = 100\n",
    "T = 1\n",
    "r = 0.05\n",
    "sigma= 0.25\n",
    "div =0\n",
    "\n",
    "pasos_vec = [1,2,3,4,5,6,7,8,9,10,12,14,16,18,20,25,30,40,50,75,100,125,150,200,250,300]      \n",
    "precios = np.zeros(len(pasos_vec))\n",
    "\n",
    "for index in range(len(pasos_vec)):\n",
    "    precios[index] = opcion_europea_bin(tipo, S, K, T, r, sigma, div, pasos_vec[index])\n",
    "    "
   ]
  },
  {
   "cell_type": "code",
   "execution_count": 33,
   "metadata": {},
   "outputs": [
    {
     "data": {
      "image/png": "[encoded data removed]",
      "text/plain": [
       "<Figure size 432x288 with 1 Axes>"
      ]
     },
     "metadata": {
      "needs_background": "light"
     },
     "output_type": "display_data"
    }
   ],
   "source": [
    "plt.plot(pasos_vec,precios,'*', label='Precio')\n",
    "plt.legend()\n",
    "\n",
    "plt.xlabel('Pasos del arbol Binomial')\n",
    "plt.ylabel('Precio del Call')\n",
    "plt.title('Precio de una opcion Call a tiempo inicial con respecto al numero de pasos del arbol')\n",
    "\n",
    "plt.show()"
   ]
  },
  {
   "cell_type": "markdown",
   "metadata": {},
   "source": [
    "## Europeas - Americanas\n"
   ]
  },
  {
   "cell_type": "markdown",
   "metadata": {},
   "source": [
    "### CALL sin dividendos"
   ]
  },
  {
   "cell_type": "code",
   "execution_count": 34,
   "metadata": {},
   "outputs": [
    {
     "data": {
      "image/png": "[encoded data removed]",
      "text/plain": [
       "<Figure size 432x288 with 1 Axes>"
      ]
     },
     "metadata": {
      "needs_background": "light"
     },
     "output_type": "display_data"
    },
    {
     "name": "stdout",
     "output_type": "stream",
     "text": [
      "Precio Opcion Europea:  12.323646460707344\n",
      "Precio Opcion Americana:  12.323646460707344\n"
     ]
    }
   ],
   "source": [
    "tipo = \"C\"\n",
    "K = 100\n",
    "T = 1\n",
    "r = 0.05\n",
    "sigma= 0.25\n",
    "div =0\n",
    "pasos = 200\n",
    "\n",
    "S_vec = np.linspace(0.5*S,1.5*S,50)      \n",
    "precios_eur = np.zeros(len(S_vec))\n",
    "precios_ame = np.zeros(len(S_vec))\n",
    "\n",
    "payoff = np.zeros(len(S_vec))\n",
    "\n",
    "\n",
    "for index in range(len(S_vec)):\n",
    "    precios_eur[index] = opcion_europea_bin(tipo, S_vec[index], K, T, r, sigma, div, pasos)\n",
    "    precios_ame[index] = opcion_americana_bin(tipo, S_vec[index], K, T, r, sigma, div, pasos)\n",
    "    \n",
    "    payoff[index] = max(0, S_vec[index]-K)\n",
    "\n",
    "plt.plot(S_vec,precios_eur,'r', label='Precio Europea')\n",
    "plt.plot(S_vec,precios_ame,'b', label='Precio Americana')\n",
    "\n",
    "plt.plot(S_vec,payoff,'g', label='Payoff')\n",
    "plt.axvline(x=K, color = 'black', linestyle='--')\n",
    "\n",
    "plt.legend()\n",
    "\n",
    "plt.xlabel('Spot')\n",
    "plt.ylabel('Precio del Call')\n",
    "plt.title('Precio/Payoff de una opcion Call a tiempo inicial con respecto al spot')\n",
    "\n",
    "plt.show()\n",
    "\n",
    "\n",
    "print(\"Precio Opcion Europea: \", opcion_europea_bin(tipo, S, K, T, r, sigma, div, pasos))\n",
    "print(\"Precio Opcion Americana: \", opcion_americana_bin(tipo, S, K, T, r, sigma, div, pasos))\n"
   ]
  },
  {
   "cell_type": "markdown",
   "metadata": {},
   "source": [
    "### PUT sin dividendos"
   ]
  },
  {
   "cell_type": "code",
   "execution_count": 35,
   "metadata": {},
   "outputs": [
    {
     "data": {
      "image/png": "[encoded data removed]",
      "text/plain": [
       "<Figure size 432x288 with 1 Axes>"
      ]
     },
     "metadata": {
      "needs_background": "light"
     },
     "output_type": "display_data"
    },
    {
     "name": "stdout",
     "output_type": "stream",
     "text": [
      "Precio Opcion Europea:  7.446588910777644\n",
      "Precio Opcion Americana:  7.967099044079217\n"
     ]
    }
   ],
   "source": [
    "tipo = \"P\"\n",
    "\n",
    "precios_eur = np.zeros(len(S_vec))\n",
    "precios_ame = np.zeros(len(S_vec))\n",
    "\n",
    "payoff = np.zeros(len(S_vec))\n",
    "\n",
    "for index in range(len(S_vec)):\n",
    "    precios_eur[index] = opcion_europea_bin(tipo, S_vec[index], K, T, r, sigma, div, pasos)\n",
    "    precios_ame[index] = opcion_americana_bin(tipo, S_vec[index], K, T, r, sigma, div, pasos)\n",
    "    \n",
    "    payoff[index] = max(0, K -S_vec[index])\n",
    "\n",
    "plt.plot(S_vec,precios_eur,'r', label='Precio Europea')\n",
    "plt.plot(S_vec,precios_ame,'b', label='Precio Americana')\n",
    "\n",
    "plt.plot(S_vec,payoff,'g', label='Payoff')\n",
    "plt.axvline(x=K, color = 'black', linestyle='--')\n",
    "\n",
    "plt.legend()\n",
    "\n",
    "plt.xlabel('Spot')\n",
    "plt.ylabel('Precio del Put')\n",
    "plt.title('Precio/Payoff de una opcion Put a tiempo inicial con respecto al spot')\n",
    "\n",
    "plt.show()\n",
    "\n",
    "\n",
    "print(\"Precio Opcion Europea: \", opcion_europea_bin(tipo, S, K, T, r, sigma, div, pasos))\n",
    "print(\"Precio Opcion Americana: \", opcion_americana_bin(tipo, S, K, T, r, sigma, div, pasos))\n"
   ]
  },
  {
   "cell_type": "markdown",
   "metadata": {},
   "source": [
    "### CALL con dividendos"
   ]
  },
  {
   "cell_type": "code",
   "execution_count": 36,
   "metadata": {},
   "outputs": [
    {
     "data": {
      "image/png": "[encoded data removed]",
      "text/plain": [
       "<Figure size 432x288 with 1 Axes>"
      ]
     },
     "metadata": {
      "needs_background": "light"
     },
     "output_type": "display_data"
    },
    {
     "name": "stdout",
     "output_type": "stream",
     "text": [
      "Precio Opcion Europea:  7.083414484093169\n",
      "Precio Opcion Americana:  7.74420234891751\n"
     ]
    }
   ],
   "source": [
    "tipo = \"C\"\n",
    "\n",
    "div = 0.1\n",
    "\n",
    "precios_eur = np.zeros(len(S_vec))\n",
    "precios_ame = np.zeros(len(S_vec))\n",
    "\n",
    "payoff = np.zeros(len(S_vec))\n",
    "\n",
    "for index in range(len(S_vec)):\n",
    "    precios_eur[index] = opcion_europea_bin(tipo, S_vec[index], K, T, r, sigma, div, pasos)\n",
    "    precios_ame[index] = opcion_americana_bin(tipo, S_vec[index], K, T, r, sigma, div, pasos)\n",
    "    \n",
    "    payoff[index] = max(0, S_vec[index]-K)\n",
    "\n",
    "plt.plot(S_vec,precios_eur,'r', label='Precio Europea')\n",
    "plt.plot(S_vec,precios_ame,'b', label='Precio Americana')\n",
    "\n",
    "plt.plot(S_vec,payoff,'g', label='Payoff')\n",
    "plt.axvline(x=K, color = 'black', linestyle='--')\n",
    "\n",
    "plt.legend()\n",
    "\n",
    "plt.xlabel('Spot')\n",
    "plt.ylabel('Precio del Call')\n",
    "plt.title('Precio/Payoff de una opcion Call a tiempo inicial con respecto al spot')\n",
    "\n",
    "plt.show()\n",
    "\n",
    "\n",
    "print(\"Precio Opcion Europea: \", opcion_europea_bin(tipo, S, K, T, r, sigma, div, pasos))\n",
    "print(\"Precio Opcion Americana: \", opcion_americana_bin(tipo, S, K, T, r, sigma, div, pasos))"
   ]
  },
  {
   "cell_type": "markdown",
   "metadata": {},
   "source": [
    "### PUT con dividendos"
   ]
  },
  {
   "cell_type": "code",
   "execution_count": 37,
   "metadata": {},
   "outputs": [
    {
     "data": {
      "image/png": "[encoded data removed]",
      "text/plain": [
       "<Figure size 432x288 with 1 Axes>"
      ]
     },
     "metadata": {
      "needs_background": "light"
     },
     "output_type": "display_data"
    },
    {
     "name": "stdout",
     "output_type": "stream",
     "text": [
      "Precio Opcion Europea:  11.722615130567634\n",
      "Precio Opcion Americana:  11.722837498895863\n"
     ]
    }
   ],
   "source": [
    "tipo = \"P\"\n",
    "\n",
    "div = 0.1\n",
    "\n",
    "precios_eur = np.zeros(len(S_vec))\n",
    "precios_ame = np.zeros(len(S_vec))\n",
    "\n",
    "payoff = np.zeros(len(S_vec))\n",
    "\n",
    "for index in range(len(S_vec)):\n",
    "    precios_eur[index] = opcion_europea_bin(tipo, S_vec[index], K, T, r, sigma, div, pasos)\n",
    "    precios_ame[index] = opcion_americana_bin(tipo, S_vec[index], K, T, r, sigma, div, pasos)\n",
    "    \n",
    "    payoff[index] = max(0, K -S_vec[index])\n",
    "\n",
    "plt.plot(S_vec,precios_eur,'r', label='Precio Europea')\n",
    "plt.plot(S_vec,precios_ame,'b', label='Precio Americana')\n",
    "\n",
    "plt.plot(S_vec,payoff,'g', label='Payoff')\n",
    "plt.axvline(x=K, color = 'black', linestyle='--')\n",
    "\n",
    "plt.legend()\n",
    "\n",
    "plt.xlabel('Spot')\n",
    "plt.ylabel('Precio del Put')\n",
    "plt.title('Precio/Payoff de una opcion Put a tiempo inicial con respecto al spot')\n",
    "\n",
    "plt.show()\n",
    "\n",
    "\n",
    "print(\"Precio Opcion Europea: \", opcion_europea_bin(tipo, S, K, T, r, sigma, div, pasos))\n",
    "print(\"Precio Opcion Americana: \", opcion_americana_bin(tipo, S, K, T, r, sigma, div, pasos))"
   ]
  },
  {
   "cell_type": "code",
   "execution_count": 38,
   "metadata": {},
   "outputs": [
    {
     "data": {
      "image/png": "[encoded data removed]",
      "text/plain": [
       "<Figure size 432x288 with 1 Axes>"
      ]
     },
     "metadata": {
      "needs_background": "light"
     },
     "output_type": "display_data"
    },
    {
     "name": "stdout",
     "output_type": "stream",
     "text": [
      "Precio Opcion Europea:  7.446588910777644\n",
      "Precio Opcion Americana:  7.967099044079217\n"
     ]
    }
   ],
   "source": [
    "div = 0\n",
    "tipo = \"P\"\n",
    "r = 0.05\n",
    "\n",
    "precios_eur = np.zeros(len(T_vec))\n",
    "precios_ame = np.zeros(len(T_vec))\n",
    "\n",
    "\n",
    "\n",
    "for index in range(1,len(T_vec)):\n",
    "    precios_eur[index] = opcion_europea_bin(tipo, S, K, T_vec[index], r, sigma, div, pasos)\n",
    "    precios_ame[index] = opcion_americana_bin(tipo, S, K, T_vec[index], r, sigma, div, pasos)\n",
    "    \n",
    "    payoff[index] = max(0, S_vec[index]-K)\n",
    "\n",
    "plt.plot(T_vec,precios_eur,'r', label='Precio Europea')\n",
    "plt.plot(T_vec,precios_ame,'b', label='Precio Americana')\n",
    "\n",
    "plt.legend()\n",
    "\n",
    "plt.xlabel('TTM')\n",
    "plt.ylabel('Precio del Put')\n",
    "plt.title('Precio de una opcion Put a tiempo inicial con respecto al TTM')\n",
    "\n",
    "plt.show()\n",
    "\n",
    "\n",
    "print(\"Precio Opcion Europea: \", opcion_europea_bin(tipo, S, K, T, r, sigma, div, pasos))\n",
    "print(\"Precio Opcion Americana: \", opcion_americana_bin(tipo, S, K, T, r, sigma, div, pasos))"
   ]
  },
  {
   "cell_type": "markdown",
   "metadata": {},
   "source": [
    "## 4) Black Scholes"
   ]
  },
  {
   "cell_type": "markdown",
   "metadata": {},
   "source": [
    "Si llegamos hasta aca, entonces estamos en condiciones de ver la formula de Black Scholes. Veremos el modelo en la Clase 4"
   ]
  },
  {
   "cell_type": "code",
   "execution_count": 39,
   "metadata": {},
   "outputs": [],
   "source": [
    "tipo = \"C\"\n",
    "K = 100\n",
    "T = 1\n",
    "r = 0.05\n",
    "sigma= 0.25\n",
    "div =0\n",
    "\n",
    "from scipy.stats import norm\n"
   ]
  },
  {
   "cell_type": "code",
   "execution_count": 40,
   "metadata": {},
   "outputs": [
    {
     "data": {
      "text/plain": [
       "12.335998930368717"
      ]
     },
     "execution_count": 40,
     "metadata": {},
     "output_type": "execute_result"
    }
   ],
   "source": [
    "\n",
    "\n",
    "#Defino los ds\n",
    "d1 = (math.log(S / K) + (r - div + 0.5 * sigma * sigma) * T) / sigma / math.sqrt(T)\n",
    "d2 = (math.log(S / K) + (r - div - 0.5 * sigma * sigma) * T) / sigma / math.sqrt(T)\n",
    "\n",
    "if tipo == \"C\":\n",
    "    precio_BS = math.exp(-div*T) *S * norm.cdf(d1) - K * math.exp(-r * T) * norm.cdf(d2)\n",
    "elif tipo == \"P\":\n",
    "    precio_BS = K * math.exp(-r * T) * norm.cdf(-d2) - math.exp(-div*T) * S * norm.cdf(-d1)\n",
    "    \n",
    "precio_BS    "
   ]
  },
  {
   "cell_type": "markdown",
   "metadata": {},
   "source": [
    "## Convergencia del Binomial hacia el precio de Black Scholes"
   ]
  },
  {
   "cell_type": "code",
   "execution_count": 41,
   "metadata": {},
   "outputs": [],
   "source": [
    "tipo = \"P\"\n",
    "S = 100\n",
    "K = 100\n",
    "T = 1\n",
    "r = 0.05\n",
    "sigma= 0.25\n",
    "div =0.2\n",
    "\n",
    "pasos_vec = [1,2,3,4,5,6,7,8,9,10,12,14,16,18,20,25,30,40,50,75,100,125,150,200,250,300]      \n",
    "precios = np.zeros(len(pasos_vec))\n",
    "\n",
    "for index in range(len(pasos_vec)):\n",
    "    precios[index] = opcion_europea_bin(tipo, S, K, T, r, sigma, div, pasos_vec[index])\n",
    " \n",
    "precio_BS = opcion_europea_bs(tipo, S, K, T, r, sigma, div)\n",
    "\n"
   ]
  },
  {
   "cell_type": "code",
   "execution_count": null,
   "metadata": {},
   "outputs": [],
   "source": [
    "plt.axhline(y=precio_BS, color = 'black', linestyle='--', label='Precio BlackSholes')\n",
    "plt.plot(pasos_vec,precios,'*', label='Precio Binomial')\n",
    "\n",
    "plt.legend()\n",
    "\n",
    "plt.xlabel('Pasos del arbol Binomial')\n",
    "plt.ylabel('Precio de la opcion')\n",
    "plt.title('Precio de una opcion a tiempo inicial con respecto al numero de pasos del arbol')\n",
    "\n",
    "plt.show()"
   ]
  },
  {
   "cell_type": "markdown",
   "metadata": {},
   "source": [
    "## Convergencia del Binomial (con Americana) hacia el precio de Black Scholes"
   ]
  },
  {
   "cell_type": "code",
   "execution_count": 42,
   "metadata": {},
   "outputs": [],
   "source": [
    "tipo = \"C\"\n",
    "S = 100\n",
    "K = 100\n",
    "T = 1\n",
    "r = 0.05\n",
    "sigma= 0.25\n",
    "div =0.1\n",
    "\n",
    "pasos_vec = [1,2,3,4,5,6,7,8,9,10,12,14,16,18,20,25,30,40,50,75,100,125,150,200,250,300]      \n",
    "precios_eur = np.zeros(len(pasos_vec))\n",
    "precios_ame = np.zeros(len(pasos_vec))\n",
    "\n",
    "\n",
    "for index in range(len(pasos_vec)):\n",
    "    precios_eur[index] = opcion_europea_bin(tipo, S, K, T, r, sigma, div, pasos_vec[index])\n",
    "    precios_ame[index] = opcion_americana_bin(tipo, S, K, T, r, sigma, div, pasos_vec[index])\n",
    " \n",
    "precio_BS = opcion_europea_bs(tipo, S, K, T, r, sigma, div)\n",
    "\n"
   ]
  },
  {
   "cell_type": "code",
   "execution_count": 43,
   "metadata": {},
   "outputs": [
    {
     "data": {
      "image/png": "[encoded data removed]",
      "text/plain": [
       "<Figure size 432x288 with 1 Axes>"
      ]
     },
     "metadata": {
      "needs_background": "light"
     },
     "output_type": "display_data"
    }
   ],
   "source": [
    "plt.axhline(y=precio_BS, color = 'black', linestyle='--', label='Precio BlackSholes')\n",
    "plt.plot(pasos_vec,precios_eur,'*', label='Precio Binomial Europea')\n",
    "plt.plot(pasos_vec,precios_ame,'.', label='Precio Binomial Americana')\n",
    "\n",
    "plt.legend()\n",
    "\n",
    "plt.xlabel('Pasos del arbol Binomial')\n",
    "plt.ylabel('Precio de la opcion')\n",
    "plt.title('Precio de una opcion Call a tiempo inicial con respecto al numero de pasos del arbol')\n",
    "\n",
    "plt.show()"
   ]
  },
  {
   "cell_type": "markdown",
   "metadata": {},
   "source": [
    "## 5) Mercado VS Modelo\n",
    "## a) Saco una opcion del mercado y calculo su precio - NYSE"
   ]
  },
  {
   "cell_type": "code",
   "execution_count": 44,
   "metadata": {},
   "outputs": [],
   "source": [
    "# Tomo un ticker e invoco al codigo de la clase pasada\n",
    "\n",
    "from data_nyse import *\n",
    "ticker = 'FB'\n",
    "data = yf.Ticker(ticker)\n",
    "#Genero el panel\n",
    "panel_opciones = obtener_panel_opciones_nyse(ticker, True)\n",
    "\n"
   ]
  },
  {
   "cell_type": "code",
   "execution_count": 45,
   "metadata": {},
   "outputs": [
    {
     "data": {
      "text/html": [
       "<div>\n",
       "<style scoped>\n",
       "    .dataframe tbody tr th:only-of-type {\n",
       "        vertical-align: middle;\n",
       "    }\n",
       "\n",
       "    .dataframe tbody tr th {\n",
       "        vertical-align: top;\n",
       "    }\n",
       "\n",
       "    .dataframe thead th {\n",
       "        text-align: right;\n",
       "    }\n",
       "</style>\n",
       "<table border=\"1\" class=\"dataframe\">\n",
       "  <thead>\n",
       "    <tr style=\"text-align: right;\">\n",
       "      <th></th>\n",
       "      <th>Especie</th>\n",
       "      <th>Ticker</th>\n",
       "      <th>Spot</th>\n",
       "      <th>CallPut</th>\n",
       "      <th>Strike</th>\n",
       "      <th>TTM</th>\n",
       "      <th>Last</th>\n",
       "      <th>Moneyness</th>\n",
       "      <th>impliedVolatility</th>\n",
       "      <th>Bid</th>\n",
       "      <th>Ask</th>\n",
       "    </tr>\n",
       "  </thead>\n",
       "  <tbody>\n",
       "    <tr>\n",
       "      <th>0</th>\n",
       "      <td>FB210723C00170000</td>\n",
       "      <td>FB</td>\n",
       "      <td>336.950012</td>\n",
       "      <td>C</td>\n",
       "      <td>170.0</td>\n",
       "      <td>4</td>\n",
       "      <td>167.15</td>\n",
       "      <td>1.982059</td>\n",
       "      <td>3.233400</td>\n",
       "      <td>165.55</td>\n",
       "      <td>168.20</td>\n",
       "    </tr>\n",
       "    <tr>\n",
       "      <th>1</th>\n",
       "      <td>FB210723P00170000</td>\n",
       "      <td>FB</td>\n",
       "      <td>336.950012</td>\n",
       "      <td>P</td>\n",
       "      <td>170.0</td>\n",
       "      <td>4</td>\n",
       "      <td>0.03</td>\n",
       "      <td>1.982059</td>\n",
       "      <td>2.242192</td>\n",
       "      <td>0.00</td>\n",
       "      <td>0.18</td>\n",
       "    </tr>\n",
       "    <tr>\n",
       "      <th>2</th>\n",
       "      <td>FB210723C00175000</td>\n",
       "      <td>FB</td>\n",
       "      <td>336.950012</td>\n",
       "      <td>C</td>\n",
       "      <td>175.0</td>\n",
       "      <td>4</td>\n",
       "      <td>157.01</td>\n",
       "      <td>1.925429</td>\n",
       "      <td>3.111330</td>\n",
       "      <td>160.55</td>\n",
       "      <td>163.20</td>\n",
       "    </tr>\n",
       "    <tr>\n",
       "      <th>3</th>\n",
       "      <td>FB210723C00180000</td>\n",
       "      <td>FB</td>\n",
       "      <td>336.950012</td>\n",
       "      <td>C</td>\n",
       "      <td>180.0</td>\n",
       "      <td>4</td>\n",
       "      <td>156.35</td>\n",
       "      <td>1.871945</td>\n",
       "      <td>2.993167</td>\n",
       "      <td>155.55</td>\n",
       "      <td>158.20</td>\n",
       "    </tr>\n",
       "    <tr>\n",
       "      <th>4</th>\n",
       "      <td>FB210723C00185000</td>\n",
       "      <td>FB</td>\n",
       "      <td>336.950012</td>\n",
       "      <td>C</td>\n",
       "      <td>185.0</td>\n",
       "      <td>4</td>\n",
       "      <td>168.85</td>\n",
       "      <td>1.821351</td>\n",
       "      <td>2.878421</td>\n",
       "      <td>150.55</td>\n",
       "      <td>153.20</td>\n",
       "    </tr>\n",
       "    <tr>\n",
       "      <th>...</th>\n",
       "      <td>...</td>\n",
       "      <td>...</td>\n",
       "      <td>...</td>\n",
       "      <td>...</td>\n",
       "      <td>...</td>\n",
       "      <td>...</td>\n",
       "      <td>...</td>\n",
       "      <td>...</td>\n",
       "      <td>...</td>\n",
       "      <td>...</td>\n",
       "      <td>...</td>\n",
       "    </tr>\n",
       "    <tr>\n",
       "      <th>2266</th>\n",
       "      <td>FB230616P00600000</td>\n",
       "      <td>FB</td>\n",
       "      <td>336.950012</td>\n",
       "      <td>P</td>\n",
       "      <td>600.0</td>\n",
       "      <td>697</td>\n",
       "      <td>257.13</td>\n",
       "      <td>0.561583</td>\n",
       "      <td>0.307243</td>\n",
       "      <td>266.70</td>\n",
       "      <td>270.50</td>\n",
       "    </tr>\n",
       "    <tr>\n",
       "      <th>2267</th>\n",
       "      <td>FB230616C00650000</td>\n",
       "      <td>FB</td>\n",
       "      <td>336.950012</td>\n",
       "      <td>C</td>\n",
       "      <td>650.0</td>\n",
       "      <td>697</td>\n",
       "      <td>8.21</td>\n",
       "      <td>0.518385</td>\n",
       "      <td>0.354102</td>\n",
       "      <td>5.00</td>\n",
       "      <td>9.35</td>\n",
       "    </tr>\n",
       "    <tr>\n",
       "      <th>2268</th>\n",
       "      <td>FB230616P00650000</td>\n",
       "      <td>FB</td>\n",
       "      <td>336.950012</td>\n",
       "      <td>P</td>\n",
       "      <td>650.0</td>\n",
       "      <td>697</td>\n",
       "      <td>304.04</td>\n",
       "      <td>0.518385</td>\n",
       "      <td>0.312598</td>\n",
       "      <td>313.50</td>\n",
       "      <td>318.50</td>\n",
       "    </tr>\n",
       "    <tr>\n",
       "      <th>2269</th>\n",
       "      <td>FB230616C00700000</td>\n",
       "      <td>FB</td>\n",
       "      <td>336.950012</td>\n",
       "      <td>C</td>\n",
       "      <td>700.0</td>\n",
       "      <td>697</td>\n",
       "      <td>6.50</td>\n",
       "      <td>0.481357</td>\n",
       "      <td>0.353705</td>\n",
       "      <td>5.40</td>\n",
       "      <td>6.90</td>\n",
       "    </tr>\n",
       "    <tr>\n",
       "      <th>2270</th>\n",
       "      <td>FB230616P00700000</td>\n",
       "      <td>FB</td>\n",
       "      <td>336.950012</td>\n",
       "      <td>P</td>\n",
       "      <td>700.0</td>\n",
       "      <td>697</td>\n",
       "      <td>354.39</td>\n",
       "      <td>0.481357</td>\n",
       "      <td>0.316169</td>\n",
       "      <td>362.50</td>\n",
       "      <td>367.00</td>\n",
       "    </tr>\n",
       "  </tbody>\n",
       "</table>\n",
       "<p>2271 rows × 11 columns</p>\n",
       "</div>"
      ],
      "text/plain": [
       "                Especie Ticker        Spot CallPut  Strike  TTM    Last  \\\n",
       "0     FB210723C00170000     FB  336.950012       C   170.0    4  167.15   \n",
       "1     FB210723P00170000     FB  336.950012       P   170.0    4    0.03   \n",
       "2     FB210723C00175000     FB  336.950012       C   175.0    4  157.01   \n",
       "3     FB210723C00180000     FB  336.950012       C   180.0    4  156.35   \n",
       "4     FB210723C00185000     FB  336.950012       C   185.0    4  168.85   \n",
       "...                 ...    ...         ...     ...     ...  ...     ...   \n",
       "2266  FB230616P00600000     FB  336.950012       P   600.0  697  257.13   \n",
       "2267  FB230616C00650000     FB  336.950012       C   650.0  697    8.21   \n",
       "2268  FB230616P00650000     FB  336.950012       P   650.0  697  304.04   \n",
       "2269  FB230616C00700000     FB  336.950012       C   700.0  697    6.50   \n",
       "2270  FB230616P00700000     FB  336.950012       P   700.0  697  354.39   \n",
       "\n",
       "      Moneyness  impliedVolatility     Bid     Ask  \n",
       "0      1.982059           3.233400  165.55  168.20  \n",
       "1      1.982059           2.242192    0.00    0.18  \n",
       "2      1.925429           3.111330  160.55  163.20  \n",
       "3      1.871945           2.993167  155.55  158.20  \n",
       "4      1.821351           2.878421  150.55  153.20  \n",
       "...         ...                ...     ...     ...  \n",
       "2266   0.561583           0.307243  266.70  270.50  \n",
       "2267   0.518385           0.354102    5.00    9.35  \n",
       "2268   0.518385           0.312598  313.50  318.50  \n",
       "2269   0.481357           0.353705    5.40    6.90  \n",
       "2270   0.481357           0.316169  362.50  367.00  \n",
       "\n",
       "[2271 rows x 11 columns]"
      ]
     },
     "execution_count": 45,
     "metadata": {},
     "output_type": "execute_result"
    }
   ],
   "source": [
    "panel_opciones"
   ]
  },
  {
   "cell_type": "code",
   "execution_count": 46,
   "metadata": {},
   "outputs": [
    {
     "data": {
      "text/plain": [
       "18"
      ]
     },
     "execution_count": 46,
     "metadata": {},
     "output_type": "execute_result"
    }
   ],
   "source": [
    "# Tomo los TTMs y me quedo con alguno de ellos\n",
    "TTMs = list(set(panel_opciones.TTM.values))\n",
    "TTMs.sort()\n",
    "\n",
    "TTM=TTMs[2]\n",
    "TTM"
   ]
  },
  {
   "cell_type": "code",
   "execution_count": 47,
   "metadata": {},
   "outputs": [],
   "source": [
    "# elijo un tipo de opcion y tomo los strikes\n",
    "CP = \"P\"\n",
    "Ks = panel_opciones[(panel_opciones.TTM == TTM) & (panel_opciones.CallPut == CP)].Strike.values\n",
    "Ks_indexes = panel_opciones[(panel_opciones.TTM == TTM) & (panel_opciones.CallPut == CP)].Strike.index\n"
   ]
  },
  {
   "cell_type": "code",
   "execution_count": 48,
   "metadata": {},
   "outputs": [
    {
     "data": {
      "text/plain": [
       "326"
      ]
     },
     "execution_count": 48,
     "metadata": {},
     "output_type": "execute_result"
    }
   ],
   "source": [
    "#Tomo el ATM strike\n",
    "K_atm_index = np.abs(Ks - panel_opciones.Spot.values[0]).argmin()\n",
    "\n",
    "K_ATM = Ks[K_atm_index]\n",
    "K_ATM\n",
    "K_ATM_index_df = panel_opciones[(panel_opciones.TTM == TTM) & (panel_opciones.CallPut == CP)&(panel_opciones.Strike==K_ATM)].Strike.index[0]\n",
    "K_ATM_index_df\n"
   ]
  },
  {
   "cell_type": "code",
   "execution_count": 49,
   "metadata": {},
   "outputs": [],
   "source": [
    "# Saco de los datos de mercado los parametros necesarios para pricear\n",
    "\n",
    "\n",
    "CP = 'P'\n",
    "S = panel_opciones.Spot.values[K_ATM_index_df]\n",
    "#S=11.94\n",
    "K = K_ATM\n",
    "T = (TTM)/365.25\n",
    "\n",
    "sigma = panel_opciones[(panel_opciones.TTM == TTM) & (panel_opciones.CallPut == CP) & (panel_opciones.Strike == K_ATM)].impliedVolatility.values[0]\n",
    "try:\n",
    "    div = float(data.info['dividendYield'])\n",
    "except:\n",
    "    div = 0.0 \n",
    "    \n",
    "pasos = 2000\n",
    "\n",
    "\n"
   ]
  },
  {
   "cell_type": "code",
   "execution_count": 50,
   "metadata": {},
   "outputs": [],
   "source": [
    "#tasa libre de riesgo de Libor1M - https://www.global-rates.com/en/interest-rates/libor/libor.aspx\n",
    "r = 0.0009  #Libor1M**\n",
    "\n",
    "   "
   ]
  },
  {
   "cell_type": "code",
   "execution_count": 51,
   "metadata": {},
   "outputs": [
    {
     "data": {
      "text/plain": [
       "0.390203851928711"
      ]
     },
     "execution_count": 51,
     "metadata": {},
     "output_type": "execute_result"
    }
   ],
   "source": [
    "# Volatilidad sacada del dataframe\n",
    "sigma"
   ]
  },
  {
   "cell_type": "code",
   "execution_count": 52,
   "metadata": {},
   "outputs": [
    {
     "data": {
      "text/plain": [
       "0.0"
      ]
     },
     "execution_count": 52,
     "metadata": {},
     "output_type": "execute_result"
    }
   ],
   "source": [
    "# dividendo sacada de data.info\n",
    "div"
   ]
  },
  {
   "cell_type": "code",
   "execution_count": 53,
   "metadata": {},
   "outputs": [
    {
     "data": {
      "text/plain": [
       "336.95001220703125"
      ]
     },
     "execution_count": 53,
     "metadata": {},
     "output_type": "execute_result"
    }
   ],
   "source": [
    "#spot sacada de data.info\n",
    "S"
   ]
  },
  {
   "cell_type": "code",
   "execution_count": 54,
   "metadata": {},
   "outputs": [
    {
     "name": "stdout",
     "output_type": "stream",
     "text": [
      "Precio Modelo Binomial:  11.92110048356898\n",
      "Precio Modelo BS:  11.91922623425657\n",
      "Precio Mercado Last:  12.7\n",
      "Precio Mercado Avg:  12.125\n"
     ]
    }
   ],
   "source": [
    "# Llamo a los 2 pricers y comparo con el precio de mercado\n",
    "\n",
    "precio_modelo_bin = opcion_americana_bin(CP, S, K, T, r, sigma, div, pasos)\n",
    "print(\"Precio Modelo Binomial: \", precio_modelo_bin)\n",
    "\n",
    "precio_modelo_bs = opcion_europea_bs(CP, S, K, T, r, sigma, div)\n",
    "print(\"Precio Modelo BS: \", precio_modelo_bs)\n",
    "\n",
    "precio_mercado_last = panel_opciones[(panel_opciones.TTM == TTM) & (panel_opciones.CallPut == CP) & (panel_opciones.Strike == K_ATM)].Last.values[0] \n",
    "\n",
    "precio_mercado_avg = (panel_opciones[(panel_opciones.TTM == TTM) & (panel_opciones.CallPut == CP) & (panel_opciones.Strike == K_ATM)].Bid.values[0]#\n",
    "+panel_opciones[(panel_opciones.TTM == TTM) & (panel_opciones.CallPut == CP) & (panel_opciones.Strike == K_ATM)].Ask.values[0]\n",
    ")/2\n",
    "\n",
    "print(\"Precio Mercado Last: \", precio_mercado_last)\n",
    "\n",
    "print(\"Precio Mercado Avg: \", precio_mercado_avg)\n",
    "\n"
   ]
  },
  {
   "cell_type": "code",
   "execution_count": 55,
   "metadata": {},
   "outputs": [
    {
     "name": "stdout",
     "output_type": "stream",
     "text": [
      "Error relativo entre modelo y mercado (en %):  1.6971032226262284\n"
     ]
    }
   ],
   "source": [
    "#Error relativo entre valor de mercado y valor de modelo:\n",
    "\n",
    "print(\"Error relativo entre modelo y mercado (en %): \", (precio_mercado_avg-precio_modelo_bs)/precio_mercado_avg*100)"
   ]
  },
  {
   "cell_type": "markdown",
   "metadata": {},
   "source": [
    "## b) Saco una opcion del mercado y calculo su precio - BYMA\n",
    "\n",
    "\n",
    "## Ejercicio"
   ]
  }
 ],
 "metadata": {
  "kernelspec": {
   "display_name": "Python 3",
   "language": "python",
   "name": "python3"
  },
  "language_info": {
   "codemirror_mode": {
    "name": "ipython",
    "version": 3
   },
   "file_extension": ".py",
   "mimetype": "text/x-python",
   "name": "python",
   "nbconvert_exporter": "python",
   "pygments_lexer": "ipython3",
   "version": "3.8.8"
  }
 },
 "nbformat": 4,
 "nbformat_minor": 4
}
