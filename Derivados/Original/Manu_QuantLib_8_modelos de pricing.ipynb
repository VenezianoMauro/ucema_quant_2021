{
 "cells": [
  {
   "cell_type": "markdown",
   "metadata": {},
   "source": [
    "# Modelos de precio"
   ]
  },
  {
   "cell_type": "code",
   "execution_count": 1,
   "metadata": {},
   "outputs": [],
   "source": [
    "import QuantLib as ql"
   ]
  },
  {
   "cell_type": "markdown",
   "metadata": {},
   "source": [
    "En un modulo anterior vimos el Engine de BlackScholes, analicemos otros ademas. Montemos el framework en QuantLib primero"
   ]
  },
  {
   "cell_type": "code",
   "execution_count": 2,
   "metadata": {},
   "outputs": [],
   "source": [
    "precio_activo = 440 #Spot (S)\n",
    "precio_ejercicio = 450 #Strike (K)\n",
    "volatilidad = 0.3394  #Volatilidad Implicita anualizada (sigma)\n",
    "tasa_interes = 0.0013 #tasa libre de riesgo anualizada (r)\n",
    "tasa_dividendos =  0.075 #tasa de dividendos anualizada (q)"
   ]
  },
  {
   "cell_type": "code",
   "execution_count": 3,
   "metadata": {},
   "outputs": [],
   "source": [
    "#Expiracion el 16 de octubre de 2020\n",
    "fecha_expiracion = ql.Date(16, 10, 2020)\n",
    "\n",
    "#Valuacion el 16 de octubre de 2020\n",
    "fecha_valuacion = ql.Date(6, 8, 2020)\n",
    "ql.Settings.instance().evaluationDate = fecha_valuacion\n",
    "\n",
    "#Calendario y convencion de daycount\n",
    "day_count = ql.Actual365Fixed()\n",
    "calendario = ql.UnitedStates()"
   ]
  },
  {
   "cell_type": "code",
   "execution_count": 4,
   "metadata": {},
   "outputs": [],
   "source": [
    "tipo_opcion = ql.Option.Call #Tipo de opcion (CALL o PUT)\n",
    "payoff = ql.PlainVanillaPayoff(tipo_opcion, precio_ejercicio)\n",
    "ejercicio_europeo = ql.EuropeanExercise(fecha_expiracion)\n",
    "opcion_europea = ql.VanillaOption(payoff, ejercicio_europeo)"
   ]
  },
  {
   "cell_type": "code",
   "execution_count": 5,
   "metadata": {},
   "outputs": [],
   "source": [
    "S = ql.SimpleQuote(precio_activo)\n",
    "objeto_spot = ql.QuoteHandle(S)\n",
    "\n",
    "r = ql.SimpleQuote(tasa_interes)\n",
    "objeto_tasa_interes = ql.YieldTermStructureHandle(ql.FlatForward(fecha_valuacion, \n",
    "                                                            ql.QuoteHandle(r), \n",
    "                                                        day_count))\n",
    "q = ql.SimpleQuote(tasa_dividendos)\n",
    "objeto_tasa_dividendos = ql.YieldTermStructureHandle(ql.FlatForward(fecha_valuacion, \n",
    "                                                      ql.QuoteHandle(q), \n",
    "                                                      day_count))\n",
    "\n",
    "sigma = ql.SimpleQuote(volatilidad)\n",
    "objeto_volatilidad = ql.BlackVolTermStructureHandle(ql.BlackConstantVol(fecha_valuacion, \n",
    "                                                                 calendario, \n",
    "                                                                 ql.QuoteHandle(sigma), \n",
    "                                                             day_count))\n",
    "\n",
    "proceso_BSM = ql.BlackScholesMertonProcess(objeto_spot, \n",
    "                                           objeto_tasa_dividendos, \n",
    "                                           objeto_tasa_interes, \n",
    "                                           objeto_volatilidad)"
   ]
  },
  {
   "cell_type": "markdown",
   "metadata": {},
   "source": [
    "Ahora que tenemos el proceso armado llego finalmente la hora de elegir un modelo para poner precio y hallarlo. \n",
    "\n",
    "Para esto necesitamos 3 ingredientes:\n",
    "\n",
    "1) La opcion (en nuestro ejemplo `opcion_europea`)\n",
    "\n",
    "2) El proceso (en nuestro ejemplo `proceso_BSM`)\n",
    "\n",
    "3) El modelo (Engine)\n",
    "\n",
    "Al objeto opcion que es parte de `instrument`, le aplico el metodo `setPricingEngine`"
   ]
  },
  {
   "cell_type": "markdown",
   "metadata": {},
   "source": [
    "Quantlib ofrece una libreria muy extensa de modelos de pricing para Opciones. En este tipo de cosas reside el poder de QuantLib. Estos son los modelos existentes en QuantLib\n",
    "\n",
    "`VarianceGammaEngine`, `FFTEngine`, `FFTVanillaEngine`, `FFTVarianceGammaEngine`, `AnalyticBSMHullWhiteEngine`, `AnalyticDigitalAmericanEngine`, `AnalyticDigitalAmericanKOEngine`, `AnalyticDividendEuropeanEngine`, `AnalyticEuropeanEngine`, `AnalyticH1HWEngine`, `AnalyticHestonEngine`, `AnalyticHestonHullWhiteEngine`, `AnalyticPTDHestonEngine`, `BaroneAdesiWhaleyApproximationEngine`, `BatesEngine`, `BinomialVanillaEngine`, `BjerksundStenslandApproximationEngine`, `COSHestonEngine`, `FdBatesVanillaEngine`, `FDBermudanEngine`, `FDDividendEngineMerton73`, `FDDividendEngineShiftScale`, `FDDividendShoutEngine`, `FdHestonHullWhiteVanillaEngine`, `FDShoutEngine`, `FDStepConditionEngine`, `FDVanillaEngine`, `HestonExpansionEngine`, `IntegralEngine`, `JumpDiffusionEngine`, `JuQuadraticApproximationEngine`, `MCAmericanEngine`, `MCDigitalEngine`, `MCEuropeanEngine`, `MCEuropeanGJRGARCHEngine`, `MCEuropeanHestonEngine`, `MCVanillaEngine`,\n"
   ]
  },
  {
   "cell_type": "markdown",
   "metadata": {},
   "source": [
    "Veamos cuatro de estos modelos, que suelen ser los primeros que uno ve cuando estudia valuacion de opciones:\n",
    "* Analitico - Formula cerrada, Black Scholes propiamente dicho\n",
    "* Diferencias Finitas - Resolucion de la ecuacion diferencial de Black Sholes\n",
    "* Montecarlo - Simulaciones del proceso de BSM y promedio descontado\n",
    "* Binomial - Arbol Binomial de un proceso que en el limite tiende al proceso de BSM\n",
    "\n",
    "La clase `VanillaOption` tiene los siguientes posibles salidas: `NPV()` - este nos dara el Net  Present Value del contrato; `errorEstimate()` - este nos dara informacion de estimacion si usamos un modelo de aproximacion."
   ]
  },
  {
   "cell_type": "markdown",
   "metadata": {},
   "source": [
    "## Modelo (Black Scholes) [`AnalyticEuropeanEngine`]"
   ]
  },
  {
   "cell_type": "code",
   "execution_count": 6,
   "metadata": {},
   "outputs": [
    {
     "name": "stdout",
     "output_type": "stream",
     "text": [
      "El precio teorico usando el modelo de BS es:  19.018046859717114\n"
     ]
    }
   ],
   "source": [
    "modelo_BS = ql.AnalyticEuropeanEngine(proceso_BSM)\n",
    "\n",
    "opcion_europea.setPricingEngine(modelo_BS)\n",
    "\n",
    "precio_opcion_BS = opcion_europea.NPV()\n",
    "\n",
    "print(\"El precio teorico usando el modelo de BS es: \", precio_opcion_BS)"
   ]
  },
  {
   "cell_type": "markdown",
   "metadata": {},
   "source": [
    "En el caso de la formula Analitica, QuantLib ofrece la posibilidad de extraer varias sensibilidades (griegas) de la opcion. Entre ellos: `delta()`,  `vega()`, `rho() `, `dividendRho()`, `theta()`, `thetaPerDay()`, `strikeSensitivity()`, `gamma()`, `elasticity()`.\n"
   ]
  },
  {
   "cell_type": "code",
   "execution_count": 7,
   "metadata": {},
   "outputs": [],
   "source": [
    "delta_BS = opcion_europea.delta()\n",
    "vega_BS = opcion_europea.vega()\n",
    "rho_BS = opcion_europea.rho() \n",
    "div_rho_BS = opcion_europea.dividendRho()\n",
    "theta_BS = opcion_europea.theta()\n",
    "thetaPD_BS = opcion_europea.thetaPerDay()\n",
    "strike_greek_BS = opcion_europea.strikeSensitivity()\n",
    "\n",
    "gamma_BS = opcion_europea.gamma()\n",
    "elasticity_BS = opcion_europea.elasticity()"
   ]
  },
  {
   "cell_type": "markdown",
   "metadata": {},
   "source": [
    "Aqui mostramos las griegas obtenidas"
   ]
  },
  {
   "cell_type": "code",
   "execution_count": 8,
   "metadata": {},
   "outputs": [
    {
     "name": "stdout",
     "output_type": "stream",
     "text": [
      "Delta:  0.4258321048466277\n",
      "Vega: 75.18926359141635\n",
      "Rho:  32.74716062566774\n",
      "dividendRho:  -36.446561521667505\n",
      "Theta:  -51.76161250063861\n",
      "Theta_PD:  -0.141812636988051\n",
      "strikeSensitivity:  -0.374106842828442\n",
      "Gamma:  0.0058826519800777724\n",
      "Elasticity 9.852017271520342\n"
     ]
    }
   ],
   "source": [
    "print(\"Delta: \", delta_BS)\n",
    "print(\"Vega:\", vega_BS)\n",
    "print(\"Rho: \", rho_BS)\n",
    "print(\"dividendRho: \", div_rho_BS)\n",
    "print(\"Theta: \", theta_BS)\n",
    "print(\"Theta_PD: \", thetaPD_BS)\n",
    "print(\"strikeSensitivity: \", strike_greek_BS)\n",
    "\n",
    "print(\"Gamma: \", gamma_BS)\n",
    "print(\"Elasticity\", elasticity_BS)"
   ]
  },
  {
   "cell_type": "markdown",
   "metadata": {},
   "source": [
    "## Modelo de  Diferencias Finitas [ `FdBlackScholesVanillaEngine` ]"
   ]
  },
  {
   "cell_type": "markdown",
   "metadata": {},
   "source": [
    "Al Engine de Diferencias Finitas se le puede indicar el esquema de diferencias finitas a utilizar en el input `schemeDesc`:\n",
    "\n",
    "* `Hundsdorfer`\n",
    "* `Douglas`\n",
    "* `CraigSneyd`\n",
    "* `ModifiedCraigSneyd`\n",
    "* `ImplicitEuler`\n",
    "* `ExplicitEuler`\n",
    "* `MethodOfLines`\n",
    " \n",
    "Tambine se puede determinar el tamaño de la grilla con `tGrid` y `xGrid` y `dampingSteps`"
   ]
  },
  {
   "cell_type": "code",
   "execution_count": 9,
   "metadata": {},
   "outputs": [
    {
     "name": "stdout",
     "output_type": "stream",
     "text": [
      "El precio teorico usando el modelo de Dif. Finitas es:  19.0258645465868\n"
     ]
    }
   ],
   "source": [
    "tGrid = 100\n",
    "xGrid = 100\n",
    "dampingSteps = 0\n",
    "esquema_df = ql.FdmSchemeDesc.MethodOfLines()\n",
    "\n",
    "modelo_DF = ql.FdBlackScholesVanillaEngine(proceso_BSM, \n",
    "                                           tGrid, \n",
    "                                           xGrid,\n",
    "                                           dampingSteps,\n",
    "                                           esquema_df)\n",
    "\n",
    "opcion_europea.setPricingEngine(modelo_DF)\n",
    "\n",
    "precio_opcion_DF = opcion_europea.NPV()\n",
    "\n",
    "print(\"El precio teorico usando el modelo de Dif. Finitas es: \", precio_opcion_DF)"
   ]
  },
  {
   "cell_type": "markdown",
   "metadata": {},
   "source": [
    "En el caso del modelo de Diferencias Finitas QuantLib ofrece la posibilidad de extraer tres greigas: `delta()`,  `theta()`, `gamma()`."
   ]
  },
  {
   "cell_type": "code",
   "execution_count": 10,
   "metadata": {},
   "outputs": [
    {
     "name": "stdout",
     "output_type": "stream",
     "text": [
      "Delta:  0.4261266324203341\n",
      "Theta:  -52.02236667561396\n",
      "Gamma:  0.005887125208638206\n"
     ]
    }
   ],
   "source": [
    "\n",
    "delta_DF = opcion_europea.delta()\n",
    "theta_DF = opcion_europea.theta()\n",
    "\n",
    "gamma_DF = opcion_europea.gamma()\n",
    "\n",
    "print(\"Delta: \", delta_DF)\n",
    "print(\"Theta: \", theta_DF)\n",
    "\n",
    "print(\"Gamma: \", gamma_DF)\n",
    "\n"
   ]
  },
  {
   "cell_type": "code",
   "execution_count": null,
   "metadata": {},
   "outputs": [],
   "source": []
  },
  {
   "cell_type": "markdown",
   "metadata": {},
   "source": [
    "## Modelo de Montecarlo [ `MCEuropeanEngine` ]\n",
    "\n"
   ]
  },
  {
   "cell_type": "markdown",
   "metadata": {},
   "source": [
    "El Engine de MonteCarlo pide como entrada:\n",
    "* Forma de generacion de numeros aleaorios [necesario]\n",
    "* paso del tiempo (timeSteps) o pasos de tiempo por año (timeStepsPerYear)\n",
    "* cantidad de caminos (requiredSamples)\n",
    "* tolerancia (requiredTolerance)\n",
    "* maximo de caminos (maxSamples)\n",
    "* semilla de generador de numeros aleatorios (seed)\n",
    "\n",
    "\n"
   ]
  },
  {
   "cell_type": "code",
   "execution_count": 11,
   "metadata": {},
   "outputs": [
    {
     "name": "stdout",
     "output_type": "stream",
     "text": [
      "El precio teorico usando el modelo de MonteCarlo es:  19.05382395826194\n"
     ]
    }
   ],
   "source": [
    "generador_numeros_aleatorios = \"PseudoRandom\" \n",
    "\n",
    "#generador_numeros_aleatorios = \"MersenneTwisterUniformRng\"\n",
    "\n",
    "pasos_tiempo=20\n",
    "caminos = 500000\n",
    "modelo_MC = ql.MCEuropeanEngine(proceso_BSM, \n",
    "                                generador_numeros_aleatorios, \n",
    "                                timeSteps = pasos_tiempo,\n",
    "                                requiredSamples = caminos)\n",
    "\n",
    "opcion_europea.setPricingEngine(modelo_MC)\n",
    "\n",
    "precio_opcion_MC = opcion_europea.NPV()\n",
    "\n",
    "print(\"El precio teorico usando el modelo de MonteCarlo es: \",  precio_opcion_MC)"
   ]
  },
  {
   "cell_type": "markdown",
   "metadata": {},
   "source": [
    "Como es sabido, un gran deficit del metodo de MonteCarlo es la obtencion de griegas. En este caso QuantLib no provee metodos de obtencion de griegas\n",
    "\n",
    "Lo que si ofrece como salida es el metodo `errorEstimate()`, que describe el error del metodo de Montecarlo.\n",
    "\n"
   ]
  },
  {
   "cell_type": "code",
   "execution_count": 12,
   "metadata": {},
   "outputs": [
    {
     "name": "stdout",
     "output_type": "stream",
     "text": [
      "Error del metodo de MonteCarlo:  0.051012461987428974\n"
     ]
    }
   ],
   "source": [
    "error_MC = opcion_europea.errorEstimate()\n",
    "print(\"Error del metodo de MonteCarlo: \", error_MC)\n"
   ]
  },
  {
   "cell_type": "markdown",
   "metadata": {},
   "source": [
    "## Modelo del Arbol Binomial [ `BinomialVanillaEngine`]"
   ]
  },
  {
   "cell_type": "markdown",
   "metadata": {},
   "source": [
    "El Engine Binomial pide como entrada un modelo de arbol. QuantLib soporta, entre otros los siguientes:\n",
    "\n",
    "* CRR / CoxRossRubinstein\n",
    "\n",
    "* JOSHI / Joshi4\n",
    "\n",
    "* JR / JarrowRudd \n",
    "\n",
    "* LR / LeisenReimer\n",
    "\n",
    "* TIAN / Tian \n",
    "\n",
    "* TRI / Trigeorgis \n",
    "\n",
    "Por ultimo, pide como entrada la cantidad de pasos del arbol como tercer parametro.\n"
   ]
  },
  {
   "cell_type": "code",
   "execution_count": 13,
   "metadata": {},
   "outputs": [
    {
     "name": "stdout",
     "output_type": "stream",
     "text": [
      "El precio teorico usando el modelo Binomial es:  18.99545340064186\n"
     ]
    }
   ],
   "source": [
    "#por ejemplo, usamos el modelo de Leisner Reimer\n",
    "\n",
    "modelo_arbol = 'LR'\n",
    "cant_pasos_arbol = 1000\n",
    "\n",
    "modelo_Bin = ql.BinomialVanillaEngine(proceso_BSM, \n",
    "                                      modelo_arbol, \n",
    "                                      cant_pasos_arbol)\n",
    "\n",
    "opcion_europea.setPricingEngine(modelo_Bin)\n",
    "\n",
    "precio_opcion_Bin = opcion_europea.NPV()\n",
    "\n",
    "print(\"El precio teorico usando el modelo Binomial es: \",  precio_opcion_Bin)"
   ]
  },
  {
   "cell_type": "markdown",
   "metadata": {},
   "source": [
    "En el caso del modelo Binomial, al igual que el el caso de Diferencias finitas, QuantLib ofrece la posibilidad de extraer tres greigas: `delta()`,  `theta()`, `gamma()`."
   ]
  },
  {
   "cell_type": "code",
   "execution_count": 14,
   "metadata": {},
   "outputs": [
    {
     "name": "stdout",
     "output_type": "stream",
     "text": [
      "Delta:  0.4258059821803505\n",
      "Theta:  -51.858632977833054\n",
      "Gamma:  0.0058912742805174645\n"
     ]
    }
   ],
   "source": [
    "delta_Bin = opcion_europea.delta()\n",
    "theta_Bin = opcion_europea.theta()\n",
    "\n",
    "gamma_Bin = opcion_europea.gamma()\n",
    "\n",
    "\n",
    "print(\"Delta: \", delta_Bin)\n",
    "print(\"Theta: \", theta_Bin)\n",
    "print(\"Gamma: \", gamma_Bin)\n"
   ]
  },
  {
   "cell_type": "markdown",
   "metadata": {},
   "source": [
    "## Black - Vasicek - tests\n"
   ]
  },
  {
   "cell_type": "code",
   "execution_count": 36,
   "metadata": {},
   "outputs": [
    {
     "name": "stdout",
     "output_type": "stream",
     "text": [
      "Heston:  13.201860317929999\n"
     ]
    }
   ],
   "source": [
    "\n",
    "method = \"Heston semi-analytic\"\n",
    "\n",
    "precio_activo = 440 #Spot (S)\n",
    "precio_ejercicio = 450 #Strike (K)\n",
    "volatilidad = 0.3394  #Volatilidad Implicita anualizada (sigma)\n",
    "tasa_interes = 0.0013 #tasa libre de riesgo anualizada (r)\n",
    "tasa_dividendos =  0.075 #tasa de dividendos anualizada (q)\n",
    "\n",
    "\n",
    "#riskFreeTS = ql.YieldTermStructureHandle(ql.FlatForward(today, 0.05, ql.Actual365Fixed()))\n",
    "#dividendTS = ql.YieldTermStructureHandle(ql.FlatForward(today, 0.01, ql.Actual365Fixed()))\n",
    "\n",
    "initialValue = ql.QuoteHandle(ql.SimpleQuote(100))\n",
    "v0 = 0.05\n",
    "kappa = 10\n",
    "theta = 0.08\n",
    "rho = 0.51\n",
    "\n",
    "hestonProcess = ql.HestonProcess(objeto_tasa_interes, \n",
    "                                 objeto_tasa_dividendos, \n",
    "                                 objeto_spot, \n",
    "                                 v0, \n",
    "                                 kappa, \n",
    "                                 theta, \n",
    "                                 volatilidad, \n",
    "                                 rho)\n",
    "\n",
    "hestonModel = ql.HestonModel(hestonProcess)\n",
    "\n",
    "\n",
    "modelo_heston = ql.AnalyticHestonEngine(hestonModel)\n",
    "\n",
    "\n",
    "\n",
    "\n",
    "opcion_europea.setPricingEngine(modelo_heston)\n",
    "    \n",
    "print(\"Heston: \", opcion_europea.NPV())"
   ]
  },
  {
   "cell_type": "markdown",
   "metadata": {},
   "source": [
    "## Extracto C++ para Heston"
   ]
  },
  {
   "cell_type": "code",
   "execution_count": null,
   "metadata": {},
   "outputs": [],
   "source": [
    "\n",
    "\n",
    "        std::vector<Date> exerciseDates;\n",
    "        for (Integer i=1; i<=4; i++)\n",
    "            exerciseDates.push_back(settlementDate + 3*i*Months);\n",
    "\n",
    "        ext::shared_ptr<Exercise> europeanExercise(\n",
    "                                         new EuropeanExercise(maturity));\n",
    "\n",
    "        ext::shared_ptr<Exercise> bermudanExercise(\n",
    "                                         new BermudanExercise(exerciseDates));\n",
    "\n",
    "        ext::shared_ptr<Exercise> americanExercise(\n",
    "                                         new AmericanExercise(settlementDate,\n",
    "                                                              maturity));\n",
    "\n",
    "        Handle<Quote> underlyingH(\n",
    "            ext::shared_ptr<Quote>(new SimpleQuote(underlying)));\n",
    "\n",
    "        // bootstrap the yield/dividend/vol curves\n",
    "        Handle<YieldTermStructure> flatTermStructure(\n",
    "            ext::shared_ptr<YieldTermStructure>(\n",
    "                new FlatForward(settlementDate, riskFreeRate, dayCounter)));\n",
    "        Handle<YieldTermStructure> flatDividendTS(\n",
    "            ext::shared_ptr<YieldTermStructure>(\n",
    "                new FlatForward(settlementDate, dividendYield, dayCounter)));\n",
    "        Handle<BlackVolTermStructure> flatVolTS(\n",
    "            ext::shared_ptr<BlackVolTermStructure>(\n",
    "                new BlackConstantVol(settlementDate, calendar, volatility,\n",
    "                                     dayCounter)));\n",
    "        ext::shared_ptr<StrikedTypePayoff> payoff(\n",
    "                                        new PlainVanillaPayoff(type, strike));\n",
    "        ext::shared_ptr<BlackScholesMertonProcess> bsmProcess(\n",
    "                 new BlackScholesMertonProcess(underlyingH, flatDividendTS,\n",
    "                                               flatTermStructure, flatVolTS));\n",
    "\n",
    "        // options\n",
    "        VanillaOption europeanOption(payoff, europeanExercise);\n",
    "        VanillaOption bermudanOption(payoff, bermudanExercise);\n",
    "        VanillaOption americanOption(payoff, americanExercise);\n",
    "\n",
    "        // Analytic formulas:\n",
    "\n",
    "        // Black-Scholes for European\n",
    "        method = \"Black-Scholes\";\n",
    "        europeanOption.setPricingEngine(ext::shared_ptr<PricingEngine>(\n",
    "                                     new AnalyticEuropeanEngine(bsmProcess)));\n",
    "        std::cout << std::setw(widths[0]) << std::left << method\n",
    "                  << std::fixed\n",
    "                  << std::setw(widths[1]) << std::left << europeanOption.NPV()\n",
    "                  << std::setw(widths[2]) << std::left << \"N/A\"\n",
    "                  << std::setw(widths[3]) << std::left << \"N/A\"\n",
    "                  << std::endl;\n",
    "\n",
    "        //Vasicek rates model for European\n",
    "        method = \"Black Vasicek Model\";\n",
    "        Real r0 = riskFreeRate;\n",
    "        Real a = 0.3;\n",
    "        Real b = 0.3;\n",
    "        Real sigma_r = 0.15;\n",
    "        Real riskPremium = 0.0;\n",
    "        Real correlation = 0.5;\n",
    "        ext::shared_ptr<Vasicek> vasicekProcess(new Vasicek(r0, a, b, sigma_r, riskPremium));\n",
    "        europeanOption.setPricingEngine(ext::shared_ptr<PricingEngine>(\n",
    "                new AnalyticBlackVasicekEngine(bsmProcess, vasicekProcess, correlation)));\n",
    "        std::cout << std::setw(widths[0]) << std::left << method\n",
    "                  << std::fixed\n",
    "                  << std::setw(widths[1]) << std::left << europeanOption.NPV()\n",
    "                  << std::setw(widths[2]) << std::left << \"N/A\"\n",
    "                  << std::setw(widths[3]) << std::left << \"N/A\"\n",
    "                  << std::endl;\n",
    "\n",
    "        // semi-analytic Heston for European\n",
    "        method = \"Heston semi-analytic\";\n",
    "        ext::shared_ptr<HestonProcess> hestonProcess(\n",
    "            new HestonProcess(flatTermStructure, flatDividendTS,\n",
    "                              underlyingH, volatility*volatility,\n",
    "                              1.0, volatility*volatility, 0.001, 0.0));\n",
    "        ext::shared_ptr<HestonModel> hestonModel(\n",
    "                                              new HestonModel(hestonProcess));\n",
    "        europeanOption.setPricingEngine(ext::shared_ptr<PricingEngine>(\n",
    "                                     new AnalyticHestonEngine(hestonModel)));\n",
    "        std::cout << std::setw(widths[0]) << std::left << method\n",
    "                  << std::fixed\n",
    "                  << std::setw(widths[1]) << std::left << europeanOption.NPV()\n",
    "                  << std::setw(widths[2]) << std::left << \"N/A\"\n",
    "                  << std::setw(widths[3]) << std::left << \"N/A\"\n",
    "                  << std::endl;\n",
    "\n",
    "        // semi-analytic Bates for European\n",
    "        method = \"Bates semi-analytic\";\n",
    "        ext::shared_ptr<BatesProcess> batesProcess(\n",
    "            new BatesProcess(flatTermStructure, flatDividendTS,\n",
    "                             underlyingH, volatility*volatility,\n",
    "                             1.0, volatility*volatility, 0.001, 0.0,\n",
    "                             1e-14, 1e-14, 1e-14));\n",
    "        ext::shared_ptr<BatesModel> batesModel(new BatesModel(batesProcess));\n",
    "        europeanOption.setPricingEngine(ext::shared_ptr<PricingEngine>(\n",
    "                                                new BatesEngine(batesModel)));\n",
    "        std::cout << std::setw(widths[0]) << std::left << method\n",
    "                  << std::fixed\n",
    "                  << std::setw(widths[1]) << std::left << europeanOption.NPV()\n",
    "                  << std::setw(widths[2]) << std::left << \"N/A\"\n",
    "                  << std::setw(widths[3]) << std::left << \"N/A\"\n",
    "                  << std::endl;\n",
    "\n",
    "        // Barone-Adesi and Whaley approximation for American\n",
    "        method = \"Barone-Adesi/Whaley\";\n",
    "        americanOption.setPricingEngine(ext::shared_ptr<PricingEngine>(\n",
    "                       new BaroneAdesiWhaleyApproximationEngine(bsmProcess)));\n",
    "        std::cout << std::setw(widths[0]) << std::left << method\n",
    "                  << std::fixed\n",
    "                  << std::setw(widths[1]) << std::left << \"N/A\"\n",
    "                  << std::setw(widths[2]) << std::left << \"N/A\"\n",
    "                  << std::setw(widths[3]) << std::left << americanOption.NPV()\n",
    "                  << std::endl;\n",
    "\n",
    "        // Bjerksund and Stensland approximation for American\n",
    "        method = \"Bjerksund/Stensland\";\n",
    "        americanOption.setPricingEngine(ext::shared_ptr<PricingEngine>(\n",
    "                      new BjerksundStenslandApproximationEngine(bsmProcess)));\n",
    "        std::cout << std::setw(widths[0]) << std::left << method\n",
    "                  << std::fixed\n",
    "                  << std::setw(widths[1]) << std::left << \"N/A\"\n",
    "                  << std::setw(widths[2]) << std::left << \"N/A\"\n",
    "                  << std::setw(widths[3]) << std::left << americanOption.NPV()\n",
    "                  << std::endl;\n",
    "\n",
    "        // Integral\n",
    "        method = \"Integral\";\n",
    "        europeanOption.setPricingEngine(ext::shared_ptr<PricingEngine>(\n",
    "                                             new IntegralEngine(bsmProcess)));\n",
    "        std::cout << std::setw(widths[0]) << std::left << method\n",
    "                  << std::fixed\n",
    "                  << std::setw(widths[1]) << std::left << europeanOption.NPV()\n",
    "                  << std::setw(widths[2]) << std::left << \"N/A\"\n",
    "                  << std::setw(widths[3]) << std::left << \"N/A\"\n",
    "                  << std::endl;\n",
    "\n",
    "        // Finite differences\n",
    "        Size timeSteps = 801;\n",
    "        method = \"Finite differences\";\n",
    "        ext::shared_ptr<PricingEngine> fdengine =\n",
    "            ext::make_shared<FdBlackScholesVanillaEngine>(bsmProcess,\n",
    "                                                          timeSteps,\n",
    "                                                          timeSteps-1);\n",
    "        europeanOption.setPricingEngine(fdengine);\n",
    "        bermudanOption.setPricingEngine(fdengine);\n",
    "        americanOption.setPricingEngine(fdengine);\n",
    "        std::cout << std::setw(widths[0]) << std::left << method\n",
    "                  << std::fixed\n",
    "                  << std::setw(widths[1]) << std::left << europeanOption.NPV()\n",
    "                  << std::setw(widths[2]) << std::left << bermudanOption.NPV()\n",
    "                  << std::setw(widths[3]) << std::left << americanOption.NPV()\n",
    "                  << std::endl;\n",
    "\n",
    "        // Binomial method: Jarrow-Rudd\n",
    "        method = \"Binomial Jarrow-Rudd\";\n",
    "        europeanOption.setPricingEngine(ext::shared_ptr<PricingEngine>(\n",
    "                new BinomialVanillaEngine<JarrowRudd>(bsmProcess,timeSteps)));\n",
    "        bermudanOption.setPricingEngine(ext::shared_ptr<PricingEngine>(\n",
    "                new BinomialVanillaEngine<JarrowRudd>(bsmProcess,timeSteps)));\n",
    "        americanOption.setPricingEngine(ext::shared_ptr<PricingEngine>(\n",
    "                new BinomialVanillaEngine<JarrowRudd>(bsmProcess,timeSteps)));\n",
    "        std::cout << std::setw(widths[0]) << std::left << method\n",
    "                  << std::fixed\n",
    "                  << std::setw(widths[1]) << std::left << europeanOption.NPV()\n",
    "                  << std::setw(widths[2]) << std::left << bermudanOption.NPV()\n",
    "                  << std::setw(widths[3]) << std::left << americanOption.NPV()\n",
    "                  << std::endl;\n",
    "        method = \"Binomial Cox-Ross-Rubinstein\";\n",
    "        europeanOption.setPricingEngine(ext::shared_ptr<PricingEngine>(\n",
    "                      new BinomialVanillaEngine<CoxRossRubinstein>(bsmProcess,\n",
    "                                                                   timeSteps)));\n",
    "        bermudanOption.setPricingEngine(ext::shared_ptr<PricingEngine>(\n",
    "                      new BinomialVanillaEngine<CoxRossRubinstein>(bsmProcess,\n",
    "                                                                   timeSteps)));\n",
    "        americanOption.setPricingEngine(ext::shared_ptr<PricingEngine>(\n",
    "                      new BinomialVanillaEngine<CoxRossRubinstein>(bsmProcess,\n",
    "                                                                   timeSteps)));\n",
    "        std::cout << std::setw(widths[0]) << std::left << method\n",
    "                  << std::fixed\n",
    "                  << std::setw(widths[1]) << std::left << europeanOption.NPV()\n",
    "                  << std::setw(widths[2]) << std::left << bermudanOption.NPV()\n",
    "                  << std::setw(widths[3]) << std::left << americanOption.NPV()\n",
    "                  << std::endl;\n",
    "\n",
    "        // Binomial method: Additive equiprobabilities\n",
    "        method = \"Additive equiprobabilities\";\n",
    "        europeanOption.setPricingEngine(ext::shared_ptr<PricingEngine>(\n",
    "                new BinomialVanillaEngine<AdditiveEQPBinomialTree>(bsmProcess,\n",
    "                                                                   timeSteps)));\n",
    "        bermudanOption.setPricingEngine(ext::shared_ptr<PricingEngine>(\n",
    "                new BinomialVanillaEngine<AdditiveEQPBinomialTree>(bsmProcess,\n",
    "                                                                   timeSteps)));\n",
    "        americanOption.setPricingEngine(ext::shared_ptr<PricingEngine>(\n",
    "                new BinomialVanillaEngine<AdditiveEQPBinomialTree>(bsmProcess,\n",
    "                                                                   timeSteps)));\n",
    "        std::cout << std::setw(widths[0]) << std::left << method\n",
    "                  << std::fixed\n",
    "                  << std::setw(widths[1]) << std::left << europeanOption.NPV()\n",
    "                  << std::setw(widths[2]) << std::left << bermudanOption.NPV()\n",
    "                  << std::setw(widths[3]) << std::left << americanOption.NPV()\n",
    "                  << std::endl;\n",
    "\n",
    "        // Binomial method: Binomial Trigeorgis\n",
    "        method = \"Binomial Trigeorgis\";\n",
    "        europeanOption.setPricingEngine(ext::shared_ptr<PricingEngine>(\n",
    "                new BinomialVanillaEngine<Trigeorgis>(bsmProcess,timeSteps)));\n",
    "        bermudanOption.setPricingEngine(ext::shared_ptr<PricingEngine>(\n",
    "                new BinomialVanillaEngine<Trigeorgis>(bsmProcess,timeSteps)));\n",
    "        americanOption.setPricingEngine(ext::shared_ptr<PricingEngine>(\n",
    "                new BinomialVanillaEngine<Trigeorgis>(bsmProcess,timeSteps)));\n",
    "        std::cout << std::setw(widths[0]) << std::left << method\n",
    "                  << std::fixed\n",
    "                  << std::setw(widths[1]) << std::left << europeanOption.NPV()\n",
    "                  << std::setw(widths[2]) << std::left << bermudanOption.NPV()\n",
    "                  << std::setw(widths[3]) << std::left << americanOption.NPV()\n",
    "                  << std::endl;\n",
    "\n",
    "        // Binomial method: Binomial Tian\n",
    "        method = \"Binomial Tian\";\n",
    "        europeanOption.setPricingEngine(ext::shared_ptr<PricingEngine>(\n",
    "                      new BinomialVanillaEngine<Tian>(bsmProcess,timeSteps)));\n",
    "        bermudanOption.setPricingEngine(ext::shared_ptr<PricingEngine>(\n",
    "                      new BinomialVanillaEngine<Tian>(bsmProcess,timeSteps)));\n",
    "        americanOption.setPricingEngine(ext::shared_ptr<PricingEngine>(\n",
    "                      new BinomialVanillaEngine<Tian>(bsmProcess,timeSteps)));\n",
    "        std::cout << std::setw(widths[0]) << std::left << method\n",
    "                  << std::fixed\n",
    "                  << std::setw(widths[1]) << std::left << europeanOption.NPV()\n",
    "                  << std::setw(widths[2]) << std::left << bermudanOption.NPV()\n",
    "                  << std::setw(widths[3]) << std::left << americanOption.NPV()\n",
    "                  << std::endl;\n",
    "\n",
    "        // Binomial method: Binomial Leisen-Reimer\n",
    "        method = \"Binomial Leisen-Reimer\";\n",
    "        europeanOption.setPricingEngine(ext::shared_ptr<PricingEngine>(\n",
    "              new BinomialVanillaEngine<LeisenReimer>(bsmProcess,timeSteps)));\n",
    "        bermudanOption.setPricingEngine(ext::shared_ptr<PricingEngine>(\n",
    "              new BinomialVanillaEngine<LeisenReimer>(bsmProcess,timeSteps)));\n",
    "        americanOption.setPricingEngine(ext::shared_ptr<PricingEngine>(\n",
    "              new BinomialVanillaEngine<LeisenReimer>(bsmProcess,timeSteps)));\n",
    "        std::cout << std::setw(widths[0]) << std::left << method\n",
    "                  << std::fixed\n",
    "                  << std::setw(widths[1]) << std::left << europeanOption.NPV()\n",
    "                  << std::setw(widths[2]) << std::left << bermudanOption.NPV()\n",
    "                  << std::setw(widths[3]) << std::left << americanOption.NPV()\n",
    "                  << std::endl;\n",
    "\n",
    "        // Binomial method: Binomial Joshi\n",
    "        method = \"Binomial Joshi\";\n",
    "        europeanOption.setPricingEngine(ext::shared_ptr<PricingEngine>(\n",
    "                    new BinomialVanillaEngine<Joshi4>(bsmProcess,timeSteps)));\n",
    "        bermudanOption.setPricingEngine(ext::shared_ptr<PricingEngine>(\n",
    "                    new BinomialVanillaEngine<Joshi4>(bsmProcess,timeSteps)));\n",
    "        americanOption.setPricingEngine(ext::shared_ptr<PricingEngine>(\n",
    "                    new BinomialVanillaEngine<Joshi4>(bsmProcess,timeSteps)));\n",
    "        std::cout << std::setw(widths[0]) << std::left << method\n",
    "                  << std::fixed\n",
    "                  << std::setw(widths[1]) << std::left << europeanOption.NPV()\n",
    "                  << std::setw(widths[2]) << std::left << bermudanOption.NPV()\n",
    "                  << std::setw(widths[3]) << std::left << americanOption.NPV()\n",
    "                  << std::endl;\n",
    "\n",
    "        // Monte Carlo Method: MC (crude)\n",
    "        timeSteps = 1;\n",
    "        method = \"MC (crude)\";\n",
    "        Size mcSeed = 42;\n",
    "        ext::shared_ptr<PricingEngine> mcengine1;\n",
    "        mcengine1 = MakeMCEuropeanEngine<PseudoRandom>(bsmProcess)\n",
    "            .withSteps(timeSteps)\n",
    "            .withAbsoluteTolerance(0.02)\n",
    "            .withSeed(mcSeed);\n",
    "        europeanOption.setPricingEngine(mcengine1);\n",
    "        // Real errorEstimate = europeanOption.errorEstimate();\n",
    "        std::cout << std::setw(widths[0]) << std::left << method\n",
    "                  << std::fixed\n",
    "                  << std::setw(widths[1]) << std::left << europeanOption.NPV()\n",
    "                  << std::setw(widths[2]) << std::left << \"N/A\"\n",
    "                  << std::setw(widths[3]) << std::left << \"N/A\"\n",
    "                  << std::endl;\n",
    "\n",
    "        // Monte Carlo Method: QMC (Sobol)\n",
    "        method = \"QMC (Sobol)\";\n",
    "        Size nSamples = 32768;  // 2^15\n",
    "\n",
    "        ext::shared_ptr<PricingEngine> mcengine2;\n",
    "        mcengine2 = MakeMCEuropeanEngine<LowDiscrepancy>(bsmProcess)\n",
    "            .withSteps(timeSteps)\n",
    "            .withSamples(nSamples);\n",
    "        europeanOption.setPricingEngine(mcengine2);\n",
    "        std::cout << std::setw(widths[0]) << std::left << method\n",
    "                  << std::fixed\n",
    "                  << std::setw(widths[1]) << std::left << europeanOption.NPV()\n",
    "                  << std::setw(widths[2]) << std::left << \"N/A\"\n",
    "                  << std::setw(widths[3]) << std::left << \"N/A\"\n",
    "                  << std::endl;\n",
    "\n",
    "        // Monte Carlo Method: MC (Longstaff Schwartz)\n",
    "        method = \"MC (Longstaff Schwartz)\";\n",
    "        ext::shared_ptr<PricingEngine> mcengine3;\n",
    "        mcengine3 = MakeMCAmericanEngine<PseudoRandom>(bsmProcess)\n",
    "            .withSteps(100)\n",
    "            .withAntitheticVariate()\n",
    "            .withCalibrationSamples(4096)\n",
    "            .withAbsoluteTolerance(0.02)\n",
    "            .withSeed(mcSeed);\n",
    "        americanOption.setPricingEngine(mcengine3);\n",
    "        std::cout << std::setw(widths[0]) << std::left << method\n",
    "                  << std::fixed\n",
    "                  << std::setw(widths[1]) << std::left << \"N/A\"\n",
    "                  << std::setw(widths[2]) << std::left << \"N/A\"\n",
    "                  << std::setw(widths[3]) << std::left << americanOption.NPV()\n",
    "                  << std::endl;\n",
    "\n",
    "        // End test\n",
    "        return 0;\n",
    "\n",
    "    } catch (std::exception& e) {\n",
    "        std::cerr << e.what() << std::endl;\n",
    "        return 1;\n",
    "    } catch (...) {\n",
    "        std::cerr << \"unknown error\" << std::endl;\n",
    "        return 1;\n",
    "    }\n",
    "}\n",
    "© 2020 GitHub, Inc.\n",
    "Terms\n",
    "Privacy\n",
    "Security\n",
    "Status\n",
    "Help\n",
    "Contact GitHub\n",
    "Pricing\n",
    "API\n",
    "Training\n",
    "Blog\n",
    "About\n"
   ]
  },
  {
   "cell_type": "code",
   "execution_count": null,
   "metadata": {},
   "outputs": [],
   "source": []
  }
 ],
 "metadata": {
  "kernelspec": {
   "display_name": "Python 3",
   "language": "python",
   "name": "python3"
  },
  "language_info": {
   "codemirror_mode": {
    "name": "ipython",
    "version": 3
   },
   "file_extension": ".py",
   "mimetype": "text/x-python",
   "name": "python",
   "nbconvert_exporter": "python",
   "pygments_lexer": "ipython3",
   "version": "3.8.8"
  }
 },
 "nbformat": 4,
 "nbformat_minor": 1
}
