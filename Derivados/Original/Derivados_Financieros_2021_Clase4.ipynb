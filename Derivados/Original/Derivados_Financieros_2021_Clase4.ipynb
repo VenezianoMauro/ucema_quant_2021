{
 "cells": [
  {
   "cell_type": "markdown",
   "metadata": {},
   "source": [
    "# Derivados Financieros 2021 - Clase 4 \n",
    "## Modelo Black Scholes y comparaciones con el mercado\n",
    "\n",
    "    1) Formula de Black Scholes\n",
    "    2) Revisar los plots usando BS en vez de Binomial (Ejercicio)\n",
    "    3) Comparacion con MArket Data - tasa y dividendos\n",
    "    4) Volatilidad Implicita\n",
    "    5) Griegas"
   ]
  },
  {
   "cell_type": "markdown",
   "metadata": {},
   "source": [
    "## 1) Formula de Black Scholes"
   ]
  },
  {
   "cell_type": "code",
   "execution_count": null,
   "metadata": {},
   "outputs": [],
   "source": [
    "import math\n",
    "import numpy as np\n",
    "from scipy.stats import norm\n",
    "from opcion_europea_bs import opcion_europea_bs\n",
    "from opcion_americana_bin import opcion_americana_bin\n",
    "from opcion_europea_bin import opcion_europea_bin\n",
    "from opcion_europea_bin_c import opcion_europea_bin_c\n",
    "\n"
   ]
  },
  {
   "cell_type": "markdown",
   "metadata": {},
   "source": [
    "Def\n",
    "    Calculador del precio de una opcion Europea con el modelo de Black Scholes\n",
    "Inputs\n",
    "    - tipo : string - Tipo de contrato entre [\"CALL\",\"PUT\"]\n",
    "    - S : float - Spot price del activo\n",
    "    - K : float - Strike price del contrato\n",
    "    - T : float - Tiempo hasta la expiracion (en años)\n",
    "    - r : float - Tasa 'libre de riesgo' (anualizada)\n",
    "    - sigma : float - Volatilidad implicita (anualizada)\n",
    "    - div : float - Tasa de dividendos continuos (anualizada)\n",
    "Outputs\n",
    "    - precio_BS: float - Precio del contrato"
   ]
  },
  {
   "cell_type": "code",
   "execution_count": null,
   "metadata": {},
   "outputs": [],
   "source": [
    "tipo = \"C\"\n",
    "S = 100\n",
    "K = 100\n",
    "T = 1\n",
    "r = 0.05\n",
    "sigma =0.25\n",
    "div = 0"
   ]
  },
  {
   "cell_type": "code",
   "execution_count": null,
   "metadata": {},
   "outputs": [],
   "source": [
    "#Defino los ds\n",
    "d1 = (math.log(S / K) + (r - div + 0.5 * sigma * sigma) * T) / sigma / math.sqrt(T)\n",
    "d2 = (math.log(S / K) + (r - div - 0.5 * sigma * sigma) * T) / sigma / math.sqrt(T)\n",
    "\n",
    "print(d1)\n",
    "print(d2)"
   ]
  },
  {
   "cell_type": "code",
   "execution_count": null,
   "metadata": {},
   "outputs": [],
   "source": [
    "if tipo == \"C\":\n",
    "    precio_BS = math.exp(-div*T) *S * norm.cdf(d1) - K * math.exp(-r * T) * norm.cdf(d2)\n",
    "elif tipo == \"P\":\n",
    "    precio_BS = K * math.exp(-r * T) * norm.cdf(-d2) - math.exp(-div*T) * S * norm.cdf(-d1)"
   ]
  },
  {
   "cell_type": "code",
   "execution_count": null,
   "metadata": {},
   "outputs": [],
   "source": [
    "precio_BS"
   ]
  },
  {
   "cell_type": "markdown",
   "metadata": {},
   "source": [
    "## 2) Comparacion con el modelo Binomial [Ejercicio]"
   ]
  },
  {
   "cell_type": "code",
   "execution_count": null,
   "metadata": {},
   "outputs": [],
   "source": [
    "pasos = 5000\n",
    "precio_bin = opcion_europea_bin(tipo, S, K, T, r, sigma, div,pasos)\n",
    "precio_bs = opcion_europea_bs(tipo, S, K, T, r, sigma, div)\n",
    "\n",
    "print(\"Precio de Black Scholes : \", precio_bs)\n",
    "print(\"Precio Modelo Binomial  : \", precio_bin)"
   ]
  },
  {
   "cell_type": "markdown",
   "metadata": {},
   "source": [
    "## 3) Modelo Black Scholes y comparaciones con el mercado"
   ]
  },
  {
   "cell_type": "code",
   "execution_count": null,
   "metadata": {},
   "outputs": [],
   "source": [
    "from data_nyse import obtener_panel_opciones_nyse\n",
    "from data_nyse import obtener_opciones_yahoo_finance\n"
   ]
  },
  {
   "cell_type": "code",
   "execution_count": null,
   "metadata": {},
   "outputs": [],
   "source": [
    "ticker = 'TSLA'\n",
    "panel_nyse = obtener_panel_opciones_nyse(ticker,True)"
   ]
  },
  {
   "cell_type": "code",
   "execution_count": null,
   "metadata": {},
   "outputs": [],
   "source": [
    "#Me quedo con una parte pequenha del panel\n",
    "\n",
    "panel_nyse = panel_nyse[panel_nyse.TTM<100]\n",
    "panel_nyse = panel_nyse[panel_nyse.Moneyness>=0.8]\n",
    "panel_nyse = panel_nyse[panel_nyse.Moneyness<=1.2]\n",
    "\n",
    "panel_nyse"
   ]
  },
  {
   "cell_type": "markdown",
   "metadata": {},
   "source": [
    "### Panel con datos necesarios para pricear"
   ]
  },
  {
   "cell_type": "code",
   "execution_count": null,
   "metadata": {},
   "outputs": [],
   "source": [
    "# tasa de descuento\n",
    "# dividendos\n",
    "\n",
    "import yfinance as yf\n",
    "\n",
    "data = yf.Ticker(ticker)\n",
    "\n",
    "try:\n",
    "    div = float(data.info['dividendYield'])\n",
    "except:\n",
    "    div = 0.0\n"
   ]
  },
  {
   "cell_type": "code",
   "execution_count": null,
   "metadata": {},
   "outputs": [],
   "source": [
    "\n",
    "panel_nyse['Div'] = div"
   ]
  },
  {
   "cell_type": "markdown",
   "metadata": {},
   "source": [
    "### Curva de tasas (ad-hoc, poco robusta)"
   ]
  },
  {
   "cell_type": "code",
   "execution_count": null,
   "metadata": {},
   "outputs": [],
   "source": [
    "#Libor\n",
    "#https://es.global-rates.com/tipos-de-interes/libor/dolar-usa/dolar-usa.aspx\n",
    "#Ad hoc curve de tasas:\n",
    "\n",
    "\n",
    "Dias = np.array([1, 7, 30, 60, 91, 182, 365])\n",
    "\n",
    "Tasas = np.array([0.00086,\n",
    "                 0.000895,\n",
    "                 0.0008525,\n",
    "                 0.0011238,\n",
    "                 0.0013425,\n",
    "                 0.0015175,\n",
    "                 0.0024163])\n",
    "\n",
    "curva = np.vstack((Dias, Tasas)).T\n",
    "\n",
    "from scipy import interpolate\n",
    "curva_interp = interpolate.interp1d(Dias, Tasas, fill_value='extrapolate')\n",
    "\n",
    "panel_nyse['Tasa'] = curva_interp(panel_nyse.TTM)\n"
   ]
  },
  {
   "cell_type": "code",
   "execution_count": null,
   "metadata": {},
   "outputs": [],
   "source": [
    "curva_interp(50)\n"
   ]
  },
  {
   "cell_type": "code",
   "execution_count": null,
   "metadata": {},
   "outputs": [],
   "source": [
    "\n",
    "points = 20\n",
    "tasas = []\n",
    "days = []\n",
    "for day in np.trunc(np.linspace(0,400,points)):\n",
    "    days.append(day)\n",
    "    tasas.append(curva_interp(day))\n",
    "    \n",
    "from matplotlib import pyplot as plt\n",
    "\n",
    "plt.scatter(days,tasas)"
   ]
  },
  {
   "cell_type": "code",
   "execution_count": null,
   "metadata": {},
   "outputs": [],
   "source": [
    "\n",
    "panel_nyse['Avg'] = (panel_nyse.Bid+panel_nyse.Ask)/2\n",
    "\n",
    "\n",
    "panel_nyse = panel_nyse[panel_nyse.TTM>0]\n",
    "panel_nyse = panel_nyse[panel_nyse.impliedVolatility>0]\n",
    "\n",
    "panel_nyse = panel_nyse[['Especie', 'Ticker', 'Spot', 'Moneyness','CallPut', 'Strike', 'TTM',  'impliedVolatility','Last', 'Bid','Ask','Avg', 'Tasa', 'Div']]\n",
    "panel_nyse['Precio_BS'] = 0.0\n",
    "panel_nyse['Precio_BIN'] = 0.0\n",
    "\n",
    "#Tresuries\n",
    "#panel_nyse['Tasa'] = 0.0005\n"
   ]
  },
  {
   "cell_type": "code",
   "execution_count": null,
   "metadata": {},
   "outputs": [],
   "source": [
    "panel_nyse"
   ]
  },
  {
   "cell_type": "code",
   "execution_count": null,
   "metadata": {},
   "outputs": [],
   "source": [
    "panel_nyse = panel_nyse[panel_nyse.impliedVolatility>0.1]\n",
    "panel_nyse = panel_nyse.reset_index()\n",
    "del panel_nyse['index']"
   ]
  },
  {
   "cell_type": "code",
   "execution_count": null,
   "metadata": {},
   "outputs": [],
   "source": [
    "panel_nyse"
   ]
  },
  {
   "cell_type": "code",
   "execution_count": null,
   "metadata": {},
   "outputs": [],
   "source": [
    "for index in panel_nyse.index:\n",
    "    if panel_nyse.CallPut.values[index] == \"C\":\n",
    "        tipo =  \"C\"\n",
    "    elif panel_nyse.CallPut.values[index] == \"P\":\n",
    "        tipo =  \"P\"\n",
    "    S = panel_nyse.Spot.values[index] \n",
    "    K = panel_nyse.Strike.values[index]\n",
    "    T = panel_nyse.TTM.values[index]/365\n",
    "    r = panel_nyse.Tasa.values[index]\n",
    "    div = panel_nyse.Div.values[index]\n",
    "    sigma = panel_nyse.impliedVolatility.values[index]\n",
    "    \n",
    "    panel_nyse.Precio_BS.values[index] = opcion_europea_bs(tipo, S, K, T, r, sigma, div)\n",
    "    panel_nyse.Precio_BIN.values[index] = opcion_americana_bin(tipo, S, K, T, r, sigma, div, 200)\n",
    "        "
   ]
  },
  {
   "cell_type": "code",
   "execution_count": null,
   "metadata": {},
   "outputs": [],
   "source": [
    "panel_nyse"
   ]
  },
  {
   "cell_type": "markdown",
   "metadata": {},
   "source": [
    "### Elijo un maturity y un tipo de opcion y grafico"
   ]
  },
  {
   "cell_type": "code",
   "execution_count": null,
   "metadata": {},
   "outputs": [],
   "source": [
    "TTMs = list(set(panel_nyse.TTM.values))\n",
    "TTMs.sort()\n",
    "from matplotlib import pyplot as plt"
   ]
  },
  {
   "cell_type": "code",
   "execution_count": null,
   "metadata": {},
   "outputs": [],
   "source": [
    "CP = \"C\"\n",
    "\n",
    "TTM = TTMs[4]\n",
    "\n",
    "Ks = panel_nyse[(panel_nyse.TTM == TTM) & (panel_nyse.CallPut == CP)].Strike.values\n",
    "#precios_last = panel_nyse[(panel_nyse.TTM == TTM) & (panel_nyse.CallPut == CP)].Last.values\n",
    "precios_avg = panel_nyse[(panel_nyse.TTM == TTM) & (panel_nyse.CallPut == CP)].Avg.values\n",
    "precios_BS = panel_nyse[(panel_nyse.TTM == TTM) & (panel_nyse.CallPut == CP)].Precio_BS.values\n",
    "precios_BIN = panel_nyse[(panel_nyse.TTM == TTM) & (panel_nyse.CallPut == CP)].Precio_BIN.values\n",
    "    \n",
    "space = 3\n",
    "    \n",
    "#plt.plot(Ks[0::space], precios_last[0::space], '.', label = 'Market - Last')\n",
    "plt.plot(Ks[0::space], precios_avg[0::space], '.',label = 'Market - Avg (Bid-Ask)')\n",
    "#plt.plot(Ks[0::space], precios_BS[0::space], '.',label = 'Model - Black Scholes')\n",
    "plt.plot(Ks[0::space], precios_BIN[0::space], '.',label = 'Model - Binomial')\n",
    "\n",
    "\n",
    "plt.legend()\n",
    "\n",
    "plt.xlabel('Strike')\n",
    "plt.ylabel('Precio de mercado del Call')\n",
    "plt.title('Precio delas opciones Call con respecto al Strike')\n",
    "    \n",
    "plt.show()"
   ]
  },
  {
   "cell_type": "code",
   "execution_count": null,
   "metadata": {},
   "outputs": [],
   "source": [
    "\n",
    "CP = \"P\"\n",
    "\n",
    "TTM = TTMs[4]\n",
    "\n",
    "Ks = panel_nyse[(panel_nyse.TTM == TTM) & (panel_nyse.CallPut == CP)].Strike.values\n",
    "precios_last = panel_nyse[(panel_nyse.TTM == TTM) & (panel_nyse.CallPut == CP)].Last.values\n",
    "precios_avg = panel_nyse[(panel_nyse.TTM == TTM) & (panel_nyse.CallPut == CP)].Avg.values\n",
    "precios_BS = panel_nyse[(panel_nyse.TTM == TTM) & (panel_nyse.CallPut == CP)].Precio_BS.values\n",
    "precios_BIN = panel_nyse[(panel_nyse.TTM == TTM) & (panel_nyse.CallPut == CP)].Precio_BIN.values\n",
    "    \n",
    "space = 3\n",
    "    \n",
    "#plt.plot(Ks[0::space], precios_last[0::space], '.', label = 'Market - Last')\n",
    "plt.plot(Ks[0::space], precios_avg[0::space], '.',label = 'Market - Avg (Bid-Ask)')\n",
    "#plt.plot(Ks[0::space], precios_BS[0::space], '.',label = 'Model - Black Scholes')\n",
    "plt.plot(Ks[0::space], precios_BIN[0::space], '.',label = 'Model - Binomial')\n",
    "\n",
    "\n",
    "plt.legend()\n",
    "\n",
    "plt.xlabel('Strike')\n",
    "plt.ylabel('Precio de mercado del Call')\n",
    "plt.title('Precio delas opciones Call con respecto al Strike')\n",
    "    \n",
    "plt.show()"
   ]
  },
  {
   "cell_type": "code",
   "execution_count": null,
   "metadata": {},
   "outputs": [],
   "source": [
    "#Me genero un dataframe con fiferencias entre mercado y modelos\n",
    "CP = \"C\"\n",
    "diff_df = panel_nyse[(panel_nyse.TTM == TTMs[1] ) & (panel_nyse.CallPut == CP)][['Avg','Precio_BS','Precio_BIN']]\n",
    "\n",
    "diff_df['AvgVSBS'] = diff_df.Avg-diff_df.Precio_BS\n",
    "diff_df['AvgVSBIN'] = diff_df.Avg-diff_df.Precio_BIN\n",
    "\n",
    "diff_df['Rel_AvgVSBS'] = abs(diff_df.AvgVSBS)/diff_df.Avg * 100\n",
    "diff_df['Rel_AvgVSBIN'] = abs(diff_df.AvgVSBIN)/diff_df.Avg * 100\n",
    "\n",
    "diff_df = diff_df[abs(diff_df.Avg)>0.0]"
   ]
  },
  {
   "cell_type": "code",
   "execution_count": null,
   "metadata": {},
   "outputs": [],
   "source": [
    "diff_df\n"
   ]
  },
  {
   "cell_type": "code",
   "execution_count": null,
   "metadata": {},
   "outputs": [],
   "source": [
    "print(diff_df.mean(axis=0))\n"
   ]
  },
  {
   "cell_type": "code",
   "execution_count": null,
   "metadata": {},
   "outputs": [],
   "source": [
    "panel_nyse.to_csv('Clase4_panel_nyse_modelos.csv')\n",
    "\n",
    "\n",
    "\n"
   ]
  },
  {
   "cell_type": "markdown",
   "metadata": {},
   "source": [
    "## 4) Volatilidad Implicita"
   ]
  },
  {
   "cell_type": "markdown",
   "metadata": {},
   "source": [
    "Me genero unas funciones auxiliares para definir el metodo de biseccion "
   ]
  },
  {
   "cell_type": "code",
   "execution_count": null,
   "metadata": {},
   "outputs": [],
   "source": [
    "def samesign(a, b):\n",
    "    return a * b > 0\n",
    "\n",
    "def bisect(func, low, high, iters=100):\n",
    "    'Find root of continuous function where f(low) and f(high) have opposite signs'\n",
    "\n",
    "    assert not samesign(func(low), func(high))\n",
    "\n",
    "    for i in range(iters):\n",
    "        midpoint = (low + high) / 2.0\n",
    "        if samesign(func(low), func(midpoint)):\n",
    "            low = midpoint\n",
    "        else:\n",
    "            high = midpoint\n",
    "\n",
    "    return midpoint"
   ]
  },
  {
   "cell_type": "markdown",
   "metadata": {},
   "source": [
    "### Defino la funcion de volatilidad implicita. Busco el cero de la funcion O_T-O_M (opcion teorica menos opcion mercado)"
   ]
  },
  {
   "cell_type": "code",
   "execution_count": null,
   "metadata": {},
   "outputs": [],
   "source": [
    "\n",
    "def impvolfunc_bs(tipo, S, K, T, r, precio_mercado, div):\n",
    "    \n",
    "    \n",
    "    func = lambda sigma: (opcion_europea_bs(tipo, S, K, T, r, sigma, div) - precio_mercado)\n",
    "\n",
    "    impvol = bisect(func,0.00001, 3.0, 100)\n",
    "    return impvol\n",
    "\n",
    "\n",
    "def impvolfunc_bin(tipo, S, K, T, r, precio_mercado, div, pasos = 1000):\n",
    "    func = lambda sigma: (opcion_americana_bin(tipo, S, K, T, r, sigma, div, pasos) - precio_mercado)\n",
    "    \n",
    "    impvol = bisect(func,0.0001, 3.0, 100)\n",
    "    return impvol"
   ]
  },
  {
   "cell_type": "markdown",
   "metadata": {},
   "source": [
    "Recorro el dataframe y copleto la volatilidad implicita"
   ]
  },
  {
   "cell_type": "code",
   "execution_count": null,
   "metadata": {},
   "outputs": [],
   "source": [
    "panel_nyse['volatilidad_implicita_bs'] = 0.0\n",
    "\n",
    "for index in panel_nyse.index:\n",
    "    \n",
    "    tipo =  panel_nyse.CallPut.values[index]\n",
    "    S = panel_nyse.Spot.values[index] \n",
    "    K = panel_nyse.Strike.values[index]\n",
    "    T = panel_nyse.TTM.values[index]/365\n",
    "    r = panel_nyse.Tasa.values[index]\n",
    "    div = panel_nyse.Div.values[index]\n",
    "    precio_mercado = panel_nyse.Avg.values[index]\n",
    "    try:\n",
    "        panel_nyse.volatilidad_implicita_bs.values[index] = impvolfunc_bs(tipo, S, K, T, r, precio_mercado, div)\n",
    "    except:\n",
    "        pass"
   ]
  },
  {
   "cell_type": "code",
   "execution_count": null,
   "metadata": {},
   "outputs": [],
   "source": [
    "CP = \"C\"\n",
    "\n",
    "TTM = TTMs[5]\n",
    "\n",
    "Ks = panel_nyse[(panel_nyse.TTM == TTM) & (panel_nyse.CallPut == CP)].Strike.values\n",
    "imp_vol_yahoo = panel_nyse[(panel_nyse.TTM == TTM) & (panel_nyse.CallPut == CP)].impliedVolatility.values\n",
    "imp_vol_bs = panel_nyse[(panel_nyse.TTM == TTM) & (panel_nyse.CallPut == CP)].volatilidad_implicita_bs.values\n",
    "\n",
    "    \n",
    "space = 3\n",
    "    \n",
    "#plt.plot(Ks[0::space], precios_last[0::space], '.', label = 'Market - Last')\n",
    "plt.plot(Ks[0::space], imp_vol_yahoo[0::space], '.',label = 'imp_vol_yahoo')\n",
    "#plt.plot(Ks[0::space], precios_BS[0::space], '.',label = 'Model - Black Scholes')\n",
    "plt.plot(Ks[0::space], imp_vol_bs[0::space], '.',label = 'imp_vol_bs')\n",
    "\n",
    "\n",
    "plt.legend()\n",
    "\n",
    "plt.xlabel('Strike')\n",
    "plt.ylabel('Vol. Implicita del Call')\n",
    "plt.title('Vol. Implicita de opciones Call con respecto al Strike')\n",
    "    \n",
    "plt.show()"
   ]
  },
  {
   "cell_type": "code",
   "execution_count": null,
   "metadata": {},
   "outputs": [],
   "source": [
    "CP = \"P\"\n",
    "\n",
    "TTM = TTMs[5]\n",
    "\n",
    "Ks = panel_nyse[(panel_nyse.TTM == TTM) & (panel_nyse.CallPut == CP)].Strike.values\n",
    "imp_vol_yahoo = panel_nyse[(panel_nyse.TTM == TTM) & (panel_nyse.CallPut == CP)].impliedVolatility.values\n",
    "imp_vol_bs = panel_nyse[(panel_nyse.TTM == TTM) & (panel_nyse.CallPut == CP)].volatilidad_implicita_bs.values\n",
    "\n",
    "    \n",
    "space = 3\n",
    "    \n",
    "#plt.plot(Ks[0::space], precios_last[0::space], '.', label = 'Market - Last')\n",
    "plt.plot(Ks[0::space], imp_vol_yahoo[0::space], '.',label = 'imp_vol_yahoo')\n",
    "#plt.plot(Ks[0::space], precios_BS[0::space], '.',label = 'Model - Black Scholes')\n",
    "plt.plot(Ks[0::space], imp_vol_bs[0::space], '.',label = 'imp_vol_bs')\n",
    "\n",
    "\n",
    "plt.legend()\n",
    "\n",
    "plt.xlabel('Strike')\n",
    "plt.ylabel('Vol. Implicita del Call')\n",
    "plt.title('Vol. Implicita de opciones Call con respecto al Strike')\n",
    "    \n",
    "plt.show()"
   ]
  },
  {
   "cell_type": "markdown",
   "metadata": {},
   "source": [
    "## 5) Griegas\n"
   ]
  },
  {
   "cell_type": "markdown",
   "metadata": {},
   "source": [
    "Si llamamos $V$ al derivado en cuestion, y el spot vale $S$ a tiempo inicial, entonces la Delta y la Gamma no son otra cosa que:\n",
    "\n",
    "$$\n",
    "\\Delta = \\frac{V(S+h)-V(S-h)}{2h} \\; \\; \\; \\; \n",
    "\\Gamma = \\frac{V(S+h)-2V(S)+V(S-h)}{h^2}\n",
    "$$\n",
    "\n",
    "con $h$ un numero sificientemente chico (en general se suele tomar la unidad indivisible en cuestion) y suponemos que todos los demas parametros quedan fijo\n",
    "\n"
   ]
  },
  {
   "cell_type": "code",
   "execution_count": null,
   "metadata": {},
   "outputs": [],
   "source": [
    "tipo = \"C\"\n",
    "S = 100\n",
    "K = 100\n",
    "T = 1\n",
    "r = 0.05\n",
    "sigma= 0.25\n",
    "div =0\n",
    "pasos = 1000\n",
    "\n",
    "S_MAX = 2*K\n",
    "S_vec = np.linspace(0.5,S_MAX,50)      \n",
    "deltas = np.zeros(len(S_vec))\n",
    "\n",
    "h = 0.1\n",
    "\n",
    "for index in range(len(S_vec)):\n",
    "    deltas[index] = (opcion_europea_bs(tipo, S_vec[index]+h, K, T, r, sigma, div) - opcion_europea_bs(tipo, S_vec[index]-h, K, T, r, sigma, div))/(2*h)\n",
    "\n",
    "plt.plot(S_vec,deltas,'r', label='Delta')\n",
    "plt.axvline(x=S, color = 'black', linestyle='--')\n",
    "\n",
    "plt.legend()\n",
    "\n",
    "plt.xlabel('Spot')\n",
    "plt.ylabel('Delta del Call')\n",
    "plt.title('Delta de una opcion Call a tiempo inicial con respecto al spot')\n",
    "\n",
    "plt.show()"
   ]
  },
  {
   "cell_type": "code",
   "execution_count": null,
   "metadata": {},
   "outputs": [],
   "source": [
    "tipo = \"P\"\n",
    "S = 100\n",
    "K = 100\n",
    "T = 1\n",
    "r = 0.05\n",
    "sigma= 0.25\n",
    "div =0\n",
    "pasos = 1000\n",
    "\n",
    "S_MAX = 2*S\n",
    "S_vec = np.linspace(1,S_MAX,50)      \n",
    "deltas = np.zeros(len(S_vec))\n",
    "\n",
    "h = 0.1\n",
    "\n",
    "for index in range(len(S_vec)):\n",
    "    deltas[index] = (opcion_europea_bs(tipo, S_vec[index]+h, K, T, r, sigma, div) - opcion_europea_bs(tipo, S_vec[index]-h, K, T, r, sigma, div))/(2*h)\n",
    "\n",
    "plt.plot(S_vec,deltas,'r', label='Delta')\n",
    "plt.axvline(x=S, color = 'black', linestyle='--')\n",
    "\n",
    "plt.legend()\n",
    "\n",
    "plt.xlabel('Spot')\n",
    "plt.ylabel('Delta del Put')\n",
    "plt.title('Delta de una opcion Put a tiempo inicial con respecto al spot')\n",
    "\n",
    "plt.show()"
   ]
  },
  {
   "cell_type": "code",
   "execution_count": null,
   "metadata": {},
   "outputs": [],
   "source": [
    "tipo = \"C\"\n",
    "S = 100\n",
    "K = 100\n",
    "T = 1\n",
    "r = 0.05\n",
    "sigma= 0.25\n",
    "div =0\n",
    "pasos = 1000\n",
    "\n",
    "S_MAX = 2*S\n",
    "S_vec = np.linspace(1,S_MAX,50)      \n",
    "gammas = np.zeros(len(S_vec))\n",
    "\n",
    "h = 0.1\n",
    "\n",
    "for index in range(len(S_vec)):\n",
    "    gammas[index] = (opcion_europea_bs(tipo, S_vec[index]+h, K, T, r, sigma, div) -2* opcion_europea_bs(tipo, S_vec[index], K, T, r, sigma, div) + opcion_europea_bs(tipo, S_vec[index]-h, K, T, r, sigma, div))/(h*h)\n",
    "\n",
    "plt.plot(S_vec,gammas,'r', label='Gamma')\n",
    "plt.axvline(x=S, color = 'black', linestyle='--')\n",
    "\n",
    "plt.legend()\n",
    "\n",
    "plt.xlabel('Spot')\n",
    "plt.ylabel('Gamma del Call')\n",
    "plt.title('Gamma de una opcion Call a tiempo inicial con respecto al spot')\n",
    "\n",
    "plt.show()"
   ]
  },
  {
   "cell_type": "code",
   "execution_count": null,
   "metadata": {},
   "outputs": [],
   "source": [
    "tipo = \"P\"\n",
    "S = 100\n",
    "K = 100\n",
    "T = 1\n",
    "r = 0.05\n",
    "sigma= 0.25\n",
    "div =0\n",
    "pasos = 1000\n",
    "\n",
    "S_MAX = 2*S\n",
    "S_vec = np.linspace(1,S_MAX,50)      \n",
    "gammas = np.zeros(len(S_vec))\n",
    "\n",
    "h = 0.1\n",
    "\n",
    "for index in range(len(S_vec)):\n",
    "    gammas[index] = (opcion_europea_bs(tipo, S_vec[index]+h, K, T, r, sigma, div) -2* opcion_europea_bs(tipo, S_vec[index], K, T, r, sigma, div) + opcion_europea_bs(tipo, S_vec[index]-h, K, T, r, sigma, div))/(h*h)\n",
    "\n",
    "plt.plot(S_vec,gammas,'r', label='Gamma')\n",
    "plt.axvline(x=S, color = 'black', linestyle='--')\n",
    "\n",
    "plt.legend()\n",
    "\n",
    "plt.xlabel('Spot')\n",
    "plt.ylabel('Gamma del Put')\n",
    "plt.title('Gamma de una opcion Put a tiempo inicial con respecto al spot')\n",
    "\n",
    "plt.show()"
   ]
  },
  {
   "cell_type": "code",
   "execution_count": null,
   "metadata": {},
   "outputs": [],
   "source": [
    "tipo = \"C\"\n",
    "S = 100\n",
    "K = 100\n",
    "T = 1\n",
    "r = 0.05\n",
    "sigma= 0.25\n",
    "div =0\n",
    "pasos = 1000\n",
    "\n",
    "S_MAX = 2*S\n",
    "S_vec = np.linspace(1,S_MAX,50)      \n",
    "vegas = np.zeros(len(S_vec))\n",
    "\n",
    "h = 0.1\n",
    "\n",
    "for index in range(len(S_vec)):\n",
    "    vegas[index] = (opcion_europea_bs(tipo, S_vec[index], K, T, r, sigma+h, div) - opcion_europea_bs(tipo, S_vec[index], K, T, r, sigma-h, div))/(2*h)\n",
    "\n",
    "plt.plot(S_vec,vegas,'r', label='Vega')\n",
    "plt.axvline(x=S, color = 'black', linestyle='--')\n",
    "\n",
    "plt.legend()\n",
    "\n",
    "plt.xlabel('Spot')\n",
    "plt.ylabel('Vega del Call')\n",
    "plt.title('Vega de una opcion Call a tiempo inicial con respecto al spot')\n",
    "\n",
    "plt.show()"
   ]
  },
  {
   "cell_type": "code",
   "execution_count": null,
   "metadata": {},
   "outputs": [],
   "source": [
    "tipo = \"P\"\n",
    "S = 100\n",
    "K = 100\n",
    "T = 1\n",
    "r = 0.05\n",
    "sigma= 0.25\n",
    "div =0\n",
    "pasos = 1000\n",
    "\n",
    "S_MAX = 2*S\n",
    "S_vec = np.linspace(1,S_MAX,50)      \n",
    "vegas = np.zeros(len(S_vec))\n",
    "\n",
    "h = 0.1\n",
    "\n",
    "for index in range(len(S_vec)):\n",
    "    vegas[index] = (opcion_europea_bs(tipo, S_vec[index], K, T, r, sigma+h, div) - opcion_europea_bs(tipo, S_vec[index], K, T, r, sigma-h, div))/(2*h)\n",
    "\n",
    "plt.plot(S_vec,vegas,'r', label='Vega')\n",
    "plt.axvline(x=S, color = 'black', linestyle='--')\n",
    "\n",
    "plt.legend()\n",
    "\n",
    "plt.xlabel('Spot')\n",
    "plt.ylabel('Vega del Put')\n",
    "plt.title('Vega de una opcion Put a tiempo inicial con respecto al spot')\n"
   ]
  },
  {
   "cell_type": "code",
   "execution_count": null,
   "metadata": {},
   "outputs": [],
   "source": [
    "tipo = \"C\"\n",
    "S = 100\n",
    "K = 100\n",
    "T = 1\n",
    "r = 0.05\n",
    "sigma= 0.25\n",
    "div =0\n",
    "pasos = 1000\n",
    "\n",
    "S_MAX = 2*S\n",
    "S_vec = np.linspace(1,S_MAX,50)      \n",
    "thetas = np.zeros(len(S_vec))\n",
    "\n",
    "h = 1/365\n",
    "\n",
    "for index in range(len(S_vec)):\n",
    "    thetas[index] = (opcion_europea_bs(tipo, S_vec[index], K, T, r, sigma, div) - opcion_europea_bs(tipo, S_vec[index], K, T+h, r, sigma, div))/(h)\n",
    "\n",
    "plt.plot(S_vec,thetas,'r', label='Theta')\n",
    "plt.axvline(x=S, color = 'black', linestyle='--')\n",
    "\n",
    "plt.legend()\n",
    "\n",
    "plt.xlabel('Spot')\n",
    "plt.ylabel('Theta del Call')\n",
    "plt.title('Theta de una opcion Call a tiempo inicial con respecto al spot')\n",
    "\n",
    "plt.show()"
   ]
  },
  {
   "cell_type": "code",
   "execution_count": null,
   "metadata": {},
   "outputs": [],
   "source": [
    "tipo = \"P\"\n",
    "S = 100\n",
    "K = 100\n",
    "T = 1\n",
    "r = 0.05\n",
    "sigma= 0.25\n",
    "div =0\n",
    "pasos = 1000\n",
    "\n",
    "S_MAX = 2*S\n",
    "S_vec = np.linspace(1,S_MAX,50)      \n",
    "thetas = np.zeros(len(S_vec))\n",
    "\n",
    "h = 1/365\n",
    "\n",
    "for index in range(len(S_vec)):\n",
    "    thetas[index] = (opcion_europea_bs(tipo, S_vec[index], K, T, r, sigma, div) - opcion_europea_bs(tipo, S_vec[index], K, T+h, r, sigma, div))/(h)\n",
    "\n",
    "plt.plot(S_vec,thetas,'r', label='Theta')\n",
    "plt.axvline(x=S, color = 'black', linestyle='--')\n",
    "\n",
    "plt.legend()\n",
    "\n",
    "plt.xlabel('Spot')\n",
    "plt.ylabel('Theta del Put')\n",
    "plt.title('Theta de una opcion Put a tiempo inicial con respecto al spot')\n",
    "\n",
    "plt.show()"
   ]
  }
 ],
 "metadata": {
  "kernelspec": {
   "display_name": "Python 3",
   "language": "python",
   "name": "python3"
  },
  "language_info": {
   "codemirror_mode": {
    "name": "ipython",
    "version": 3
   },
   "file_extension": ".py",
   "mimetype": "text/x-python",
   "name": "python",
   "nbconvert_exporter": "python",
   "pygments_lexer": "ipython3",
   "version": "3.8.8"
  }
 },
 "nbformat": 4,
 "nbformat_minor": 4
}
