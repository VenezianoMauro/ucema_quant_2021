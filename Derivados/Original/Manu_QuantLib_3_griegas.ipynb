{
 "cells": [
  {
   "cell_type": "markdown",
   "metadata": {},
   "source": [
    "# Griegas / Griegas Numericas"
   ]
  },
  {
   "cell_type": "code",
   "execution_count": 1,
   "metadata": {},
   "outputs": [],
   "source": [
    "import QuantLib as ql"
   ]
  },
  {
   "cell_type": "markdown",
   "metadata": {},
   "source": [
    "## Griegas Analiticas"
   ]
  },
  {
   "cell_type": "code",
   "execution_count": 2,
   "metadata": {},
   "outputs": [],
   "source": [
    "\n",
    "#Definimos los inputs\n",
    "precio_activo = 440 #Spot (S)\n",
    "precio_ejercicio = 450 #Strike (K)\n",
    "volatilidad = 0.3394  #Volatilidad Implicita anualizada (sigma)\n",
    "tasa_interes = 0.0013 #tasa libre de riesgo anualizada (r)\n",
    "tasa_dividendos =  0.075 #tasa de dividendos anualizada (q)\n",
    "\n",
    "#Expiracion el 16 de octubre de 2020\n",
    "fecha_expiracion = ql.Date(16, 10, 2020)\n",
    "#Valuacion el 16 de octubre de 2020\n",
    "fecha_valuacion = ql.Date(6, 8, 2020)\n",
    "ql.Settings.instance().evaluationDate = fecha_valuacion\n",
    "day_count = ql.Actual365Fixed()\n",
    "calendario = ql.UnitedStates()\n"
   ]
  },
  {
   "cell_type": "code",
   "execution_count": 3,
   "metadata": {},
   "outputs": [],
   "source": [
    "tipo_opcion = ql.Option.Call #Tipo de opcion (CALL o PUT)\n",
    "payoff = ql.PlainVanillaPayoff(tipo_opcion, precio_ejercicio)\n",
    "ejercicio_europeo = ql.EuropeanExercise(fecha_expiracion)\n",
    "opcion_europea = ql.VanillaOption(payoff, ejercicio_europeo)"
   ]
  },
  {
   "cell_type": "code",
   "execution_count": 4,
   "metadata": {},
   "outputs": [],
   "source": [
    "S = ql.SimpleQuote(precio_activo)\n",
    "objeto_spot = ql.QuoteHandle(S)\n",
    "\n",
    "r = ql.SimpleQuote(tasa_interes)\n",
    "objeto_tasa_interes = ql.YieldTermStructureHandle(ql.FlatForward(fecha_valuacion, \n",
    "                                                            ql.QuoteHandle(r), \n",
    "                                                        day_count))\n",
    "q = ql.SimpleQuote(tasa_dividendos)\n",
    "objeto_tasa_dividendos = ql.YieldTermStructureHandle(ql.FlatForward(fecha_valuacion, \n",
    "                                                      ql.QuoteHandle(q), \n",
    "                                                      day_count))\n",
    "\n",
    "sigma = ql.SimpleQuote(volatilidad)\n",
    "objeto_volatilidad = ql.BlackVolTermStructureHandle(ql.BlackConstantVol(fecha_valuacion, \n",
    "                                                                 calendario, \n",
    "                                                                 ql.QuoteHandle(sigma), \n",
    "                                                             day_count))\n",
    "\n",
    "proceso_BSM = ql.BlackScholesMertonProcess(objeto_spot, \n",
    "                                           objeto_tasa_dividendos, \n",
    "                                           objeto_tasa_interes, \n",
    "                                           objeto_volatilidad)\n",
    "\n",
    "opcion_europea.setPricingEngine(ql.AnalyticEuropeanEngine(proceso_BSM))"
   ]
  },
  {
   "cell_type": "markdown",
   "metadata": {},
   "source": [
    "En el caso de la formula Analitica, QuantLib ofrece la posibilidad de extraer varias sensibilidades (griegas) de la opcion. Entre ellos: `delta()`,  `vega()`, `rho() `, `dividendRho()`, `theta()`, `thetaPerDay()`, `strikeSensitivity()`, `gamma()`, `elasticity()`.\n"
   ]
  },
  {
   "cell_type": "code",
   "execution_count": 5,
   "metadata": {},
   "outputs": [
    {
     "name": "stdout",
     "output_type": "stream",
     "text": [
      "Delta:  0.4258321048466277\n",
      "Vega: 75.18926359141635\n",
      "Rho:  32.74716062566774\n",
      "dividendRho:  -36.446561521667505\n",
      "Theta:  -51.76161250063861\n",
      "Theta_PD:  -0.141812636988051\n",
      "strikeSensitivity:  -0.374106842828442\n",
      "Gamma:  0.0058826519800777724\n",
      "Elasticity 9.852017271520342\n"
     ]
    }
   ],
   "source": [
    "delta_BS = opcion_europea.delta()\n",
    "vega_BS = opcion_europea.vega()\n",
    "rho_BS = opcion_europea.rho() \n",
    "div_rho_BS = opcion_europea.dividendRho()\n",
    "theta_BS = opcion_europea.theta()\n",
    "thetaPD_BS = opcion_europea.thetaPerDay()\n",
    "strike_greek_BS = opcion_europea.strikeSensitivity()\n",
    "\n",
    "gamma_BS = opcion_europea.gamma()\n",
    "elasticity_BS = opcion_europea.elasticity()\n",
    "\n",
    "\n",
    "print(\"Delta: \", delta_BS)\n",
    "print(\"Vega:\", vega_BS)\n",
    "print(\"Rho: \", rho_BS)\n",
    "print(\"dividendRho: \", div_rho_BS)\n",
    "print(\"Theta: \", theta_BS)\n",
    "print(\"Theta_PD: \", thetaPD_BS)\n",
    "print(\"strikeSensitivity: \", strike_greek_BS)\n",
    "\n",
    "print(\"Gamma: \", gamma_BS)\n",
    "print(\"Elasticity\", elasticity_BS)\n",
    "\n",
    "\n",
    "\n"
   ]
  },
  {
   "cell_type": "markdown",
   "metadata": {},
   "source": [
    "## Griegas Numericamente"
   ]
  },
  {
   "cell_type": "markdown",
   "metadata": {},
   "source": [
    "Si llamamos $V$ al derivado en cuestion, y el spot vale $S$ a tiempo inicial, entonces la Delta y la Gamma no son otra cosa que:\n",
    "\n",
    "$$\n",
    "\\Delta = \\frac{V(S+h)-V(S-h)}{2h} \\; \\; \\; \\; \n",
    "\\Gamma = \\frac{V(S+h)-2V(S)+V(S-h)}{h^2}\n",
    "$$\n",
    "\n",
    "con $h$ un numero sificientemente chico (en general se suele tomar la unidad indivisible en cuestion) y suponemos que todos los demas parametros quedan fijo\n",
    "\n",
    "Gracias al framwork que nos provee QuantLib, buscar los precios perturbados es sencillo. Necesitamos simplemente cambiar el parametro en cuestion y volver a calcular:"
   ]
  },
  {
   "cell_type": "code",
   "execution_count": 6,
   "metadata": {},
   "outputs": [],
   "source": [
    "tipo_opcion = ql.Option.Call #Tipo de opcion (CALL o PUT)\n",
    "payoff = ql.PlainVanillaPayoff(tipo_opcion, precio_ejercicio)\n",
    "ejercicio_europeo = ql.EuropeanExercise(fecha_expiracion)\n",
    "opcion_europea = ql.VanillaOption(payoff, ejercicio_europeo)\n",
    "\n",
    "\n",
    "S = ql.SimpleQuote(precio_activo)\n",
    "objeto_spot = ql.QuoteHandle(S)\n",
    "\n",
    "r = ql.SimpleQuote(tasa_interes)\n",
    "objeto_tasa_interes = ql.YieldTermStructureHandle(ql.FlatForward(fecha_valuacion, \n",
    "                                                            ql.QuoteHandle(r), \n",
    "                                                        day_count))\n",
    "q = ql.SimpleQuote(tasa_dividendos)\n",
    "objeto_tasa_dividendos = ql.YieldTermStructureHandle(ql.FlatForward(fecha_valuacion, \n",
    "                                                      ql.QuoteHandle(q), \n",
    "                                                      day_count))\n",
    "\n",
    "sigma = ql.SimpleQuote(volatilidad)\n",
    "objeto_volatilidad = ql.BlackVolTermStructureHandle(ql.BlackConstantVol(fecha_valuacion, \n",
    "                                                                 calendario, \n",
    "                                                                 ql.QuoteHandle(sigma), \n",
    "                                                             day_count))\n",
    "\n",
    "proceso_BSM = ql.BlackScholesMertonProcess(objeto_spot, \n",
    "                                           objeto_tasa_dividendos, \n",
    "                                           objeto_tasa_interes, \n",
    "                                           objeto_volatilidad)\n",
    "modelo_BS = ql.AnalyticEuropeanEngine(proceso_BSM)\n",
    "\n",
    "opcion_europea.setPricingEngine(modelo_BS)\n",
    "\n"
   ]
  },
  {
   "cell_type": "code",
   "execution_count": 7,
   "metadata": {},
   "outputs": [
    {
     "name": "stdout",
     "output_type": "stream",
     "text": [
      "19.018046859717114\n"
     ]
    }
   ],
   "source": [
    "S0 = S.value()\n",
    "S.setValue(S0)\n",
    "h = 0.001 #(1 centavo de USD)\n",
    "V0 = opcion_europea.NPV() \n",
    "print(V0)"
   ]
  },
  {
   "cell_type": "markdown",
   "metadata": {},
   "source": [
    "Incrementamos el precio del activo y obtenemos el precio de la opcion (plus)"
   ]
  },
  {
   "cell_type": "code",
   "execution_count": 8,
   "metadata": {},
   "outputs": [
    {
     "name": "stdout",
     "output_type": "stream",
     "text": [
      "19.018472694763293\n"
     ]
    }
   ],
   "source": [
    "S.setValue(S0+h)\n",
    "V_p = opcion_europea.NPV()\n",
    "print(V_p)"
   ]
  },
  {
   "cell_type": "markdown",
   "metadata": {},
   "source": [
    "Lo mismo restando y obtenemos el precio de la opcion (minus)"
   ]
  },
  {
   "cell_type": "code",
   "execution_count": 9,
   "metadata": {},
   "outputs": [
    {
     "name": "stdout",
     "output_type": "stream",
     "text": [
      "19.017621030553624\n"
     ]
    }
   ],
   "source": [
    "S.setValue(S0-h)\n",
    "V_m = opcion_europea.NPV()\n",
    "print(V_m)"
   ]
  },
  {
   "cell_type": "markdown",
   "metadata": {},
   "source": [
    "Finalmente, volvemos a dejar a S con el precio original"
   ]
  },
  {
   "cell_type": "code",
   "execution_count": 10,
   "metadata": {},
   "outputs": [],
   "source": [
    "S.setValue(S0)"
   ]
  },
  {
   "cell_type": "markdown",
   "metadata": {},
   "source": [
    "Aplico las formulas anteriores para calcular las griegas numericas:"
   ]
  },
  {
   "cell_type": "code",
   "execution_count": 11,
   "metadata": {},
   "outputs": [
    {
     "name": "stdout",
     "output_type": "stream",
     "text": [
      "Delta numerica: 0.42583210483471134\n",
      "Delta BS: 0.4258321048466277\n",
      "Gamma numerica: 0.0058826898907682335\n",
      "Gamma BS: 0.0058826519800777724\n"
     ]
    }
   ],
   "source": [
    "delta_numerica = (V_p - V_m)/(2*h)\n",
    "gamma_numerica = (V_p - 2*V0 + V_m)/(h*h)\n",
    "\n",
    "print(\"Delta numerica:\", delta_numerica)\n",
    "print(\"Delta BS:\", delta_BS)\n",
    "\n",
    "print(\"Gamma numerica:\", gamma_numerica)\n",
    "print(\"Gamma BS:\", gamma_BS)\n",
    "\n",
    "                  \n",
    "                  "
   ]
  },
  {
   "cell_type": "markdown",
   "metadata": {},
   "source": [
    "La misma idea es para las demas griegas. Por ejemplo:\n",
    "\n",
    "$$Vega = \\frac{V(\\sigma+h)-V(\\sigma-h)}{2h} \\; \\; \\; \\; \n",
    "\\rho = \\frac{V(r+h)-V(r-h)}{2h}\n",
    "$$\n"
   ]
  },
  {
   "cell_type": "code",
   "execution_count": 12,
   "metadata": {},
   "outputs": [
    {
     "name": "stdout",
     "output_type": "stream",
     "text": [
      "Vega numerica: 75.18987112291597\n",
      "Vega BS: 75.18926359141635\n"
     ]
    }
   ],
   "source": [
    "sigma0 = sigma.value() \n",
    "h = 0.0001\n",
    "\n",
    "sigma.setValue(sigma0+h) \n",
    "V_plus = opcion_europea.NPV()\n",
    "\n",
    "sigma.setValue(sigma0)\n",
    "\n",
    "vega_numerica = (V_plus - V0)/h \n",
    "\n",
    "\n",
    "print(\"Vega numerica:\", vega_numerica)\n",
    "print(\"Vega BS:\", vega_BS)\n"
   ]
  },
  {
   "cell_type": "code",
   "execution_count": 13,
   "metadata": {},
   "outputs": [
    {
     "name": "stdout",
     "output_type": "stream",
     "text": [
      "Rho tasa numerica: 32.74899679407639\n",
      "Rho tasa BS: 32.74716062566774\n"
     ]
    }
   ],
   "source": [
    "r0 = r.value()\n",
    "h = 0.0001\n",
    "r.setValue(r0+h)\n",
    "V_plus = opcion_europea.NPV()\n",
    "r.setValue(r0)\n",
    "rho_numerica = (V_plus - V0)/h\n",
    "\n",
    "\n",
    "print(\"Rho tasa numerica:\", rho_numerica)\n",
    "print(\"Rho tasa BS:\", rho_BS)"
   ]
  },
  {
   "cell_type": "code",
   "execution_count": 14,
   "metadata": {},
   "outputs": [
    {
     "name": "stdout",
     "output_type": "stream",
     "text": [
      "Rho dividendo numerica: -36.44405242358317\n",
      "Rho dividendo BS: -36.446561521667505\n"
     ]
    }
   ],
   "source": [
    "q0 = q.value()\n",
    "h = 0.0001\n",
    "q.setValue(q0+h)\n",
    "V_plus = opcion_europea.NPV()\n",
    "q.setValue(q0)\n",
    "div_rho_numerica = (V_plus - V0)/h\n",
    "\n",
    "\n",
    "print(\"Rho dividendo numerica:\", div_rho_numerica)\n",
    "print(\"Rho dividendo BS:\", div_rho_BS)"
   ]
  },
  {
   "cell_type": "markdown",
   "metadata": {},
   "source": [
    "El enfoque para Theta es un poco diferente, aunque todavía se basa en el hecho de que la opción reacciona al cambio en los datos del mercado. El problema es que no tenemos el tiempo de vencimiento disponible como cotización, como sucedía con las otras cantidades. En cambio, dado que configuramos las estructuras de términos para que se muevan con la fecha de evaluación, solo tenemos que configurarlo en la fecha de mañana para obtener el valor de opción correspondiente:"
   ]
  },
  {
   "cell_type": "code",
   "execution_count": 15,
   "metadata": {},
   "outputs": [
    {
     "name": "stdout",
     "output_type": "stream",
     "text": [
      "19.018046859717114\n",
      "19.018046859717114\n",
      "Theta numerica: 0.0\n",
      "Theta BS: -51.76161250063861\n"
     ]
    }
   ],
   "source": [
    "##No esta recalculando con la nueva fecha!\n",
    "\n",
    "\n",
    "ql.Settings.instance().evaluationDate = fecha_valuacion +10\n",
    "\n",
    "\n",
    "V1 = opcion_europea.NPV()\n",
    "\n",
    "h = 1.0/365.0\n",
    "print(V1)\n",
    "print(V0)\n",
    "theta_numerica = (V1-V0)/h\n",
    "\n",
    "\n",
    "\n",
    "\n",
    "\n",
    "print(\"Theta numerica:\", theta_numerica)\n",
    "print(\"Theta BS:\", theta_BS)"
   ]
  },
  {
   "cell_type": "code",
   "execution_count": null,
   "metadata": {},
   "outputs": [],
   "source": []
  },
  {
   "cell_type": "code",
   "execution_count": null,
   "metadata": {},
   "outputs": [],
   "source": []
  },
  {
   "cell_type": "code",
   "execution_count": 16,
   "metadata": {},
   "outputs": [],
   "source": [
    "#vuelvo\n",
    "ql.Settings.instance().evaluationDate = fecha_valuacion"
   ]
  },
  {
   "cell_type": "code",
   "execution_count": null,
   "metadata": {},
   "outputs": [],
   "source": []
  },
  {
   "cell_type": "code",
   "execution_count": null,
   "metadata": {},
   "outputs": [],
   "source": []
  },
  {
   "cell_type": "code",
   "execution_count": null,
   "metadata": {},
   "outputs": [],
   "source": []
  },
  {
   "cell_type": "code",
   "execution_count": null,
   "metadata": {},
   "outputs": [],
   "source": []
  }
 ],
 "metadata": {
  "kernelspec": {
   "display_name": "Python 3",
   "language": "python",
   "name": "python3"
  },
  "language_info": {
   "codemirror_mode": {
    "name": "ipython",
    "version": 3
   },
   "file_extension": ".py",
   "mimetype": "text/x-python",
   "name": "python",
   "nbconvert_exporter": "python",
   "pygments_lexer": "ipython3",
   "version": "3.8.8"
  }
 },
 "nbformat": 4,
 "nbformat_minor": 1
}
