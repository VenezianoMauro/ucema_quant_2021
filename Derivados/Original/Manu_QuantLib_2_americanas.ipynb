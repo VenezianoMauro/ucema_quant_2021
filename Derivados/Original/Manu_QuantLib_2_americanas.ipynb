{
 "cells": [
  {
   "cell_type": "markdown",
   "metadata": {},
   "source": [
    "# Opciones Americanas"
   ]
  },
  {
   "cell_type": "code",
   "execution_count": 1,
   "metadata": {},
   "outputs": [],
   "source": [
    "import QuantLib as ql"
   ]
  },
  {
   "cell_type": "markdown",
   "metadata": {},
   "source": [
    "\n",
    "\n",
    "Trabajemos ahora con Opciones Americanas. Las opciones americanas recoremos que tienene ejercicio temprano. Es decir uno puede ejercerlas antes de vencimiento. Esa opcionalidad añade un ingrediente de complejidad, dado que hay que calcular el ejercicio optimo para poder hacer una buena valuacion.\n",
    "Aqui el modelo de Black Scholes no lo podremos usar.\n",
    "Son pocas las cosas que hay que modificar. Primero redefinimos el tipo de ejercicio a un ejercicio de tipo americano (`AmericanExercise`)\n"
   ]
  },
  {
   "cell_type": "code",
   "execution_count": 2,
   "metadata": {},
   "outputs": [],
   "source": [
    "#Definimos los inputs\n",
    "precio_activo = 440 #Spot (S)\n",
    "precio_ejercicio = 450 #Strike (K)\n",
    "volatilidad = 0.3394  #Volatilidad Implicita anualizada (sigma)\n",
    "tasa_interes = 0.0013 #tasa libre de riesgo anualizada (r)\n",
    "tasa_dividendos =  0.075 #tasa de dividendos anualizada (q)\n",
    "\n",
    "#Expiracion el 16 de octubre de 2020\n",
    "fecha_expiracion = ql.Date(16, 10, 2020)\n",
    "#Valuacion el 16 de octubre de 2020\n",
    "fecha_valuacion = ql.Date(6, 8, 2020)\n",
    "ql.Settings.instance().evaluationDate = fecha_valuacion\n",
    "day_count = ql.Actual365Fixed()\n",
    "calendario = ql.UnitedStates()\n"
   ]
  },
  {
   "cell_type": "markdown",
   "metadata": {},
   "source": [
    "En este punto es en el que se invocan nuevas clases. En particular: `AmericanExercise` que a diferencia de `EuropeanExercise` pide tambien la fecha de valuacion como entrada"
   ]
  },
  {
   "cell_type": "code",
   "execution_count": 3,
   "metadata": {},
   "outputs": [],
   "source": [
    "tipo_opcion = ql.Option.Call #Tipo de opcion (CALL o PUT)\n",
    "payoff = ql.PlainVanillaPayoff(tipo_opcion, precio_ejercicio)\n",
    "ejercicio_americano = ql.AmericanExercise(fecha_valuacion, fecha_expiracion)\n",
    "opcion_americana = ql.VanillaOption(payoff, ejercicio_americano)"
   ]
  },
  {
   "cell_type": "markdown",
   "metadata": {},
   "source": [
    "Cramos los objetos necesarios para la valuacion (notar que son identicos que en el caso Europeo.)"
   ]
  },
  {
   "cell_type": "code",
   "execution_count": 4,
   "metadata": {},
   "outputs": [],
   "source": [
    "S = ql.SimpleQuote(precio_activo)\n",
    "objeto_spot = ql.QuoteHandle(S)\n",
    "\n",
    "r = ql.SimpleQuote(tasa_interes)\n",
    "objeto_tasa_interes = ql.YieldTermStructureHandle(ql.FlatForward(fecha_valuacion, \n",
    "                                                            ql.QuoteHandle(r), \n",
    "                                                        day_count))\n",
    "q = ql.SimpleQuote(tasa_dividendos)\n",
    "objeto_tasa_dividendos = ql.YieldTermStructureHandle(ql.FlatForward(fecha_valuacion, \n",
    "                                                      ql.QuoteHandle(q), \n",
    "                                                      day_count))\n",
    "\n",
    "sigma = ql.SimpleQuote(volatilidad)\n",
    "objeto_volatilidad = ql.BlackVolTermStructureHandle(ql.BlackConstantVol(fecha_valuacion, \n",
    "                                                                 calendario, \n",
    "                                                                 ql.QuoteHandle(sigma), \n",
    "                                                             day_count))\n",
    "\n",
    "proceso_BSM = ql.BlackScholesMertonProcess(objeto_spot, \n",
    "                                           objeto_tasa_dividendos, \n",
    "                                           objeto_tasa_interes, \n",
    "                                           objeto_volatilidad)"
   ]
  },
  {
   "cell_type": "markdown",
   "metadata": {},
   "source": [
    "El siguiente paso es montar el proceso a un modelo (engine) de precios. Veamos que si intentamos usar por ejemplo Black Scholes QuantLib tira un logico error [not an European option], dado que BS es solamente para opciones Europeas:\n"
   ]
  },
  {
   "cell_type": "code",
   "execution_count": 6,
   "metadata": {},
   "outputs": [
    {
     "ename": "RuntimeError",
     "evalue": "not an European option",
     "output_type": "error",
     "traceback": [
      "\u001b[1;31m---------------------------------------------------------------------------\u001b[0m",
      "\u001b[1;31mRuntimeError\u001b[0m                              Traceback (most recent call last)",
      "\u001b[1;32m<ipython-input-6-1fea00589316>\u001b[0m in \u001b[0;36m<module>\u001b[1;34m\u001b[0m\n\u001b[0;32m      1\u001b[0m \u001b[0mopcion_americana\u001b[0m\u001b[1;33m.\u001b[0m\u001b[0msetPricingEngine\u001b[0m\u001b[1;33m(\u001b[0m\u001b[0mql\u001b[0m\u001b[1;33m.\u001b[0m\u001b[0mAnalyticEuropeanEngine\u001b[0m\u001b[1;33m(\u001b[0m\u001b[0mproceso_BSM\u001b[0m\u001b[1;33m)\u001b[0m\u001b[1;33m)\u001b[0m\u001b[1;33m\u001b[0m\u001b[1;33m\u001b[0m\u001b[0m\n\u001b[1;32m----> 2\u001b[1;33m \u001b[0mprecio_opcion_BS_Ame\u001b[0m \u001b[1;33m=\u001b[0m \u001b[0mopcion_americana\u001b[0m\u001b[1;33m.\u001b[0m\u001b[0mNPV\u001b[0m\u001b[1;33m(\u001b[0m\u001b[1;33m)\u001b[0m\u001b[1;33m\u001b[0m\u001b[1;33m\u001b[0m\u001b[0m\n\u001b[0m",
      "\u001b[1;32m~\\anaconda3\\lib\\site-packages\\QuantLib\\QuantLib.py\u001b[0m in \u001b[0;36mNPV\u001b[1;34m(self)\u001b[0m\n\u001b[0;32m   9634\u001b[0m \u001b[1;33m\u001b[0m\u001b[0m\n\u001b[0;32m   9635\u001b[0m     \u001b[1;32mdef\u001b[0m \u001b[0mNPV\u001b[0m\u001b[1;33m(\u001b[0m\u001b[0mself\u001b[0m\u001b[1;33m)\u001b[0m\u001b[1;33m:\u001b[0m\u001b[1;33m\u001b[0m\u001b[1;33m\u001b[0m\u001b[0m\n\u001b[1;32m-> 9636\u001b[1;33m         \u001b[1;32mreturn\u001b[0m \u001b[0m_QuantLib\u001b[0m\u001b[1;33m.\u001b[0m\u001b[0mInstrument_NPV\u001b[0m\u001b[1;33m(\u001b[0m\u001b[0mself\u001b[0m\u001b[1;33m)\u001b[0m\u001b[1;33m\u001b[0m\u001b[1;33m\u001b[0m\u001b[0m\n\u001b[0m\u001b[0;32m   9637\u001b[0m \u001b[1;33m\u001b[0m\u001b[0m\n\u001b[0;32m   9638\u001b[0m     \u001b[1;32mdef\u001b[0m \u001b[0merrorEstimate\u001b[0m\u001b[1;33m(\u001b[0m\u001b[0mself\u001b[0m\u001b[1;33m)\u001b[0m\u001b[1;33m:\u001b[0m\u001b[1;33m\u001b[0m\u001b[1;33m\u001b[0m\u001b[0m\n",
      "\u001b[1;31mRuntimeError\u001b[0m: not an European option"
     ]
    }
   ],
   "source": [
    "opcion_americana.setPricingEngine(ql.AnalyticEuropeanEngine(proceso_BSM))\n",
    "precio_opcion_BS_Ame = opcion_americana.NPV()"
   ]
  },
  {
   "cell_type": "markdown",
   "metadata": {},
   "source": [
    "Para un pricer 'estilo' BS podemos invocar al modelo de Trabajamos entonces con dos alternativa: El modelo de aproximacion de Bjerksund y Stensland `BjerksundStenslandEngine` y el de Barone Adesi y Whaley `BaroneAdesiWhaleyEngine`"
   ]
  },
  {
   "cell_type": "code",
   "execution_count": 8,
   "metadata": {},
   "outputs": [
    {
     "name": "stdout",
     "output_type": "stream",
     "text": [
      "19.4053805016032 19.217979133477456\n"
     ]
    },
    {
     "name": "stderr",
     "output_type": "stream",
     "text": [
      "C:\\Users\\manue\\anaconda3\\lib\\site-packages\\QuantLib\\QuantLib.py:12696: UserWarning: BaroneAdesiWhaleyEngine is deprecated; use BaroneAdesiWhaleyApproximationEngine\n",
      "  warn('%s is deprecated; use %s' % (BaroneAdesiWhaleyEngine.__name__, BaroneAdesiWhaleyApproximationEngine.__name__))\n",
      "C:\\Users\\manue\\anaconda3\\lib\\site-packages\\QuantLib\\QuantLib.py:12713: UserWarning: BjerksundStenslandEngine is deprecated; use BjerksundStenslandApproximationEngine\n",
      "  warn('%s is deprecated; use %s' % (BjerksundStenslandEngine.__name__, BjerksundStenslandApproximationEngine.__name__))\n"
     ]
    }
   ],
   "source": [
    "opcion_americana.setPricingEngine(ql.BaroneAdesiWhaleyEngine(proceso_BSM))\n",
    "precio_opcion_BAW_Ame = opcion_americana.NPV()\n",
    "\n",
    "opcion_americana.setPricingEngine(ql.BjerksundStenslandEngine(proceso_BSM))\n",
    "precio_opcion_BjSt_Ame = opcion_americana.NPV()\n",
    "\n",
    "print(precio_opcion_BAW_Ame, precio_opcion_BjSt_Ame)\n"
   ]
  },
  {
   "cell_type": "markdown",
   "metadata": {},
   "source": [
    "Invoco ahora a los otros tipos de pricer vistos en el caso Europeo. Desde ya estos son modificaciones de los anteriores."
   ]
  },
  {
   "cell_type": "code",
   "execution_count": 9,
   "metadata": {},
   "outputs": [],
   "source": [
    "# No hay Black Scholes\n",
    "\n",
    "modelo_arbol = 'CRR'\n",
    "pasos_arbol = 1000\n",
    "\n",
    "opcion_americana.setPricingEngine(ql.BinomialVanillaEngine(proceso_BSM, \n",
    "                                                           modelo_arbol, \n",
    "                                                           pasos_arbol))\n",
    "precio_opcion_Bin_Ame = opcion_americana.NPV()"
   ]
  },
  {
   "cell_type": "code",
   "execution_count": 10,
   "metadata": {},
   "outputs": [],
   "source": [
    "opcion_americana.setPricingEngine(ql.FdBlackScholesVanillaEngine(proceso_BSM))\n",
    "precio_opcion_DF_Ame = opcion_americana.NPV()\n",
    "\n",
    "pasos_tiempo = 20\n",
    "caminos = 50000\n",
    "\n",
    "opcion_americana.setPricingEngine(ql.MCAmericanEngine(proceso_BSM, \n",
    "                                                      \"PseudoRandom\", \n",
    "                                                      timeSteps = pasos_tiempo, \n",
    "                                                      requiredSamples = caminos))\n",
    "precio_opcion_MC_Ame = opcion_americana.NPV()"
   ]
  },
  {
   "cell_type": "code",
   "execution_count": 11,
   "metadata": {},
   "outputs": [
    {
     "name": "stdout",
     "output_type": "stream",
     "text": [
      "Precio modelo Amercana Bjerksund Stensland QuantLib: 19.217979133477456\n",
      "Precio modelo Amercana Barone Adesi Whaley QuantLib: 19.4053805016032\n",
      "Precio modelo Amercana Binomial QuantLib: 19.430458475988022\n",
      "Precio modelo Amercana Montecarlo QuantLib: 19.402791275559714\n",
      "Precio modelo Amercana Dif. FinitasQuantLib: 19.41200863593298\n"
     ]
    }
   ],
   "source": [
    "print(\"Precio modelo Amercana Bjerksund Stensland QuantLib:\", precio_opcion_BjSt_Ame)\n",
    "print(\"Precio modelo Amercana Barone Adesi Whaley QuantLib:\", precio_opcion_BAW_Ame)\n",
    "print(\"Precio modelo Amercana Binomial QuantLib:\", precio_opcion_Bin_Ame)\n",
    "print(\"Precio modelo Amercana Montecarlo QuantLib:\", precio_opcion_MC_Ame)\n",
    "print(\"Precio modelo Amercana Dif. FinitasQuantLib:\", precio_opcion_DF_Ame)"
   ]
  },
  {
   "cell_type": "markdown",
   "metadata": {},
   "source": [
    "## Diferencias de precios entre opciones Europeas y Americanas"
   ]
  },
  {
   "cell_type": "markdown",
   "metadata": {},
   "source": [
    "### Caso Call sin dividendos\n",
    "\n",
    "En este caso no hay diferencia de precios"
   ]
  },
  {
   "cell_type": "code",
   "execution_count": 12,
   "metadata": {},
   "outputs": [],
   "source": [
    "\n",
    "#Definimos los inputs\n",
    "precio_activo = 100 #Spot (S)\n",
    "precio_ejercicio = 120 #Strike (K)\n",
    "volatilidad = 0.3  #Volatilidad Implicita anualizada (sigma)\n",
    "tasa_interes = 0.001 #tasa libre de riesgo anualizada (r)\n",
    "tasa_dividendos =  0.0 #tasa de dividendos anualizada (q)\n",
    "\n",
    "\n",
    "#Expiracion el 16 de octubre de 2020\n",
    "fecha_expiracion = ql.Date(16, 10, 2020)\n",
    "#Valuacion el 16 de octubre de 2020\n",
    "fecha_valuacion = ql.Date(6, 8, 2020)\n",
    "ql.Settings.instance().evaluationDate = fecha_valuacion\n",
    "day_count = ql.Actual365Fixed()\n",
    "calendario = ql.UnitedStates()\n",
    "\n",
    "\n",
    "S = ql.SimpleQuote(precio_activo)\n",
    "objeto_spot = ql.QuoteHandle(S)\n",
    "\n",
    "r = ql.SimpleQuote(tasa_interes)\n",
    "objeto_tasa_interes = ql.YieldTermStructureHandle(ql.FlatForward(fecha_valuacion, \n",
    "                                                            ql.QuoteHandle(r), \n",
    "                                                        day_count))\n",
    "\n",
    "q = ql.SimpleQuote(tasa_dividendos)\n",
    "objeto_tasa_dividendos = ql.YieldTermStructureHandle(ql.FlatForward(fecha_valuacion, \n",
    "                                                      ql.QuoteHandle(q), \n",
    "                                                      day_count))\n",
    "\n",
    "sigma = ql.SimpleQuote(volatilidad)\n",
    "objeto_volatilidad = ql.BlackVolTermStructureHandle(ql.BlackConstantVol(fecha_valuacion, \n",
    "                                                                 calendario, \n",
    "                                                                 ql.QuoteHandle(sigma), \n",
    "                                                             day_count))\n",
    "\n",
    "proceso_BSM = ql.BlackScholesMertonProcess(objeto_spot, \n",
    "                                           objeto_tasa_dividendos, \n",
    "                                           objeto_tasa_interes, \n",
    "                                           objeto_volatilidad)\n",
    "\n",
    "\n",
    "\n",
    "tipo_opcion = ql.Option.Call #Tipo de opcion (CALL o PUT)\n",
    "payoff = ql.PlainVanillaPayoff(tipo_opcion, precio_ejercicio)\n",
    "\n",
    "\n",
    "ejercicio_americano = ql.AmericanExercise(fecha_valuacion, fecha_expiracion)\n",
    "opcion_americana = ql.VanillaOption(payoff, ejercicio_americano)\n",
    "\n",
    "ejercicio_europeo = ql.EuropeanExercise(fecha_expiracion)\n",
    "opcion_europea = ql.VanillaOption(payoff, ejercicio_europeo)\n",
    "\n",
    "\n",
    "modelo_arbol = 'CRR'\n",
    "pasos_arbol = 1000\n",
    "\n",
    "modelo = ql.BinomialVanillaEngine(proceso_BSM, modelo_arbol, pasos_arbol)\n",
    "\n",
    "\n",
    "opcion_americana.setPricingEngine(modelo)\n",
    "opcion_europea.setPricingEngine(modelo)\n",
    "\n",
    "\n",
    "\n"
   ]
  },
  {
   "cell_type": "code",
   "execution_count": 13,
   "metadata": {},
   "outputs": [
    {
     "name": "stdout",
     "output_type": "stream",
     "text": [
      "Precio modelo Amercana: 0.5585418910215348\n",
      "Precio modelo Europea: 0.5585418910215348\n"
     ]
    }
   ],
   "source": [
    "precio_americana = opcion_americana.NPV()\n",
    "precio_europea = opcion_europea.NPV()\n",
    "\n",
    "print(\"Precio modelo Amercana:\", precio_americana)\n",
    "print(\"Precio modelo Europea:\", precio_europea)"
   ]
  },
  {
   "cell_type": "markdown",
   "metadata": {},
   "source": [
    "### Caso Call con dividendos\n",
    "\n"
   ]
  },
  {
   "cell_type": "code",
   "execution_count": 14,
   "metadata": {},
   "outputs": [
    {
     "name": "stdout",
     "output_type": "stream",
     "text": [
      "Precio modelo Americana: 0.4765140777277043\n",
      "Precio modelo Europea: 0.4724121922029323\n"
     ]
    }
   ],
   "source": [
    "tasa_dividendos =  0.05 #tasa de dividendos anualizada (q)\n",
    "q.setValue(tasa_dividendos)\n",
    "\n",
    "precio_americana = opcion_americana.NPV()\n",
    "precio_europea = opcion_europea.NPV()\n",
    "\n",
    "print(\"Precio modelo Americana:\", precio_americana)\n",
    "print(\"Precio modelo Europea:\", precio_europea)"
   ]
  },
  {
   "cell_type": "markdown",
   "metadata": {},
   "source": [
    "### Caso Put con dividendos"
   ]
  },
  {
   "cell_type": "code",
   "execution_count": 15,
   "metadata": {},
   "outputs": [],
   "source": [
    "tipo_opcion = ql.Option.Put #Tipo de opcion (CALL o PUT)\n",
    "payoff = ql.PlainVanillaPayoff(tipo_opcion, precio_ejercicio)\n",
    "\n",
    "ejercicio_americano = ql.AmericanExercise(fecha_valuacion, fecha_expiracion)\n",
    "opcion_americana = ql.VanillaOption(payoff, ejercicio_americano)\n",
    "\n",
    "ejercicio_europeo = ql.EuropeanExercise(fecha_expiracion)\n",
    "opcion_europea = ql.VanillaOption(payoff, ejercicio_europeo)\n",
    "\n",
    "\n",
    "tasa_dividendos =  0.05 #tasa de dividendos anualizada (q)\n",
    "q.setValue(tasa_dividendos)\n",
    "\n",
    "opcion_americana.setPricingEngine(modelo)\n",
    "opcion_europea.setPricingEngine(modelo)"
   ]
  },
  {
   "cell_type": "code",
   "execution_count": 16,
   "metadata": {},
   "outputs": [
    {
     "name": "stdout",
     "output_type": "stream",
     "text": [
      "Precio modelo Americana: 21.416968770127703\n",
      "Precio modelo Europea: 21.416968770127703\n"
     ]
    }
   ],
   "source": [
    "precio_americana = opcion_americana.NPV()\n",
    "precio_europea = opcion_europea.NPV()\n",
    "\n",
    "print(\"Precio modelo Americana:\", precio_americana)\n",
    "print(\"Precio modelo Europea:\", precio_europea)"
   ]
  },
  {
   "cell_type": "markdown",
   "metadata": {},
   "source": [
    "### Caso Put sin dividendos"
   ]
  },
  {
   "cell_type": "code",
   "execution_count": 17,
   "metadata": {},
   "outputs": [
    {
     "name": "stdout",
     "output_type": "stream",
     "text": [
      "Precio modelo Americana: 20.54036429016482\n",
      "Precio modelo Europea: 20.535202917603172\n"
     ]
    }
   ],
   "source": [
    "\n",
    "tasa_dividendos =  0.00 #tasa de dividendos anualizada (q)\n",
    "q.setValue(tasa_dividendos)\n",
    "\n",
    "\n",
    "#opcion_americana.setPricingEngine(modelo)\n",
    "#opcion_europea.setPricingEngine(modelo)\n",
    "\n",
    "\n",
    "precio_americana = opcion_americana.NPV()\n",
    "precio_europea = opcion_europea.NPV()\n",
    "\n",
    "print(\"Precio modelo Americana:\", precio_americana)\n",
    "print(\"Precio modelo Europea:\", precio_europea)"
   ]
  },
  {
   "cell_type": "code",
   "execution_count": null,
   "metadata": {},
   "outputs": [],
   "source": []
  },
  {
   "cell_type": "code",
   "execution_count": null,
   "metadata": {},
   "outputs": [],
   "source": []
  },
  {
   "cell_type": "code",
   "execution_count": null,
   "metadata": {},
   "outputs": [],
   "source": []
  }
 ],
 "metadata": {
  "kernelspec": {
   "display_name": "Python 3",
   "language": "python",
   "name": "python3"
  },
  "language_info": {
   "codemirror_mode": {
    "name": "ipython",
    "version": 3
   },
   "file_extension": ".py",
   "mimetype": "text/x-python",
   "name": "python",
   "nbconvert_exporter": "python",
   "pygments_lexer": "ipython3",
   "version": "3.8.8"
  }
 },
 "nbformat": 4,
 "nbformat_minor": 1
}
