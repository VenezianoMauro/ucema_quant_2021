{
 "cells": [
  {
   "cell_type": "markdown",
   "metadata": {},
   "source": [
    "# Derivados Financieros 2021 - Clase 5\n",
    "## Otros modelos de pricing - QuantLib\n",
    "\n",
    "    0) PnL Explanation\n",
    "    1) Montecarlo\n",
    "    2) Diferencias Finitas\n",
    "    3) QuantLib\n",
    "    4) GUI de yapa"
   ]
  },
  {
   "cell_type": "markdown",
   "metadata": {},
   "source": [
    "$$ PnL(hoy) = C(hoy)- C(ayer) = $$\n",
    "\n",
    "$$ PnL(t=1) = C(t=1)- C(t=0) = dC(t=0) = \\frac{dC}{dt}(t=0) $$\n",
    "\n",
    "$$  \\frac{dC}{dt}(t=0) =  \\frac{\\partial C}{\\partial S}(t=0)  \\frac{dS}{dt}(t=0) +  \\frac{\\partial C}{\\partial \\tau}(t=0)  \\frac{d\\tau}{dt}(t=0) + \\frac{\\partial C}{\\partial \\sigma}(t=0)  \\frac{d\\sigma}{dt}(t=0) + \\frac{1}{2} \\frac{\\partial C}{\\partial S^2}(t=0)  \\left(\\frac{dS}{dt}(t=0)\\right)^2 \\cdots $$\n",
    "\n",
    "$$  PnL =  \\frac{\\partial C}{\\partial S}  dS +  \\frac{\\partial C}{\\partial \\tau}  d\\tau+ \\frac{\\partial C}{\\partial \\sigma}  d\\sigma + \\frac{1}{2} \\frac{\\partial C}{\\partial S^2} \\left(dS\\right)^2 + \\cdots $$\n",
    "\n",
    "\n",
    "$$  PnL (hoy) =  \\Delta (ayer) (S(hoy)-S(ayer)) +  \\Theta(ayer)  + Vega(ayer)  (\\sigma(hoy)-\\sigma(ayer)) + \\frac{1}{2} \\Gamma  (ayer) (S(hoy)-S(ayer))^2 + \\cdots $$\n",
    "\n",
    "\n",
    "\n",
    "\n",
    "\n",
    "\n",
    "\n",
    "\n"
   ]
  },
  {
   "cell_type": "markdown",
   "metadata": {},
   "source": [
    "Este analisis nos permite por un lado verificar si nuestro modelo de precios es adecuado para el mercado y por otro, tener un control explicativo de la dinamica del precio.\n",
    "\n",
    "Un test de PnL es un tipico ananlsis de control de riesgo. La idea es por un lado tomar 30 (u otra cantidad de dias) del pasado de datos de mercado y:\n",
    "\n",
    "    - Por un lado calcular el PnL real, de mercado - por ejemplo call europea $C(t+1)+C(t)$\n",
    "    - Por el otro con los datos de mercado de spot, volatilidad y las griegas de nuestro modelo, llegar al PnL de modelo\n",
    "    - Finalemnte hacer una regrecion entre ambas\n",
    "    \n",
    "\n"
   ]
  },
  {
   "cell_type": "markdown",
   "metadata": {},
   "source": [
    "## Ejercicio Realizar El PnL explanation del sigueinte data historica\n",
    "\n"
   ]
  },
  {
   "cell_type": "code",
   "execution_count": null,
   "metadata": {},
   "outputs": [],
   "source": [
    "import pandas as pd\n",
    "stock_data = pd.read_pickle(\"./stock.pkl\")\n",
    "\n",
    "\n",
    "option_data = pd.read_pickle(\"./option.pkl\")"
   ]
  },
  {
   "cell_type": "code",
   "execution_count": null,
   "metadata": {},
   "outputs": [],
   "source": [
    "stock_data['day_num']=list(range(len(stock_data.index)))\n",
    "stock_data\n",
    "\n"
   ]
  },
  {
   "cell_type": "code",
   "execution_count": null,
   "metadata": {},
   "outputs": [],
   "source": [
    "\n",
    "option_data['day_num']=list(range(len(option_data.index)))\n",
    "option_data"
   ]
  },
  {
   "cell_type": "code",
   "execution_count": null,
   "metadata": {},
   "outputs": [],
   "source": [
    "from datetime import date\n",
    "business_days = [date.date() for date in option_data.index]\n",
    "business_days"
   ]
  },
  {
   "cell_type": "code",
   "execution_count": null,
   "metadata": {},
   "outputs": [],
   "source": [
    "\n",
    "PnL_df = pd.DataFrame(index = business_days, columns = ['PnL_Mercado', 'PnL_Modelo_Explained', 'Delta', 'Theta', 'Gamma', 'PnL_Modelo_Unexplained','day_num', 'Precio_Mercado', 'Precio_Modelo'])\n",
    "PnL_df['day_num']=list(range(len(PnL_df.index)))\n",
    "\n",
    "PnL_df.PnL_Mercado = 0.0\n",
    "PnL_df.Precio_Modelo = 0.0\n",
    "\n",
    "PnL_df.PnL_Modelo_Explained = 0.0\n",
    "PnL_df.Delta = 0.0\n",
    "PnL_df.Theta = 0.0\n",
    "PnL_df.Gamma = 0.0\n",
    "PnL_df.PnL_Modelo_Unexplained = 0.0\n",
    "\n",
    "\n",
    "PnL_df.Precio_Mercado = option_data.CLOSE\n",
    "\n",
    "PnL_df\n"
   ]
  },
  {
   "cell_type": "code",
   "execution_count": null,
   "metadata": {},
   "outputs": [],
   "source": [
    "for i in PnL_df['day_num'].values[1:]:\n",
    "    PnL_df['PnL_Mercado'].values[i] = option_data.CLOSE.values[i] - option_data.CLOSE.values[i-1]\n"
   ]
  },
  {
   "cell_type": "code",
   "execution_count": null,
   "metadata": {},
   "outputs": [],
   "source": [
    "PnL_df"
   ]
  },
  {
   "cell_type": "code",
   "execution_count": null,
   "metadata": {},
   "outputs": [],
   "source": [
    "import datetime\n",
    "r = 0.025\n",
    "sigma = 0.287\n",
    "K = 410\n",
    "div = 0.01\n",
    "tipo = \"C\"\n",
    "expiry_datetime = datetime.date(2020,10,16)\n",
    "\n",
    "h = 0.1\n",
    "\n",
    "pasos = 250\n",
    "\n",
    "#hoy = datetime.date.today()\n",
    "#        expiry_datetime = datetime.date(year, month, day)\n",
    "#ttm = (expiry_datetime - hoy).days"
   ]
  },
  {
   "cell_type": "code",
   "execution_count": null,
   "metadata": {},
   "outputs": [],
   "source": [
    "from opcion_europea_bs import opcion_europea_bs\n",
    "from opcion_americana_bin import opcion_americana_bin"
   ]
  },
  {
   "cell_type": "code",
   "execution_count": null,
   "metadata": {},
   "outputs": [],
   "source": [
    "for i in PnL_df['day_num'].values:\n",
    "    \n",
    "    TTM = (expiry_datetime - PnL_df.index.values[i]).days\n",
    "    T = TTM/365.0\n",
    "    S = stock_data.CLOSE.values[i]\n",
    "    \n",
    "    C = opcion_americana_bin(tipo, S, K, T, r, sigma, div,pasos)\n",
    "    \n",
    "    PnL_df['Precio_Modelo'].values[i] = C\n",
    "    \n",
    "    C_Sup = opcion_americana_bin(tipo, S + h, K, T, r, sigma, div, pasos)\n",
    "    C_Sdown = opcion_americana_bin(tipo, S - h, K, T, r, sigma, div, pasos)\n",
    "    \n",
    "    PnL_df['Delta'].values[i] = (C_Sup - C_Sdown) / (2*h) \n",
    "    \n",
    "    #PnL_df['Gamma'].values[i] = (C_Sup - 2 * C + C_Sdown) / (h**2) \n",
    "    \n",
    "    C_yes = opcion_americana_bin(tipo, S, K, T+1/256.0, r, sigma, div, pasos)\n",
    "    \n",
    "    PnL_df['Theta'].values[i] = (C - C_yes)\n",
    "    \n",
    "    #print(\"C: \",C, \", C_Sup: \", C_Sup,\"C_Sdown: \", C_Sdown, \", C_yes: \", C_yes )\n",
    "    "
   ]
  },
  {
   "cell_type": "code",
   "execution_count": null,
   "metadata": {},
   "outputs": [],
   "source": [
    "\n",
    "PnL_df"
   ]
  },
  {
   "cell_type": "code",
   "execution_count": null,
   "metadata": {},
   "outputs": [],
   "source": [
    "for i in PnL_df['day_num'].values[1:]:\n",
    "    PnL_df.PnL_Modelo_Explained.values[i] = PnL_df.Delta.values[i-1] * (stock_data.CLOSE.values[i] -stock_data.CLOSE.values[i-1]) + PnL_df.Gamma.values[i-1] * (stock_data.CLOSE.values[i] -stock_data.CLOSE.values[i-1])**2 + PnL_df.Theta.values[i-1] \n",
    "    PnL_df.PnL_Modelo_Unexplained.values[i] = PnL_df.PnL_Mercado.values[i] - PnL_df.PnL_Modelo_Explained.values[i]\n",
    "    \n",
    "    "
   ]
  },
  {
   "cell_type": "code",
   "execution_count": null,
   "metadata": {},
   "outputs": [],
   "source": [
    "PnL_df"
   ]
  },
  {
   "cell_type": "code",
   "execution_count": null,
   "metadata": {},
   "outputs": [],
   "source": [
    "import numpy as np\n",
    "from matplotlib import pyplot as plt\n",
    "x = np.linspace(-20, 20, 1000)\n",
    "\n",
    "plt.plot(x, x, 'r-')\n",
    "plt.plot(PnL_df['PnL_Mercado'].values, PnL_df['PnL_Modelo_Explained'].values, 'o')\n",
    "plt.title('PnL Attribute')\n",
    "plt.xlabel('PnL Mercado')\n",
    "plt.ylabel('PnL Explained Modelo')\n",
    "\n",
    "plt.show()"
   ]
  },
  {
   "cell_type": "code",
   "execution_count": null,
   "metadata": {},
   "outputs": [],
   "source": [
    "x = np.linspace(-20, 20, 1000)\n",
    "\n",
    "plt.plot(x, x, 'r-')\n",
    "plt.plot(PnL_df['PnL_Mercado'].values, PnL_df['PnL_Modelo_Explained'].values, 'o')\n",
    "plt.title('PnL Attribute')\n",
    "plt.xlabel('PnL Mercado')\n",
    "plt.ylabel('PnL Explained Modelo')\n",
    "\n",
    "plt.xlim(-5,5)\n",
    "plt.ylim(-5,5)\n",
    "\n",
    "\n",
    "plt.show()"
   ]
  },
  {
   "cell_type": "markdown",
   "metadata": {},
   "source": [
    "## 1) Metodo de Montecarlo"
   ]
  },
  {
   "cell_type": "code",
   "execution_count": null,
   "metadata": {},
   "outputs": [],
   "source": [
    "from opcion_europea_bs import opcion_europea_bs\n",
    "from opcion_europea_mc import opcion_europea_mc\n",
    "\n",
    "import math"
   ]
  },
  {
   "cell_type": "markdown",
   "metadata": {},
   "source": [
    "opcion_europea_mc\n",
    "Def\n",
    "    Calculador del precio de una opcion Europea con el modelo de MonteCarlo\n",
    "Inputs\n",
    "    - tipo : string - Tipo de contrato entre [\"CALL\",\"PUT\"]\n",
    "    - S : float - Spot price del activo\n",
    "    - K : float - Strike price del contrato\n",
    "    - T : float - Tiempo hasta la expiracion (en años)\n",
    "    - r : float - Tasa 'libre de riesgo' (anualizada)\n",
    "    - sigma : float - Volatilidad implicita (anualizada)\n",
    "    - div : float - Tasa de dividendos continuos (anualizada)\n",
    "    - pasos : int - Cantidad de caminos de montecarlo\n",
    "Outputs\n",
    "    - precio_MC: float - Precio del contrato\n"
   ]
  },
  {
   "cell_type": "code",
   "execution_count": null,
   "metadata": {},
   "outputs": [],
   "source": [
    "#Inicializo los parametros\n",
    "\n",
    "tipo = \"C\"\n",
    "S = 100\n",
    "K = 100\n",
    "T = 1\n",
    "r = 0.05\n",
    "sigma = 0.25\n",
    "div = 0"
   ]
  },
  {
   "cell_type": "code",
   "execution_count": null,
   "metadata": {},
   "outputs": [],
   "source": [
    "#Tomo un vector de normales aleatorias\n",
    "pasos = 1000000 \n",
    "z = np.random.normal(0,1,pasos)\n",
    "#print(z)\n"
   ]
  },
  {
   "cell_type": "code",
   "execution_count": null,
   "metadata": {},
   "outputs": [],
   "source": [
    "opcion = np.zeros(pasos) #En el ppt. C = C_i"
   ]
  },
  {
   "cell_type": "code",
   "execution_count": null,
   "metadata": {},
   "outputs": [],
   "source": [
    "for i in range(0,pasos):\n",
    "    if tipo == \"C\":\n",
    "        payoff = max( 0 , S * math.exp((r-div - 0.5 * math.pow(sigma,2)) * T + sigma * math.sqrt(T)  * z[i]) - K) # max(0,S_i-K)\n",
    "    elif tipo == \"P\":\n",
    "        payoff = max(0, K - S * math.exp((r-div - 0.5 * math.pow(sigma, 2)) * T + sigma * math.sqrt(T) * z[i]) )\n",
    "    opcion[i] = math.exp(-r * T) * payoff #C_i\n"
   ]
  },
  {
   "cell_type": "code",
   "execution_count": null,
   "metadata": {},
   "outputs": [],
   "source": [
    "precio_MC = np.mean(opcion)\n",
    "\n",
    "precio_MC\n",
    "\n",
    "desvio = math.sqrt(np.var(opcion)/pasos)\n",
    "\n",
    "print(\"precio\",precio_MC)\n",
    "print(\"desvio\", desvio)"
   ]
  },
  {
   "cell_type": "markdown",
   "metadata": {},
   "source": [
    "### Convergencia del metodo"
   ]
  },
  {
   "cell_type": "code",
   "execution_count": null,
   "metadata": {},
   "outputs": [],
   "source": [
    "tipo = \"C\"\n",
    "S = 100\n",
    "K = 100\n",
    "T = 1\n",
    "r = 0.05\n",
    "sigma= 0.25\n",
    "div =0.0\n",
    "\n",
    "pasos_vec = [1,2,3,4,5,6,7,8,9,10,12,14,16,18,20,25,30,40,50,75,100,125,150,200,250,300, 500]      \n",
    "precios = np.zeros(len(pasos_vec))\n",
    "\n",
    "for index in range(len(pasos_vec)):\n",
    "    precios[index] = opcion_europea_mc(tipo, S, K, T, r, sigma, div, pasos_vec[index])\n",
    " \n",
    "precio_BS = opcion_europea_bs(tipo, S, K, T, r, sigma, div)"
   ]
  },
  {
   "cell_type": "code",
   "execution_count": null,
   "metadata": {},
   "outputs": [],
   "source": [
    "from matplotlib import pyplot as plt\n",
    "plt.axhline(y=precio_BS, color = 'black', linestyle='--', label='Precio BlackSholes')\n",
    "plt.plot(pasos_vec,precios,'*', label='Precio Montecarlo')\n",
    "\n",
    "plt.legend()\n",
    "\n",
    "plt.xlabel('Caminos de Montecarlo')\n",
    "plt.ylabel('Precio de la opcion')\n",
    "plt.title('Precio de una opcion a tiempo inicial con respecto al numero caminos de montecarlo')\n",
    "\n",
    "plt.show()"
   ]
  },
  {
   "cell_type": "markdown",
   "metadata": {},
   "source": [
    "# 2) Metodo de diferencias finitas"
   ]
  },
  {
   "cell_type": "code",
   "execution_count": null,
   "metadata": {},
   "outputs": [],
   "source": [
    "from opcion_americana_fd import opcion_americana_fd\n",
    "from opcion_europea_fd import opcion_europea_fd\n",
    "\n",
    "from scipy.interpolate import interp1d"
   ]
  },
  {
   "cell_type": "markdown",
   "metadata": {},
   "source": [
    "opcion_europea_fd\n",
    "Def\n",
    "    Calculador del precio de una opcion Europea con el modelo de Diferencias Finitas (metodo explicito)\n",
    "Inputs\n",
    "    - tipo : string - Tipo de contrato entre [\"CALL\",\"PUT\"]\n",
    "    - S : float - Spot price del activo\n",
    "    - K : float - Strike price del contrato\n",
    "    - T : float - Tiempo hasta la expiracion (en años)\n",
    "    - r : float - Tasa 'libre de riesgo' (anualizada)\n",
    "    - sigma : float - Volatilidad implicita (anualizada)\n",
    "    - div : float - Tasa de dividendos continuos (anualizada)\n",
    "Outputs\n",
    "    - precio_FD: float - Precio del contrato"
   ]
  },
  {
   "cell_type": "code",
   "execution_count": null,
   "metadata": {},
   "outputs": [],
   "source": [
    "tipo = \"C\"\n",
    "S = 100\n",
    "K = 100\n",
    "T = 1\n",
    "r = 0.05\n",
    "sigma= 0.25\n",
    "div =0.0"
   ]
  },
  {
   "cell_type": "code",
   "execution_count": null,
   "metadata": {},
   "outputs": [],
   "source": [
    "#Hadrcode de la grilla de diferencias finitas\n",
    "M = 160\n",
    "N = 1600\n",
    "dS = 2 * S / M\n",
    "dt = T / N"
   ]
  },
  {
   "cell_type": "code",
   "execution_count": null,
   "metadata": {},
   "outputs": [],
   "source": [
    "# Grilla de spots y tiempos\n",
    "S_vec = np.linspace(0, 2*S, M+1)\n",
    "t_vec = np.linspace(0, T, N+1)"
   ]
  },
  {
   "cell_type": "code",
   "execution_count": null,
   "metadata": {},
   "outputs": [],
   "source": [
    "# Armado de la matriz tridiagonal\n",
    "j = np.arange(1,M)\n",
    "j2 = np.zeros(M-1)\n",
    "aj = np.zeros(M-1)\n",
    "bj = np.zeros(M-1)\n",
    "cj = np.zeros(M-1)\n",
    "\n",
    "for index in range(0,M-1):\n",
    "    sigma2 = sigma*sigma\n",
    "    j2[index] = j[index] * j[index]\n",
    "    aj[index] = 0.5 * dt * (sigma2 * j2[index]- (r-div) * j[index])\n",
    "    bj[index] = 1-dt * (sigma2 * j2[index] + r)\n",
    "    cj[index] = 0.5 * dt * (sigma2 * j2[index] + (r-div) * j[index])"
   ]
  },
  {
   "cell_type": "code",
   "execution_count": null,
   "metadata": {},
   "outputs": [],
   "source": [
    "# Matriz tridiagonal\n",
    "\n",
    "A = np.diag(bj)\n",
    "for index in range(0, M - 2):\n",
    "    A[index + 1, index] = aj[index + 1]  # terms below the diagonal\n",
    "    A[index, index + 1] = cj[index]  # terms above the diagonal"
   ]
  },
  {
   "cell_type": "code",
   "execution_count": null,
   "metadata": {},
   "outputs": [],
   "source": [
    "# Matriz de precios de la opcion\n",
    "opcion_precios = np.zeros((M+1,N+1)) #V"
   ]
  },
  {
   "cell_type": "code",
   "execution_count": null,
   "metadata": {},
   "outputs": [],
   "source": [
    "#Condiciones de contorno\n",
    "\n",
    "# Condicion final - Payoff\n",
    "\n",
    "if tipo == \"C\":\n",
    "    opcion_precios[:,-1] = np.maximum(S_vec - K, 0)\n",
    "elif tipo == \"P\":\n",
    "    opcion_precios[:,-1] = np.maximum(K - S_vec, 0)"
   ]
  },
  {
   "cell_type": "code",
   "execution_count": null,
   "metadata": {},
   "outputs": [],
   "source": [
    "# Casos limite en S=0 y S~inf\n",
    "\n",
    "if tipo == \"C\":\n",
    "    opcion_precios[0, :] = 0\n",
    "    opcion_precios[-1, :] = S_vec[-1]*np.exp(-div*np.flip(t_vec)) - K * np.exp(-r*np.flip(t_vec))\n",
    "elif tipo == \"P\":\n",
    "    opcion_precios[0, :] = K * np.exp(-r * np.flip(t_vec))\n",
    "    opcion_precios[-1, :] = 0 #K * np.exp(-r * np.flip(t_vec))"
   ]
  },
  {
   "cell_type": "code",
   "execution_count": null,
   "metadata": {},
   "outputs": [],
   "source": [
    "    \n",
    "# Calculo en el interior\n",
    "# variable auxiliar para sumar en la primer y ultimo fila\n",
    "constantes_bordes = np.array((aj[0], cj[-1]))\n",
    "for i in list(reversed(range(0,N))):\n",
    "\n",
    "    opcion_precios[1:M,i] = A @ opcion_precios[1:M,i+1]\n",
    "    #Offset the first and last terms\n",
    "    opcion_precios[[1,M-1],i] = opcion_precios[[1,M-1],i] + constantes_bordes * opcion_precios[[0, M],i+1];"
   ]
  },
  {
   "cell_type": "code",
   "execution_count": null,
   "metadata": {},
   "outputs": [],
   "source": [
    "#En este punto ya esta TODA la grilla, ahora calculo lo requerido\n",
    "\n",
    "f = interp1d(S_vec,opcion_precios[:,0])\n",
    "precio_FD = float(f(S))\n",
    "\n",
    "S=100\n",
    "precio_FD\n"
   ]
  },
  {
   "cell_type": "code",
   "execution_count": null,
   "metadata": {},
   "outputs": [],
   "source": [
    "from mpl_toolkits import mplot3d\n",
    "\n",
    "X, Y = np.meshgrid(t_vec, S_vec)\n",
    "Z = opcion_precios"
   ]
  },
  {
   "cell_type": "code",
   "execution_count": null,
   "metadata": {},
   "outputs": [],
   "source": [
    "print('X', np.shape(X))\n",
    "print('Y', np.shape(Y))\n",
    "print('Z', np.shape(Z))"
   ]
  },
  {
   "cell_type": "code",
   "execution_count": null,
   "metadata": {},
   "outputs": [],
   "source": [
    "fig = plt.figure()\n",
    "\n",
    "ax = plt.axes(projection='3d')\n",
    "ax.plot_surface(X, Y, Z, cmap='coolwarm')#, edgecolor='none')#rstride=1, cstride=1,\n",
    "                \n",
    "\n",
    "ax.set_title('Precio de la opcion');\n",
    "ax.set_xlabel('Tiempo - t')\n",
    "ax.set_ylabel('Precio del subyacente - S')\n",
    "ax.set_zlabel('Precio de la opcion')\n",
    "\n",
    "plt.show()"
   ]
  },
  {
   "cell_type": "markdown",
   "metadata": {},
   "source": [
    "# 3) QuantLib o Introduccion a una Verdadera plataforma de pricing/riesgo"
   ]
  },
  {
   "cell_type": "code",
   "execution_count": null,
   "metadata": {},
   "outputs": [],
   "source": [
    "from utils_plots import *\n",
    "import QuantLib as ql"
   ]
  },
  {
   "cell_type": "markdown",
   "metadata": {},
   "source": [
    "### Opciones"
   ]
  },
  {
   "cell_type": "markdown",
   "metadata": {},
   "source": [
    "### Supongamos una opcion de AAPL con precio strike de 450 expirando el 16 de octubre de 2020. Supongamos que el spot es 440. La vol implicita es sabida que es 31%, y tiene un dividendo de 0.75%. Valuemos la opcion al dia de hoy (10 de Agosto 2020)"
   ]
  },
  {
   "cell_type": "markdown",
   "metadata": {},
   "source": [
    "#### Definimos los inputs"
   ]
  },
  {
   "cell_type": "code",
   "execution_count": null,
   "metadata": {},
   "outputs": [],
   "source": [
    "S = 456.30\n",
    "K = 460\n",
    "sigma = 0.3394 # the historical vols for a year\n",
    "div =  0.075\n",
    "r = 0.0013\n",
    "\n",
    "option_type = ql.Option.Call\n",
    "\n",
    "option_type"
   ]
  },
  {
   "cell_type": "markdown",
   "metadata": {},
   "source": [
    "#### Para las fechas QuantLib es mas preciso. Pide convenciones y calendarios"
   ]
  },
  {
   "cell_type": "code",
   "execution_count": null,
   "metadata": {},
   "outputs": [],
   "source": [
    "maturity_date = ql.Date(16, 10, 2020)\n",
    "calculation_date = ql.Date(6, 8, 2020)\n",
    "\n",
    "day_count = ql.Actual365Fixed()\n",
    "\n",
    "\n",
    "ql.Argentina()\n",
    "calendar = ql.UnitedStates()\n",
    "ql.Settings.instance().evaluationDate = calculation_date\n",
    "\n",
    "\n",
    "maturity_date"
   ]
  },
  {
   "cell_type": "markdown",
   "metadata": {},
   "source": [
    "#### Aqui construimos a la opcion europea"
   ]
  },
  {
   "cell_type": "code",
   "execution_count": null,
   "metadata": {},
   "outputs": [],
   "source": [
    "payoff = ql.PlainVanillaPayoff(option_type, K)\n",
    "\n",
    "exercise = ql.EuropeanExercise(maturity_date)\n",
    "european_option = ql.VanillaOption(payoff, exercise)\n",
    "\n"
   ]
  },
  {
   "cell_type": "markdown",
   "metadata": {},
   "source": [
    "#### Aca constuimos el proceso de Black Sholes Merton"
   ]
  },
  {
   "cell_type": "markdown",
   "metadata": {},
   "source": [
    "##### El objeto spot"
   ]
  },
  {
   "cell_type": "code",
   "execution_count": null,
   "metadata": {},
   "outputs": [],
   "source": [
    "spot_obj = ql.QuoteHandle(SimpleQuote(S))"
   ]
  },
  {
   "cell_type": "code",
   "execution_count": null,
   "metadata": {},
   "outputs": [],
   "source": [
    "spot_obj.value()"
   ]
  },
  {
   "cell_type": "markdown",
   "metadata": {},
   "source": [
    "##### El objeto curva de descuento (flat en este caso, constante)"
   ]
  },
  {
   "cell_type": "code",
   "execution_count": null,
   "metadata": {},
   "outputs": [],
   "source": [
    "rate_obj = ql.YieldTermStructureHandle(ql.FlatForward(calculation_date, \n",
    "                                                            r, \n",
    "                                                    day_count))"
   ]
  },
  {
   "cell_type": "markdown",
   "metadata": {},
   "source": [
    "##### El objeto curva de dividendos (flat en este caso, constante)"
   ]
  },
  {
   "cell_type": "code",
   "execution_count": null,
   "metadata": {},
   "outputs": [],
   "source": [
    "dividend_obj = ql.YieldTermStructureHandle(ql.FlatForward(calculation_date, \n",
    "                                                      div, \n",
    "                                                      day_count))"
   ]
  },
  {
   "cell_type": "markdown",
   "metadata": {},
   "source": [
    "##### El objeto volatilidad (flat en este caso, constante)"
   ]
  },
  {
   "cell_type": "code",
   "execution_count": null,
   "metadata": {},
   "outputs": [],
   "source": [
    "vol_obj = ql.BlackVolTermStructureHandle(BlackConstantVol(calculation_date, \n",
    "                                                                 calendar, \n",
    "                                                                 sigma, \n",
    "                                                             day_count))"
   ]
  },
  {
   "cell_type": "code",
   "execution_count": null,
   "metadata": {},
   "outputs": [],
   "source": [
    "##### El proceso propiamente dicho"
   ]
  },
  {
   "cell_type": "code",
   "execution_count": null,
   "metadata": {},
   "outputs": [],
   "source": [
    "bsm_process = ql.BlackScholesMertonProcess(spot_obj, \n",
    "                                        dividend_obj, \n",
    "                                        rate_obj, \n",
    "                                        vol_obj)"
   ]
  },
  {
   "cell_type": "markdown",
   "metadata": {},
   "source": [
    "## Modelos de precio"
   ]
  },
  {
   "cell_type": "markdown",
   "metadata": {},
   "source": [
    "###  `AnalyticEuropeanEngine` (Black Scholes)"
   ]
  },
  {
   "cell_type": "code",
   "execution_count": null,
   "metadata": {},
   "outputs": [],
   "source": [
    "european_option.setPricingEngine(ql.AnalyticEuropeanEngine(bsm_process))\n",
    "\n",
    "bs_price = european_option.NPV()\n",
    "print(\"El precio teorico usando el modelo de BS es: \", bs_price)"
   ]
  },
  {
   "cell_type": "markdown",
   "metadata": {},
   "source": [
    "###  `FdBlackScholesVanillaEngine` (Diferencias Finitas)"
   ]
  },
  {
   "cell_type": "code",
   "execution_count": null,
   "metadata": {},
   "outputs": [],
   "source": [
    "european_option.setPricingEngine(ql.FdBlackScholesVanillaEngine(bsm_process))\n",
    "\n",
    "fd_price = european_option.NPV()\n",
    "print(\"El precio teorico usando el modelo de Dif. Finitas es: \", fd_price)"
   ]
  },
  {
   "cell_type": "markdown",
   "metadata": {},
   "source": [
    "###  `MCEuropeanEngine` (Montecarlo)"
   ]
  },
  {
   "cell_type": "code",
   "execution_count": null,
   "metadata": {},
   "outputs": [],
   "source": [
    "european_option.setPricingEngine(ql.MCEuropeanEngine(bsm_process, \"PseudoRandom\", timeSteps=20, requiredSamples=500000))\n",
    "\n",
    "mc_price = european_option.NPV()\n",
    "print(\"El precio teorico usando el modelo de MonteCarlo es: \",  mc_price)"
   ]
  },
  {
   "cell_type": "markdown",
   "metadata": {},
   "source": [
    "###  `BinomialVanillaEngine` (Binomial)"
   ]
  },
  {
   "cell_type": "code",
   "execution_count": null,
   "metadata": {},
   "outputs": [],
   "source": [
    "european_option.setPricingEngine(ql.BinomialVanillaEngine(bsm_process, \"crr\", 1000))\n",
    "\n",
    "bin_price = european_option.NPV()\n",
    "print(\"El precio teorico usando el modelo Binomial es: \",  bin_price)"
   ]
  },
  {
   "cell_type": "markdown",
   "metadata": {},
   "source": [
    "# Comparacion de TODOS* los modelos vistos (caso de juguete)"
   ]
  },
  {
   "cell_type": "markdown",
   "metadata": {},
   "source": [
    "### Fijo los parametros"
   ]
  },
  {
   "cell_type": "code",
   "execution_count": null,
   "metadata": {},
   "outputs": [],
   "source": [
    "S = 100\n",
    "K = 100\n",
    "sigma = 0.25 # the historical vols for a year\n",
    "div =  0.0\n",
    "r = 0.05\n",
    "\n",
    "tipo = 'C'\n",
    "\n",
    "option_type = Option.Call\n",
    "\n",
    "maturity_date = ql.Date(10, 8, 2021)\n",
    "calculation_date = ql.Date(10, 8, 2020)\n",
    "day_count = ql.Actual365Fixed()\n",
    "calendar = ql.UnitedStates()\n",
    "ql.Settings.instance().evaluationDate = calculation_date\n",
    "\n",
    "T = 1\n",
    "\n"
   ]
  },
  {
   "cell_type": "markdown",
   "metadata": {},
   "source": [
    "## Pricers vistos en clase"
   ]
  },
  {
   "cell_type": "markdown",
   "metadata": {},
   "source": [
    "### Importo los pricers vistos en clase"
   ]
  },
  {
   "cell_type": "code",
   "execution_count": null,
   "metadata": {},
   "outputs": [],
   "source": [
    "from opcion_europea_bs import opcion_europea_bs\n",
    "from opcion_europea_mc import opcion_europea_mc\n",
    "from opcion_europea_fd import opcion_europea_fd\n",
    "from opcion_europea_bin import opcion_europea_bin\n",
    "\n",
    "import timeit"
   ]
  },
  {
   "cell_type": "markdown",
   "metadata": {},
   "source": [
    "### Corro cada uno de los pricers (les tomo el tiempo de ejecucion tambien)"
   ]
  },
  {
   "cell_type": "code",
   "execution_count": null,
   "metadata": {},
   "outputs": [],
   "source": [
    "start = timeit.default_timer()\n",
    "precio_bs = opcion_europea_bs(tipo, S, K, T, r, sigma, div)\n",
    "end = timeit.default_timer()\n",
    "tiempo_bs = end - start\n",
    "\n",
    "\n",
    "start = timeit.default_timer()\n",
    "precio_bin = opcion_europea_bin(tipo, S, K, T, r, sigma, div, 5000)\n",
    "end = timeit.default_timer()\n",
    "tiempo_bin = end - start\n",
    "\n",
    "start = timeit.default_timer()\n",
    "precio_mc = opcion_europea_mc(tipo, S, K, T, r, sigma, div, 500000)\n",
    "end = timeit.default_timer()\n",
    "tiempo_mc = end - start\n",
    "\n",
    "start = timeit.default_timer()\n",
    "precio_fd = opcion_europea_fd(tipo, S, K, T, r, sigma, div)\n",
    "end = timeit.default_timer()\n",
    "tiempo_fd = end - start"
   ]
  },
  {
   "cell_type": "markdown",
   "metadata": {},
   "source": [
    "## Precios QuantLib"
   ]
  },
  {
   "cell_type": "markdown",
   "metadata": {},
   "source": [
    "### Seteo lo necesario en QuantLib"
   ]
  },
  {
   "cell_type": "code",
   "execution_count": null,
   "metadata": {},
   "outputs": [],
   "source": [
    "payoff = ql.PlainVanillaPayoff(option_type, K)\n",
    "exercise = ql.EuropeanExercise(maturity_date)\n",
    "european_option = ql.VanillaOption(payoff, exercise)\n",
    "\n",
    "spot_obj = ql.QuoteHandle(SimpleQuote(S))\n",
    "\n",
    "rate_obj = ql.YieldTermStructureHandle(ql.FlatForward(calculation_date, \n",
    "                                                            r, \n",
    "                                                    day_count))\n",
    "\n",
    "dividend_obj = ql.YieldTermStructureHandle(ql.FlatForward(calculation_date, \n",
    "                                                      div, \n",
    "                                                      day_count))\n",
    "\n",
    "vol_obj = ql.BlackVolTermStructureHandle(ql.BlackConstantVol(calculation_date, \n",
    "                                                                 calendar, \n",
    "                                                                 sigma, \n",
    "                                                             day_count))\n",
    "\n",
    "bsm_process = ql.BlackScholesMertonProcess(spot_obj, \n",
    "                                        dividend_obj, \n",
    "                                        rate_obj, \n",
    "                                        vol_obj)\n",
    "\n"
   ]
  },
  {
   "cell_type": "markdown",
   "metadata": {},
   "source": [
    "### Corro cada uno de los pricers (les tomo el tiempo de ejecucion tambien)"
   ]
  },
  {
   "cell_type": "code",
   "execution_count": null,
   "metadata": {},
   "outputs": [],
   "source": [
    "\n",
    "start = timeit.default_timer()\n",
    "european_option.setPricingEngine(ql.AnalyticEuropeanEngine(bsm_process))\n",
    "bs_price = european_option.NPV()\n",
    "end = timeit.default_timer()\n",
    "time_bs = end - start\n",
    "\n",
    "start = timeit.default_timer()\n",
    "european_option.setPricingEngine(ql.FdBlackScholesVanillaEngine(bsm_process))\n",
    "fd_price = european_option.NPV()\n",
    "end = timeit.default_timer()\n",
    "time_fd = end - start\n",
    "\n",
    "start = timeit.default_timer()\n",
    "european_option.setPricingEngine(ql.MCEuropeanEngine(bsm_process, \"PseudoRandom\", timeSteps=20, requiredSamples=500000))\n",
    "mc_price = european_option.NPV()\n",
    "end = timeit.default_timer()\n",
    "time_mc = end - start\n",
    "\n",
    "start = timeit.default_timer()\n",
    "european_option.setPricingEngine(ql.BinomialVanillaEngine(bsm_process, \"crr\", 5000))\n",
    "bin_price = european_option.NPV()\n",
    "end = timeit.default_timer()\n",
    "time_bin = end - start\n",
    "\n"
   ]
  },
  {
   "cell_type": "markdown",
   "metadata": {},
   "source": [
    "### Imprimo TODO"
   ]
  },
  {
   "cell_type": "code",
   "execution_count": null,
   "metadata": {},
   "outputs": [],
   "source": [
    "print(\"Precio modelo Europea BS visto en clase:\", precio_bs)\n",
    "print(\"Tiempo modelo Europea BS visto en clase:\", tiempo_bs)\n",
    "\n",
    "print(\"Precio modelo Europea Binomial visto en clase:\", precio_bin)\n",
    "print(\"Tiempo modelo Europea Binomial visto en clase:\", tiempo_bin)\n",
    "\n",
    "print(\"Precio modelo Europea Montecarlo visto en clase:\", precio_mc)\n",
    "print(\"Tiempo modelo Europea Montecarlo visto en clase:\", tiempo_mc)\n",
    "\n",
    "print(\"Precio modelo Europea Dif. Finitas visto en clase:\", precio_fd)\n",
    "print(\"Tiempo modelo Europea Dif. Finitas visto en clase:\", tiempo_fd)\n",
    "\n",
    "\n",
    "print(\"Precio modelo Europea BS QuantLib\", bs_price)\n",
    "print(\"Tiempo modelo Europea BS QuantLib:\", time_bs)\n",
    "\n",
    "print(\"Precio modelo Europea Binomial QuantLib:\", bin_price)\n",
    "print(\"Tiempo modelo Europea Binomial QuantLib:\", time_bin)\n",
    "\n",
    "print(\"Precio modelo Europea Montecarlo QuantLib:\", mc_price)\n",
    "print(\"Tiempo modelo Europea Montecarlo QuantLib:\", time_mc)\n",
    "\n",
    "print(\"Precio modelo Europea Dif. Finitas QuantLib:\", fd_price)\n",
    "print(\"Tiempo modelo Europea Dif. Finitas QuantLib:\", time_fd)"
   ]
  },
  {
   "cell_type": "markdown",
   "metadata": {},
   "source": [
    "### Tabla de precios por modelo"
   ]
  },
  {
   "cell_type": "markdown",
   "metadata": {},
   "source": [
    "| Precio | Clase | QuantLib |\n",
    "| --- | --- | --- |\n",
    "| BS | 12.336 | 12.336 |\n",
    "| Binomial | 12.33355 | 12.33347 |\n",
    "| Montecarlo | _12.33747_ | _12.38694_ |\n",
    "| Dif.Finitas | 12.33380 | 12.34399 |"
   ]
  },
  {
   "cell_type": "markdown",
   "metadata": {},
   "source": [
    "### Tabla de tiempos de ejecucion por modelo**"
   ]
  },
  {
   "cell_type": "markdown",
   "metadata": {},
   "source": [
    "| Tiempo | Clase | QuantLib |\n",
    "| --- | --- | --- |\n",
    "| BS | **0.00033** | **0.00023** |\n",
    "| Binomial | 17.38176 | **0.06012** |\n",
    "| Montecarlo | **0.72694** | 3.03739 |\n",
    "| Dif.Finitas | 0.046359 | **0.001721** |"
   ]
  },
  {
   "cell_type": "markdown",
   "metadata": {},
   "source": [
    "### Opciones Americanas\n"
   ]
  },
  {
   "cell_type": "code",
   "execution_count": null,
   "metadata": {},
   "outputs": [],
   "source": [
    "S = 100\n",
    "K = 100\n",
    "sigma = 0.25 # the historical vols for a year\n",
    "div =  0.0\n",
    "r = 0.05\n",
    "tipo = 'C'\n",
    "\n",
    "option_type = Option.Put\n",
    "\n",
    "maturity_date = ql.Date(10, 8, 2021)\n",
    "calculation_date = ql.Date(10, 8, 2020)\n",
    "day_count = ql.Actual365Fixed()\n",
    "calendar = ql.UnitedStates()\n",
    "ql.Settings.instance().evaluationDate = calculation_date\n",
    "\n",
    "T = 1\n"
   ]
  },
  {
   "cell_type": "code",
   "execution_count": null,
   "metadata": {},
   "outputs": [],
   "source": [
    "payoff = ql.PlainVanillaPayoff(option_type, K)\n",
    "\n",
    "am_exercise = AmericanExercise(calculation_date, maturity_date)\n",
    "american_option = VanillaOption(payoff, am_exercise)"
   ]
  },
  {
   "cell_type": "code",
   "execution_count": null,
   "metadata": {},
   "outputs": [],
   "source": [
    "spot_obj = ql.QuoteHandle(SimpleQuote(S))\n",
    "\n",
    "rate_obj = ql.YieldTermStructureHandle(ql.FlatForward(calculation_date, \n",
    "                                                            r, \n",
    "                                                    day_count))\n",
    "\n",
    "dividend_obj = ql.YieldTermStructureHandle(ql.FlatForward(calculation_date, \n",
    "                                                      div, \n",
    "                                                      day_count))\n",
    "\n",
    "vol_obj = ql.BlackVolTermStructureHandle(ql.BlackConstantVol(calculation_date, \n",
    "                                                                 calendar, \n",
    "                                                                 sigma, \n",
    "                                                             day_count))\n",
    "\n",
    "bsm_process = ql.BlackScholesMertonProcess(spot_obj, \n",
    "                                        dividend_obj, \n",
    "                                        rate_obj, \n",
    "                                        vol_obj)"
   ]
  },
  {
   "cell_type": "code",
   "execution_count": null,
   "metadata": {},
   "outputs": [],
   "source": [
    "# No hay Black Scholes\n",
    "american_option.setPricingEngine(BinomialVanillaEngine(bsm_process, \"crr\", 1000))\n",
    "bin_price_ame = american_option.NPV()\n",
    "\n",
    "american_option.setPricingEngine(ql.FdBlackScholesVanillaEngine(bsm_process))\n",
    "fd_price_ame = american_option.NPV()\n",
    "\n",
    "american_option.setPricingEngine(ql.MCAmericanEngine(bsm_process, \"PseudoRandom\", timeSteps=20, requiredSamples=500000))\n",
    "mc_price_ame = american_option.NPV()\n",
    "\n"
   ]
  },
  {
   "cell_type": "code",
   "execution_count": null,
   "metadata": {},
   "outputs": [],
   "source": [
    "american_option.setPricingEngine(AnalyticEuropeanEngine(bsm_process))\n",
    "bin_price_ame = american_option.NPV()"
   ]
  },
  {
   "cell_type": "code",
   "execution_count": null,
   "metadata": {},
   "outputs": [],
   "source": [
    "from opcion_americana_bin import opcion_americana_bin\n",
    "from opcion_americana_fd import opcion_americana_fd"
   ]
  },
  {
   "cell_type": "code",
   "execution_count": null,
   "metadata": {},
   "outputs": [],
   "source": [
    "tipo = \"P\"\n",
    "precio_bin_ame = opcion_americana_bin(tipo, S, K, T, r, sigma, div, 1000)\n",
    "precio_fd_ame = opcion_americana_fd(tipo, S, K, T, r, sigma, div)\n"
   ]
  },
  {
   "cell_type": "code",
   "execution_count": null,
   "metadata": {},
   "outputs": [],
   "source": [
    "print(\"Precio modelo Amercana Binomial visto en clase:\", precio_bin_ame)\n",
    "print(\"Precio modelo Amercana Dif. Finitas visto en clase:\", precio_fd_ame)\n",
    "\n",
    "print(\"Precio modelo Amercana Binomial QuantLib:\", bin_price_ame)\n",
    "print(\"Precio modelo Amercana Montecarlo QuantLib:\", mc_price_ame)\n",
    "print(\"Precio modelo Amercana Dif. FinitasQuantLib:\", fd_price_ame)"
   ]
  },
  {
   "cell_type": "markdown",
   "metadata": {},
   "source": [
    "# 4) BONUS TRACK - GUI Para calculadora"
   ]
  },
  {
   "cell_type": "markdown",
   "metadata": {},
   "source": [
    "Les dejo un codigo usando el modulo **tkinter** que pide los inputs de los modelos y llama a los pricers vistos en clase "
   ]
  },
  {
   "cell_type": "code",
   "execution_count": null,
   "metadata": {},
   "outputs": [],
   "source": [
    "from tkinter import *\n",
    "\n",
    "from opcion_europea_bin import opcion_europea_bin\n",
    "from opcion_europea_bin_c import opcion_europea_bin_c\n",
    "from opcion_europea_fd import opcion_europea_fd\n",
    "from opcion_europea_mc import opcion_europea_mc\n",
    "from opcion_europea_bs import opcion_europea_bs\n",
    "\n",
    "from opcion_americana_fd import opcion_americana_fd\n",
    "from opcion_americana_bin import opcion_americana_bin\n",
    "\n",
    "class MyWindow:\n",
    "    def __init__(self, win):\n",
    "\n",
    "        self.lbl_ejercicio = Label(win, text='Tipo de Ejercicio: ')\n",
    "        self.lbl_ejercicio.place(x=10, y=40)\n",
    "\n",
    "        self.ejercicio_lbl = IntVar()\n",
    "        self.ejercicio_lbl.set(1)\n",
    "        r1 = Radiobutton(window, text=\"Europea\", variable=self.ejercicio_lbl, value=1)\n",
    "        r2 = Radiobutton(window, text=\"Americana\", variable=self.ejercicio_lbl, value=2)\n",
    "        r1.place(x=150, y=40)\n",
    "        r2.place(x=250, y=40)\n",
    "\n",
    "        self.lbl_tipo = Label(win, text='Tipo de contrato: ')\n",
    "        self.lbl_tipo.place(x=10, y=80)\n",
    "\n",
    "        self.tipo_lbl = IntVar()\n",
    "        self.tipo_lbl.set(1)\n",
    "        r1 = Radiobutton(window, text=\"CALL\", variable=self.tipo_lbl, value=1)\n",
    "        r2 = Radiobutton(window, text=\"PUT\", variable=self.tipo_lbl, value=2)\n",
    "        r1.place(x=150, y=80)\n",
    "        r2.place(x=250, y=80)\n",
    "\n",
    "        self.lbl1 = Label(win, text='Precio Spot -                                            S :')\n",
    "        self.lbl2 = Label(win, text='Precio de ejercicio -                                K : ')\n",
    "        self.lbl3 = Label(win, text='Tiempo de expiracion en dias -           T : ')\n",
    "        self.lbl4 = Label(win, text='Tasa libre de riesgo anualizada -           r : ')\n",
    "        self.lbl5 = Label(win, text='Volatilidad implicita anualizada - sigma: ')\n",
    "        self.lbl6 = Label(win, text='Tasa de dividendos anualizada -       div: ')\n",
    "\n",
    "        self.lbloutput = Label(win, text='Precio de la opcion:')\n",
    "        self.lblvar_mc = Label(win, text='Varianza de MC:')\n",
    "\n",
    "\n",
    "        self.S_lbl = Entry()\n",
    "        self.K_lbl = Entry()\n",
    "        self.T_lbl = Entry()\n",
    "        self.r_lbl = Entry()\n",
    "        self.sigma_lbl = Entry()\n",
    "        self.div_lbl = Entry()\n",
    "\n",
    "        self.output = Entry()\n",
    "        #self.var_mc = Entry()\n",
    "\n",
    "        self.lbl1.place(x=10, y=150)\n",
    "        self.S_lbl.place(x=225, y=150)\n",
    "\n",
    "        self.lbl2.place(x=10, y=175)\n",
    "        self.K_lbl.place(x=225, y=175)\n",
    "\n",
    "        self.lbl3.place(x=10, y=200)\n",
    "        self.T_lbl.place(x=225, y=200)\n",
    "\n",
    "        self.lbl4.place(x=10, y=225)\n",
    "        self.r_lbl.place(x=225, y=225)\n",
    "\n",
    "        self.lbl5.place(x=10, y=250)\n",
    "        self.sigma_lbl.place(x=225, y=250)\n",
    "\n",
    "        self.lbl6.place(x=10, y=275)\n",
    "        self.div_lbl.place(x=225, y=275)\n",
    "\n",
    "        self.modelo_lbl = IntVar()\n",
    "        self.modelo_lbl.set(1)\n",
    "        r1 = Radiobutton(window, text=\"Black Scholes\", variable=self.modelo_lbl, value=1)\n",
    "        r2 = Radiobutton(window, text=\"Binomial\", variable=self.modelo_lbl, value=2)\n",
    "        r3 = Radiobutton(window, text=\"Montecarlo\", variable=self.modelo_lbl, value=3)\n",
    "        r4 = Radiobutton(window, text=\"Diferencias Finitas\", variable=self.modelo_lbl, value=4)\n",
    "\n",
    "        r1.place(x=50, y=320)\n",
    "        r2.place(x=150, y=320)\n",
    "        r3.place(x=250, y=320)\n",
    "        r4.place(x=350, y=320)\n",
    "\n",
    "        self.b1 = Button(win, text='Calcular precio opcion', command=self.calculate)\n",
    "        self.b1.place(x=175, y=375)\n",
    "\n",
    "        self.lbloutput.place(x=10, y=425)\n",
    "        self.output.place(x=225, y=425)\n",
    "\n",
    "        #self.lblvar_mc.place(x=10, y=475)\n",
    "        #self.var_mc.place(x=225, y=475)\n",
    "\n",
    "        self.S_lbl.insert(END, 100.0)\n",
    "        self.K_lbl.insert(END, 100.0)\n",
    "        self.T_lbl.insert(END, 1)\n",
    "        self.r_lbl.insert(END, 0.05)\n",
    "        self.sigma_lbl.insert(END, 0.25)\n",
    "        self.div_lbl.insert(END, 0.0)\n",
    "\n",
    "        self.lbltrademark = Label(win, text='Manu Maurette - 2021') #Cambien aca por su nombre \n",
    "\n",
    "        self.lbltrademark.place(x=380, y=583)\n",
    "        \n",
    "        \n",
    "    def calculate(self):\n",
    "        #borro lo que habia\n",
    "        self.output.delete(0, 'end')\n",
    "        #inicializo\n",
    "        if self.tipo_lbl.get() == 1:\n",
    "            tipo = \"C\"\n",
    "        elif self.tipo_lbl.get() == 2:\n",
    "            tipo = \"P\"\n",
    "\n",
    "        #Inputs\n",
    "        S=float(self.S_lbl.get())\n",
    "        K=float(self.K_lbl.get())\n",
    "        T = float(self.T_lbl.get())/365.0\n",
    "        r = float(self.r_lbl.get())\n",
    "        sigma = float(self.sigma_lbl.get())\n",
    "        div = float(self.div_lbl.get())\n",
    "\n",
    "        if self.modelo_lbl.get() == 1:\n",
    "            if self.ejercicio_lbl.get() ==1:\n",
    "                precio = opcion_europea_bs(tipo, S, K, T, r, sigma, div)\n",
    "            elif self.ejercicio_lbl.get() ==2:\n",
    "                precio = 'NA'\n",
    "            else:\n",
    "                precio = 'Error'\n",
    "\n",
    "        elif self.modelo_lbl.get() == 2 :\n",
    "\n",
    "            if self.ejercicio_lbl.get() == 1:\n",
    "                pasos = 1000\n",
    "                precio = opcion_europea_bin_c(tipo, S, K, T, r, sigma, div, pasos)\n",
    "            elif self.ejercicio_lbl.get() == 2:\n",
    "                pasos = 1500\n",
    "                precio = opcion_americana_bin(tipo, S, K, T, r, sigma, div, pasos)\n",
    "            else:\n",
    "                precio = 'Error'\n",
    "        elif self.modelo_lbl.get() == 3 :\n",
    "            pasos = 100000\n",
    "            if self.ejercicio_lbl.get() == 1:\n",
    "                precio = opcion_europea_mc(tipo, S, K, T, r, sigma, div, pasos)\n",
    "\n",
    "         #       try:\n",
    "         #           self.var_mc.insert(END, round(var, 4))\n",
    "         #       except:\n",
    "         #           self.var_mc.insert(END, var)\n",
    "\n",
    "            elif self.ejercicio_lbl.get() ==2:\n",
    "                precio = 'NA'\n",
    "            else:\n",
    "                precio ='Error'\n",
    "        elif self.modelo_lbl.get() == 4 :\n",
    "            if self.ejercicio_lbl.get() == 1:\n",
    "                precio = opcion_europea_fd(tipo, S, K, T, r, sigma, div)\n",
    "            elif self.ejercicio_lbl.get() == 2:\n",
    "                precio = opcion_americana_fd(tipo, S, K, T, r, sigma, div)\n",
    "            else:\n",
    "                precio = 'Error'\n",
    "        else:\n",
    "            precio = 'Error'\n",
    "        try:\n",
    "            self.output.insert(END, round(precio,4))\n",
    "        except:\n",
    "            self.output.insert(END, precio)\n",
    "\n",
    "window=Tk()\n",
    "mywin=MyWindow(window)\n",
    "window.title('Calculadora Opciones - UCEMA QUANt 2021')\n",
    "window.geometry(\"500x600+15+15\")\n",
    "window.mainloop()"
   ]
  },
  {
   "cell_type": "code",
   "execution_count": null,
   "metadata": {},
   "outputs": [],
   "source": []
  }
 ],
 "metadata": {
  "kernelspec": {
   "display_name": "Python 3",
   "language": "python",
   "name": "python3"
  },
  "language_info": {
   "codemirror_mode": {
    "name": "ipython",
    "version": 3
   },
   "file_extension": ".py",
   "mimetype": "text/x-python",
   "name": "python",
   "nbconvert_exporter": "python",
   "pygments_lexer": "ipython3",
   "version": "3.8.8"
  }
 },
 "nbformat": 4,
 "nbformat_minor": 1
}
