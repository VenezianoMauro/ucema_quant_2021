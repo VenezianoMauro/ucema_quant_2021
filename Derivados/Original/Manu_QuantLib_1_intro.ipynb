{
 "cells": [
  {
   "cell_type": "markdown",
   "metadata": {},
   "source": [
    "# QuantLib o Introduccion a una Verdadera plataforma de pricing/riesgo"
   ]
  },
  {
   "cell_type": "markdown",
   "metadata": {},
   "source": [
    "## Introduccion"
   ]
  },
  {
   "cell_type": "markdown",
   "metadata": {},
   "source": [
    "Por mi tema de trabajo de analisita cuantitativo para bancos de inversión de EEUU, me tope varias veces con quantlib.\n",
    "\n",
    "[quantlib.org](http://quantlib.org)\n",
    "\n"
   ]
  },
  {
   "cell_type": "markdown",
   "metadata": {},
   "source": [
    "QuantLib es una libreria de finanzas cuantitativas OpenSource. Esta escrita en C++, puramente orientada a objetos.\n",
    "Existen wrappers en otros lenguajes como:\n",
    "    \n",
    "* Python [quantlib-python-docs.readthedocs.io](http://quantlib-python-docs.readthedocs.io)\n",
    "* R [cran.r-project.org/web/packages/RQuantLib](http://cran.r-project.org/web/packages/RQuantLib)\n",
    "* Excel [quantlib.org/quantlibxl/](http://quantlib.org/quantlibxl/)"
   ]
  },
  {
   "cell_type": "markdown",
   "metadata": {},
   "source": [
    "Cabe aclarar que la versión mas completa es la de C++, dado que muchas veces pasa tiempo hasta que se adaptan a los otros lenguajes, y algunos módulos directamente se dejan de lado y no se adaptan.\n",
    "Se usa tanto en la industria como en la academia."
   ]
  },
  {
   "cell_type": "markdown",
   "metadata": {},
   "source": [
    "Esta orientada orientada mas a los Quants Q que a los Quant P, según la ‘nomenclatura de Meucci’\n",
    "\n",
    "[http://talus.maths.usyd.edu.au/u/UG/SM/MATH3075/r/Meucci_2011.pdf](http://talus.maths.usyd.edu.au/u/UG/SM/MATH3075/r/Meucci_2011.pdf)\n",
    "\n",
    "Con esto quiero decir que no es una librería de herramientas centradas en la estadística, sino en la probabilidad."
   ]
  },
  {
   "cell_type": "markdown",
   "metadata": {},
   "source": [
    "Uno de los objetivos fue armar una comunidad de desarrolladores quant y un código común, validado y testeado para evitar que los quants (cito) ‘reinventen la rueda’ cada vez que se disponían a armar las librerías numéricas en sus respectivos trabajos.\n"
   ]
  },
  {
   "cell_type": "markdown",
   "metadata": {},
   "source": [
    "Es una excelente puerta de entrada a como funciona una verdadera librería(OOP) de pricing/riesgo en un banco de inversión, o en un fondo cuantitativo.\n",
    "Resuelve de manera sencilla grandes dolores de cabeza como convenciones de ‘daycount’, calendarios de diferentes mercados, etc.\n",
    "Personalmente lo use mas que nada de referencia, comparativa, de benchmark y a modo de ‘juego’. Pero tranquilamente se puede montar uno en Quantlib para tener una librería robusta de pricing y riesgo."
   ]
  },
  {
   "cell_type": "markdown",
   "metadata": {},
   "source": [
    "## Ejemplos practicos"
   ]
  },
  {
   "cell_type": "markdown",
   "metadata": {},
   "source": [
    "### Instalacion de la libreria\n",
    "\n",
    "El modulo de QuantLib en python es QuantLib\n",
    "\n",
    "Se puede instalar por ejemplo desde una terminal con el comando \n",
    "\n",
    "**pip install QuantLib**\n",
    "\n",
    "\n"
   ]
  },
  {
   "cell_type": "code",
   "execution_count": 1,
   "metadata": {},
   "outputs": [],
   "source": [
    "import QuantLib as ql"
   ]
  },
  {
   "cell_type": "markdown",
   "metadata": {},
   "source": [
    "### Precios (y mas) de Opciones Financieras"
   ]
  },
  {
   "cell_type": "markdown",
   "metadata": {},
   "source": [
    "Recordar el concepto de Opcion Financiera:\n",
    "    \n",
    "**Definición** \n",
    "Una opción es un contrato que le da al dueño el derecho, pero no la obligación, de negociar un activo predeterminado, llamado también el activo subyacente por un precio determinado, llamado también precio de ejercicio en un tiempo en el futuro, llamada la fecha de expiración. Una opción **call** da al dueño el derecho a comprar y una **put**, el derecho a vender.\n",
    "\n",
    "Jerga en ingles – lenguaje en el que encontrarán la mayoría de la bib.:\n",
    "Activo subyacente – Underlying asset\n",
    "Precio de ejercicio – Strike Price\n",
    "Fecha de expiración – Expiry/Maturity\n",
    "\n",
    "\n",
    "El valor a vencimiento del contrato (**payoff**) de una opcion call es:\n",
    "\n",
    "$$\\max(S(T)-K,0)$$\n",
    "\n",
    "\n",
    "El **payoff** de una opcion put es:\n",
    "\n",
    "$$\\max(K-S(T),0)$$\n"
   ]
  },
  {
   "cell_type": "markdown",
   "metadata": {},
   "source": [
    "Obtener el precio justo de una opcion no es un problema trivial. En principio la prima (precio) depende de lo siguiente:\n",
    "\n",
    "* Precio spot ($S$) del activo subyacente\n",
    "\n",
    "* Precio de ejercicio ($K$) - fijado en el contrato\n",
    "\n",
    "* Tiempo a Expiración ($T$) (Time to Maturity) - fijado en el contrato\n",
    "\n",
    "* Volatilidad ($\\sigma$) - Dependiendo el modelo elegido sera constante (volatilidad implicita), estocastica, o alguna estructura local, etc\n",
    "\n",
    "* Tasa de interés libre de riesgo ($r$) (Risk-free IR) - Dependiendo el modelo elegido sera constante (tasa constante libre de riesgo), estocastica o bien una curva de tasa, etc\n",
    "\n",
    "* Dividendos ($q$) - - Dependiendo el modelo elegido sera constante (tasa constante libre de riesgo), que represente el flujo esperado de pagos, etc\n",
    "\n",
    "Por ejemplo, en el modelo de Black-Scholes tanto $\\sigma$, $r$ como $q$ son constantes\n",
    "\n",
    "En QuantLib esto va a ser importante. La libreria es lo suficientemente flexible para poder aceptar diferentes tipos de modelos para cada una de las variables.\n"
   ]
  },
  {
   "cell_type": "markdown",
   "metadata": {},
   "source": [
    "Veamos un ejemplo en particular y como usariamos QuantLib para resolver el problema:\n",
    "\n",
    "\n",
    "### Ejemplo\n",
    "Supongamos que se le quiere buscar un precio justo a una opcion call de AAPL con precio strike de 450 expirando el 16 de octubre de 2020. Supongamos que el spot es 440. La vol implicita es sabida que es 33.94 **(1)**, y tiene un dividendo de 0.75% anual **(2)** y en el mercado se puede prestar y tomar prestado sin riesgo al 0.01% **(3)**. Valuemos la opcion al dia de hoy (10 de Agosto 2020)\n"
   ]
  },
  {
   "cell_type": "markdown",
   "metadata": {},
   "source": [
    "#### Definimos los inputs"
   ]
  },
  {
   "cell_type": "code",
   "execution_count": 14,
   "metadata": {},
   "outputs": [],
   "source": [
    "precio_activo = 440 #Spot (S)\n",
    "precio_ejercicio = 450 #Strike (K)\n",
    "volatilidad = 0.3394  #Volatilidad Implicita anualizada (sigma)\n",
    "tasa_interes = 0.0013 #tasa libre de riesgo anualizada (r)\n",
    "tasa_dividendos =  0.075 #tasa de dividendos anualizada (q)\n"
   ]
  },
  {
   "cell_type": "markdown",
   "metadata": {},
   "source": [
    " Para las fechas QuantLib es muy preciso. Pide convenciones y calendarios.\n",
    " "
   ]
  },
  {
   "cell_type": "markdown",
   "metadata": {},
   "source": [
    "#### La clase `Date`\n",
    "\n",
    "El objeto `Date` se puede crear usando el constructor `Date(day, month, year)`. Es bueno notar que `day` es el primer argumento, seguido de `month` y despues `year`. Esto es distinto al objeto `datetime`de python."
   ]
  },
  {
   "cell_type": "code",
   "execution_count": 15,
   "metadata": {},
   "outputs": [],
   "source": [
    "#Expiracion el 16 de octubre de 2020\n",
    "fecha_expiracion = ql.Date(16, 10, 2020)\n",
    "\n",
    "#Valuacion el 16 de octubre de 2020\n",
    "fecha_valuacion = ql.Date(6, 8, 2020)\n",
    "ql.Settings.instance().evaluationDate = fecha_valuacion\n",
    "\n",
    "#Calendario y convencion de daycount\n",
    "day_count = ql.Actual365Fixed()\n",
    "calendario = ql.UnitedStates()\n"
   ]
  },
  {
   "cell_type": "code",
   "execution_count": 11,
   "metadata": {},
   "outputs": [
    {
     "data": {
      "text/plain": [
       "(Date(1,10,2020),\n",
       " Date(2,10,2020),\n",
       " Date(5,10,2020),\n",
       " Date(6,10,2020),\n",
       " Date(7,10,2020),\n",
       " Date(8,10,2020))"
      ]
     },
     "execution_count": 11,
     "metadata": {},
     "output_type": "execute_result"
    }
   ],
   "source": [
    "cal_arg = ql.China()\n",
    "cal_arg.holidayList(ql.Date(6, 8, 2020),ql.Date(16, 10, 2020))"
   ]
  },
  {
   "cell_type": "markdown",
   "metadata": {},
   "source": [
    "#### Aqui construimos a la opcion europea"
   ]
  },
  {
   "cell_type": "markdown",
   "metadata": {},
   "source": [
    "Se definen los objetos:\n",
    "\n",
    "* Payoff (`PlainVanillaPayoff`) que requiere pasarle el tipo de opcion (CALL, PUT) y el precio de ejercicio - otros payoffs implementados en quantlib: `SuperSharePayoff`, `SuperFundPayoff`, `GapPayoff`, `StickyMinPayoff`, `CashOrNothingPayoff`, `ForwardTypePayoff`, `StickyMaxPayoff`, `AssetOrNothingPayoff`, `RatchetMinPayoff`, `PercentageStrikePayoff`, `PlainVanillaPayoff`, `RatchetMaxPayoff`, `StickyPayoff`, `FloatingTypePayoff`, `RatchetPayoff`, `DoubleStickyRatchetPayoff`, y `NullPayoff`.\n",
    "* Ejercicio Europeo (`EuropeanExercise`) que requiere pasarle la fecha de expiracion - otros ejercicios que acepta QuantLib: `AmericanExercise`, `BermudanExercise`"
   ]
  },
  {
   "cell_type": "code",
   "execution_count": 21,
   "metadata": {},
   "outputs": [],
   "source": [
    "tipo_opcion = ql.Option.Call #Tipo de opcion (CALL o PUT)\n",
    "payoff = ql.PlainVanillaPayoff(tipo_opcion, precio_ejercicio)\n",
    "ejercicio_europeo = ql.EuropeanExercise(fecha_expiracion)\n"
   ]
  },
  {
   "cell_type": "markdown",
   "metadata": {},
   "source": [
    "Con estos dos se define la clase Opcion `VanillaOption`. QuantLib ofrece una gran cantidad de tipos de opciones: `BarrierOption`, `BasketOption`, `CdsOption`, `CliquetOption`, `CompoundOption`, `DiscreteAveragingAsianOption`, `DiscretizedOption`, `DividendBarrierOption`, `DividendVanillaOption`, `DoubleBarrierOption`, `ForwardVanillaOption`, `HimalayaOption`, `MargrabeOption`, `MultiAssetOption`, `OneAssetOption`, `PagodaOption`, `PathMultiAssetOption`, `QuantoBarrierOption`, `QuantoDoubleBarrierOption`, `QuantoForwardVanillaOption`, `QuantoOptionResults`, `QuantoVanillaOption`, `RiskyAssetSwapOption`, `SimpleChooserOption`, `SpreadOption`, `TwoAssetBarrierOption`, `VanillaOption`, `VanillaStorageOption`, `VanillaSwingOption`, `VarianceOption` Entre otras!!\n"
   ]
  },
  {
   "cell_type": "code",
   "execution_count": 27,
   "metadata": {},
   "outputs": [],
   "source": [
    "\n",
    "opcion_europea = ql.VanillaOption(payoff, ejercicio_europeo)\n",
    "\n"
   ]
  },
  {
   "cell_type": "markdown",
   "metadata": {},
   "source": [
    "#### Aca constuimos el proceso de Black Sholes Merton"
   ]
  },
  {
   "cell_type": "markdown",
   "metadata": {},
   "source": [
    "##### El objeto spot\n",
    "\n",
    "QuantLib precisa que el precio del activo lo tratemos como un objeto en si mismo usando primero `SimpleQuote` que es un metodo general dentro de QuantLib para definir constantes, y luego `QuoteHandle` para generar el handle del objeto. Contiene un metodo para extraer el valor `value()` \n"
   ]
  },
  {
   "cell_type": "code",
   "execution_count": 28,
   "metadata": {},
   "outputs": [
    {
     "name": "stdout",
     "output_type": "stream",
     "text": [
      "Recuperamos el spot:  440.0\n"
     ]
    }
   ],
   "source": [
    "S = ql.SimpleQuote(precio_activo)\n",
    "\n",
    "objeto_spot = ql.QuoteHandle(S)\n",
    "\n",
    "print(\"Recuperamos el spot: \", objeto_spot.value())"
   ]
  },
  {
   "cell_type": "code",
   "execution_count": null,
   "metadata": {},
   "outputs": [],
   "source": []
  },
  {
   "cell_type": "markdown",
   "metadata": {},
   "source": [
    "##### Los objetos curva de descuento y de dividendos (flat en este caso, constantes) \n",
    "QuantLib trata a la tasa anualizada y a la tasa de dividendos anualizadas a priri como curvas, dado que es la manera natural de modelar estas 'curvas' En este caso, dado que el modelo de Black Scholes Merton las considera a ambas constantes, QuantLib usa la clase `FlatForward` que en efecto crea una curva constante y pide de entrada una fecha de valuacion, la tasa (de interes/de dividendos) propiamente dicha y una convencion de daycount. Una vez creado los objetos curvas se crean con `YieldTermStructureHandle`\n",
    "\n",
    "Este objeto es de suma importancia cuando se usa a QuantLib en modelos de tasa. A este objeto se le podran extraer metodos como `discount()`, `zeroRate()`  y `forwardRate()`."
   ]
  },
  {
   "cell_type": "code",
   "execution_count": 33,
   "metadata": {},
   "outputs": [
    {
     "name": "stdout",
     "output_type": "stream",
     "text": [
      "Recuperamos la tasa: 0.001299999999999829\n"
     ]
    }
   ],
   "source": [
    "r = ql.SimpleQuote(tasa_interes)\n",
    "\n",
    "objeto_tasa_interes = ql.YieldTermStructureHandle(ql.FlatForward(fecha_valuacion, \n",
    "                                                                ql.QuoteHandle(r), \n",
    "                                                                day_count))\n",
    "\n",
    "tasa_recup = objeto_tasa_interes.forwardRate(fecha_valuacion, fecha_expiracion, day_count, ql.Continuous).rate()\n",
    "\n",
    "print(\"Recuperamos la tasa:\",   tasa_recup)"
   ]
  },
  {
   "cell_type": "code",
   "execution_count": 32,
   "metadata": {},
   "outputs": [
    {
     "data": {
      "text/plain": [
       "<QuantLib.QuantLib.SimpleQuote; proxy of <Swig Object of type 'ext::shared_ptr< SimpleQuote > *' at 0x00000270A9CAE6F0> >"
      ]
     },
     "execution_count": 32,
     "metadata": {},
     "output_type": "execute_result"
    }
   ],
   "source": []
  },
  {
   "cell_type": "code",
   "execution_count": 34,
   "metadata": {},
   "outputs": [
    {
     "name": "stdout",
     "output_type": "stream",
     "text": [
      "Recuperamos la tasa: 0.07500000000000008\n"
     ]
    }
   ],
   "source": [
    "q = ql.SimpleQuote(tasa_dividendos)\n",
    "objeto_tasa_dividendos = ql.YieldTermStructureHandle(ql.FlatForward(fecha_valuacion, \n",
    "                                                      ql.QuoteHandle(q), \n",
    "                                                      day_count))\n",
    "div_recup = objeto_tasa_dividendos.forwardRate(fecha_valuacion, fecha_expiracion, day_count, ql.Continuous).rate()\n",
    "\n",
    "print(\"Recuperamos la tasa:\",   div_recup)\n"
   ]
  },
  {
   "cell_type": "markdown",
   "metadata": {},
   "source": [
    "##### El objeto volatilidad (flat en este caso, constante)\n",
    "El modelado de la volatilidad es uno de los mayores desafios para un analista. QuantLib permite el uso de multiples modelos de volatilidad. El objeto mas general es `VolatilityTermStructure`. En nuestro caso, suponemos volatilidad constante y usamos la clase `BlackConstantVol`. El objeto contiene metodos como `blackVol`, `blackVariance`, `blackForwardVol` y `blackForwardVariance`"
   ]
  },
  {
   "cell_type": "code",
   "execution_count": 35,
   "metadata": {},
   "outputs": [
    {
     "name": "stdout",
     "output_type": "stream",
     "text": [
      "Recuperamos la volatilidad: 0.3394\n"
     ]
    }
   ],
   "source": [
    "sigma = ql.SimpleQuote(volatilidad)\n",
    "objeto_volatilidad = ql.BlackVolTermStructureHandle(ql.BlackConstantVol(fecha_valuacion, \n",
    "                                                                 calendario, \n",
    "                                                                 ql.QuoteHandle(sigma), \n",
    "                                                             day_count))\n",
    "vol_recup = objeto_volatilidad.blackVol(fecha_expiracion, precio_ejercicio)\n",
    "\n",
    "print(\"Recuperamos la volatilidad:\",   vol_recup)\n"
   ]
  },
  {
   "cell_type": "markdown",
   "metadata": {},
   "source": [
    "##### El proceso propiamente dicho\n",
    "\n",
    "Ahora con todos los ingredientes necesarios se define el proceso estocastico `StochasticProcess` que modela el activo. En este caso es el de Black Scholes Merton `BlackScholesMertonProcess`, que necesita como entrada los objetos de spot, tasa de dividendos, tasa de interes y volatilidad. Es un "
   ]
  },
  {
   "cell_type": "code",
   "execution_count": 36,
   "metadata": {},
   "outputs": [
    {
     "data": {
      "text/plain": [
       "<QuantLib.QuantLib.BlackScholesMertonProcess; proxy of <Swig Object of type 'ext::shared_ptr< BlackScholesMertonProcess > *' at 0x00000270A9CBCA20> >"
      ]
     },
     "execution_count": 36,
     "metadata": {},
     "output_type": "execute_result"
    }
   ],
   "source": [
    "proceso_BSM = ql.BlackScholesMertonProcess(objeto_spot, \n",
    "                                           objeto_tasa_dividendos, \n",
    "                                           objeto_tasa_interes, \n",
    "                                           objeto_volatilidad)\n",
    "\n",
    "proceso_BSM"
   ]
  },
  {
   "cell_type": "markdown",
   "metadata": {},
   "source": [
    "El proceso de BlackScholesMerton es solamente un posible proceso estocastico para la dinamica del activo. QuantLib ofrece la posibilidad de trabajar con los siguientes procesos: \n",
    "\n",
    "`BatesProcess`, `BlackProcess`, `BlackScholesMertonProcess`, `BlackScholesProcess`, `CoxIngersollRossProcess`, `ExtendedBlackScholesMertonProcess`, `ExtendedOrnsteinUhlenbeckProcess`, `ExtOUWithJumpsProcess`, `ForwardMeasureProcess`, `ForwardMeasureProcess1D`, `G2ForwardProcess`, `G2Process`, `GarmanKohlagenProcess`, `GemanRoncoroniProcess`, `GeneralizedBlackScholesProcess`, `GeneralizedOrnsteinUhlenbeckProcess`, `GeometricBrownianMotionProcess`, `GJRGARCHProcess`, `GsrProcess`, `HestonProcess`, `HullWhiteForwardProcess`, `HullWhiteProcess`, `HybridHestonHullWhiteProcess`, `KlugeExtOUProcess`, `LiborForwardModelProcess`, `MarketModelVolProcess`, `Merton76Process`, `MfStateProcess`, `OrnsteinUhlenbeckProcess`, `SquareRootProcess`, `StochasticProcess`, `StochasticProcess1D`, `StochasticProcessArray`, `VarianceGammaProcess`, `VegaStressedBlackScholesProcess`, \n"
   ]
  },
  {
   "cell_type": "markdown",
   "metadata": {},
   "source": [
    "## Modelos de precio"
   ]
  },
  {
   "cell_type": "markdown",
   "metadata": {},
   "source": [
    "Ahora que tenemos el proceso armado llego finalmente la hora de elegir un modelo para poner precio y hallarlo. \n",
    "\n",
    "Para esto necesitamos 3 ingredientes:\n",
    "\n",
    "1) La opcion (en nuestro ejemplo `opcion_europea`)\n",
    "\n",
    "2) El proceso (en nuestro ejemplo `proceso_BSM`)\n",
    "\n",
    "3) El modelo (Engine)\n",
    "\n",
    "Al objeto opcion que es parte de `instrument`, le aplico el metodo `setPricingEngine`"
   ]
  },
  {
   "cell_type": "markdown",
   "metadata": {},
   "source": [
    "Quantlib ofrece una libreria muy extensa de modelos de pricing para Opciones. En este tipo de cosas reside el poder de QuantLib. Estos son los modelos existentes en QuantLib\n",
    "\n",
    "`VarianceGammaEngine`, `FFTEngine`, `FFTVanillaEngine`, `FFTVarianceGammaEngine`, `AnalyticBSMHullWhiteEngine`, `AnalyticDigitalAmericanEngine`, `AnalyticDigitalAmericanKOEngine`, `AnalyticDividendEuropeanEngine`, `AnalyticEuropeanEngine`, `AnalyticH1HWEngine`, `AnalyticHestonEngine`, `AnalyticHestonHullWhiteEngine`, `AnalyticPTDHestonEngine`, `BaroneAdesiWhaleyApproximationEngine`, `BatesEngine`, `BinomialVanillaEngine`, `BjerksundStenslandApproximationEngine`, `COSHestonEngine`, `FdBatesVanillaEngine`, `FDBermudanEngine`, `FDDividendEngineMerton73`, `FDDividendEngineShiftScale`, `FDDividendShoutEngine`, `FdHestonHullWhiteVanillaEngine`, `FDShoutEngine`, `FDStepConditionEngine`, `FDVanillaEngine`, `HestonExpansionEngine`, `IntegralEngine`, `JumpDiffusionEngine`, `JuQuadraticApproximationEngine`, `MCAmericanEngine`, `MCDigitalEngine`, `MCEuropeanEngine`, `MCEuropeanGJRGARCHEngine`, `MCEuropeanHestonEngine`, `MCVanillaEngine`,\n"
   ]
  },
  {
   "cell_type": "markdown",
   "metadata": {},
   "source": [
    "Veamos cuatro de estos modelos, que suelen ser los primeros que uno ve cuando estudia valuacion de opciones:\n",
    "* Analitico - Formula cerrada, Black Scholes propiamente dicho\n",
    "* Diferencias Finitas - Resolucion de la ecuacion diferencial de Black Sholes\n",
    "* Montecarlo - Simulaciones del proceso de BSM y promedio descontado\n",
    "* Binomial - Arbol Binomial de un proceso que en el limite tiende al proceso de BSM\n",
    "\n",
    "La clase `VanillaOption` tiene los siguientes posibles salidas: `NPV()` - este nos dara el Net  Present Value del contrato; `errorEstimate()` - este nos dara informacion de estimacion si usamos un modelo de aproximacion."
   ]
  },
  {
   "cell_type": "markdown",
   "metadata": {},
   "source": [
    "###  `AnalyticEuropeanEngine` (Black Scholes)"
   ]
  },
  {
   "cell_type": "code",
   "execution_count": 38,
   "metadata": {},
   "outputs": [
    {
     "data": {
      "text/plain": [
       "<QuantLib.QuantLib.AnalyticEuropeanEngine; proxy of <Swig Object of type 'ext::shared_ptr< AnalyticEuropeanEngine > *' at 0x00000270A9CBCAE0> >"
      ]
     },
     "execution_count": 38,
     "metadata": {},
     "output_type": "execute_result"
    }
   ],
   "source": [
    "modelo_BS = ql.AnalyticEuropeanEngine(proceso_BSM)\n",
    "\n",
    "modelo_BS"
   ]
  },
  {
   "cell_type": "code",
   "execution_count": 40,
   "metadata": {},
   "outputs": [
    {
     "data": {
      "text/plain": [
       "<QuantLib.QuantLib.VanillaOption; proxy of <Swig Object of type 'ext::shared_ptr< VanillaOption > *' at 0x00000270A9CAC900> >"
      ]
     },
     "execution_count": 40,
     "metadata": {},
     "output_type": "execute_result"
    }
   ],
   "source": [
    "opcion_europea.setPricingEngine(modelo_BS)\n",
    "\n",
    "opcion_europea\n"
   ]
  },
  {
   "cell_type": "code",
   "execution_count": 41,
   "metadata": {},
   "outputs": [
    {
     "name": "stdout",
     "output_type": "stream",
     "text": [
      "El precio teorico usando el modelo de BS es:  19.018046859717114\n"
     ]
    }
   ],
   "source": [
    "precio_opcion_BS = opcion_europea.NPV()\n",
    "\n",
    "print(\"El precio teorico usando el modelo de BS es: \", precio_opcion_BS)"
   ]
  },
  {
   "cell_type": "markdown",
   "metadata": {},
   "source": [
    "En el caso de la formula Analitica, QuantLib ofrece la posibilidad de extraer varias sensibilidades (griegas) de la opcion. Entre ellos: `delta()`,  `vega()`, `rho() `, `dividendRho()`, `theta()`, `thetaPerDay()`, `strikeSensitivity()`, `gamma()`, `elasticity()`.\n"
   ]
  },
  {
   "cell_type": "code",
   "execution_count": 42,
   "metadata": {},
   "outputs": [],
   "source": [
    "delta_BS = opcion_europea.delta()\n",
    "vega_BS = opcion_europea.vega()\n",
    "rho_BS = opcion_europea.rho() \n",
    "div_rho_BS = opcion_europea.dividendRho()\n",
    "theta_BS = opcion_europea.theta()\n",
    "thetaPD_BS = opcion_europea.thetaPerDay()\n",
    "strike_greek_BS = opcion_europea.strikeSensitivity()\n",
    "\n",
    "gamma_BS = opcion_europea.gamma()\n",
    "elasticity_BS = opcion_europea.elasticity()"
   ]
  },
  {
   "cell_type": "markdown",
   "metadata": {},
   "source": [
    "Aqui mostramos las griegas obtenidas"
   ]
  },
  {
   "cell_type": "code",
   "execution_count": 43,
   "metadata": {},
   "outputs": [
    {
     "name": "stdout",
     "output_type": "stream",
     "text": [
      "Delta:  0.4258321048466277\n",
      "Vega: 75.18926359141635\n",
      "Rho:  32.74716062566774\n",
      "dividendRho:  -36.446561521667505\n",
      "Theta:  -51.76161250063861\n",
      "Theta_PD:  -0.141812636988051\n",
      "strikeSensitivity:  -0.374106842828442\n",
      "Gamma:  0.0058826519800777724\n",
      "Elasticity 9.852017271520342\n"
     ]
    }
   ],
   "source": [
    "print(\"Delta: \", delta_BS)\n",
    "print(\"Vega:\", vega_BS)\n",
    "print(\"Rho: \", rho_BS)\n",
    "print(\"dividendRho: \", div_rho_BS)\n",
    "print(\"Theta: \", theta_BS)\n",
    "print(\"Theta_PD: \", thetaPD_BS)\n",
    "print(\"strikeSensitivity: \", strike_greek_BS)\n",
    "\n",
    "print(\"Gamma: \", gamma_BS)\n",
    "print(\"Elasticity\", elasticity_BS)"
   ]
  },
  {
   "cell_type": "markdown",
   "metadata": {},
   "source": [
    "### Plot del precio y el payoff"
   ]
  },
  {
   "cell_type": "code",
   "execution_count": 44,
   "metadata": {},
   "outputs": [],
   "source": [
    "#Seteo de Matplotlib\n",
    "from matplotlib import pyplot as plt\n",
    "import numpy as np\n",
    "plt.rcParams['figure.figsize'] = [12, 8]\n",
    "plt.rcParams['figure.dpi'] = 100"
   ]
  },
  {
   "cell_type": "code",
   "execution_count": 45,
   "metadata": {},
   "outputs": [
    {
     "data": {
      "image/png": "[encoded data removed]",
      "text/plain": [
       "<Figure size 1200x800 with 1 Axes>"
      ]
     },
     "metadata": {
      "needs_background": "light"
     },
     "output_type": "display_data"
    }
   ],
   "source": [
    "S_vec = np.linspace(precio_activo*.2, precio_activo*2, 100)\n",
    "NPV_vec=[]\n",
    "payoff_vec=[]\n",
    "for S_i in S_vec:\n",
    "    S.setValue(S_i)\n",
    "    NPV_vec.append(opcion_europea.NPV())\n",
    "    payoff_vec.append(max(S_i-precio_ejercicio,0))\n",
    "\n",
    "plt.plot(S_vec, NPV_vec, label = 'Precio Opcion')\n",
    "plt.plot(S_vec, payoff_vec, label = 'Payoff')\n",
    "\n",
    "plt.legend()\n",
    "\n",
    "plt.xlabel('Spot')\n",
    "plt.ylabel('Precio')\n",
    "plt.title('Precio de la opcion respecto al Spot')\n",
    "    \n",
    "plt.show()\n",
    "\n",
    "#Vuelvo\n",
    "S.setValue(precio_activo)"
   ]
  },
  {
   "cell_type": "code",
   "execution_count": null,
   "metadata": {},
   "outputs": [],
   "source": []
  },
  {
   "cell_type": "code",
   "execution_count": null,
   "metadata": {},
   "outputs": [],
   "source": []
  },
  {
   "cell_type": "code",
   "execution_count": null,
   "metadata": {},
   "outputs": [],
   "source": []
  },
  {
   "cell_type": "code",
   "execution_count": null,
   "metadata": {},
   "outputs": [],
   "source": []
  }
 ],
 "metadata": {
  "kernelspec": {
   "display_name": "Python 3",
   "language": "python",
   "name": "python3"
  },
  "language_info": {
   "codemirror_mode": {
    "name": "ipython",
    "version": 3
   },
   "file_extension": ".py",
   "mimetype": "text/x-python",
   "name": "python",
   "nbconvert_exporter": "python",
   "pygments_lexer": "ipython3",
   "version": "3.8.8"
  }
 },
 "nbformat": 4,
 "nbformat_minor": 1
}
