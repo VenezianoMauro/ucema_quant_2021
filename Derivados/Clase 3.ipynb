{
 "cells": [
  {
   "cell_type": "code",
   "execution_count": 1,
   "id": "frank-jenny",
   "metadata": {},
   "outputs": [],
   "source": [
    "import numpy as np\n",
    "import math\n",
    "import matplotlib.pyplot as plt\n",
    "from scipy.stats import norm"
   ]
  },
  {
   "cell_type": "code",
   "execution_count": 2,
   "id": "powerful-mounting",
   "metadata": {},
   "outputs": [],
   "source": [
    "## en esta clase no vamos a modificar nada para no hacer cagada\n",
    "## esto es codigo 100% de Maurette pero con comentarios mios"
   ]
  },
  {
   "cell_type": "code",
   "execution_count": 3,
   "id": "indonesian-prompt",
   "metadata": {},
   "outputs": [],
   "source": [
    "## este es el código de Maurette para cálculo de opción europea \n",
    "## usando árbol binomial\n",
    "## de nuevo: con un solo # son los comentarios de él\n",
    "## con ## son los míos\n",
    "\n",
    "## parece largo, pero es puro comentario\n",
    "\n",
    "## nota : * es multiplicación y ** es potencia. \n",
    "## es decir: 2*3 = 6 y 2**3= 8 \n",
    "\n",
    "def opcion_europea_bin(tipo, S, K, T, r, sigma, div, pasos):\n",
    "\n",
    "    #auxiliares\n",
    "    \n",
    "    ## dt: delta t, es el largo del paso que doy. Time to maturity / pasos.\n",
    "    ## Lo que estamos haciendo es dividir la vida de la opción  en muchos intervalos\n",
    "    ## de tiempo de tamaño dt.\n",
    "    dt = T / pasos\n",
    "    \n",
    "    ## tasas: la tasa hacia adelante y la tasa para descontar\n",
    "    ## son las continuas, e a la r*dt. La unica diferencia es que si\n",
    "    ## tenes dividendos, se los restas a la risk free\n",
    "    tasa_forward = math.exp((r - div) * dt)\n",
    "    descuento = math.exp(-r * dt)\n",
    "\n",
    "    #modelo CRR\n",
    "    ## En cada intervalo de tiempo vamos a asumir que el precio del subyacente se puede mover\n",
    "    ## hacia cualqueira de dos precios: S*u o S*d  (S es el precio)\n",
    "    ## Entonces vamos a definir esos dos valores que multiplican al precio S: d y u\n",
    "    ## u es lo que sube el precio de la acción y d lo que baja \n",
    "    ## en general u > 1 y d < 1. O sea: si S0 es el precio de la acción al inicio del arbol,\n",
    "    ## si el precio de la acción sube (la rama de arriba) te va a quedar en s0 * u. \n",
    "    ## si el precio de la acción baja (la rama de abajo) te va a quedar en s0 * d\n",
    "    \n",
    "    ## Siguiendo las ecuaciones del hull (edicion 10, pagina 451. Ecuaciones 21.3 a 21.7)\n",
    "    u = math.exp(sigma * math.pow(dt, 0.5))  ## ecuacion 21.5\n",
    "    d = 1 / u ## ecuacion 21.3\n",
    "    \n",
    "    #probabilidad de riesgo neutral \n",
    "    ## cual es la probabilidad en un mundo risk-neutral de que la acción suba\n",
    "    ## en el hull (edicion 10, pagina 285) muestra que esta tambien es la proba en el mundo real\n",
    "    ## ademas de la proba en el mundo risk-neutral\n",
    "    q_prob = (tasa_forward - d) / (u - d) ## ecuacion 21.4\n",
    "\n",
    "    #Precios finales\n",
    "    ## instancia una vector de 0 del tamaño de los pasos + 1\n",
    "    ## aca va a guardar los precios finales de la acción\n",
    "    ST_precios=np.zeros((pasos+1))\n",
    "    \n",
    "    ## y acá genera los precios finales de la acción\n",
    "    ## lo que está haciendo es generar potencias de u\n",
    "    ## ponele que hay 4 pasos: \n",
    "    ## 2 * i - pasos te va a generar los siguientes valores:\n",
    "    ## 2*0 - 4 = -4\n",
    "    ## 2*1 -4 = -2\n",
    "    ## 2*2 - 4 = 0\n",
    "    ## 2*3 - 4 = 2 \n",
    "    ## 2*4 - 4 = 4\n",
    "    ## si miras la pagina 452 del hull (edicion 10), figura 21.2 \n",
    "    ## son los valores del ultimo timestep\n",
    "    ## el detalle a tener en cuenta es que d = 1/u\n",
    "    ## entonces ese u ** -2 es como tener d ** 2\n",
    "    for i in range(0,pasos+1):\n",
    "        ST_precios[pasos-i] = math.pow(u, 2 * i - pasos) * S\n",
    "        \n",
    "    \n",
    "    ## aca va a generar una matriz de 0 para guardar los precios\n",
    "    ## de las opciones\n",
    "    #Matriz de precios de la opcion\n",
    "    opcion_precios = np.zeros((pasos+1, pasos+1))\n",
    "    \n",
    "    ## calculamos el valor de las opciones sobre los precios finales\n",
    "    #Payoff\n",
    "    for i in range (0, pasos+1):\n",
    "        if tipo == \"P\":\n",
    "            ## si es un put, para el precio final de las opciones calculamos\n",
    "            ## el maximo entre 0 y la diferencia entre K (el strike) y el \n",
    "            ## precio de la acción que calculamos antes\n",
    "            opcion_precios[i][pasos] = max(0, (K - ST_precios[i]))\n",
    "        elif tipo == \"C\":\n",
    "            ## si es un call, para el precio final de las opciones calculamos\n",
    "            ## el maximo entre 0 y la diferencia entre el precio de la acción que calculamos antes\n",
    "            ## y K (el strike)\n",
    "            opcion_precios[i][pasos] = max(0, (ST_precios[i] - K))\n",
    "    \n",
    "    ## ahora ya tenemos el precio final de las acciones y de las opciones\n",
    "    ## lo que hacemos es ir para atrás por el arbol y lo vamos completando.\n",
    "    ## en este caso, Maurette lo representa con una matriz (que va a quedar esparsa)\n",
    "    \n",
    "    for j in range(1, pasos+1):\n",
    "        for i in range(0, pasos+1 - j):\n",
    "            ## arranca de arriba a la derecha de la matriz y se va moviendo\n",
    "            ## hacia abajo (i) y hacia izquierda (j)\n",
    "            \n",
    "            ## aca hay una formula medio larga:\n",
    "            ## hace el descuento una suma:\n",
    "            ## (q_prob * opcion_precios[i][pasos - j + 1] + (1  - q_prob) * opcion_precios[i + 1][pasos - j + 1])\n",
    "            ## el primer termino de la suma es q_prob (que dijimos que es la proba risk-neutral de que la accion suba)\n",
    "            ## multiplicado por opcion_precios[i][pasos - j + 1], o sea que lo que hace es tomar la misma fila\n",
    "            ## y mirar el numero de la derecha. O sea, lo que está viendo es el precio de la opción si el subyacente sube\n",
    "            ## y del otro lado tenemos 1 - qprob (o sea, la probabilidad risk-neutrla de que le subyacente baje)\n",
    "            ## multiplicado por el precio de la opcion si el subyacente baja (o sea, el numero que esta a la derecha\n",
    "            ## y en la fila de abajo de la matriz de precios de opciones)\n",
    "            ## o sea, que lo que tenes ahi es:\n",
    "            ## precio de la opcion si sube el subyacente * probabilidad de que suba + precio de la opcion si el subyacente\n",
    "            ## baja * probabilidad de que baje (la esperanza)\n",
    "            ## y eso lo multiplica por la tasa de descuento\n",
    "            \n",
    "            ## con eso se va moviendo para atrás en la matriz de precios de opciones y va completando la matriz de 0\n",
    "            ## arranca con los precios de adelante, calcula la esperanza y descuenta, luego se mueve para atras y repite\n",
    "            \n",
    "            opcion_precios[i][pasos - j] = descuento * (q_prob * opcion_precios[i][pasos - j + 1] + (1  - q_prob) * opcion_precios[i + 1][pasos - j + 1])\n",
    "\n",
    "    ## la opcion del principio de todo es el precio que deberia tener la opcion\n",
    "    precio_BIN = opcion_precios[0][0]\n",
    "    return precio_BIN\n",
    "\n"
   ]
  },
  {
   "cell_type": "code",
   "execution_count": 4,
   "id": "collective-violin",
   "metadata": {},
   "outputs": [],
   "source": [
    "## tenemos la otra funcion: el calculo de precio para opciones americanas\n",
    "def opcion_americana_bin(tipo, S, K, T, r, sigma, div, pasos):\n",
    "\n",
    "    ## la priemra parte es IGUAL (se podria escribir una sola funcion que abarque ambos tipos)\n",
    "    dt = T / pasos\n",
    "    tasa_forward = math.exp((r - div) * dt)\n",
    "    descuento = math.exp(-r * dt)\n",
    "    u = math.exp(sigma * math.pow(dt, 0.5))\n",
    "    d = 1 / u\n",
    "    q_prob = (tasa_forward - d) / (u - d)\n",
    "\n",
    "    #Precios finales\n",
    "    ST_precios=np.zeros((pasos+1))\n",
    "\n",
    "    for i in range(0,pasos+1):\n",
    "        ST_precios[pasos-i] = math.pow(u, 2 * i - pasos) * S\n",
    "\n",
    "    #Matriz de Opcion\n",
    "    opcion_precios = np.zeros((pasos+1, pasos+1))\n",
    "\n",
    "    #Payoff\n",
    "    for i in range (0, pasos+1):\n",
    "        if tipo == \"P\":\n",
    "            opcion_precios[i][pasos] = max(0, (K - ST_precios[i]))\n",
    "        elif tipo == \"C\":\n",
    "            opcion_precios[i][pasos] = max(0, (ST_precios[i] - K))\n",
    "    \n",
    "    \n",
    "    ## hasta aca todo igual, acá es donde arranca la diferencia\n",
    "    for j in range(1, pasos+1):\n",
    "        for i in range(0, pasos+1 - j):\n",
    "            \n",
    "            ## calcula el precio como si fuera una europea (igual que en la funcion anterior)\n",
    "            eur = q_prob * opcion_precios[i][pasos - j + 1] + (1  - q_prob) * opcion_precios[i + 1][pasos - j + 1]\n",
    "            if tipo == \"P\":\n",
    "                ## si es un put, se queda con el máximo entre el precio de la europea correspondiente\n",
    "                ## y K (el strike) - el S que tendrías en ese tiempo. O sea, te quedas con el mejor\n",
    "                ## entre el precio y lo que te queda si la ejercés\n",
    "                ## eso lo descontas\n",
    "                opcion_precios[i][pasos - j] = descuento * max(eur, K - S * math.pow(u,-2*i+pasos-j))\n",
    "            elif tipo == \"C\":\n",
    "                ## lo mismo para el call: es el maximo entre la europea y el ejercicio, descontado\n",
    "                opcion_precios[i][pasos - j] = descuento * max(eur, S * math.pow(u,-2*i+pasos-j) - K)\n",
    "    \n",
    "    ## hay que tener en cuenta que, aunque estamos tomando un parámetro para dividendos al principio del código\n",
    "    ## despues no se corrije por dividendos en el cálculo del árbol. \n",
    "    ## igual maurette aclaró que para hacer codigo productivo en vez de usar esto, es recomendable usar\n",
    "    ## quantlib\n",
    "    \n",
    "    return opcion_precios[0][0]"
   ]
  },
  {
   "cell_type": "code",
   "execution_count": 5,
   "id": "beneficial-austin",
   "metadata": {},
   "outputs": [
    {
     "data": {
      "text/plain": [
       "4.511737946878427"
      ]
     },
     "execution_count": 5,
     "metadata": {},
     "output_type": "execute_result"
    }
   ],
   "source": [
    "#Paramtros del metodo\n",
    "\n",
    "## hagamos un ejemplo con una europea:\n",
    "tipo = \"C\" ## es un put\n",
    "S = 10 ## con precio actual 10\n",
    "K = 7 ## strike 7\n",
    "T = 4 ## time to maturity\n",
    "r = 0.05 ## risk free \n",
    "sigma = 0.25 ## volatilidad\n",
    "div = 0 ## sin dividendos\n",
    "pasos = 30 ## el hull dice que con 30 pasos alcanza (i choose to believe)\n",
    "\n",
    "\n",
    "precio = opcion_europea_bin(tipo, S, K, T, r, sigma, div, pasos)\n",
    "precio"
   ]
  },
  {
   "cell_type": "code",
   "execution_count": 6,
   "id": "stuck-romania",
   "metadata": {},
   "outputs": [
    {
     "data": {
      "text/plain": [
       "4.511737946878427"
      ]
     },
     "execution_count": 6,
     "metadata": {},
     "output_type": "execute_result"
    }
   ],
   "source": [
    "## y si fuera americana:\n",
    "precio = opcion_americana_bin(tipo, S, K, T, r, sigma, div, pasos)\n",
    "precio"
   ]
  },
  {
   "cell_type": "code",
   "execution_count": 7,
   "id": "departmental-weekly",
   "metadata": {},
   "outputs": [],
   "source": [
    "## acá va a implementar de otra manera, más rápida, el arbol binomial\n",
    "## esta es la formula cerrada que vemos en clase 3 diapo 32\n",
    "\n",
    "import operator as op\n",
    "from functools import reduce\n",
    "\n",
    "## aca define una funcion para calcular las combinaciones de n tomadas de a r\n",
    "## por ejemplo ncr(4,2) sería las combinaciones de 4 tomadas de a 2 \n",
    "## o sea 6\n",
    "## esta funcion es una forma rápida de calcularlo nada mas:\n",
    "def ncr(n, r):\n",
    "    r = min(r, n-r)\n",
    "    numer = reduce(op.mul, range(n, n-r, -1), 1) \n",
    "    denom = reduce(op.mul, range(1, r+1), 1)\n",
    "    return numer // denom \n",
    "\n",
    "\n",
    "def opcion_europea_bin_c(tipo, S, K, T, r, sigma, div, pasos):\n",
    "    \n",
    "    ## al principio es igual\n",
    "    \n",
    "    #auxiliares\n",
    "    dt = T / pasos\n",
    "    tasa_forward = math.exp((r - div) * dt)\n",
    "    descuento = math.exp(-r * dt)\n",
    "\n",
    "    #modelo CRR\n",
    "    u = math.exp(sigma * math.pow(dt, 0.5))\n",
    "    d = 1 / u\n",
    "    #probabilidad de riesgo neutral\n",
    "    q_prob = (tasa_forward - d) / (u - d)\n",
    "\n",
    "    ## aca es donde empieza a ser diferente\n",
    "    ## define una variable temp\n",
    "    ## esto es un acumulador donde va a ir sumandole cosas\n",
    "    ## sirve para hacer una sumatoria\n",
    "    temp = 0\n",
    "    \n",
    "    ## itera sobre los pasos (en vez de del r de la funcion auxiliar ncr se va a llamar k)\n",
    "    for k in range(pasos):\n",
    "        if tipo == \"C\":\n",
    "            ## aca calcula el payoff para el último tiempo. \n",
    "            ## supongamos que tenes 4 pasos:\n",
    "            ## Cuando k = 0, te queda max(0, S * 1 * d**4 - K)\n",
    "            ## Cuando k = 1, te queda max(0, S * u * d**3 - K)\n",
    "            ## Cuando k = 2, te queda max(0, S * (u**2) * (d**2) - K)\n",
    "            ## Cuando k = 3, te queda max(0, S * (u**3) * (d) - K)\n",
    "            \n",
    "            ## me parece que falta un paso más, pero k itera en range(pasos)\n",
    "            ## o sea que si pasos = 4, range(pasos) vale 0,1,2,3\n",
    "            ## por ahi habría que corregirlo a range(pasos+1)\n",
    "            \n",
    "            ## o sea, te vas moviendo desde el caso en el que el precio de la acción bajó\n",
    "            ## en todos los pasos. Despues al que bajó en todos los pasos menos 1 y subio en 1. \n",
    "            ## DEspues al que bajó en todos los pasos menos 2 de ellos y subio en dos pasos\n",
    "            ## y así hasta el caso en que el precio de la acción subió en todos los pasos\n",
    "            \n",
    "            payoff = max(0, S * math.pow(u,k) * math.pow(d,pasos-k)-K)\n",
    "        elif tipo == \"P\":\n",
    "            \n",
    "            ## lo mismo para el put, pero con su payoff\n",
    "            payoff = max(0, K - S * math.pow(u, k) * math.pow(d, pasos - k))\n",
    "        \n",
    "        ## y le suma a temp \n",
    "        ## aca a temp le va sumando el valor del combinatorio\n",
    "        ## multiplicado por la probabilidad de llegar al nodo en el que está\n",
    "        ## por el payoff correspondiente\n",
    "        ## (ver segunda ecuacion de la diapo 32 de la clase 3 del modulo de Maurette)\n",
    "        temp = temp +ncr(pasos, k) * math.pow(q_prob,k) * math.pow((1-q_prob),pasos-k) * payoff\n",
    "    \n",
    "    ## y lo que le queda, lo descuenta\n",
    "    precio_BIN_c = math.exp(-r*T)*temp\n",
    "    return precio_BIN_c\n"
   ]
  },
  {
   "cell_type": "markdown",
   "id": "black-chaos",
   "metadata": {},
   "source": [
    "#### Graficos"
   ]
  },
  {
   "cell_type": "code",
   "execution_count": 8,
   "id": "academic-giving",
   "metadata": {},
   "outputs": [],
   "source": [
    "## va a generar una serie de graficos moviendo una sola cosa y dejando todo lo demás igual\n",
    "## la logica es siempre la misma: defino una serie de parámetros (volatilidad, strike, precio del subyacente, etc)\n",
    "## y muevo uno solo. Voy viendo precios de la opcion para ese valor que muevo.\n",
    "## por ejemplo: evaluo el precio de una opcion con una volatilidad del 1%, del 2%, del 3% ..., del 10% y asi\n",
    "## dejando strike, precio del subyacente y todo lo demás quieto."
   ]
  },
  {
   "cell_type": "code",
   "execution_count": 9,
   "id": "wicked-shuttle",
   "metadata": {},
   "outputs": [],
   "source": [
    "## ahora va a graficar el precio de una opcion respecto del precio del subyacente\n",
    "## va a generar una serie de precios de la accion para el eje x \n",
    "## en el eje y va a poner el precio de la opcion"
   ]
  },
  {
   "cell_type": "code",
   "execution_count": 10,
   "id": "subtle-benchmark",
   "metadata": {},
   "outputs": [
    {
     "data": {
      "image/png": "[encoded data removed]",
      "text/plain": [
       "<Figure size 432x288 with 1 Axes>"
      ]
     },
     "metadata": {
      "needs_background": "light"
     },
     "output_type": "display_data"
    }
   ],
   "source": [
    "## define un put con strike 100, precio 100, time to maturity = 1\n",
    "## risk free de 5%, volatilidad del 25%, sin dividendos,\n",
    "## con 100 pasos:\n",
    "tipo = \"P\"\n",
    "S = 100\n",
    "K = 100\n",
    "T = 1\n",
    "r = 0.05\n",
    "sigma= 0.25\n",
    "div =0\n",
    "pasos = 1000\n",
    "\n",
    "\n",
    "## va a hacer un gráfico nomás\n",
    "S_MAX = 2*S  # va a graficar hasta 2 veces el precio del subyacente\n",
    "## o sea, que si sale 100, va a graficar de 0 a 200 en el eje x\n",
    "S_vec = np.linspace(0,S_MAX,50) ## genera un vector de 0 a 2*S (esto es para el eje X)\n",
    "## serian los precios finales de la accion\n",
    "\n",
    "precios = np.zeros(len(S_vec)) ## y define un vector de 0 para guardar los precios\n",
    "\n",
    "payoff = np.zeros(len(S_vec)) ## define el payoff con un vector de 0\n",
    "\n",
    "## y va guardando los precios del put que definimos arriba de todo, para cada precio final\n",
    "## que definimos en S_vec\n",
    "for index in range(len(S_vec)):\n",
    "    precios[index] = opcion_europea_bin_c(tipo, S_vec[index], K, T, r, sigma, div, pasos) ## el precio de la opcion\n",
    "    payoff[index] = max(0, K-S_vec[index]) ## el payoff de la opcion\n",
    "\n",
    "## y despues solo plotea    \n",
    "plt.plot(S_vec,precios,'r', label='Precio')\n",
    "plt.plot(S_vec,payoff,'g', label='Payoff')\n",
    "plt.axvline(x=K, color = 'black', linestyle='--')\n",
    "\n",
    "plt.legend()\n",
    "\n",
    "plt.xlabel('Spot')\n",
    "plt.ylabel('Precio del Put')\n",
    "plt.title('Precio/Payoff de una opcion Put a tiempo inicial con respecto al spot')\n",
    "\n",
    "plt.show()"
   ]
  },
  {
   "cell_type": "code",
   "execution_count": 11,
   "id": "criminal-immunology",
   "metadata": {},
   "outputs": [
    {
     "data": {
      "image/png": "[encoded data removed]",
      "text/plain": [
       "<Figure size 432x288 with 1 Axes>"
      ]
     },
     "metadata": {
      "needs_background": "light"
     },
     "output_type": "display_data"
    }
   ],
   "source": [
    "## lo mismo con un call\n",
    "tipo = \"C\"\n",
    "S = 100\n",
    "K = 100\n",
    "T = 1\n",
    "r = 0.05\n",
    "sigma= 0.25\n",
    "div =0\n",
    "pasos = 1000\n",
    "\n",
    "\n",
    "\n",
    "S_MAX = 2*S\n",
    "S_vec = np.linspace(0,S_MAX,50)      \n",
    "precios = np.zeros(len(S_vec))\n",
    "payoff = np.zeros(len(S_vec))\n",
    "\n",
    "for index in range(len(S_vec)):\n",
    "    precios[index] = opcion_europea_bin_c(tipo, S_vec[index], K, T, r, sigma, div, pasos)\n",
    "    payoff[index] = max(0, S_vec[index]-K)\n",
    "plt.plot(S_vec,precios,'r', label='Precio')\n",
    "plt.plot(S_vec,payoff,'g', label='Payoff')\n",
    "plt.axvline(x=K, color = 'black', linestyle='--')\n",
    "\n",
    "plt.legend()\n",
    "\n",
    "plt.xlabel('Spot')\n",
    "plt.ylabel('Precio del Call')\n",
    "plt.title('Precio/Payoff de una opcion Call a tiempo inicial con respecto al spot')\n",
    "\n",
    "plt.show()"
   ]
  },
  {
   "cell_type": "code",
   "execution_count": 12,
   "id": "coupled-berry",
   "metadata": {},
   "outputs": [
    {
     "data": {
      "image/png": "[encoded data removed]",
      "text/plain": [
       "<Figure size 432x288 with 1 Axes>"
      ]
     },
     "metadata": {
      "needs_background": "light"
     },
     "output_type": "display_data"
    }
   ],
   "source": [
    "## ahora lo mismo, pero en vez de mover el precio del subyacente\n",
    "## va a mover el valor del strike\n",
    "\n",
    "tipo = \"C\"\n",
    "S = 100\n",
    "K = 100\n",
    "T = 1\n",
    "r = 0.05\n",
    "sigma= 0.25\n",
    "div =0\n",
    "pasos = 1000\n",
    "\n",
    "K_MAX = 2*S\n",
    "K_vec = np.linspace(0,K_MAX,50) ## aca genera valores para el strike\n",
    "precios = np.zeros(len(K_vec))\n",
    "\n",
    "\n",
    "\n",
    "## va iterando sobre valores del strike y calculando el precio de la opcion\n",
    "for index in range(len(K_vec)):\n",
    "    precios[index] = opcion_europea_bin_c(tipo, S, K_vec[index], T, r, sigma, div, pasos)\n",
    "\n",
    "## y grafica\n",
    "plt.plot(K_vec,precios,'r', label='Strike')\n",
    "plt.axvline(x=S, color = 'black', linestyle='--')\n",
    "\n",
    "plt.legend()\n",
    "\n",
    "plt.xlabel('Spot')\n",
    "plt.ylabel('Precio del Call')\n",
    "plt.title('Precio de una opcion Call a tiempo inicial con respecto al strike')\n",
    "\n",
    "plt.show()"
   ]
  },
  {
   "cell_type": "code",
   "execution_count": 13,
   "id": "muslim-truck",
   "metadata": {},
   "outputs": [
    {
     "data": {
      "image/png": "[encoded data removed]",
      "text/plain": [
       "<Figure size 432x288 with 1 Axes>"
      ]
     },
     "metadata": {
      "needs_background": "light"
     },
     "output_type": "display_data"
    }
   ],
   "source": [
    "## lo mismo para una put\n",
    "\n",
    "tipo = \"P\"\n",
    "S = 100\n",
    "K = 100\n",
    "T = 1\n",
    "r = 0.05\n",
    "sigma= 0.25\n",
    "div =0\n",
    "pasos = 1000\n",
    "\n",
    "K_MAX = 2*S\n",
    "K_vec = np.linspace(0,K_MAX,50)      \n",
    "precios = np.zeros(len(K_vec))\n",
    "payoff = np.zeros(len(K_vec))\n",
    "\n",
    "\n",
    "\n",
    "\n",
    "for index in range(len(K_vec)):\n",
    "    precios[index] = opcion_europea_bin_c(tipo, S, K_vec[index], T, r, sigma, div, pasos)\n",
    "\n",
    "plt.plot(K_vec,precios,'r', label='Strike')\n",
    "plt.axvline(x=S, color = 'black', linestyle='--')\n",
    "\n",
    "plt.legend()\n",
    "\n",
    "plt.xlabel('Spot')\n",
    "plt.ylabel('Precio del Put')\n",
    "plt.title('Precio de una opcion Put a tiempo inicial con respecto al strike')\n",
    "\n",
    "plt.show()"
   ]
  },
  {
   "cell_type": "code",
   "execution_count": 14,
   "id": "talented-cologne",
   "metadata": {},
   "outputs": [],
   "source": [
    "## ahora lo mismo, pero en vez de tocar el precio del subyacente\n",
    "## o el strike va a ir moviendo la volatilidad\n",
    "## en teoria habiamos visto que a mayor volatilidad, mas alto el precio "
   ]
  },
  {
   "cell_type": "code",
   "execution_count": 15,
   "id": "immediate-christian",
   "metadata": {},
   "outputs": [
    {
     "data": {
      "image/png": "[encoded data removed]",
      "text/plain": [
       "<Figure size 432x288 with 1 Axes>"
      ]
     },
     "metadata": {
      "needs_background": "light"
     },
     "output_type": "display_data"
    }
   ],
   "source": [
    "tipo = \"C\"\n",
    "S = 100\n",
    "K = 100\n",
    "T = 1\n",
    "r = 0.05\n",
    "sigma= 0.25\n",
    "div =0\n",
    "pasos = 1000\n",
    "\n",
    "sigma_MAX = 8*sigma\n",
    "sigma_vec = np.linspace(0,sigma_MAX,50) ## genera vector de posibles volatilidades\n",
    "precios = np.zeros(len(sigma_vec))\n",
    "\n",
    "for index in range(1,len(sigma_vec)):\n",
    "    ## calcula el precio de la opcion segun volatilidad\n",
    "    precios[index] = opcion_europea_bin_c(tipo, S, K, T, r, sigma_vec[index], div, pasos)\n",
    "plt.plot(sigma_vec,precios,'r', label='Precio')\n",
    "plt.legend()\n",
    "\n",
    "plt.xlabel('Volatilidad implicita')\n",
    "plt.ylabel('Precio del Call')\n",
    "plt.title('Precio de una opcion Call a tiempo inicial con respecto a la volatilidad implicita')\n",
    "\n",
    "plt.show()\n",
    "\n",
    "## taraaaan:"
   ]
  },
  {
   "cell_type": "code",
   "execution_count": 16,
   "id": "alpha-resident",
   "metadata": {},
   "outputs": [
    {
     "data": {
      "image/png": "[encoded data removed]",
      "text/plain": [
       "<Figure size 432x288 with 1 Axes>"
      ]
     },
     "metadata": {
      "needs_background": "light"
     },
     "output_type": "display_data"
    }
   ],
   "source": [
    "## lo mismo con una put\n",
    "\n",
    "tipo = \"P\"\n",
    "S = 100\n",
    "K = 100\n",
    "T = 1\n",
    "r = 0.05\n",
    "sigma= 0.25\n",
    "div =0\n",
    "pasos = 1000\n",
    "\n",
    "sigma_MAX = 8*sigma\n",
    "sigma_vec = np.linspace(0,sigma_MAX,50)      \n",
    "precios = np.zeros(len(sigma_vec))\n",
    "\n",
    "for index in range(1,len(sigma_vec)):\n",
    "    precios[index] = opcion_europea_bin_c(tipo, S, K, T, r, sigma_vec[index], div, pasos)\n",
    "plt.plot(sigma_vec,precios,'r', label='Precio')\n",
    "plt.legend()\n",
    "\n",
    "plt.xlabel('Volatilidad implicita')\n",
    "plt.ylabel('Precio del Put')\n",
    "plt.title('Precio de una opcion Put a tiempo inicial con respecto a la volatilidad implicita')\n",
    "\n",
    "plt.show()"
   ]
  },
  {
   "cell_type": "code",
   "execution_count": 17,
   "id": "french-giant",
   "metadata": {},
   "outputs": [
    {
     "data": {
      "image/png": "[encoded data removed]",
      "text/plain": [
       "<Figure size 432x288 with 1 Axes>"
      ]
     },
     "metadata": {
      "needs_background": "light"
     },
     "output_type": "display_data"
    }
   ],
   "source": [
    "## y lo mismo con el time to maturity: va a ir graficando como queda el precio\n",
    "## con distintos ttm\n",
    "tipo = \"C\"\n",
    "S = 100\n",
    "K = 100\n",
    "T = 1\n",
    "r = 0.05\n",
    "sigma= 0.25\n",
    "div =0\n",
    "pasos = 1000\n",
    "\n",
    "T_MAX = 2*T\n",
    "T_vec = np.linspace(0,T_MAX,50)      \n",
    "precios = np.zeros(len(T_vec))\n",
    "\n",
    "for index in range(1,len(T_vec)):\n",
    "    precios[index] = opcion_europea_bin_c(tipo, S, K, T_vec[index], r, sigma, div, pasos)\n",
    "plt.plot(T_vec,precios,'r', label='Precio')\n",
    "plt.legend()\n",
    "\n",
    "plt.xlabel('Tiempo de expiracion en años')\n",
    "plt.ylabel('Precio del Call')\n",
    "plt.title('Precio de una opcion Call a tiempo inicial con respecto al tiempo de expiracion')\n",
    "\n",
    "plt.show()"
   ]
  },
  {
   "cell_type": "markdown",
   "id": "diverse-gnome",
   "metadata": {},
   "source": [
    "#### Convergencia del arbol binomial"
   ]
  },
  {
   "cell_type": "code",
   "execution_count": 18,
   "id": "prerequisite-venue",
   "metadata": {},
   "outputs": [],
   "source": [
    "tipo = \"C\"\n",
    "S = 100\n",
    "K = 100\n",
    "T = 1\n",
    "r = 0.05\n",
    "sigma= 0.25\n",
    "div =0\n",
    "\n",
    "## generamos un vector de pasos\n",
    "pasos_vec = [1,2,3,4,5,6,7,8,9,10,15, 20, 25, 30, 40, 50, 60, 70, 80, 90, 100]      \n",
    "precios = np.zeros(len(pasos_vec))\n",
    "\n",
    "## y para cada cantidad de pasos, calculamos el precio de la opcion:\n",
    "## o sea, calculamos (con los parámetros de arriba) el precio\n",
    "## usando un arbol de 1 paso y guardamos el precio\n",
    "## con 2 pasos y guardamos el precio\n",
    "## con 3 pasos... etc \n",
    "for index in range(len(pasos_vec)):\n",
    "    precios[index] = opcion_europea_bin(tipo, S, K, T, r, sigma, div, pasos_vec[index])"
   ]
  },
  {
   "cell_type": "code",
   "execution_count": 19,
   "id": "casual-domain",
   "metadata": {},
   "outputs": [
    {
     "data": {
      "image/png": "[encoded data removed]",
      "text/plain": [
       "<Figure size 432x288 with 1 Axes>"
      ]
     },
     "metadata": {
      "needs_background": "light"
     },
     "output_type": "display_data"
    }
   ],
   "source": [
    "## y lo que vemos es que a partir de mas o menos 30 pasos, medio que se estabiliza el valor de la opcion\n",
    "\n",
    "plt.plot(pasos_vec,precios,'*', label='Precio')\n",
    "plt.legend()\n",
    "\n",
    "plt.xlabel('Pasos del arbol Binomial')\n",
    "plt.ylabel('Precio del Call')\n",
    "plt.title('Precio de una opcion Call a tiempo inicial con respecto al numero de pasos del arbol')\n",
    "\n",
    "plt.show()"
   ]
  },
  {
   "cell_type": "markdown",
   "id": "appreciated-monday",
   "metadata": {},
   "source": [
    "#### Europeas vs Americanas"
   ]
  },
  {
   "cell_type": "code",
   "execution_count": 20,
   "id": "cosmetic-sponsorship",
   "metadata": {},
   "outputs": [
    {
     "data": {
      "image/png": "[encoded data removed]",
      "text/plain": [
       "<Figure size 432x288 with 1 Axes>"
      ]
     },
     "metadata": {
      "needs_background": "light"
     },
     "output_type": "display_data"
    },
    {
     "name": "stdout",
     "output_type": "stream",
     "text": [
      "Precio Opcion Europea:  12.323646460707344\n",
      "Precio Opcion Americana:  12.323646460707344\n"
     ]
    }
   ],
   "source": [
    "## define un call \n",
    "tipo = \"C\"\n",
    "K = 100\n",
    "T = 1\n",
    "r = 0.05\n",
    "sigma= 0.25\n",
    "div =0\n",
    "pasos = 200\n",
    "\n",
    "## genera una serie de precios de subyacentes y dos vectores para guardar precios de europeas y americanas\n",
    "S_vec = np.linspace(0.5*S,1.5*S,50)      \n",
    "precios_eur = np.zeros(len(S_vec))\n",
    "precios_ame = np.zeros(len(S_vec))\n",
    "\n",
    "payoff = np.zeros(len(S_vec))\n",
    "\n",
    "## va iterando sobre los precios posibles del subyacente y calcula el precio de la opción\n",
    "for index in range(len(S_vec)):\n",
    "    precios_eur[index] = opcion_europea_bin(tipo, S_vec[index], K, T, r, sigma, div, pasos)\n",
    "    precios_ame[index] = opcion_americana_bin(tipo, S_vec[index], K, T, r, sigma, div, pasos)\n",
    "    ## y el payoff del call\n",
    "    payoff[index] = max(0, S_vec[index]-K)\n",
    "\n",
    "## plotea los precios de las americanas y de las europeas\n",
    "## en el grafico se van a superponer ambas lineas, por lo que solamente vamos a ver 1!\n",
    "plt.plot(S_vec,precios_eur,'r', label='Precio Europea')\n",
    "plt.plot(S_vec,precios_ame,'b', label='Precio Americana')\n",
    "\n",
    "plt.plot(S_vec,payoff,'g', label='Payoff')\n",
    "plt.axvline(x=K, color = 'black', linestyle='--')\n",
    "\n",
    "plt.legend()\n",
    "\n",
    "plt.xlabel('Spot')\n",
    "plt.ylabel('Precio del Call')\n",
    "plt.title('Precio/Payoff de una opcion Call a tiempo inicial con respecto al spot')\n",
    "\n",
    "plt.show()\n",
    "\n",
    "## aca confirmamos que la americana y la europea valen lo mismo!\n",
    "print(\"Precio Opcion Europea: \", opcion_europea_bin(tipo, S, K, T, r, sigma, div, pasos))\n",
    "print(\"Precio Opcion Americana: \", opcion_americana_bin(tipo, S, K, T, r, sigma, div, pasos))"
   ]
  },
  {
   "cell_type": "code",
   "execution_count": 21,
   "id": "compliant-single",
   "metadata": {},
   "outputs": [
    {
     "data": {
      "image/png": "[encoded data removed]",
      "text/plain": [
       "<Figure size 432x288 with 1 Axes>"
      ]
     },
     "metadata": {
      "needs_background": "light"
     },
     "output_type": "display_data"
    },
    {
     "name": "stdout",
     "output_type": "stream",
     "text": [
      "Precio Opcion Europea:  7.446588910777644\n",
      "Precio Opcion Americana:  7.967099044079217\n"
     ]
    }
   ],
   "source": [
    "## lo mismo pero para el put:\n",
    "## aca vamos a ver que si hay una diferencia entre los precios\n",
    "## porque hay veces que es optimo ejercer un put antes de la expiracion \n",
    "## mientras que en un call no pasa\n",
    "\n",
    "tipo = \"P\"\n",
    "\n",
    "precios_eur = np.zeros(len(S_vec))\n",
    "precios_ame = np.zeros(len(S_vec))\n",
    "\n",
    "payoff = np.zeros(len(S_vec))\n",
    "\n",
    "for index in range(len(S_vec)):\n",
    "    precios_eur[index] = opcion_europea_bin(tipo, S_vec[index], K, T, r, sigma, div, pasos)\n",
    "    precios_ame[index] = opcion_americana_bin(tipo, S_vec[index], K, T, r, sigma, div, pasos)\n",
    "    \n",
    "    payoff[index] = max(0, K -S_vec[index])\n",
    "\n",
    "plt.plot(S_vec,precios_eur,'r', label='Precio Europea')\n",
    "plt.plot(S_vec,precios_ame,'b', label='Precio Americana')\n",
    "\n",
    "plt.plot(S_vec,payoff,'g', label='Payoff')\n",
    "plt.axvline(x=K, color = 'black', linestyle='--')\n",
    "\n",
    "plt.legend()\n",
    "\n",
    "plt.xlabel('Spot')\n",
    "plt.ylabel('Precio del Put')\n",
    "plt.title('Precio/Payoff de una opcion Put a tiempo inicial con respecto al spot')\n",
    "\n",
    "plt.show()\n",
    "\n",
    "\n",
    "print(\"Precio Opcion Europea: \", opcion_europea_bin(tipo, S, K, T, r, sigma, div, pasos))\n",
    "print(\"Precio Opcion Americana: \", opcion_americana_bin(tipo, S, K, T, r, sigma, div, pasos))\n"
   ]
  },
  {
   "cell_type": "markdown",
   "id": "roman-customer",
   "metadata": {},
   "source": [
    "#### Black and Scholes"
   ]
  },
  {
   "cell_type": "code",
   "execution_count": 22,
   "id": "ceramic-iraqi",
   "metadata": {},
   "outputs": [],
   "source": [
    "## defino los parámetros de una call\n",
    "tipo = \"C\"\n",
    "K = 100\n",
    "T = 1\n",
    "r = 0.05\n",
    "sigma= 0.25\n",
    "div =0"
   ]
  },
  {
   "cell_type": "code",
   "execution_count": 23,
   "id": "occupied-group",
   "metadata": {},
   "outputs": [],
   "source": [
    "## esto no tiene mucho misterio: es la formula de black and scholes\n",
    "## es una cuenta nomás\n",
    "## lo unico por ahi a tener en cuenta es norm.cdf es la normal acumulada\n",
    "\n",
    "def opcion_europea_bs(tipo, S, K, T, r, sigma, div):\n",
    "    #Defino los ds\n",
    "    d1 = (math.log(S / K) + (r - div + 0.5 * sigma * sigma) * T) / sigma / math.sqrt(T)\n",
    "    d2 = (math.log(S / K) + (r - div - 0.5 * sigma * sigma) * T) / sigma / math.sqrt(T)\n",
    "\n",
    "    if (tipo == \"C\"):\n",
    "        precio_BS = math.exp(-div*T) *S * norm.cdf(d1) - K * math.exp(-r * T) * norm.cdf(d2)\n",
    "        \n",
    "    elif (tipo == \"P\"):\n",
    "        precio_BS = K * math.exp(-r * T) * norm.cdf(-d2) - math.exp(-div*T) * S * norm.cdf(-d1)\n",
    "        \n",
    "    return precio_BS"
   ]
  },
  {
   "cell_type": "code",
   "execution_count": 24,
   "id": "developmental-funds",
   "metadata": {},
   "outputs": [],
   "source": [
    "## aca va a comparar black and scholes contra el arbol binomial\n",
    "## pero contra distintas cantidades de steps del arbol\n",
    "## y lo que ves es que cuando tenes suficientes pasos, convergen\n",
    "\n",
    "tipo = \"P\"\n",
    "S = 100\n",
    "K = 100\n",
    "T = 1\n",
    "r = 0.05\n",
    "sigma= 0.25\n",
    "div =0.2\n",
    "\n",
    "## aca es igual que en el grafico de mas arriba: vamos a graficar distintas cantidades de pasos\n",
    "pasos_vec = [1,2,3,4,5,6,7,8,9,10,12,14,16,18,20,25,30,40,50,75,100,125,150,200,250,300]      \n",
    "precios = np.zeros(len(pasos_vec))\n",
    "\n",
    "## calculo el precio de la opcion para cada uno de los pasos. Igual que antes:\n",
    "## calculo el precio de la opcion para un arbol de 1 step, para un arbol de 2 steps... etc\n",
    "for index in range(len(pasos_vec)):\n",
    "    precios[index] = opcion_europea_bin(tipo, S, K, T, r, sigma, div, pasos_vec[index])\n",
    "\n",
    "## y calculo el precio usando black and scholes\n",
    "precio_BS = opcion_europea_bs(tipo, S, K, T, r, sigma, div)\n",
    "\n"
   ]
  },
  {
   "cell_type": "code",
   "execution_count": 25,
   "id": "unusual-press",
   "metadata": {},
   "outputs": [
    {
     "data": {
      "image/png": "[encoded data removed]",
      "text/plain": [
       "<Figure size 432x288 with 1 Axes>"
      ]
     },
     "metadata": {
      "needs_background": "light"
     },
     "output_type": "display_data"
    }
   ],
   "source": [
    "## y acá graficamos en negro el precio de black and scholes con una linea punteada\n",
    "plt.axhline(y=precio_BS, color = 'black', linestyle='--', label='Precio BlackSholes')\n",
    "\n",
    "## y el precio de los arboles con distintos steps, con estrellitas\n",
    "plt.plot(pasos_vec,precios,'*', label='Precio Binomial')\n",
    "\n",
    "plt.legend()\n",
    "\n",
    "plt.xlabel('Pasos del arbol Binomial')\n",
    "plt.ylabel('Precio de la opcion')\n",
    "plt.title('Precio de una opcion a tiempo inicial con respecto al numero de pasos del arbol')\n",
    "\n",
    "plt.show()"
   ]
  },
  {
   "cell_type": "markdown",
   "id": "racial-staff",
   "metadata": {},
   "source": [
    "#### Mercado y Modelo"
   ]
  },
  {
   "cell_type": "code",
   "execution_count": 26,
   "id": "freelance-webster",
   "metadata": {},
   "outputs": [],
   "source": [
    "## a esta parte le voy a pegar una ligera reescritura"
   ]
  },
  {
   "cell_type": "code",
   "execution_count": 27,
   "id": "lesbian-indonesia",
   "metadata": {},
   "outputs": [],
   "source": [
    "## esto es el codigo de \"Clase2\" pasado a .py\n",
    "import option_data as od"
   ]
  },
  {
   "cell_type": "code",
   "execution_count": 28,
   "id": "fourth-archives",
   "metadata": {},
   "outputs": [],
   "source": [
    "## bajo la data de galicia\n",
    "ticker = \"GGAL\"\n",
    "panel_opciones = od.generar_df_opciones(ticker)\n",
    "panel_opciones = od.get_full_data(panel_opciones)"
   ]
  },
  {
   "cell_type": "code",
   "execution_count": 29,
   "id": "dirty-registration",
   "metadata": {},
   "outputs": [
    {
     "data": {
      "text/html": [
       "<div>\n",
       "<style scoped>\n",
       "    .dataframe tbody tr th:only-of-type {\n",
       "        vertical-align: middle;\n",
       "    }\n",
       "\n",
       "    .dataframe tbody tr th {\n",
       "        vertical-align: top;\n",
       "    }\n",
       "\n",
       "    .dataframe thead th {\n",
       "        text-align: right;\n",
       "    }\n",
       "</style>\n",
       "<table border=\"1\" class=\"dataframe\">\n",
       "  <thead>\n",
       "    <tr style=\"text-align: right;\">\n",
       "      <th></th>\n",
       "      <th>Especie</th>\n",
       "      <th>Ticker</th>\n",
       "      <th>Spot</th>\n",
       "      <th>CallPut</th>\n",
       "      <th>Strike</th>\n",
       "      <th>TTM</th>\n",
       "      <th>Last</th>\n",
       "      <th>Bid</th>\n",
       "      <th>Ask</th>\n",
       "      <th>impliedVolatility</th>\n",
       "      <th>Moneyness</th>\n",
       "    </tr>\n",
       "  </thead>\n",
       "  <tbody>\n",
       "    <tr>\n",
       "      <th>0</th>\n",
       "      <td>GGAL210820C00005000</td>\n",
       "      <td>GGAL</td>\n",
       "      <td>8.21</td>\n",
       "      <td>C</td>\n",
       "      <td>5.0</td>\n",
       "      <td>13</td>\n",
       "      <td>4.30</td>\n",
       "      <td>2.50</td>\n",
       "      <td>3.10</td>\n",
       "      <td>0.000010</td>\n",
       "      <td>1.642000</td>\n",
       "    </tr>\n",
       "    <tr>\n",
       "      <th>1</th>\n",
       "      <td>GGAL210820C00007500</td>\n",
       "      <td>GGAL</td>\n",
       "      <td>8.21</td>\n",
       "      <td>C</td>\n",
       "      <td>7.5</td>\n",
       "      <td>13</td>\n",
       "      <td>0.75</td>\n",
       "      <td>0.65</td>\n",
       "      <td>1.10</td>\n",
       "      <td>0.726565</td>\n",
       "      <td>1.094667</td>\n",
       "    </tr>\n",
       "    <tr>\n",
       "      <th>2</th>\n",
       "      <td>GGAL210820C00010000</td>\n",
       "      <td>GGAL</td>\n",
       "      <td>8.21</td>\n",
       "      <td>C</td>\n",
       "      <td>10.0</td>\n",
       "      <td>13</td>\n",
       "      <td>0.05</td>\n",
       "      <td>0.00</td>\n",
       "      <td>0.05</td>\n",
       "      <td>0.648441</td>\n",
       "      <td>0.821000</td>\n",
       "    </tr>\n",
       "    <tr>\n",
       "      <th>3</th>\n",
       "      <td>GGAL210820C00012500</td>\n",
       "      <td>GGAL</td>\n",
       "      <td>8.21</td>\n",
       "      <td>C</td>\n",
       "      <td>12.5</td>\n",
       "      <td>13</td>\n",
       "      <td>0.10</td>\n",
       "      <td>0.00</td>\n",
       "      <td>0.55</td>\n",
       "      <td>2.054692</td>\n",
       "      <td>0.656800</td>\n",
       "    </tr>\n",
       "    <tr>\n",
       "      <th>4</th>\n",
       "      <td>GGAL210917C00007500</td>\n",
       "      <td>GGAL</td>\n",
       "      <td>8.21</td>\n",
       "      <td>C</td>\n",
       "      <td>7.5</td>\n",
       "      <td>41</td>\n",
       "      <td>0.90</td>\n",
       "      <td>0.90</td>\n",
       "      <td>1.20</td>\n",
       "      <td>0.603520</td>\n",
       "      <td>1.094667</td>\n",
       "    </tr>\n",
       "  </tbody>\n",
       "</table>\n",
       "</div>"
      ],
      "text/plain": [
       "               Especie Ticker  Spot CallPut  Strike  TTM  Last   Bid   Ask  \\\n",
       "0  GGAL210820C00005000   GGAL  8.21       C     5.0   13  4.30  2.50  3.10   \n",
       "1  GGAL210820C00007500   GGAL  8.21       C     7.5   13  0.75  0.65  1.10   \n",
       "2  GGAL210820C00010000   GGAL  8.21       C    10.0   13  0.05  0.00  0.05   \n",
       "3  GGAL210820C00012500   GGAL  8.21       C    12.5   13  0.10  0.00  0.55   \n",
       "4  GGAL210917C00007500   GGAL  8.21       C     7.5   41  0.90  0.90  1.20   \n",
       "\n",
       "   impliedVolatility  Moneyness  \n",
       "0           0.000010   1.642000  \n",
       "1           0.726565   1.094667  \n",
       "2           0.648441   0.821000  \n",
       "3           2.054692   0.656800  \n",
       "4           0.603520   1.094667  "
      ]
     },
     "execution_count": 29,
     "metadata": {},
     "output_type": "execute_result"
    }
   ],
   "source": [
    "panel_opciones.head()"
   ]
  },
  {
   "cell_type": "code",
   "execution_count": 31,
   "id": "going-piece",
   "metadata": {},
   "outputs": [
    {
     "data": {
      "text/plain": [
       "69"
      ]
     },
     "execution_count": 31,
     "metadata": {},
     "output_type": "execute_result"
    }
   ],
   "source": [
    "# Tomo los TTMs y me quedo con alguno de ellos\n",
    "TTM = panel_opciones.TTM.unique()[2]\n",
    "TTM"
   ]
  },
  {
   "cell_type": "code",
   "execution_count": 32,
   "id": "sweet-pearl",
   "metadata": {},
   "outputs": [],
   "source": [
    "# elijo un tipo de opcion y tomo los strikes\n",
    "CP = \"P\"\n",
    "\n",
    "## voy a subsetear las opciones que cumplen mis dos criterios: que tengan un TTM igual al que definimos arriba\n",
    "## y que sea PUT\n",
    "opciones_a_considerar = panel_opciones[(panel_opciones.TTM == TTM) & (panel_opciones.CallPut == CP)]"
   ]
  },
  {
   "cell_type": "code",
   "execution_count": 33,
   "id": "planned-native",
   "metadata": {},
   "outputs": [
    {
     "data": {
      "text/html": [
       "<div>\n",
       "<style scoped>\n",
       "    .dataframe tbody tr th:only-of-type {\n",
       "        vertical-align: middle;\n",
       "    }\n",
       "\n",
       "    .dataframe tbody tr th {\n",
       "        vertical-align: top;\n",
       "    }\n",
       "\n",
       "    .dataframe thead th {\n",
       "        text-align: right;\n",
       "    }\n",
       "</style>\n",
       "<table border=\"1\" class=\"dataframe\">\n",
       "  <thead>\n",
       "    <tr style=\"text-align: right;\">\n",
       "      <th></th>\n",
       "      <th>Especie</th>\n",
       "      <th>Ticker</th>\n",
       "      <th>Spot</th>\n",
       "      <th>CallPut</th>\n",
       "      <th>Strike</th>\n",
       "      <th>TTM</th>\n",
       "      <th>Last</th>\n",
       "      <th>Bid</th>\n",
       "      <th>Ask</th>\n",
       "      <th>impliedVolatility</th>\n",
       "      <th>Moneyness</th>\n",
       "    </tr>\n",
       "  </thead>\n",
       "  <tbody>\n",
       "    <tr>\n",
       "      <th>34</th>\n",
       "      <td>GGAL211015P00002500</td>\n",
       "      <td>GGAL</td>\n",
       "      <td>8.21</td>\n",
       "      <td>P</td>\n",
       "      <td>2.5</td>\n",
       "      <td>69</td>\n",
       "      <td>0.25</td>\n",
       "      <td>0.00</td>\n",
       "      <td>0.05</td>\n",
       "      <td>1.390628</td>\n",
       "      <td>3.284000</td>\n",
       "    </tr>\n",
       "    <tr>\n",
       "      <th>35</th>\n",
       "      <td>GGAL211015P00005000</td>\n",
       "      <td>GGAL</td>\n",
       "      <td>8.21</td>\n",
       "      <td>P</td>\n",
       "      <td>5.0</td>\n",
       "      <td>69</td>\n",
       "      <td>0.10</td>\n",
       "      <td>0.00</td>\n",
       "      <td>0.20</td>\n",
       "      <td>0.855470</td>\n",
       "      <td>1.642000</td>\n",
       "    </tr>\n",
       "    <tr>\n",
       "      <th>36</th>\n",
       "      <td>GGAL211015P00007500</td>\n",
       "      <td>GGAL</td>\n",
       "      <td>8.21</td>\n",
       "      <td>P</td>\n",
       "      <td>7.5</td>\n",
       "      <td>69</td>\n",
       "      <td>0.42</td>\n",
       "      <td>0.25</td>\n",
       "      <td>0.85</td>\n",
       "      <td>0.632816</td>\n",
       "      <td>1.094667</td>\n",
       "    </tr>\n",
       "    <tr>\n",
       "      <th>37</th>\n",
       "      <td>GGAL211015P00010000</td>\n",
       "      <td>GGAL</td>\n",
       "      <td>8.21</td>\n",
       "      <td>P</td>\n",
       "      <td>10.0</td>\n",
       "      <td>69</td>\n",
       "      <td>1.94</td>\n",
       "      <td>1.95</td>\n",
       "      <td>2.50</td>\n",
       "      <td>0.707034</td>\n",
       "      <td>0.821000</td>\n",
       "    </tr>\n",
       "    <tr>\n",
       "      <th>38</th>\n",
       "      <td>GGAL211015P00012500</td>\n",
       "      <td>GGAL</td>\n",
       "      <td>8.21</td>\n",
       "      <td>P</td>\n",
       "      <td>12.5</td>\n",
       "      <td>69</td>\n",
       "      <td>2.80</td>\n",
       "      <td>3.80</td>\n",
       "      <td>4.50</td>\n",
       "      <td>0.820314</td>\n",
       "      <td>0.656800</td>\n",
       "    </tr>\n",
       "  </tbody>\n",
       "</table>\n",
       "</div>"
      ],
      "text/plain": [
       "                Especie Ticker  Spot CallPut  Strike  TTM  Last   Bid   Ask  \\\n",
       "34  GGAL211015P00002500   GGAL  8.21       P     2.5   69  0.25  0.00  0.05   \n",
       "35  GGAL211015P00005000   GGAL  8.21       P     5.0   69  0.10  0.00  0.20   \n",
       "36  GGAL211015P00007500   GGAL  8.21       P     7.5   69  0.42  0.25  0.85   \n",
       "37  GGAL211015P00010000   GGAL  8.21       P    10.0   69  1.94  1.95  2.50   \n",
       "38  GGAL211015P00012500   GGAL  8.21       P    12.5   69  2.80  3.80  4.50   \n",
       "\n",
       "    impliedVolatility  Moneyness  \n",
       "34           1.390628   3.284000  \n",
       "35           0.855470   1.642000  \n",
       "36           0.632816   1.094667  \n",
       "37           0.707034   0.821000  \n",
       "38           0.820314   0.656800  "
      ]
     },
     "execution_count": 33,
     "metadata": {},
     "output_type": "execute_result"
    }
   ],
   "source": [
    "opciones_a_considerar"
   ]
  },
  {
   "cell_type": "code",
   "execution_count": 34,
   "id": "color-solid",
   "metadata": {},
   "outputs": [],
   "source": [
    "## voy a buscar la opcion mas at the money que haya:\n",
    "\n",
    "## calculo el valor absoluto de la diferencia entre spot y strike\n",
    "pos_min_dif_spot_strike = np.abs(opciones_a_considerar.Strike - opciones_a_considerar.Spot).argmin()\n",
    "\n",
    "## y me quedo con la fila que tiene la diferencia mas chica\n",
    "mi_opcion = opciones_a_considerar.iloc[pos_min_dif_spot_strike,:]"
   ]
  },
  {
   "cell_type": "code",
   "execution_count": 35,
   "id": "killing-laser",
   "metadata": {},
   "outputs": [],
   "source": [
    "# Saco de los datos de mercado los parametros necesarios para pricear\n",
    "\n",
    "S = mi_opcion.Spot\n",
    "K = mi_opcion.Strike\n",
    "T = (TTM)/365.25 ## Divido el TTM por 365.25 para pasar a dias\n",
    "\n",
    "sigma = mi_opcion.impliedVolatility ## tomo la volatilidad implicita\n",
    "div = 0\n",
    "pasos = 100 \n",
    "\n",
    "#tasa libre de riesgo de Libor1M - https://www.global-rates.com/en/interest-rates/libor/libor.aspx\n",
    "r = 0.0009  #Libor1M** ## esto queda del codigo de Maurette "
   ]
  },
  {
   "cell_type": "code",
   "execution_count": 36,
   "id": "partial-coordinator",
   "metadata": {},
   "outputs": [
    {
     "name": "stdout",
     "output_type": "stream",
     "text": [
      "Precio Modelo Binomial:  0.5510402578183612\n",
      "Precio Modelo BS:  0.5493790069045419\n",
      "Precio Mercado Last:  0.42\n",
      "Precio Mercado Avg:  0.55\n"
     ]
    }
   ],
   "source": [
    "# Llamo a los 2 pricers y comparo con el precio de mercado\n",
    "\n",
    "## calcula el precio usando el arbol binomial para americanas\n",
    "precio_modelo_bin = opcion_americana_bin(CP, S, K, T, r, sigma, div, pasos)\n",
    "print(\"Precio Modelo Binomial: \", precio_modelo_bin)\n",
    "\n",
    "## calcula el precio usando black and scholes\n",
    "precio_modelo_bs = opcion_europea_bs(CP, S, K, T, r, sigma, div)\n",
    "print(\"Precio Modelo BS: \", precio_modelo_bs)\n",
    "\n",
    "## tomo el ultimo precio (Last)\n",
    "precio_mercado_last = mi_opcion.Last\n",
    "\n",
    "## promedio entre bid y ask (Avg)\n",
    "precio_mercado_avg = (mi_opcion.Bid + mi_opcion.Ask)/2 \n",
    "\n",
    "print(\"Precio Mercado Last: \", precio_mercado_last)\n",
    "\n",
    "print(\"Precio Mercado Avg: \", precio_mercado_avg)\n",
    "\n"
   ]
  },
  {
   "cell_type": "code",
   "execution_count": 37,
   "id": "referenced-capacity",
   "metadata": {},
   "outputs": [
    {
     "name": "stdout",
     "output_type": "stream",
     "text": [
      "Error relativo entre modelo y mercado (en %):  0.11290783553784645\n"
     ]
    }
   ],
   "source": [
    "## casi nada de error!\n",
    "print(\"Error relativo entre modelo y mercado (en %): \", (precio_mercado_avg-precio_modelo_bs)/precio_mercado_avg*100)"
   ]
  }
 ],
 "metadata": {
  "kernelspec": {
   "display_name": "Python 3",
   "language": "python",
   "name": "python3"
  },
  "language_info": {
   "codemirror_mode": {
    "name": "ipython",
    "version": 3
   },
   "file_extension": ".py",
   "mimetype": "text/x-python",
   "name": "python",
   "nbconvert_exporter": "python",
   "pygments_lexer": "ipython3",
   "version": "3.8.10"
  }
 },
 "nbformat": 4,
 "nbformat_minor": 5
}
