{
 "cells": [
  {
   "cell_type": "code",
   "execution_count": 1,
   "id": "accepted-silence",
   "metadata": {},
   "outputs": [],
   "source": [
    "## importamos todas las funciones de la clase 3\n",
    "from option_pricing import opcion_europea_bs, opcion_americana_bin, opcion_europea_bin, opcion_europea_bin_c\n",
    "import option_data as od\n",
    "import yfinance as yf\n",
    "import numpy as np\n",
    "from scipy import interpolate\n",
    "from matplotlib import pyplot as plt"
   ]
  },
  {
   "cell_type": "code",
   "execution_count": 2,
   "id": "radical-buddy",
   "metadata": {},
   "outputs": [
    {
     "name": "stdout",
     "output_type": "stream",
     "text": [
      "Precio de Black Scholes :  12.335998930368717\n",
      "Precio Modelo Binomial  :  12.33550453323051\n"
     ]
    }
   ],
   "source": [
    "## vamos a comparar un call priceado por black and scholes contra un call priceado por arbol binomial\n",
    "\n",
    "tipo = \"C\"\n",
    "S = 100\n",
    "K = 100\n",
    "T = 1\n",
    "r = 0.05\n",
    "sigma =0.25\n",
    "div = 0\n",
    "\n",
    "\n",
    "pasos = 5000\n",
    "precio_bin = opcion_europea_bin(tipo, S, K, T, r, sigma, div,pasos)\n",
    "precio_bs = opcion_europea_bs(tipo, S, K, T, r, sigma, div)\n",
    "\n",
    "print(\"Precio de Black Scholes : \", precio_bs)\n",
    "print(\"Precio Modelo Binomial  : \", precio_bin)"
   ]
  },
  {
   "cell_type": "code",
   "execution_count": 3,
   "id": "democratic-killing",
   "metadata": {},
   "outputs": [],
   "source": [
    "##  comparacion con el mercado:\n",
    "\n",
    "ticker = 'TSLA'\n",
    "panel_nyse = od.generar_df_opciones(ticker)\n",
    "panel_nyse = od.get_full_data(panel_nyse)"
   ]
  },
  {
   "cell_type": "code",
   "execution_count": 4,
   "id": "flexible-complement",
   "metadata": {},
   "outputs": [
    {
     "data": {
      "text/html": [
       "<div>\n",
       "<style scoped>\n",
       "    .dataframe tbody tr th:only-of-type {\n",
       "        vertical-align: middle;\n",
       "    }\n",
       "\n",
       "    .dataframe tbody tr th {\n",
       "        vertical-align: top;\n",
       "    }\n",
       "\n",
       "    .dataframe thead th {\n",
       "        text-align: right;\n",
       "    }\n",
       "</style>\n",
       "<table border=\"1\" class=\"dataframe\">\n",
       "  <thead>\n",
       "    <tr style=\"text-align: right;\">\n",
       "      <th></th>\n",
       "      <th>Especie</th>\n",
       "      <th>Ticker</th>\n",
       "      <th>Spot</th>\n",
       "      <th>CallPut</th>\n",
       "      <th>Strike</th>\n",
       "      <th>TTM</th>\n",
       "      <th>Last</th>\n",
       "      <th>Bid</th>\n",
       "      <th>Ask</th>\n",
       "      <th>impliedVolatility</th>\n",
       "      <th>Moneyness</th>\n",
       "    </tr>\n",
       "  </thead>\n",
       "  <tbody>\n",
       "    <tr>\n",
       "      <th>30</th>\n",
       "      <td>TSLA210813C00595000</td>\n",
       "      <td>TSLA</td>\n",
       "      <td>709.98999</td>\n",
       "      <td>C</td>\n",
       "      <td>595.0</td>\n",
       "      <td>3</td>\n",
       "      <td>114.00</td>\n",
       "      <td>114.75</td>\n",
       "      <td>115.75</td>\n",
       "      <td>0.769045</td>\n",
       "      <td>1.193260</td>\n",
       "    </tr>\n",
       "    <tr>\n",
       "      <th>31</th>\n",
       "      <td>TSLA210813C00600000</td>\n",
       "      <td>TSLA</td>\n",
       "      <td>709.98999</td>\n",
       "      <td>C</td>\n",
       "      <td>600.0</td>\n",
       "      <td>3</td>\n",
       "      <td>110.15</td>\n",
       "      <td>109.65</td>\n",
       "      <td>110.75</td>\n",
       "      <td>0.715823</td>\n",
       "      <td>1.183317</td>\n",
       "    </tr>\n",
       "    <tr>\n",
       "      <th>32</th>\n",
       "      <td>TSLA210813C00605000</td>\n",
       "      <td>TSLA</td>\n",
       "      <td>709.98999</td>\n",
       "      <td>C</td>\n",
       "      <td>605.0</td>\n",
       "      <td>3</td>\n",
       "      <td>105.32</td>\n",
       "      <td>104.65</td>\n",
       "      <td>105.75</td>\n",
       "      <td>0.684573</td>\n",
       "      <td>1.173537</td>\n",
       "    </tr>\n",
       "    <tr>\n",
       "      <th>33</th>\n",
       "      <td>TSLA210813C00610000</td>\n",
       "      <td>TSLA</td>\n",
       "      <td>709.98999</td>\n",
       "      <td>C</td>\n",
       "      <td>610.0</td>\n",
       "      <td>3</td>\n",
       "      <td>100.25</td>\n",
       "      <td>99.85</td>\n",
       "      <td>100.80</td>\n",
       "      <td>0.699222</td>\n",
       "      <td>1.163918</td>\n",
       "    </tr>\n",
       "    <tr>\n",
       "      <th>34</th>\n",
       "      <td>TSLA210813C00615000</td>\n",
       "      <td>TSLA</td>\n",
       "      <td>709.98999</td>\n",
       "      <td>C</td>\n",
       "      <td>615.0</td>\n",
       "      <td>3</td>\n",
       "      <td>96.65</td>\n",
       "      <td>94.70</td>\n",
       "      <td>95.80</td>\n",
       "      <td>0.642093</td>\n",
       "      <td>1.154455</td>\n",
       "    </tr>\n",
       "    <tr>\n",
       "      <th>...</th>\n",
       "      <td>...</td>\n",
       "      <td>...</td>\n",
       "      <td>...</td>\n",
       "      <td>...</td>\n",
       "      <td>...</td>\n",
       "      <td>...</td>\n",
       "      <td>...</td>\n",
       "      <td>...</td>\n",
       "      <td>...</td>\n",
       "      <td>...</td>\n",
       "      <td>...</td>\n",
       "    </tr>\n",
       "    <tr>\n",
       "      <th>4052</th>\n",
       "      <td>TSLA211015P00840000</td>\n",
       "      <td>TSLA</td>\n",
       "      <td>709.98999</td>\n",
       "      <td>P</td>\n",
       "      <td>840.0</td>\n",
       "      <td>66</td>\n",
       "      <td>140.70</td>\n",
       "      <td>143.45</td>\n",
       "      <td>144.70</td>\n",
       "      <td>0.438940</td>\n",
       "      <td>0.845226</td>\n",
       "    </tr>\n",
       "    <tr>\n",
       "      <th>4053</th>\n",
       "      <td>TSLA211015P00850000</td>\n",
       "      <td>TSLA</td>\n",
       "      <td>709.98999</td>\n",
       "      <td>P</td>\n",
       "      <td>850.0</td>\n",
       "      <td>66</td>\n",
       "      <td>156.50</td>\n",
       "      <td>152.00</td>\n",
       "      <td>153.25</td>\n",
       "      <td>0.440008</td>\n",
       "      <td>0.835282</td>\n",
       "    </tr>\n",
       "    <tr>\n",
       "      <th>4054</th>\n",
       "      <td>TSLA211015P00860000</td>\n",
       "      <td>TSLA</td>\n",
       "      <td>709.98999</td>\n",
       "      <td>P</td>\n",
       "      <td>860.0</td>\n",
       "      <td>66</td>\n",
       "      <td>165.25</td>\n",
       "      <td>160.75</td>\n",
       "      <td>161.75</td>\n",
       "      <td>0.438757</td>\n",
       "      <td>0.825570</td>\n",
       "    </tr>\n",
       "    <tr>\n",
       "      <th>4055</th>\n",
       "      <td>TSLA211015P00870000</td>\n",
       "      <td>TSLA</td>\n",
       "      <td>709.98999</td>\n",
       "      <td>P</td>\n",
       "      <td>870.0</td>\n",
       "      <td>66</td>\n",
       "      <td>174.25</td>\n",
       "      <td>169.55</td>\n",
       "      <td>170.60</td>\n",
       "      <td>0.440283</td>\n",
       "      <td>0.816080</td>\n",
       "    </tr>\n",
       "    <tr>\n",
       "      <th>4056</th>\n",
       "      <td>TSLA211015P00880000</td>\n",
       "      <td>TSLA</td>\n",
       "      <td>709.98999</td>\n",
       "      <td>P</td>\n",
       "      <td>880.0</td>\n",
       "      <td>66</td>\n",
       "      <td>184.00</td>\n",
       "      <td>178.70</td>\n",
       "      <td>179.50</td>\n",
       "      <td>0.440954</td>\n",
       "      <td>0.806807</td>\n",
       "    </tr>\n",
       "  </tbody>\n",
       "</table>\n",
       "<p>778 rows × 11 columns</p>\n",
       "</div>"
      ],
      "text/plain": [
       "                  Especie Ticker       Spot CallPut  Strike  TTM    Last  \\\n",
       "30    TSLA210813C00595000   TSLA  709.98999       C   595.0    3  114.00   \n",
       "31    TSLA210813C00600000   TSLA  709.98999       C   600.0    3  110.15   \n",
       "32    TSLA210813C00605000   TSLA  709.98999       C   605.0    3  105.32   \n",
       "33    TSLA210813C00610000   TSLA  709.98999       C   610.0    3  100.25   \n",
       "34    TSLA210813C00615000   TSLA  709.98999       C   615.0    3   96.65   \n",
       "...                   ...    ...        ...     ...     ...  ...     ...   \n",
       "4052  TSLA211015P00840000   TSLA  709.98999       P   840.0   66  140.70   \n",
       "4053  TSLA211015P00850000   TSLA  709.98999       P   850.0   66  156.50   \n",
       "4054  TSLA211015P00860000   TSLA  709.98999       P   860.0   66  165.25   \n",
       "4055  TSLA211015P00870000   TSLA  709.98999       P   870.0   66  174.25   \n",
       "4056  TSLA211015P00880000   TSLA  709.98999       P   880.0   66  184.00   \n",
       "\n",
       "         Bid     Ask  impliedVolatility  Moneyness  \n",
       "30    114.75  115.75           0.769045   1.193260  \n",
       "31    109.65  110.75           0.715823   1.183317  \n",
       "32    104.65  105.75           0.684573   1.173537  \n",
       "33     99.85  100.80           0.699222   1.163918  \n",
       "34     94.70   95.80           0.642093   1.154455  \n",
       "...      ...     ...                ...        ...  \n",
       "4052  143.45  144.70           0.438940   0.845226  \n",
       "4053  152.00  153.25           0.440008   0.835282  \n",
       "4054  160.75  161.75           0.438757   0.825570  \n",
       "4055  169.55  170.60           0.440283   0.816080  \n",
       "4056  178.70  179.50           0.440954   0.806807  \n",
       "\n",
       "[778 rows x 11 columns]"
      ]
     },
     "execution_count": 4,
     "metadata": {},
     "output_type": "execute_result"
    }
   ],
   "source": [
    "#Me quedo con una parte pequeña del panel\n",
    "\n",
    "panel_nyse = panel_nyse[panel_nyse.TTM<100]\n",
    "panel_nyse = panel_nyse[panel_nyse.Moneyness>=0.8]\n",
    "panel_nyse = panel_nyse[panel_nyse.Moneyness<=1.2]\n",
    "\n",
    "panel_nyse"
   ]
  },
  {
   "cell_type": "code",
   "execution_count": 5,
   "id": "composed-general",
   "metadata": {},
   "outputs": [],
   "source": [
    "## aca lo que hace es usar yfinance para bajar dividendos\n",
    "data = yf.Ticker(ticker)\n",
    "\n",
    "try:\n",
    "    div = float(data.info['dividendYield'])\n",
    "except:\n",
    "    div = 0.0\n",
    "    \n",
    "panel_nyse['Div'] = div"
   ]
  },
  {
   "cell_type": "code",
   "execution_count": 6,
   "id": "severe-haiti",
   "metadata": {},
   "outputs": [],
   "source": [
    "## ahora se va a traer tasas libor (alguien habia comentado que el usaba las \n",
    "## cauciones porque es la tasa a la que se financia. \n",
    "## Despues podriamos armar algo con esto)\n",
    "\n",
    "#Libor\n",
    "#https://es.global-rates.com/tipos-de-interes/libor/dolar-usa/dolar-usa.aspx\n",
    "#Ad hoc curve de tasas:\n",
    "\n",
    "\n",
    "Dias = np.array([1, 7, 30, 60, 91, 182, 365])\n",
    "\n",
    "Tasas = np.array([0.00086,\n",
    "                 0.000895,\n",
    "                 0.0008525,\n",
    "                 0.0011238,\n",
    "                 0.0013425,\n",
    "                 0.0015175,\n",
    "                 0.0024163])\n",
    "\n",
    "## como solamente tiene algunos dias (1, 7, 30 ...)\n",
    "## aca lo que va a hacer es una interpolacion de la tasa para los dias que no tiene.\n",
    "## como no define ningun tipo de interpolacion, queda la default (interpolacion lineal)\n",
    "curva_interp = interpolate.interp1d(Dias, Tasas, fill_value='extrapolate')\n",
    "\n",
    "## guarda la tasa\n",
    "panel_nyse['Tasa'] = curva_interp(panel_nyse.TTM)"
   ]
  },
  {
   "cell_type": "code",
   "execution_count": 7,
   "id": "aware-testimony",
   "metadata": {},
   "outputs": [
    {
     "name": "stdout",
     "output_type": "stream",
     "text": [
      "0.00086 0.000895\n",
      "0.0008775\n"
     ]
    }
   ],
   "source": [
    "## podemos ver que la interpolacion nos devuelve los valores de tasa que conocemos para los dias que tenemos:\n",
    "print(curva_interp(1), Tasas[1])\n",
    "\n",
    "## y nos da el valor para los dias que nos faltan:\n",
    "print(curva_interp(4))"
   ]
  },
  {
   "cell_type": "code",
   "execution_count": 8,
   "id": "competent-programming",
   "metadata": {},
   "outputs": [
    {
     "data": {
      "text/plain": [
       "Text(0, 0.5, 'Tasa')"
      ]
     },
     "execution_count": 8,
     "metadata": {},
     "output_type": "execute_result"
    },
    {
     "data": {
      "image/png": "[encoded data removed]",
      "text/plain": [
       "<Figure size 432x288 with 1 Axes>"
      ]
     },
     "metadata": {
      "needs_background": "light"
     },
     "output_type": "display_data"
    }
   ],
   "source": [
    "points = 20\n",
    "tasas = []\n",
    "days = []\n",
    "\n",
    "## genera valores 20 valores entre 0 y 400\n",
    "## np.trunc le saca los decimales\n",
    "## y va a ir calculando la tasa (interpolada)\n",
    "## para cada dia y se va a guardar los resultados\n",
    "for day in np.trunc(np.linspace(0,400,points)):\n",
    "    days.append(day)\n",
    "    tasas.append(curva_interp(day))\n",
    "\n",
    "## plotea dias contra tasas\n",
    "plt.scatter(days,tasas)\n",
    "plt.title(\"Tasas x Días (Interpolacion)\")\n",
    "plt.xlabel(\"días\")\n",
    "plt.ylabel(\"Tasa\")"
   ]
  },
  {
   "cell_type": "code",
   "execution_count": 9,
   "id": "bronze-gentleman",
   "metadata": {},
   "outputs": [],
   "source": [
    "## aca vamos a modificar un poco el codigo:\n",
    "\n",
    "## calcula el promedio entre el bid y el ask y se lo guarda\n",
    "panel_nyse['Avg'] = (panel_nyse.Bid+panel_nyse.Ask)/2\n",
    "\n",
    "## se va a quedar con las opciones que les queda Time to maturity y que su volatilidad implicita es > 0.1\n",
    "panel_nyse = panel_nyse[panel_nyse.TTM>0]\n",
    "panel_nyse = panel_nyse[panel_nyse.impliedVolatility>0.1]\n",
    "\n",
    "## reseteamos index\n",
    "panel_nyse.reset_index(drop=True, inplace=True)\n"
   ]
  },
  {
   "cell_type": "code",
   "execution_count": 10,
   "id": "statistical-symbol",
   "metadata": {},
   "outputs": [
    {
     "data": {
      "text/plain": [
       "Index(['Especie', 'Ticker', 'Spot', 'CallPut', 'Strike', 'TTM', 'Last', 'Bid',\n",
       "       'Ask', 'impliedVolatility', 'Moneyness', 'Div', 'Tasa', 'Avg'],\n",
       "      dtype='object')"
      ]
     },
     "execution_count": 10,
     "metadata": {},
     "output_type": "execute_result"
    }
   ],
   "source": [
    "panel_nyse.columns"
   ]
  },
  {
   "cell_type": "code",
   "execution_count": 11,
   "id": "domestic-metropolitan",
   "metadata": {},
   "outputs": [],
   "source": [
    "## aplicamos para cada fila el calculo de precio por arbol binomial\n",
    "## apply va a agarrar cada fila y va a aplicar la funcion opcion_americana_bin \n",
    "## con los parametros que le pasamos. Hacemos 200 pasos por arbol\n",
    "panel_nyse.loc[:,\"Precio_BIN\"] = panel_nyse.apply(lambda x: opcion_americana_bin(x.CallPut, x.Spot, \n",
    "                                                x.Strike, x.TTM/365, x.Tasa, \n",
    "                                                x.impliedVolatility, x.Div, 200),1)"
   ]
  },
  {
   "cell_type": "code",
   "execution_count": 12,
   "id": "stuffed-beijing",
   "metadata": {},
   "outputs": [],
   "source": [
    "## lo mismo con black and scholes\n",
    "panel_nyse.loc[:,\"Precio_BS\"] = panel_nyse.apply(lambda x: opcion_europea_bs(x.CallPut, x.Spot, \n",
    "                                                x.Strike, x.TTM/365, x.Tasa, \n",
    "                                                x.impliedVolatility, x.Div),1)"
   ]
  },
  {
   "cell_type": "code",
   "execution_count": 13,
   "id": "several-budapest",
   "metadata": {},
   "outputs": [
    {
     "data": {
      "text/html": [
       "<div>\n",
       "<style scoped>\n",
       "    .dataframe tbody tr th:only-of-type {\n",
       "        vertical-align: middle;\n",
       "    }\n",
       "\n",
       "    .dataframe tbody tr th {\n",
       "        vertical-align: top;\n",
       "    }\n",
       "\n",
       "    .dataframe thead th {\n",
       "        text-align: right;\n",
       "    }\n",
       "</style>\n",
       "<table border=\"1\" class=\"dataframe\">\n",
       "  <thead>\n",
       "    <tr style=\"text-align: right;\">\n",
       "      <th></th>\n",
       "      <th>Especie</th>\n",
       "      <th>Ticker</th>\n",
       "      <th>Spot</th>\n",
       "      <th>CallPut</th>\n",
       "      <th>Strike</th>\n",
       "      <th>TTM</th>\n",
       "      <th>Last</th>\n",
       "      <th>Bid</th>\n",
       "      <th>Ask</th>\n",
       "      <th>impliedVolatility</th>\n",
       "      <th>Moneyness</th>\n",
       "      <th>Div</th>\n",
       "      <th>Tasa</th>\n",
       "      <th>Avg</th>\n",
       "      <th>Precio_BIN</th>\n",
       "      <th>Precio_BS</th>\n",
       "    </tr>\n",
       "  </thead>\n",
       "  <tbody>\n",
       "    <tr>\n",
       "      <th>0</th>\n",
       "      <td>TSLA210813C00595000</td>\n",
       "      <td>TSLA</td>\n",
       "      <td>709.98999</td>\n",
       "      <td>C</td>\n",
       "      <td>595.0</td>\n",
       "      <td>3</td>\n",
       "      <td>114.00</td>\n",
       "      <td>114.75</td>\n",
       "      <td>115.75</td>\n",
       "      <td>0.769045</td>\n",
       "      <td>1.193260</td>\n",
       "      <td>0.0</td>\n",
       "      <td>0.000872</td>\n",
       "      <td>115.250</td>\n",
       "      <td>115.073564</td>\n",
       "      <td>115.075827</td>\n",
       "    </tr>\n",
       "    <tr>\n",
       "      <th>1</th>\n",
       "      <td>TSLA210813C00600000</td>\n",
       "      <td>TSLA</td>\n",
       "      <td>709.98999</td>\n",
       "      <td>C</td>\n",
       "      <td>600.0</td>\n",
       "      <td>3</td>\n",
       "      <td>110.15</td>\n",
       "      <td>109.65</td>\n",
       "      <td>110.75</td>\n",
       "      <td>0.715823</td>\n",
       "      <td>1.183317</td>\n",
       "      <td>0.0</td>\n",
       "      <td>0.000872</td>\n",
       "      <td>110.200</td>\n",
       "      <td>110.056386</td>\n",
       "      <td>110.057500</td>\n",
       "    </tr>\n",
       "    <tr>\n",
       "      <th>2</th>\n",
       "      <td>TSLA210813C00605000</td>\n",
       "      <td>TSLA</td>\n",
       "      <td>709.98999</td>\n",
       "      <td>C</td>\n",
       "      <td>605.0</td>\n",
       "      <td>3</td>\n",
       "      <td>105.32</td>\n",
       "      <td>104.65</td>\n",
       "      <td>105.75</td>\n",
       "      <td>0.684573</td>\n",
       "      <td>1.173537</td>\n",
       "      <td>0.0</td>\n",
       "      <td>0.000872</td>\n",
       "      <td>105.200</td>\n",
       "      <td>105.056674</td>\n",
       "      <td>105.058051</td>\n",
       "    </tr>\n",
       "    <tr>\n",
       "      <th>3</th>\n",
       "      <td>TSLA210813C00610000</td>\n",
       "      <td>TSLA</td>\n",
       "      <td>709.98999</td>\n",
       "      <td>C</td>\n",
       "      <td>610.0</td>\n",
       "      <td>3</td>\n",
       "      <td>100.25</td>\n",
       "      <td>99.85</td>\n",
       "      <td>100.80</td>\n",
       "      <td>0.699222</td>\n",
       "      <td>1.163918</td>\n",
       "      <td>0.0</td>\n",
       "      <td>0.000872</td>\n",
       "      <td>100.325</td>\n",
       "      <td>100.106870</td>\n",
       "      <td>100.109650</td>\n",
       "    </tr>\n",
       "    <tr>\n",
       "      <th>4</th>\n",
       "      <td>TSLA210813C00615000</td>\n",
       "      <td>TSLA</td>\n",
       "      <td>709.98999</td>\n",
       "      <td>C</td>\n",
       "      <td>615.0</td>\n",
       "      <td>3</td>\n",
       "      <td>96.65</td>\n",
       "      <td>94.70</td>\n",
       "      <td>95.80</td>\n",
       "      <td>0.642093</td>\n",
       "      <td>1.154455</td>\n",
       "      <td>0.0</td>\n",
       "      <td>0.000872</td>\n",
       "      <td>95.250</td>\n",
       "      <td>95.078604</td>\n",
       "      <td>95.079596</td>\n",
       "    </tr>\n",
       "  </tbody>\n",
       "</table>\n",
       "</div>"
      ],
      "text/plain": [
       "               Especie Ticker       Spot CallPut  Strike  TTM    Last     Bid  \\\n",
       "0  TSLA210813C00595000   TSLA  709.98999       C   595.0    3  114.00  114.75   \n",
       "1  TSLA210813C00600000   TSLA  709.98999       C   600.0    3  110.15  109.65   \n",
       "2  TSLA210813C00605000   TSLA  709.98999       C   605.0    3  105.32  104.65   \n",
       "3  TSLA210813C00610000   TSLA  709.98999       C   610.0    3  100.25   99.85   \n",
       "4  TSLA210813C00615000   TSLA  709.98999       C   615.0    3   96.65   94.70   \n",
       "\n",
       "      Ask  impliedVolatility  Moneyness  Div      Tasa      Avg  Precio_BIN  \\\n",
       "0  115.75           0.769045   1.193260  0.0  0.000872  115.250  115.073564   \n",
       "1  110.75           0.715823   1.183317  0.0  0.000872  110.200  110.056386   \n",
       "2  105.75           0.684573   1.173537  0.0  0.000872  105.200  105.056674   \n",
       "3  100.80           0.699222   1.163918  0.0  0.000872  100.325  100.106870   \n",
       "4   95.80           0.642093   1.154455  0.0  0.000872   95.250   95.078604   \n",
       "\n",
       "    Precio_BS  \n",
       "0  115.075827  \n",
       "1  110.057500  \n",
       "2  105.058051  \n",
       "3  100.109650  \n",
       "4   95.079596  "
      ]
     },
     "execution_count": 13,
     "metadata": {},
     "output_type": "execute_result"
    }
   ],
   "source": [
    "panel_nyse.head()"
   ]
  },
  {
   "cell_type": "code",
   "execution_count": 14,
   "id": "important-moisture",
   "metadata": {},
   "outputs": [
    {
     "data": {
      "image/png": "[encoded data removed]",
      "text/plain": [
       "<Figure size 432x288 with 1 Axes>"
      ]
     },
     "metadata": {
      "needs_background": "light"
     },
     "output_type": "display_data"
    }
   ],
   "source": [
    "## podemos cambiar CALLS por puts y volver a correr para ver el otro gráfico\n",
    "\n",
    "## vamos a tomar un TTM cualqueira y vamos a graficar los precios segun arbol y los precios de mercado\n",
    "TTMs = panel_nyse.TTM.unique() ## tomo los ttm unicos\n",
    "TTMs.sort() ## los ordenos\n",
    "TTM = TTMs[4] ## tomo uno cualquiera\n",
    "\n",
    "## elijo calls (cambiar por \"P\" para ver puts)\n",
    "CP = \"C\"\n",
    "\n",
    "## subseteo los calls de ese ttm:\n",
    "df_subset = panel_nyse[(panel_nyse.TTM == TTM) & (panel_nyse.CallPut == CP)]\n",
    "\n",
    "Ks = df_subset.Strike ## strike\n",
    "precios_avg = df_subset.Avg ## precio promedio\n",
    "precios_BS = df_subset.Precio_BS ## black and scholes\n",
    "precios_BIN = df_subset.Precio_BIN ## arbol binario\n",
    "    \n",
    "space = 3\n",
    "\n",
    "## puedo descomentar y ver otras cosas: vamos a ver ahora el promedio contra el precio segun arbol\n",
    "#plt.plot(Ks[0::space], precios_last[0::space], '.', label = 'Market - Last')\n",
    "plt.plot(Ks[0::space], precios_avg[0::space], '.',label = 'Market - Avg (Bid-Ask)')\n",
    "#plt.plot(Ks[0::space], precios_BS[0::space], '.',label = 'Model - Black Scholes')\n",
    "plt.plot(Ks[0::space], precios_BIN[0::space], '.',label = 'Model - Binomial')\n",
    "\n",
    "\n",
    "plt.legend()\n",
    "\n",
    "plt.xlabel('Strike')\n",
    "plt.ylabel('Precio de mercado del Call')\n",
    "plt.title('Precio delas opciones Call con respecto al Strike')\n",
    "    \n",
    "plt.show()"
   ]
  },
  {
   "cell_type": "code",
   "execution_count": 15,
   "id": "matched-young",
   "metadata": {},
   "outputs": [],
   "source": [
    "#Me genero un dataframe con fiferencias entre mercado y modelos\n",
    "CP = \"C\"\n",
    "## filtro los que tienen un ttm en particular y elijo los calls\n",
    "## me quedo con precio promedio, precio segun black and scholes y precio de arbol\n",
    "diff_df = panel_nyse[(panel_nyse.TTM == TTMs[1] ) & (panel_nyse.CallPut == CP)][['Avg','Precio_BS','Precio_BIN']]\n",
    "\n",
    "## calculo la diferencia entre el promedio y el calculado\n",
    "diff_df['AvgVSBS'] = diff_df.Avg-diff_df.Precio_BS\n",
    "diff_df['AvgVSBIN'] = diff_df.Avg-diff_df.Precio_BIN\n",
    "\n",
    "## y calculo la diferencia porcentual absoluta entre ambos\n",
    "diff_df['Rel_AvgVSBS'] = abs(diff_df.AvgVSBS)/diff_df.Avg * 100 ## promedio y black and scholes\n",
    "diff_df['Rel_AvgVSBIN'] = abs(diff_df.AvgVSBIN)/diff_df.Avg * 100 ## promedio y arbol\n",
    "\n",
    "## se queda con los que tienen un precio promedio mayor a 0\n",
    "diff_df = diff_df[abs(diff_df.Avg)>0.0]"
   ]
  },
  {
   "cell_type": "code",
   "execution_count": 16,
   "id": "honey-article",
   "metadata": {},
   "outputs": [
    {
     "data": {
      "text/plain": [
       "Avg             35.710795\n",
       "Precio_BS       35.440995\n",
       "Precio_BIN      35.440393\n",
       "AvgVSBS          0.269801\n",
       "AvgVSBIN         0.270402\n",
       "Rel_AvgVSBS      8.262758\n",
       "Rel_AvgVSBIN     8.444220\n",
       "dtype: float64"
      ]
     },
     "execution_count": 16,
     "metadata": {},
     "output_type": "execute_result"
    }
   ],
   "source": [
    "## podemos ver los promedios de precios y los promedios de diferencias y las diferencias %\n",
    "diff_df.mean(axis=0)"
   ]
  },
  {
   "cell_type": "code",
   "execution_count": 17,
   "id": "unique-perception",
   "metadata": {},
   "outputs": [],
   "source": [
    "### volatilidad implicita\n",
    "\n",
    "def samesign(a, b):\n",
    "    ## devuelve True si ambos numeros tienen el mismo signo y False si tienen signo distinto\n",
    "    return a * b > 0\n",
    "\n",
    "def bisect(func, low, high, iters=100):\n",
    "    'Find root of continuous function where f(low) and f(high) have opposite signs'\n",
    "\n",
    "    ## metodo biseccion\n",
    "    \n",
    "    ## el argumento func es una funcion\n",
    "    ## low y high son los argumentos.\n",
    "    \n",
    "    ## chequea que func(low) y func(high) no tengan el mismo signo\n",
    "    ## si tienen el mismo signo, tira error\n",
    "    assert not samesign(func(low), func(high))\n",
    "    \n",
    "    ## repite \"iters\" veces \n",
    "    for i in range(iters):\n",
    "        \n",
    "        ## toma el punto medio entre low y high\n",
    "        midpoint = (low + high) / 2.0\n",
    "        \n",
    "        ## si tienen el mismo signo, ahora low pasa a ser el punto medio\n",
    "        if samesign(func(low), func(midpoint)):\n",
    "            low = midpoint\n",
    "        else:\n",
    "            ## caso contrario, high pasa a ser el punto medio\n",
    "            high = midpoint\n",
    "\n",
    "    return midpoint"
   ]
  },
  {
   "cell_type": "code",
   "execution_count": 18,
   "id": "pacific-banking",
   "metadata": {},
   "outputs": [],
   "source": [
    "# Defino la funcion de volatilidad implicita. \n",
    "# Busco el cero de la funcion O_T-O_M (opcion teorica menos opcion mercado)\n",
    "\n",
    "## la funcion bisect que definimos arriba toma en su primer parámetro (func) una funcion\n",
    "## así que ahora vamos a usar bisect para calcular volatilidad implícita\n",
    "\n",
    "def impvolfunc_bs(tipo, S, K, T, r, precio_mercado, div):  \n",
    "    \n",
    "    ## define una funcion anonima (este lambda sigma: es como definir una funcion pero en una sola linea)\n",
    "    ## esta funcion func toma como parámetro \"sigma\", calcula el precio con black and scholes y le resta\n",
    "    ## el precio de mercado\n",
    "    func = lambda sigma: (opcion_europea_bs(tipo, S, K, T, r, sigma, div) - precio_mercado)\n",
    "    \n",
    "    ## va a usar la funcion bisect con esta funcion que acaba de definir.\n",
    "    ## primero evalua en \"a\" (0.00001) la funcion: calcula el precio segun black and scholes\n",
    "    ## usando un sigma de 0.00001 y le resta el precio de mercado\n",
    "    ## despues usa un sigma de 3 y le resta el precio de mercado\n",
    "    ## se fija que no tengan el mismo signo (o sea que haya quedado el 0 entre ambos)\n",
    "    ## busca el punto medio entre los dos y repite\n",
    "    ## la idea es intentar encontrar el 0 (o un numero cerca de 0) de tal manera\n",
    "    ## que el sigma que te queda es el que hace que el precio calculado sea lo mas parecido al real\n",
    "    ## (porque la diferencia entre calculado y real es lo mas chica posible)\n",
    "    impvol = bisect(func,0.00001, 3.0, 100)\n",
    "    return impvol\n",
    "\n",
    "\n",
    "def impvolfunc_bin(tipo, S, K, T, r, precio_mercado, div, pasos = 1000):\n",
    "    func = lambda sigma: (opcion_americana_bin(tipo, S, K, T, r, sigma, div, pasos) - precio_mercado)\n",
    "    \n",
    "    ## aca hace lo mismo pero calculando el precio con arbol binario\n",
    "    impvol = bisect(func,0.0001, 3.0, 100)\n",
    "    return impvol"
   ]
  },
  {
   "cell_type": "code",
   "execution_count": 19,
   "id": "burning-wedding",
   "metadata": {},
   "outputs": [],
   "source": [
    "## aca cambiamos un poco el codigo \n",
    "\n",
    "## vamos a aplicar el calculo de la volatilidad implicita para cada fila de nuestro dataframe\n",
    "## como precio de mercado usamos el promedio entre bid y ask (Avg)\n",
    "\n",
    "## aplicamos la funcion impvolfunc_bs a cada fila del dataframe\n",
    "panel_nyse.loc[:,\"volatilidad_implicita_bs\"] = panel_nyse.apply(lambda x: impvolfunc_bs(x.CallPut, x.Spot, \n",
    "                                                x.Strike, x.TTM/365, x.Tasa, \n",
    "                                                x.Avg, x.Div),1)"
   ]
  },
  {
   "cell_type": "code",
   "execution_count": 20,
   "id": "present-package",
   "metadata": {},
   "outputs": [
    {
     "data": {
      "image/png": "[encoded data removed]",
      "text/plain": [
       "<Figure size 432x288 with 1 Axes>"
      ]
     },
     "metadata": {
      "needs_background": "light"
     },
     "output_type": "display_data"
    }
   ],
   "source": [
    "## vamos a graficar un call con alguna ttm (cualquiera)\n",
    "## podemso cambiar estos valore y ver otros graficos (por ejemplo, CP=\"P\" nos muestra el grafico para un put)\n",
    "CP = \"C\"\n",
    "TTM = TTMs[5]\n",
    "\n",
    "## subseteamos el tipo de opcion y el ttm\n",
    "df_subset = panel_nyse[(panel_nyse.TTM == TTM) & (panel_nyse.CallPut == CP)]\n",
    "Ks = df_subset.Strike\n",
    "## tomamos la volatilidad implicita que nos trae yahoo\n",
    "imp_vol_yahoo = df_subset.impliedVolatility\n",
    "\n",
    "## y la que calculamos nosotros\n",
    "imp_vol_bs = df_subset.volatilidad_implicita_bs\n",
    "\n",
    "## voy a tomar cada \"space\" valores\n",
    "## en este caso, tomo 1 cada 3 valores\n",
    "space = 3\n",
    "    \n",
    "    \n",
    "## ploteo volatilidad de yahoo vs la nuestra\n",
    "#plt.plot(Ks[0::space], precios_last[0::space], '.', label = 'Market - Last')\n",
    "plt.plot(Ks[0::space], imp_vol_yahoo[0::space], '.',label = 'imp_vol_yahoo')\n",
    "#plt.plot(Ks[0::space], precios_BS[0::space], '.',label = 'Model - Black Scholes')\n",
    "plt.plot(Ks[0::space], imp_vol_bs[0::space], '.',label = 'imp_vol_bs')\n",
    "\n",
    "\n",
    "plt.legend()\n",
    "\n",
    "plt.xlabel('Strike')\n",
    "plt.ylabel('Vol. Implicita del Call')\n",
    "plt.title('Vol. Implicita de opciones Call con respecto al Strike')\n",
    "    \n",
    "plt.show()"
   ]
  },
  {
   "cell_type": "code",
   "execution_count": 21,
   "id": "acting-savage",
   "metadata": {},
   "outputs": [],
   "source": [
    "## griegas\n",
    "## aca lo que va a hacer es calcular derivadas numericamente"
   ]
  },
  {
   "cell_type": "markdown",
   "id": "waiting-casting",
   "metadata": {},
   "source": [
    "Si llamamos $V$ al derivado en cuestion, y el spot vale $S$ a tiempo inicial, entonces la Delta y la Gamma no son otra cosa que:\n",
    "\n",
    "$$\n",
    "\\Delta = \\frac{V(S+h)-V(S-h)}{2h} \\; \\; \\; \\; \n",
    "\\Gamma = \\frac{V(S+h)-2V(S)+V(S-h)}{h^2}\n",
    "$$\n",
    "\n",
    "con $h$ un numero sificientemente chico (en general se suele tomar la unidad indivisible en cuestion) y suponemos que todos los demas parametros quedan fijo\n"
   ]
  },
  {
   "cell_type": "code",
   "execution_count": 22,
   "id": "eligible-cincinnati",
   "metadata": {},
   "outputs": [
    {
     "data": {
      "image/png": "[encoded data removed]",
      "text/plain": [
       "<Figure size 432x288 with 1 Axes>"
      ]
     },
     "metadata": {
      "needs_background": "light"
     },
     "output_type": "display_data"
    }
   ],
   "source": [
    "## delta\n",
    "\n",
    "## defino parámetros (pueden modificarse para ver otros gráficos. Por ejemplo tipo=\"P\" da un put)\n",
    "tipo = \"C\"\n",
    "S = 100\n",
    "K = 100\n",
    "T = 1\n",
    "r = 0.05\n",
    "sigma= 0.25\n",
    "div =0\n",
    "pasos = 1000\n",
    "\n",
    "## genera precios finales del subyacente: de 0.5 a 2 veces el strike, 50 precios\n",
    "S_MAX = 2*K\n",
    "S_vec = np.linspace(0.5,S_MAX,50)      \n",
    "deltas = np.zeros(len(S_vec)) ## genera un vector de 0 para guardare los deltas\n",
    "\n",
    "h = 0.1 ## h del denominador\n",
    "\n",
    "for index in range(len(S_vec)):\n",
    "    ## calcula el delta. Toma un precio final posible del subyacente y le da un \"empujoncito\" para cada lado\n",
    "    ## o sea, le suma y le resta h. Despues hace la diferencia entre ambos y divide por 2h \n",
    "    ## (primera formula de mas arriba)\n",
    "    deltas[index] = (opcion_europea_bs(tipo, S_vec[index]+h, K, T, r, sigma, div) - opcion_europea_bs(tipo, S_vec[index]-h, K, T, r, sigma, div))/(2*h)\n",
    "\n",
    "## plotea los precios finales posibles de una accion contra el delta\n",
    "plt.plot(S_vec,deltas,'r', label='Delta')\n",
    "plt.axvline(x=S, color = 'black', linestyle='--')\n",
    "\n",
    "plt.legend()\n",
    "\n",
    "plt.xlabel('Spot')\n",
    "plt.ylabel(f'Delta del {\"Call\" if tipo == \"C\" else \"Put\"}')\n",
    "plt.title(f'Delta de una opcion {\"Call\" if tipo == \"C\" else \"Put\"} a tiempo inicial con respecto al spot')\n",
    "\n",
    "plt.show()"
   ]
  },
  {
   "cell_type": "code",
   "execution_count": 23,
   "id": "confidential-daughter",
   "metadata": {},
   "outputs": [
    {
     "data": {
      "image/png": "[encoded data removed]",
      "text/plain": [
       "<Figure size 432x288 with 1 Axes>"
      ]
     },
     "metadata": {
      "needs_background": "light"
     },
     "output_type": "display_data"
    }
   ],
   "source": [
    "## gamma\n",
    "\n",
    "## dejo los mismos parámetros que antes\n",
    "gammas = np.zeros(len(S_vec))\n",
    "\n",
    "## aca es lo mismo que antes, pero es la formula de la derecha\n",
    "for index in range(len(S_vec)):\n",
    "    gammas[index] = (opcion_europea_bs(tipo, S_vec[index]+h, K, T, r, sigma, div) -2* opcion_europea_bs(tipo, S_vec[index], K, T, r, sigma, div) + opcion_europea_bs(tipo, S_vec[index]-h, K, T, r, sigma, div))/(h*h)\n",
    "\n",
    "plt.plot(S_vec,gammas,'r', label='Gamma')\n",
    "plt.axvline(x=S, color = 'black', linestyle='--')\n",
    "\n",
    "plt.legend()\n",
    "\n",
    "plt.xlabel('Spot')\n",
    "plt.ylabel(f'Gamma del {\"Call\" if tipo == \"C\" else \"Put\"}')\n",
    "plt.title(f'Gamma de una opcion {\"Call\" if tipo == \"C\" else \"Put\"} a tiempo inicial con respecto al spot')\n",
    "\n",
    "plt.show()"
   ]
  },
  {
   "cell_type": "code",
   "execution_count": 24,
   "id": "following-supervisor",
   "metadata": {},
   "outputs": [
    {
     "data": {
      "image/png": "[encoded data removed]",
      "text/plain": [
       "<Figure size 432x288 with 1 Axes>"
      ]
     },
     "metadata": {
      "needs_background": "light"
     },
     "output_type": "display_data"
    }
   ],
   "source": [
    "## vega\n",
    "vegas = np.zeros(len(S_vec))\n",
    "\n",
    "for index in range(len(S_vec)):\n",
    "    ## para la vega: calcula el precio con sigma + h\n",
    "    ## calcula el precio con sigma - h\n",
    "    ## y divide por h*2\n",
    "    ## es como delta pero usando sigma en vez del precio\n",
    "    vegas[index] = (opcion_europea_bs(tipo, S_vec[index], K, T, r, sigma+h, div) - opcion_europea_bs(tipo, S_vec[index], K, T, r, sigma-h, div))/(2*h)\n",
    "\n",
    "plt.plot(S_vec,vegas,'r', label='Vega')\n",
    "plt.axvline(x=S, color = 'black', linestyle='--')\n",
    "\n",
    "plt.legend()\n",
    "\n",
    "plt.xlabel('Spot')\n",
    "plt.ylabel('Vega del Call')\n",
    "plt.title('Vega de una opcion Call a tiempo inicial con respecto al spot')\n",
    "\n",
    "plt.show()"
   ]
  },
  {
   "cell_type": "code",
   "execution_count": 25,
   "id": "swiss-commitment",
   "metadata": {},
   "outputs": [
    {
     "data": {
      "image/png": "[encoded data removed]",
      "text/plain": [
       "<Figure size 432x288 with 1 Axes>"
      ]
     },
     "metadata": {
      "needs_background": "light"
     },
     "output_type": "display_data"
    }
   ],
   "source": [
    "## theta     \n",
    "thetas = np.zeros(len(S_vec))\n",
    "\n",
    "## aca h cambia a 1/365\n",
    "h = 1/365\n",
    "\n",
    "for index in range(len(S_vec)):\n",
    "    ## aca calcula como el precio de la opcion con el ttm actual - el precio de la opcion con el ttm+1/365 \n",
    "    ## y lo divide por h.\n",
    "    thetas[index] = (opcion_europea_bs(tipo, S_vec[index], K, T, r, sigma, div) - opcion_europea_bs(tipo, S_vec[index], K, T+h, r, sigma, div))/(h)\n",
    "\n",
    "plt.plot(S_vec,thetas,'r', label='Theta')\n",
    "plt.axvline(x=S, color = 'black', linestyle='--')\n",
    "\n",
    "plt.legend()\n",
    "\n",
    "plt.xlabel('Spot')\n",
    "plt.ylabel('Theta del Call')\n",
    "plt.title('Theta de una opcion Call a tiempo inicial con respecto al spot')\n",
    "\n",
    "plt.show()"
   ]
  }
 ],
 "metadata": {
  "kernelspec": {
   "display_name": "Python 3",
   "language": "python",
   "name": "python3"
  },
  "language_info": {
   "codemirror_mode": {
    "name": "ipython",
    "version": 3
   },
   "file_extension": ".py",
   "mimetype": "text/x-python",
   "name": "python",
   "nbconvert_exporter": "python",
   "pygments_lexer": "ipython3",
   "version": "3.8.10"
  }
 },
 "nbformat": 4,
 "nbformat_minor": 5
}
