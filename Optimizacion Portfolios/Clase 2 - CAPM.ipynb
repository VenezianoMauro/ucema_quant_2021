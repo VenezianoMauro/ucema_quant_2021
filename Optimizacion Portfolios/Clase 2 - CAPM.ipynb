{
 "cells": [
  {
   "cell_type": "markdown",
   "metadata": {},
   "source": [
    "#### Importamos los módulos"
   ]
  },
  {
   "cell_type": "code",
   "execution_count": 1,
   "metadata": {},
   "outputs": [],
   "source": [
    "import numpy as np\n",
    "import matplotlib.pyplot as plt\n",
    "import pandas as pd\n",
    "import datetime as dt\n",
    "from pandas_datareader import data as pdr\n",
    "import warnings\n",
    "plt.style.use('seaborn-colorblind')\n",
    "warnings.filterwarnings(\"ignore\")"
   ]
  },
  {
   "cell_type": "code",
   "execution_count": 2,
   "metadata": {},
   "outputs": [],
   "source": [
    "# Fijamos la semilla (random)\n",
    "np.random.seed(123)"
   ]
  },
  {
   "cell_type": "markdown",
   "metadata": {},
   "source": [
    "# Esto es de la notebook anterior:\n",
    "\n",
    "Me lo traigo porque vamos a necesitar los retornos mensuales"
   ]
  },
  {
   "cell_type": "code",
   "execution_count": 3,
   "metadata": {},
   "outputs": [
    {
     "data": {
      "text/html": [
       "<div>\n",
       "<style scoped>\n",
       "    .dataframe tbody tr th:only-of-type {\n",
       "        vertical-align: middle;\n",
       "    }\n",
       "\n",
       "    .dataframe tbody tr th {\n",
       "        vertical-align: top;\n",
       "    }\n",
       "\n",
       "    .dataframe thead th {\n",
       "        text-align: right;\n",
       "    }\n",
       "</style>\n",
       "<table border=\"1\" class=\"dataframe\">\n",
       "  <thead>\n",
       "    <tr style=\"text-align: right;\">\n",
       "      <th>Symbols</th>\n",
       "      <th>AMZN</th>\n",
       "      <th>GOOG</th>\n",
       "      <th>TSLA</th>\n",
       "      <th>NFLX</th>\n",
       "      <th>MELI</th>\n",
       "    </tr>\n",
       "    <tr>\n",
       "      <th>Date</th>\n",
       "      <th></th>\n",
       "      <th></th>\n",
       "      <th></th>\n",
       "      <th></th>\n",
       "      <th></th>\n",
       "    </tr>\n",
       "  </thead>\n",
       "  <tbody>\n",
       "    <tr>\n",
       "      <th>2015-01-30</th>\n",
       "      <td>NaN</td>\n",
       "      <td>NaN</td>\n",
       "      <td>NaN</td>\n",
       "      <td>NaN</td>\n",
       "      <td>NaN</td>\n",
       "    </tr>\n",
       "    <tr>\n",
       "      <th>2015-02-27</th>\n",
       "      <td>0.072293</td>\n",
       "      <td>0.044676</td>\n",
       "      <td>-0.001277</td>\n",
       "      <td>0.074943</td>\n",
       "      <td>0.056721</td>\n",
       "    </tr>\n",
       "    <tr>\n",
       "      <th>2015-03-31</th>\n",
       "      <td>-0.021202</td>\n",
       "      <td>-0.018625</td>\n",
       "      <td>-0.071653</td>\n",
       "      <td>-0.122592</td>\n",
       "      <td>-0.063724</td>\n",
       "    </tr>\n",
       "    <tr>\n",
       "      <th>2015-04-30</th>\n",
       "      <td>0.133512</td>\n",
       "      <td>-0.016760</td>\n",
       "      <td>0.197489</td>\n",
       "      <td>0.335525</td>\n",
       "      <td>0.161688</td>\n",
       "    </tr>\n",
       "    <tr>\n",
       "      <th>2015-05-29</th>\n",
       "      <td>0.017663</td>\n",
       "      <td>-0.009733</td>\n",
       "      <td>0.109489</td>\n",
       "      <td>0.121402</td>\n",
       "      <td>0.019672</td>\n",
       "    </tr>\n",
       "    <tr>\n",
       "      <th>...</th>\n",
       "      <td>...</td>\n",
       "      <td>...</td>\n",
       "      <td>...</td>\n",
       "      <td>...</td>\n",
       "      <td>...</td>\n",
       "    </tr>\n",
       "    <tr>\n",
       "      <th>2021-01-29</th>\n",
       "      <td>-0.015576</td>\n",
       "      <td>0.047869</td>\n",
       "      <td>0.124506</td>\n",
       "      <td>-0.015424</td>\n",
       "      <td>0.062255</td>\n",
       "    </tr>\n",
       "    <tr>\n",
       "      <th>2021-02-26</th>\n",
       "      <td>-0.035328</td>\n",
       "      <td>0.109558</td>\n",
       "      <td>-0.148740</td>\n",
       "      <td>0.012134</td>\n",
       "      <td>-0.079460</td>\n",
       "    </tr>\n",
       "    <tr>\n",
       "      <th>2021-03-31</th>\n",
       "      <td>0.000372</td>\n",
       "      <td>0.015597</td>\n",
       "      <td>-0.011207</td>\n",
       "      <td>-0.031901</td>\n",
       "      <td>-0.101318</td>\n",
       "    </tr>\n",
       "    <tr>\n",
       "      <th>2021-04-30</th>\n",
       "      <td>0.120663</td>\n",
       "      <td>0.165080</td>\n",
       "      <td>0.062147</td>\n",
       "      <td>-0.015700</td>\n",
       "      <td>0.067140</td>\n",
       "    </tr>\n",
       "    <tr>\n",
       "      <th>2021-05-31</th>\n",
       "      <td>0.000000</td>\n",
       "      <td>0.000000</td>\n",
       "      <td>0.000000</td>\n",
       "      <td>0.000000</td>\n",
       "      <td>0.000000</td>\n",
       "    </tr>\n",
       "  </tbody>\n",
       "</table>\n",
       "<p>77 rows × 5 columns</p>\n",
       "</div>"
      ],
      "text/plain": [
       "Symbols         AMZN      GOOG      TSLA      NFLX      MELI\n",
       "Date                                                        \n",
       "2015-01-30       NaN       NaN       NaN       NaN       NaN\n",
       "2015-02-27  0.072293  0.044676 -0.001277  0.074943  0.056721\n",
       "2015-03-31 -0.021202 -0.018625 -0.071653 -0.122592 -0.063724\n",
       "2015-04-30  0.133512 -0.016760  0.197489  0.335525  0.161688\n",
       "2015-05-29  0.017663 -0.009733  0.109489  0.121402  0.019672\n",
       "...              ...       ...       ...       ...       ...\n",
       "2021-01-29 -0.015576  0.047869  0.124506 -0.015424  0.062255\n",
       "2021-02-26 -0.035328  0.109558 -0.148740  0.012134 -0.079460\n",
       "2021-03-31  0.000372  0.015597 -0.011207 -0.031901 -0.101318\n",
       "2021-04-30  0.120663  0.165080  0.062147 -0.015700  0.067140\n",
       "2021-05-31  0.000000  0.000000  0.000000  0.000000  0.000000\n",
       "\n",
       "[77 rows x 5 columns]"
      ]
     },
     "execution_count": 3,
     "metadata": {},
     "output_type": "execute_result"
    },
    {
     "data": {
      "image/png": "[encoded data removed]",
      "text/plain": [
       "<Figure size 1008x504 with 1 Axes>"
      ]
     },
     "metadata": {
      "needs_background": "light"
     },
     "output_type": "display_data"
    }
   ],
   "source": [
    "## acá define 5 tickers y con pdr.get_data_yahoo los va a buscar a internet. \n",
    "## va desde el 2015-01-01 hasta la fecha de hoy: dt.date.today()\n",
    "## y toma el valor ajustado al cierre (\"Adj Close\")\n",
    "\n",
    "tickers = ['AMZN', 'GOOG', 'TSLA', 'NFLX', 'MELI']\n",
    "prices = pdr.get_data_yahoo(tickers, start = '2015-01-01', end=dt.date.today())['Adj Close']\n",
    "prices\n",
    "\n",
    "prices.columns\n",
    "\n",
    "## aca hace un plot de los precios en el tiempo\n",
    "plt.figure(figsize=(14,7))\n",
    "\n",
    "## para cada ticker ['AMZN', 'GOOG', 'TSLA', 'NFLX', 'MELI'] itera\n",
    "for i in prices.columns.values:\n",
    "    \n",
    "    ##y plotea el index que es la fecha contra el logaritmo de los precios de ese ticker\n",
    "    plt.plot(prices.index, np.log(prices[i]), lw = 2, alpha = 0.8, label = i)\n",
    "    \n",
    "    ## agrega la leyenda arriba a la izquierda (la cajita con los nombres de los tickers)\n",
    "    plt.legend(loc = 'upper left', fontsize = 14)\n",
    "    \n",
    "plt.ylabel('log prices')\n",
    "plt.title('Price evolution for constituents')\n",
    "\n",
    "#### Retornos (diarios y mensuales)\n",
    "\n",
    "## acá va a cambiar los precios a los retornos %\n",
    "## el método pct_change hace basicamente: \n",
    "## \"(el precio de ahora - el precio de la fila de arriba)/el precio de la fila de arriba \"\n",
    "returns = prices.pct_change()\n",
    "\n",
    "## asfreq resamplea la serie de tiempo. \n",
    "## BM significa \"business month end frequency\"\n",
    "## o sea, el precio a fin de mes (hábil)\n",
    "## con .ffill() si falta un dato lo completa con el último válido\n",
    "monthly_prices = prices.asfreq(freq='BM').ffill()\n",
    "monthly_prices\n",
    "\n",
    "\n",
    "## acá vuelve a calcular retornos, pero esta vez calcula retornos mensuales\n",
    "## está tomando los precios mensuales que sacó recién y obtiene el retorno % \n",
    "monthly_returns = monthly_prices.pct_change()\n",
    "monthly_returns"
   ]
  },
  {
   "cell_type": "markdown",
   "metadata": {},
   "source": [
    "## Modelos Factoriales: CAPM\n",
    "Nos servirán para construir los _inputs_ iniciales a la hora de refinar proceso de estimación, así como entender las características del portafolio a lo largo del tiempo."
   ]
  },
  {
   "cell_type": "code",
   "execution_count": 4,
   "metadata": {},
   "outputs": [],
   "source": [
    "import urllib.request\n",
    "import zipfile\n",
    "\n",
    "\n",
    "## define la url de donde va a bajar la data (un zip con un csv adentro)\n",
    "ff_url = \"https://mba.tuck.dartmouth.edu/pages/faculty/ken.french/ftp/F-F_Research_Data_Factors_CSV.zip\"\n",
    "## descarga la data \n",
    "urllib.request.urlretrieve(ff_url,'fama_french.zip')\n",
    "\n",
    "## abre el archivo zip\n",
    "zip_file = zipfile.ZipFile('fama_french.zip', 'r')\n",
    "## y extrae todo\n",
    "zip_file.extractall()\n",
    "## cierra el archivo zip.\n",
    "zip_file.close()\n",
    "## levanta el csv que extrajo del zip\n",
    "ff_factors = pd.read_csv('./F-F_Research_Data_Factors.CSV', skiprows = 3)"
   ]
  },
  {
   "cell_type": "code",
   "execution_count": 5,
   "metadata": {},
   "outputs": [
    {
     "name": "stdout",
     "output_type": "stream",
     "text": [
      "  Unnamed: 0    Mkt-RF       SMB       HML        RF\n",
      "0     192607      2.96     -2.30     -2.87      0.22\n",
      "1     192608      2.64     -1.40      4.19      0.25\n",
      "2     192609      0.36     -1.32      0.01      0.23\n",
      "3     192610     -3.24      0.04      0.51      0.32\n",
      "4     192611      2.53     -0.20     -0.35      0.31\n"
     ]
    }
   ],
   "source": [
    "## asi se ve el principio del csv\n",
    "print(ff_factors.head())"
   ]
  },
  {
   "cell_type": "code",
   "execution_count": 6,
   "metadata": {},
   "outputs": [
    {
     "name": "stdout",
     "output_type": "stream",
     "text": [
      "                              Unnamed: 0    Mkt-RF       SMB       HML  \\\n",
      "1135                              202102      2.78      2.11      7.08   \n",
      "1136                              202103      3.08     -2.48      7.40   \n",
      "1137                              202104      4.94     -3.09     -0.75   \n",
      "1138   Annual Factors: January-December        NaN       NaN       NaN   \n",
      "1139                                 NaN    Mkt-RF       SMB       HML   \n",
      "...                                  ...       ...       ...       ...   \n",
      "1230                                2017     21.51     -4.96    -13.84   \n",
      "1231                                2018     -6.93     -3.15     -9.34   \n",
      "1232                                2019     28.28     -6.26    -10.68   \n",
      "1233                                2020     23.67     13.07    -47.20   \n",
      "1234    Copyright 2021 Kenneth R. French       NaN       NaN       NaN   \n",
      "\n",
      "            RF  \n",
      "1135      0.00  \n",
      "1136      0.00  \n",
      "1137      0.00  \n",
      "1138       NaN  \n",
      "1139        RF  \n",
      "...        ...  \n",
      "1230      0.80  \n",
      "1231      1.81  \n",
      "1232      2.14  \n",
      "1233      0.44  \n",
      "1234       NaN  \n",
      "\n",
      "[100 rows x 5 columns]\n"
     ]
    }
   ],
   "source": [
    "## asi se ve el final del csv\n",
    "print(ff_factors.tail(100))"
   ]
  },
  {
   "cell_type": "code",
   "execution_count": 7,
   "metadata": {},
   "outputs": [
    {
     "name": "stdout",
     "output_type": "stream",
     "text": [
      "     Unnamed: 0    Mkt-RF       SMB       HML        RF\n",
      "1124     202003    -13.38     -5.03    -13.96      0.12\n",
      "1125     202004     13.65      2.75     -1.39      0.00\n",
      "1126     202005      5.58      2.49     -5.05      0.01\n",
      "1127     202006      2.46      2.71     -2.35      0.01\n",
      "1128     202007      5.77     -2.18     -1.39      0.01\n",
      "1129     202008      7.63     -0.25     -2.94      0.01\n",
      "1130     202009     -3.63      0.06     -2.51      0.01\n",
      "1131     202010     -2.10      4.44      4.03      0.01\n",
      "1132     202011     12.47      5.48      2.11      0.01\n",
      "1133     202012      4.63      4.81     -1.36      0.01\n",
      "1134     202101     -0.03      7.19      2.85      0.00\n",
      "1135     202102      2.78      2.11      7.08      0.00\n",
      "1136     202103      3.08     -2.48      7.40      0.00\n",
      "1137     202104      4.94     -3.09     -0.75      0.00\n"
     ]
    }
   ],
   "source": [
    "print(ff_factors.iloc[1124:1138],)"
   ]
  },
  {
   "cell_type": "code",
   "execution_count": 8,
   "metadata": {},
   "outputs": [
    {
     "name": "stdout",
     "output_type": "stream",
     "text": [
      "      Unnamed: 0  Mkt-RF   SMB   HML    RF\n",
      "1133      202012    4.63  4.81 -1.36  0.01\n",
      "1134      202101   -0.03  7.19  2.85  0.00\n",
      "1135      202102    2.78  2.11  7.08  0.00\n",
      "1136      202103    3.08 -2.48  7.40  0.00\n",
      "1137      202104    4.94 -3.09 -0.75  0.00\n",
      "   Unnamed: 0  Mkt-RF   SMB   HML    RF\n",
      "0      192607    2.96 -2.30 -2.87  0.22\n",
      "1      192608    2.64 -1.40  4.19  0.25\n",
      "2      192609    0.36 -1.32  0.01  0.23\n",
      "3      192610   -3.24  0.04  0.51  0.32\n",
      "4      192611    2.53 -0.20 -0.35  0.31\n"
     ]
    }
   ],
   "source": [
    "## levanta de nuevo el csv, lee de la fila 3 a la 1138\n",
    "ff_factors = pd.read_csv('F-F_Research_Data_Factors.CSV', skiprows = 3, nrows = 1138)\n",
    "print(ff_factors.tail())\n",
    "print(ff_factors.head())"
   ]
  },
  {
   "cell_type": "code",
   "execution_count": 9,
   "metadata": {},
   "outputs": [
    {
     "name": "stdout",
     "output_type": "stream",
     "text": [
      "        Mkt-RF   SMB   HML    RF\n",
      "202012    4.63  4.81 -1.36  0.01\n",
      "202101   -0.03  7.19  2.85  0.00\n",
      "202102    2.78  2.11  7.08  0.00\n",
      "202103    3.08 -2.48  7.40  0.00\n",
      "202104    4.94 -3.09 -0.75  0.00\n"
     ]
    }
   ],
   "source": [
    "## levanta de nuevo el csv, pero ahora setea la primer columna como indice\n",
    "## todo lo anterior no cumple mucha funcion\n",
    "## podríamos haber arrancado con este\n",
    "\n",
    "## entiendo que lo que tenemos acá son los retornos de los factores para cada mes y cada año\n",
    "## tipo el factor SMB en diciembre 2020 dio un retorno de 4.81%\n",
    "## el retorno está calculado segun el portfolio long-short construido con el factor\n",
    "## pero por favor avisen si esta explicación no es la correcta\n",
    "\n",
    "ff_factors = pd.read_csv('F-F_Research_Data_Factors.CSV', skiprows = 3,\n",
    "nrows = 1138, index_col = 0)\n",
    "print(ff_factors.tail())"
   ]
  },
  {
   "cell_type": "code",
   "execution_count": 10,
   "metadata": {},
   "outputs": [
    {
     "name": "stdout",
     "output_type": "stream",
     "text": [
      "            Mkt-RF   SMB   HML    RF\n",
      "2020-12-01    4.63  4.81 -1.36  0.01\n",
      "2021-01-01   -0.03  7.19  2.85  0.00\n",
      "2021-02-01    2.78  2.11  7.08  0.00\n",
      "2021-03-01    3.08 -2.48  7.40  0.00\n",
      "2021-04-01    4.94 -3.09 -0.75  0.00\n"
     ]
    }
   ],
   "source": [
    "## convierte el indice a un tipo de dato datetime (para manejarlo como fecha)\n",
    "## el solo tenía año y mes. Pandas asume que es el primer día del mes, asi que lo va a\n",
    "## tener que corregir\n",
    "ff_factors.index = pd.to_datetime(ff_factors.index, format= '%Y%m')\n",
    "print(ff_factors.tail())"
   ]
  },
  {
   "cell_type": "code",
   "execution_count": 11,
   "metadata": {},
   "outputs": [
    {
     "data": {
      "text/html": [
       "<div>\n",
       "<style scoped>\n",
       "    .dataframe tbody tr th:only-of-type {\n",
       "        vertical-align: middle;\n",
       "    }\n",
       "\n",
       "    .dataframe tbody tr th {\n",
       "        vertical-align: top;\n",
       "    }\n",
       "\n",
       "    .dataframe thead th {\n",
       "        text-align: right;\n",
       "    }\n",
       "</style>\n",
       "<table border=\"1\" class=\"dataframe\">\n",
       "  <thead>\n",
       "    <tr style=\"text-align: right;\">\n",
       "      <th></th>\n",
       "      <th>Mkt-RF</th>\n",
       "      <th>SMB</th>\n",
       "      <th>HML</th>\n",
       "      <th>RF</th>\n",
       "    </tr>\n",
       "  </thead>\n",
       "  <tbody>\n",
       "    <tr>\n",
       "      <th>2020-12-31</th>\n",
       "      <td>4.63</td>\n",
       "      <td>4.81</td>\n",
       "      <td>-1.36</td>\n",
       "      <td>0.01</td>\n",
       "    </tr>\n",
       "    <tr>\n",
       "      <th>2021-01-31</th>\n",
       "      <td>-0.03</td>\n",
       "      <td>7.19</td>\n",
       "      <td>2.85</td>\n",
       "      <td>0.00</td>\n",
       "    </tr>\n",
       "    <tr>\n",
       "      <th>2021-02-28</th>\n",
       "      <td>2.78</td>\n",
       "      <td>2.11</td>\n",
       "      <td>7.08</td>\n",
       "      <td>0.00</td>\n",
       "    </tr>\n",
       "    <tr>\n",
       "      <th>2021-03-31</th>\n",
       "      <td>3.08</td>\n",
       "      <td>-2.48</td>\n",
       "      <td>7.40</td>\n",
       "      <td>0.00</td>\n",
       "    </tr>\n",
       "    <tr>\n",
       "      <th>2021-04-30</th>\n",
       "      <td>4.94</td>\n",
       "      <td>-3.09</td>\n",
       "      <td>-0.75</td>\n",
       "      <td>0.00</td>\n",
       "    </tr>\n",
       "  </tbody>\n",
       "</table>\n",
       "</div>"
      ],
      "text/plain": [
       "            Mkt-RF   SMB   HML    RF\n",
       "2020-12-31    4.63  4.81 -1.36  0.01\n",
       "2021-01-31   -0.03  7.19  2.85  0.00\n",
       "2021-02-28    2.78  2.11  7.08  0.00\n",
       "2021-03-31    3.08 -2.48  7.40  0.00\n",
       "2021-04-30    4.94 -3.09 -0.75  0.00"
      ]
     },
     "execution_count": 11,
     "metadata": {},
     "output_type": "execute_result"
    }
   ],
   "source": [
    "##  acá lo corrije. Cambia la fecha: de ser el primer día del mes, a ser el último\n",
    "ff_factors.index = ff_factors.index + pd.offsets.MonthEnd()\n",
    "ff_factors.tail()"
   ]
  },
  {
   "cell_type": "code",
   "execution_count": 12,
   "metadata": {},
   "outputs": [
    {
     "data": {
      "text/html": [
       "<div>\n",
       "<style scoped>\n",
       "    .dataframe tbody tr th:only-of-type {\n",
       "        vertical-align: middle;\n",
       "    }\n",
       "\n",
       "    .dataframe tbody tr th {\n",
       "        vertical-align: top;\n",
       "    }\n",
       "\n",
       "    .dataframe thead th {\n",
       "        text-align: right;\n",
       "    }\n",
       "</style>\n",
       "<table border=\"1\" class=\"dataframe\">\n",
       "  <thead>\n",
       "    <tr style=\"text-align: right;\">\n",
       "      <th></th>\n",
       "      <th>Mkt-RF</th>\n",
       "      <th>SMB</th>\n",
       "      <th>HML</th>\n",
       "      <th>RF</th>\n",
       "    </tr>\n",
       "  </thead>\n",
       "  <tbody>\n",
       "    <tr>\n",
       "      <th>2020-12-31</th>\n",
       "      <td>0.0463</td>\n",
       "      <td>0.0481</td>\n",
       "      <td>-0.0136</td>\n",
       "      <td>0.0001</td>\n",
       "    </tr>\n",
       "    <tr>\n",
       "      <th>2021-01-31</th>\n",
       "      <td>-0.0003</td>\n",
       "      <td>0.0719</td>\n",
       "      <td>0.0285</td>\n",
       "      <td>0.0000</td>\n",
       "    </tr>\n",
       "    <tr>\n",
       "      <th>2021-02-28</th>\n",
       "      <td>0.0278</td>\n",
       "      <td>0.0211</td>\n",
       "      <td>0.0708</td>\n",
       "      <td>0.0000</td>\n",
       "    </tr>\n",
       "    <tr>\n",
       "      <th>2021-03-31</th>\n",
       "      <td>0.0308</td>\n",
       "      <td>-0.0248</td>\n",
       "      <td>0.0740</td>\n",
       "      <td>0.0000</td>\n",
       "    </tr>\n",
       "    <tr>\n",
       "      <th>2021-04-30</th>\n",
       "      <td>0.0494</td>\n",
       "      <td>-0.0309</td>\n",
       "      <td>-0.0075</td>\n",
       "      <td>0.0000</td>\n",
       "    </tr>\n",
       "  </tbody>\n",
       "</table>\n",
       "</div>"
      ],
      "text/plain": [
       "            Mkt-RF     SMB     HML      RF\n",
       "2020-12-31  0.0463  0.0481 -0.0136  0.0001\n",
       "2021-01-31 -0.0003  0.0719  0.0285  0.0000\n",
       "2021-02-28  0.0278  0.0211  0.0708  0.0000\n",
       "2021-03-31  0.0308 -0.0248  0.0740  0.0000\n",
       "2021-04-30  0.0494 -0.0309 -0.0075  0.0000"
      ]
     },
     "execution_count": 12,
     "metadata": {},
     "output_type": "execute_result"
    }
   ],
   "source": [
    "## divide todos los factores por 100 \n",
    "ff_factors = ff_factors.apply(lambda x: x/ 100)\n",
    "ff_factors.tail()"
   ]
  },
  {
   "cell_type": "code",
   "execution_count": 13,
   "metadata": {},
   "outputs": [
    {
     "ename": "NameError",
     "evalue": "name 'cumulative_factor_returns' is not defined",
     "output_type": "error",
     "traceback": [
      "\u001b[0;31m---------------------------------------------------------------------------\u001b[0m",
      "\u001b[0;31mNameError\u001b[0m                                 Traceback (most recent call last)",
      "\u001b[0;32m<ipython-input-13-2a207f716177>\u001b[0m in \u001b[0;36m<module>\u001b[0;34m\u001b[0m\n\u001b[0;32m----> 1\u001b[0;31m \u001b[0mcumulative_factor_returns\u001b[0m\u001b[0;34m\u001b[0m\u001b[0;34m\u001b[0m\u001b[0m\n\u001b[0m",
      "\u001b[0;31mNameError\u001b[0m: name 'cumulative_factor_returns' is not defined"
     ]
    }
   ],
   "source": [
    "cumulative_factor_returns"
   ]
  },
  {
   "cell_type": "code",
   "execution_count": null,
   "metadata": {},
   "outputs": [],
   "source": [
    "# le suma 1 a todos los factores y hace el producto acumulado\n",
    "# o sea, el tenia los retornos en %, los divide por 100 y les suma 1\n",
    "# entonces si tenés un retorno del 4% te queda 1.04\n",
    "# y despues va multiplicando los retornos para componer:\n",
    "# si tenias un retorno del 4% en el primer tiempo y un retorno del 2% en el segundo\n",
    "# te queda 1.04 * 1.02\n",
    "cumulative_factor_returns = (ff_factors + 1).cumprod() \n",
    "\n",
    "## como charlamos en el grupo, esto es el acumulado. \n",
    "## Para leerlo como retorno hay que restarle 1\n",
    "## cumulative_factor_returns = (ff_factors + 1).cumprod() -1\n",
    "\n",
    "## plotea:\n",
    "fig = plt.figure(figsize=(16,9))\n",
    "ax1 = fig.add_axes([0.1,0.1,0.8,0.8])\n",
    "ax1.plot(cumulative_factor_returns)\n",
    "ax1.set_xlabel('Date')\n",
    "ax1.legend(cumulative_factor_returns.columns, loc = 'upper left')\n",
    "ax1.set_ylabel(\"Cumulative Returns\")\n",
    "ax1.set_title(\"Portfolio Cumulative Returns\")\n",
    "plt.show();"
   ]
  },
  {
   "cell_type": "code",
   "execution_count": null,
   "metadata": {},
   "outputs": [],
   "source": [
    "# Merge de la información\n",
    "\n",
    "# une los monthly returns (de la notebook anterior. El cacho de código de arriba de todo)\n",
    "# con los factores (ff_factors) en un mismo dataframe. Es como hacer un join de SQL\n",
    "# como uso left_index y right_index está joineando por los indices\n",
    "\n",
    "# si alguno no sabe lo que es un join:\n",
    "# la idea es que está matcheando los indices de ambos dataframes y une los dos de acuerdo a esos indices\n",
    "# entonces las filas del nuevo dataset que se genera son las filas pegadas de los anteriores, pero según\n",
    "# el índice\n",
    "all_data = pd.merge(pd.DataFrame(monthly_returns),ff_factors, how = 'inner', left_index= True, right_index= True)\n",
    "\n",
    "\n",
    "# voy a dividir el codigo en dos bloques así vemos que tiene adentro all_data:\n",
    "# para cada mes, los retornos de las acciones, los retornos de los factores y la risk free\n",
    "all_data.head()"
   ]
  },
  {
   "cell_type": "code",
   "execution_count": null,
   "metadata": {},
   "outputs": [],
   "source": [
    "## compone los retornos \n",
    "cumulative_factor_returns = (all_data + 1).cumprod() ## lo mismo que arriba: podríamos restarle 1\n",
    "\n",
    "\n",
    "## y plotea:\n",
    "fig = plt.figure(figsize=(16,9)) #le da el tamaño al grafico\n",
    "ax1 = fig.add_axes([0.1,0.1,0.8,0.8]) # define los ejes del grafico\n",
    "ax1.plot(cumulative_factor_returns.iloc[:,5:9]) #plotea \n",
    "\n",
    "# agrega titulos, nombres y leyenda1\n",
    "ax1.set_xlabel('Date') \n",
    "ax1.set_ylabel('Cumulative Returns')\n",
    "ax1.set_title('Factors Performance')\n",
    "ax1.legend(cumulative_factor_returns.iloc[:,5:9].columns, loc = 'upper left')\n",
    "plt.show()"
   ]
  },
  {
   "cell_type": "code",
   "execution_count": null,
   "metadata": {},
   "outputs": [],
   "source": [
    "## le cambia el nombre a la columna Mkt-Rf por \"mkt_excess\"\n",
    "all_data.rename(columns={\"Mkt-RF\":\"mkt_excess\"}, inplace=True)\n",
    "\n",
    "## para cada ticker que tenemos definido, calcula el \"exceso de retorno\"\n",
    "## que vendría a ser el retorno de ese mes - la risk free\n",
    "## y crea una nueva columna para ese exceso de retorno\n",
    "## por ejemplo: AMZN_excess es el retorno de AMZN - risk free\n",
    "\n",
    "for nombres in tickers:\n",
    "    all_data[nombres + '_excess'] = all_data[nombres] - all_data['RF']\n",
    "\n",
    "all_data.tail()"
   ]
  },
  {
   "cell_type": "code",
   "execution_count": null,
   "metadata": {},
   "outputs": [],
   "source": [
    "## aca importa statsmodel\n",
    "import statsmodels.formula.api as sm\n",
    "\n",
    "#model = sm.ols(formula = \"MELI_excess ~ mkt_excess + HML + SMB\", data = all_data).fit()\n",
    "\n",
    "## y va a hacer una regresion de MELI_excess (o sea, el retorno de MELI - la risk free)\n",
    "## contra mkt_excess que sería el mercado - la risk free\n",
    "## la notación MELI_excess ~ mkt_excess (creo que python la adoptó de R?)\n",
    "## es el siguiente modelo:\n",
    "## MELI_excess = beta0 + beta1 * mkt_excess \n",
    "\n",
    "## define el modelo y lo ajusta\n",
    "model = sm.ols(formula = \"MELI_excess ~ mkt_excess\", data = all_data).fit()\n",
    "\n",
    "## el siguiente cacho de codigo lo voy a modificar un poco para que sea mas legible\n",
    "\n",
    "### muestra los parametros \n",
    "print(\"Parámetros del modelo:\")\n",
    "print(model.params)\n",
    "print(\"\\n\")\n",
    "## el r cuadrado ajustado\n",
    "print(f\"R cuadrado ajustado: {round(model.rsquared_adj,2)}\")\n",
    "## y si los p values están por debajo de 0.05\n",
    "print(\"\\n\")\n",
    "print(\"Son significativos los parámetros?\")\n",
    "print(model.pvalues<0.05)\n"
   ]
  },
  {
   "cell_type": "markdown",
   "metadata": {},
   "source": [
    "## Conclusiones:\n",
    "Para discutir en esta sesión vamos a verlo desde dos ópticas diferentes:\n",
    "* [AQR's Superstar Investors](https://www.aqr.com/Insights/Research/Alternative-Thinking/Superstar-Investors): plantea entender a un listado de inversores famosos desde un punto de vista de analizarlos por factores.\n",
    "* [SEC vs. LJM Funds Management et al.](https://www.sec.gov/litigation/complaints/2021/comp-pr2021-89.pdf): Un caso famoso de un blow-up producto de un mal manejo de riesgo."
   ]
  }
 ],
 "metadata": {
  "kernelspec": {
   "display_name": "Python 3",
   "language": "python",
   "name": "python3"
  },
  "language_info": {
   "codemirror_mode": {
    "name": "ipython",
    "version": 3
   },
   "file_extension": ".py",
   "mimetype": "text/x-python",
   "name": "python",
   "nbconvert_exporter": "python",
   "pygments_lexer": "ipython3",
   "version": "3.8.5"
  }
 },
 "nbformat": 4,
 "nbformat_minor": 4
}
