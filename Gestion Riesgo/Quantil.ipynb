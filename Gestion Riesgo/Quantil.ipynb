{
 "cells": [
  {
   "cell_type": "code",
   "execution_count": 1,
   "id": "contrary-collective",
   "metadata": {},
   "outputs": [],
   "source": [
    "import os\n",
    "import scipy.stats\n",
    "from scipy.stats import norm\n",
    "import numpy as np\n",
    "from sklearn.linear_model import LinearRegression\n",
    "import matplotlib.pyplot as plt\n",
    "import matplotlib as mpl\n",
    "import pandas as pd\n",
    "import statsmodels.api as sm\n",
    "import statsmodels.formula.api as smf\n",
    "from statsmodels.sandbox.regression.predstd import wls_prediction_std\n",
    "import decimal\n",
    "from sklearn.decomposition import PCA\n",
    "from sklearn.preprocessing import StandardScaler\n",
    "import matplotlib.ticker as ticker\n"
   ]
  },
  {
   "cell_type": "code",
   "execution_count": 2,
   "id": "sustainable-colorado",
   "metadata": {},
   "outputs": [],
   "source": [
    "np.random.seed(123)"
   ]
  },
  {
   "cell_type": "markdown",
   "id": "chinese-glossary",
   "metadata": {},
   "source": [
    "Pequeño comentario del codigo del profe. Con ## es mi comentario.  \n",
    "  \n",
    "Acá lo que va a hacer el profe es mostrar 2 metodos.  \n",
    "Primero se trajo \"from scipy.stats import norm\" que es la distribución normal en scipy. Las distribuciones tienen varios métodos. Le podes pedir la densidad, los percentiles, la acumulada, momentos, podes samplear de la distribución, de todo. Por ahora va a usar dos métodos: cdf y ppf.\n",
    "Cdf es la funcion de distribución acumulada. Sería algo así como: \"Dado un valor en una normal ¿Cuál es el área bajo la curva que te queda atrás de ese punto?\"   \n",
    "O bien \"¿cual es la proba de samplear un valor más chico que este?\"  \n",
    "Después tenés ppf que es lo contrario: ¿cual es el numero que te deja por atrás esa cantidad de área? O sea, el estás pidiendo el percentil. Por ejemplo, si yo le pido ppf(.5) le estoy pidiendo el valor que deja por detrás (o sea el valro que es mayor o igual) al 50% de la distribución. Como es una normal estandar, me tiene que devolver 0.\n",
    "Si yo le pido el cdf(1), le estoy pidiendo el área debajo de la curva por detrás de 1 (o sea, la probabilidad de samplear un valor menor o igual a 1). ME va a dar cerca de .84 (porque es una normal estandar).\n",
    "  \n",
    "si no le pasas otro parámetro, te da una normal estandar. Pero podés jugar con los otros dos parámetros loc y scale. Loc te permite cambiar la media de la distribución. Scale te permite cambiar el desvío de la distribución."
   ]
  },
  {
   "cell_type": "code",
   "execution_count": 3,
   "id": "unlike-animal",
   "metadata": {},
   "outputs": [
    {
     "name": "stdout",
     "output_type": "stream",
     "text": [
      "0.8413447460685429\n",
      "0.0\n"
     ]
    }
   ],
   "source": [
    "## agrego estos dos ejemplos para cerrar el comentario de arriba:\n",
    "## cdf(1)\n",
    "print(norm.cdf(1))\n",
    "\n",
    "## ppf(.5)\n",
    "print(norm.ppf(.5))"
   ]
  },
  {
   "cell_type": "code",
   "execution_count": 4,
   "id": "liquid-median",
   "metadata": {},
   "outputs": [
    {
     "name": "stdout",
     "output_type": "stream",
     "text": [
      "-1.96\n",
      "prob: 0.025\n",
      "0.025\n"
     ]
    }
   ],
   "source": [
    "# Quantile\n",
    "\n",
    "## acá muestra ppf y cdf:\n",
    "print(round(norm.ppf(0.025),4))\n",
    "print('prob: ' + str(round(norm.cdf(-1.96),4))) # Excel: DISTR.NORM.ESTAND.N(-1.96;VERDADERO)\n",
    "# Equivalent\n",
    "\n",
    "## y como la ppf es la inversa de la cdf:\n",
    "print(round(norm.cdf(norm.ppf(0.025)),4))"
   ]
  },
  {
   "cell_type": "code",
   "execution_count": 5,
   "id": "relevant-issue",
   "metadata": {},
   "outputs": [
    {
     "name": "stdout",
     "output_type": "stream",
     "text": [
      "-1.2816\n",
      "-2.3263\n",
      "0.1\n"
     ]
    }
   ],
   "source": [
    "## muestra ppf y cdf de nuevo para 0.1, 0.01 y de nuevo muestra que cdf(ppf(x)) = x\n",
    "print(round(norm.ppf(0.1),4)) # Excel: DISTR.NORM.ESTAND.INV(0,025)\n",
    "print(round(norm.ppf(0.01),4))\n",
    "print(round(norm.cdf(norm.ppf(0.1)),4))"
   ]
  },
  {
   "cell_type": "code",
   "execution_count": 6,
   "id": "fourth-commonwealth",
   "metadata": {},
   "outputs": [
    {
     "name": "stdout",
     "output_type": "stream",
     "text": [
      "0.0004890374683290222\n",
      "0.0001146443371595196\n"
     ]
    }
   ],
   "source": [
    "## define media y desvio\n",
    "mu, sigma = 0.0, 0.03903 # mean and standard deviation\n",
    "#mu, sigma = 0, 1 # mean and standard deviation\n",
    "\n",
    "## samplea de una normal con media mu, desvio sigma \n",
    "## acá lo hace con numpy en vez de con scipy. \n",
    "## Tambien podría haber usado la norm del punto anterior\n",
    "## con norm.rvs\n",
    "simulation_rn = np.random.normal(mu, sigma, 9000) ## samplea 9000 valores de una normal\n",
    "\n",
    "## chequea el error entre la media real (el parámetro) y la media que obtiene de la distribución\n",
    "## que simula. A un N grande, la media muestral se aproxima al parámetro (LLN)\n",
    "# Verify the mean and the variance:\n",
    "print(abs(mu - np.mean(simulation_rn)))\n",
    "\n",
    "## lo mismo para el desvío. EL error con 9000 muestras es bastante chico\n",
    "print(abs(sigma - np.std(simulation_rn, ddof=1)))"
   ]
  },
  {
   "cell_type": "code",
   "execution_count": 7,
   "id": "amber-reggae",
   "metadata": {},
   "outputs": [
    {
     "name": "stdout",
     "output_type": "stream",
     "text": [
      "-1.2810658467845246\n"
     ]
    }
   ],
   "source": [
    "## acá lo que hace es restarle la media y dividir por el desvío\n",
    "## o sea, estandarizamos. (seguro alguno le dice de otra forma, lo escuché de mil maneras)\n",
    "data = -0.05\n",
    "transf = (data-mu)/sigma\n",
    "print(transf)"
   ]
  },
  {
   "cell_type": "code",
   "execution_count": 8,
   "id": "fleet-district",
   "metadata": {},
   "outputs": [
    {
     "data": {
      "text/plain": [
       "[<matplotlib.lines.Line2D at 0x7f613af09160>]"
      ]
     },
     "execution_count": 8,
     "metadata": {},
     "output_type": "execute_result"
    },
    {
     "data": {
      "image/png": "[encoded data removed]",
      "text/plain": [
       "<Figure size 432x288 with 1 Axes>"
      ]
     },
     "metadata": {
      "needs_background": "light"
     },
     "output_type": "display_data"
    }
   ],
   "source": [
    "# Plot\n",
    "## hacemos un histograma con los 9000 sampleos que hicimos recien\n",
    "count, bins, ignored = plt.hist(simulation_rn, 100, density=True)\n",
    "## \n",
    "\n",
    "## esta es una forma increiblemente complicada de dibujar una curva normal arriba del histograma\n",
    "## lo que tenemos en el segundo parámetro es la función de la normal. \n",
    "plt.plot(bins, 1/(sigma * np.sqrt(2 * np.pi)) * np.exp( - (bins - mu)**2 / (2 * sigma**2)), linewidth=2, color='r')\n",
    "\n",
    "\n",
    "## una forma mas amigable de hacerlo es usando scipy:\n",
    "## x = np.linspace(norm(loc=mu, scale=sigma).ppf(0.001),\n",
    "##                norm(loc=mu, scale=sigma).ppf(0.999), 100)\n",
    "## rv = norm(loc=mu, scale=sigma)\n",
    "## plt.plot(x, rv.pdf(x), 'k-', lw=2, color=\"red\")"
   ]
  },
  {
   "cell_type": "code",
   "execution_count": 9,
   "id": "turkish-disney",
   "metadata": {},
   "outputs": [
    {
     "name": "stdout",
     "output_type": "stream",
     "text": [
      "0.10008526936504192\n"
     ]
    }
   ],
   "source": [
    "## calcula la cdf de \"data\" que es ese -0.05.\n",
    "## como le pasa el parámetro loc (mu) y scale (sigma)\n",
    "## no es necesario normalizarlo (no le resta mu y lo divide por sigma)\n",
    "\n",
    "## lo que calcula acá es la proba de obtener un valor más chico que -0.05\n",
    "prob = scipy.stats.norm.cdf(data, mu, sigma)\n",
    "\n",
    "## la probabilidad de samplear un valor más chico que -0.05 es del 10%\n",
    "## si lo pensamos como retornos, tengo un 10% de tener una pérdida del 5% o más.\n",
    "print(prob)"
   ]
  },
  {
   "cell_type": "code",
   "execution_count": 10,
   "id": "introductory-shield",
   "metadata": {},
   "outputs": [
    {
     "name": "stdout",
     "output_type": "stream",
     "text": [
      "-0.05\n"
     ]
    }
   ],
   "source": [
    "## y también al revés: cual es el valor que yo se que tengo solo .10 de proba de perder más que eso?\n",
    "print(round(norm.ppf(0.1, mu, sigma),4)) ## 5%\n",
    "\n",
    "## o sea, con ppf(.1) yo lo que quiero saber es: con un .10 de proba ¿cuanto es como mucho lo que debería perder?\n",
    "## bueno, acá, un -5%.  Solo 1 de cada 10 veces deberías ver que perdés más del 5%"
   ]
  },
  {
   "cell_type": "code",
   "execution_count": 11,
   "id": "assisted-arabic",
   "metadata": {},
   "outputs": [
    {
     "data": {
      "text/plain": [
       "[<matplotlib.lines.Line2D at 0x7f613ad641c0>]"
      ]
     },
     "execution_count": 11,
     "metadata": {},
     "output_type": "execute_result"
    },
    {
     "data": {
      "image/png": "[encoded data removed]",
      "text/plain": [
       "<Figure size 432x288 with 1 Axes>"
      ]
     },
     "metadata": {
      "needs_background": "light"
     },
     "output_type": "display_data"
    }
   ],
   "source": [
    "## count sale del hist. Son los conteos para cada bin. \n",
    "## O sea, la altura de las barritas del histograma\n",
    "## cumsum lo que hace es una suma acumulada\n",
    "\n",
    "## o sea, lo que tenemos acá es la distribución acumulada \n",
    "## (la empírica, que sale del sampleo)\n",
    "cumulative = np.cumsum(count)\n",
    "\n",
    "## la ploteamos\n",
    "plt.plot(bins[:-1], cumulative, c='blue')"
   ]
  },
  {
   "cell_type": "code",
   "execution_count": 12,
   "id": "painted-harrison",
   "metadata": {},
   "outputs": [
    {
     "data": {
      "image/png": "[encoded data removed]",
      "text/plain": [
       "<Figure size 432x288 with 1 Axes>"
      ]
     },
     "metadata": {
      "needs_background": "light"
     },
     "output_type": "display_data"
    }
   ],
   "source": [
    "## otra forma es pedir directo el histograma acumulado\n",
    "## como es un histograma, tiene que cerrar por ambos lados. \n",
    "## Por eso vemos esa caida al final de todo\n",
    "## para matplotlib es lo mismo que hacer un hist pero le pasas cumulative = true\n",
    "\n",
    "# plot the cumulative histogram\n",
    "fig, ax = plt.subplots()\n",
    "n, bins, patches = ax.hist(simulation_rn, 100, density=True, histtype='step',cumulative=True, label='Empirical')"
   ]
  },
  {
   "cell_type": "code",
   "execution_count": 13,
   "id": "answering-psychiatry",
   "metadata": {},
   "outputs": [
    {
     "data": {
      "image/png": "[encoded data removed]",
      "text/plain": [
       "<Figure size 432x288 with 1 Axes>"
      ]
     },
     "metadata": {
      "needs_background": "light"
     },
     "output_type": "display_data"
    }
   ],
   "source": [
    "## ahora va a plotear una normal estandar y va a mostrar el área acumulada detrás de -0.05\n",
    "\n",
    "# for fill_between\n",
    "fig, ax = plt.subplots()\n",
    "\n",
    "## plotea una normal(mu, sigma)\n",
    "px=np.arange(-.15,data ,0.001)\n",
    "ax.plot(bins, 1/(sigma * np.sqrt(2 * np.pi)) * np.exp( - (bins - mu)**2 / (2 * sigma**2)), linewidth=2, color='r')\n",
    "#ax.set_ylim(0,1.6)\n",
    "\n",
    "## rellena en verde el area detras de 0.05\n",
    "ax.fill_between(px,norm.pdf(px,loc=mu, scale=sigma), alpha=0.5, color='g')\n",
    "\n",
    "## agrega texto\n",
    "# for text\n",
    "ax.text(-0.15,0.4,f\"cdf(x): {round(prob,4)}\", fontsize=12) ## acomodo un poco esto\n",
    "ax.set_title(\"N(mu: 10%, sig: 25%)\")\n",
    "ax.set_xlabel('x')\n",
    "ax.set_ylabel('pdf(x)')\n",
    "ax.grid(True)\n",
    "# for text\n",
    "##ax.text(-0.15,0.2,round(prob,4)*100, fontsize=10)\n",
    "\n",
    "#start, end = ax.get_xlim()\n",
    "#ax.xaxis.set_ticks(np.arange(min(px), 1, 0.1))\n",
    "#ax.xaxis.set_major_formatter(ticker.PercentFormatter(xmax=1,decimals=None, symbol='%'))\n"
   ]
  },
  {
   "cell_type": "code",
   "execution_count": 14,
   "id": "brutal-roots",
   "metadata": {},
   "outputs": [
    {
     "name": "stdout",
     "output_type": "stream",
     "text": [
      "0.004026356380356519\n",
      "0.0002668648553803554\n"
     ]
    }
   ],
   "source": [
    "### acá repite lo mismo pero con otra media y desvio\n",
    "mu, sigma = 0.10, 0.25 # mean and standard deviation\n",
    "#mu, sigma = 0, 1 # mean and standard deviation\n",
    "\n",
    "## samplea 9000 valores de una normal(0.1, 0.25)\n",
    "simulation_rn = np.random.normal(mu, sigma, 9000)\n",
    "\n",
    "## chequea que media y desvio de la muestra le den parecido a los parámetros:\n",
    "# Verify the mean and the variance:\n",
    "print(abs(mu - np.mean(simulation_rn)))\n",
    "print(abs(sigma - np.std(simulation_rn, ddof=1)))"
   ]
  },
  {
   "cell_type": "code",
   "execution_count": 15,
   "id": "technological-arctic",
   "metadata": {},
   "outputs": [
    {
     "name": "stdout",
     "output_type": "stream",
     "text": [
      "0.0\n"
     ]
    }
   ],
   "source": [
    "## define \"data\" como -0.025, despues lo cambia a 0.1 y lo estandariza\n",
    "data = -0.025\n",
    "data = 0.1 ## esta es la media que le definió a la normal de la que está sampleando\n",
    "## así que estandarizando debería darle 0:\n",
    "transf = (data-mu)/sigma\n",
    "print(transf)"
   ]
  },
  {
   "cell_type": "code",
   "execution_count": 16,
   "id": "every-custom",
   "metadata": {},
   "outputs": [
    {
     "data": {
      "text/plain": [
       "[<matplotlib.lines.Line2D at 0x7f613abb86a0>]"
      ]
     },
     "execution_count": 16,
     "metadata": {},
     "output_type": "execute_result"
    },
    {
     "data": {
      "image/png": "[encoded data removed]",
      "text/plain": [
       "<Figure size 432x288 with 1 Axes>"
      ]
     },
     "metadata": {
      "needs_background": "light"
     },
     "output_type": "display_data"
    }
   ],
   "source": [
    "## repite el mismo plot de arriba: un histograma y arriba le dibuja la normal\n",
    "\n",
    "# Plot\n",
    "count, bins, ignored = plt.hist(simulation_rn, 100, density=True)\n",
    "plt.plot(bins, 1/(sigma * np.sqrt(2 * np.pi)) * np.exp( - (bins - mu)**2 / (2 * sigma**2)), linewidth=2, color='r')"
   ]
  },
  {
   "cell_type": "code",
   "execution_count": 17,
   "id": "ruled-yesterday",
   "metadata": {},
   "outputs": [
    {
     "name": "stdout",
     "output_type": "stream",
     "text": [
      "0.5\n"
     ]
    }
   ],
   "source": [
    "## calcula la probabilidad de samplear un valor menor a data \n",
    "##(que habíamos visto que era = mu, así que debería ser .5)\n",
    "prob = scipy.stats.norm.cdf(data, mu, sigma)\n",
    "print(prob)\n"
   ]
  },
  {
   "cell_type": "code",
   "execution_count": 18,
   "id": "choice-technique",
   "metadata": {},
   "outputs": [
    {
     "data": {
      "image/png": "[encoded data removed]",
      "text/plain": [
       "<Figure size 432x288 with 1 Axes>"
      ]
     },
     "metadata": {
      "needs_background": "light"
     },
     "output_type": "display_data"
    }
   ],
   "source": [
    "### repite el gráfico de area acumulada:\n",
    "\n",
    "# for fill_between\n",
    "fig, ax = plt.subplots()\n",
    "px=np.arange(-.85,data ,0.001)\n",
    "ax.plot(bins, 1/(sigma * np.sqrt(2 * np.pi)) * np.exp( - (bins - mu)**2 / (2 * sigma**2)), linewidth=2, color='r')\n",
    "ax.fill_between(px,norm.pdf(px,loc=mu, scale=sigma), alpha=0.5, color='g')\n",
    "# for text\n",
    "ax.text(-0.15,0.4,\"cdf(x)\", fontsize=20)\n",
    "ax.set_title(\"N(mu: 10%, sig: 25%)\")\n",
    "ax.set_xlabel('x')\n",
    "ax.set_ylabel('pdf(x)')\n",
    "ax.grid(True)\n",
    "# for text\n",
    "ax.text(-0.15,0.2,round(prob,4)*100, fontsize=20)\n",
    "\n",
    "start, end = ax.get_xlim()\n",
    "ax.xaxis.set_ticks(np.arange(min(px), 1, 0.1))\n",
    "ax.xaxis.set_major_formatter(ticker.PercentFormatter(xmax=1,decimals=None, symbol='%'))\n"
   ]
  },
  {
   "cell_type": "code",
   "execution_count": 19,
   "id": "educational-deficit",
   "metadata": {},
   "outputs": [
    {
     "name": "stdout",
     "output_type": "stream",
     "text": [
      "0.012740067114895462\n",
      "0.004801929350917611\n"
     ]
    }
   ],
   "source": [
    "## define una media y un desvío:\n",
    "muND, sigmaND = 0, 1 # mean and standard deviation\n",
    "\n",
    "## con media 0 y desvio 1 tenemos la normal estandar\n",
    "\n",
    "## samplea de uina normal con media muND y desvío sigmaND\n",
    "## 9000 muestras:\n",
    "simulation_ND = np.random.normal(muND, sigmaND, 9000)\n",
    "\n",
    "## chequea de nuevo que le de parecido media y desvio muestral\n",
    "# Verify the mean and the variance:\n",
    "print(abs(muND - np.mean(simulation_ND)))\n",
    "\n",
    "## la unica modificacion es que le agrega ddof=1\n",
    "## esto es para el denominador del desvío que es N - ddof\n",
    "## seteando ddof = 1, haces que el calculo del desvío sea con N-1 en vez de con N\n",
    "print(abs(sigmaND - np.std(simulation_ND, ddof=1)))"
   ]
  },
  {
   "cell_type": "code",
   "execution_count": 20,
   "id": "fatty-algeria",
   "metadata": {},
   "outputs": [
    {
     "name": "stdout",
     "output_type": "stream",
     "text": [
      "-1.96\n"
     ]
    }
   ],
   "source": [
    "## setea dataND como -1, despues lo cambia a -0.5 y despues lo cambia a -1.96\n",
    "dataND = -1\n",
    "dataND = -0.5\n",
    "dataND = -1.96\n",
    "\n",
    "## estandariza\n",
    "transfND = (dataND-muND)/sigmaND\n",
    "print(transfND)"
   ]
  },
  {
   "cell_type": "code",
   "execution_count": 21,
   "id": "atomic-camera",
   "metadata": {},
   "outputs": [
    {
     "data": {
      "text/plain": [
       "[<matplotlib.lines.Line2D at 0x7f613a9ce700>]"
      ]
     },
     "execution_count": 21,
     "metadata": {},
     "output_type": "execute_result"
    },
    {
     "data": {
      "image/png": "[encoded data removed]",
      "text/plain": [
       "<Figure size 432x288 with 1 Axes>"
      ]
     },
     "metadata": {
      "needs_background": "light"
     },
     "output_type": "display_data"
    }
   ],
   "source": [
    "## hace el mismo gráfico con un histograma y le plotea una normal arriba\n",
    "# Plot\n",
    "countND, binsND, ignoredND = plt.hist(simulation_ND, 100, density=True)\n",
    "plt.plot(binsND, 1/(sigmaND * np.sqrt(2 * np.pi)) * np.exp( - (binsND - muND)**2 / (2 * sigmaND**2)), linewidth=2, color='r')"
   ]
  },
  {
   "cell_type": "code",
   "execution_count": 22,
   "id": "stuffed-assumption",
   "metadata": {},
   "outputs": [
    {
     "name": "stdout",
     "output_type": "stream",
     "text": [
      "0.024997895148220435\n"
     ]
    }
   ],
   "source": [
    "## calcula la cdf de dataND (que había quedado en -1.96)\n",
    "probND = scipy.stats.norm.cdf(dataND, muND, sigmaND)\n",
    "## es decir, cual es la proba de sacar un valor a -1.96 de una normal estandar.\n",
    "## sabemos que nos tiene que dar aprox 0.025\n",
    "print(probND)"
   ]
  },
  {
   "cell_type": "code",
   "execution_count": 23,
   "id": "massive-andrew",
   "metadata": {},
   "outputs": [
    {
     "data": {
      "text/plain": [
       "Text(-0.15, 0.2, '2.5')"
      ]
     },
     "execution_count": 23,
     "metadata": {},
     "output_type": "execute_result"
    },
    {
     "data": {
      "image/png": "[encoded data removed]",
      "text/plain": [
       "<Figure size 432x288 with 1 Axes>"
      ]
     },
     "metadata": {
      "needs_background": "light"
     },
     "output_type": "display_data"
    }
   ],
   "source": [
    "## y hace de nuevo el gráfico de área acumulada\n",
    "\n",
    "# for fill_between\n",
    "figND, axND = plt.subplots()\n",
    "pxND=np.arange(-3.5,dataND ,0.001)\n",
    "axND.plot(binsND, 1/(sigmaND * np.sqrt(2 * np.pi)) * np.exp( - (binsND - muND)**2 / (2 * sigmaND**2)), linewidth=2, color='r')\n",
    "axND.fill_between(pxND,norm.pdf(pxND,loc=muND, scale=sigmaND), alpha=0.5, color='g')\n",
    "# for text\n",
    "axND.text(-0.15,0.4,\"cdf(x)\", fontsize=20)\n",
    "axND.set_title(\"N(mu: 10%, sig: 25%)\")\n",
    "axND.set_xlabel('x')\n",
    "axND.set_ylabel('pdf(x)')\n",
    "axND.grid(True)\n",
    "# for text\n",
    "axND.text(-0.15,0.2,round(probND,4)*100, fontsize=20)"
   ]
  }
 ],
 "metadata": {
  "kernelspec": {
   "display_name": "Python 3",
   "language": "python",
   "name": "python3"
  },
  "language_info": {
   "codemirror_mode": {
    "name": "ipython",
    "version": 3
   },
   "file_extension": ".py",
   "mimetype": "text/x-python",
   "name": "python",
   "nbconvert_exporter": "python",
   "pygments_lexer": "ipython3",
   "version": "3.8.10"
  }
 },
 "nbformat": 4,
 "nbformat_minor": 5
}
