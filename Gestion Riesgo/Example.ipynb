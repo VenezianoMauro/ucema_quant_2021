{
 "cells": [
  {
   "cell_type": "code",
   "execution_count": 1,
   "id": "arabic-record",
   "metadata": {},
   "outputs": [],
   "source": [
    "import os\n",
    "import scipy.stats\n",
    "from scipy.stats import norm\n",
    "import numpy as np\n",
    "from sklearn.linear_model import LinearRegression\n",
    "import matplotlib.pyplot as plt\n",
    "import matplotlib as mpl\n",
    "import pandas as pd\n",
    "import statsmodels.api as sm\n",
    "import statsmodels.formula.api as smf\n",
    "from statsmodels.sandbox.regression.predstd import wls_prediction_std\n",
    "import decimal\n",
    "from sklearn.decomposition import PCA\n",
    "from sklearn.preprocessing import StandardScaler\n",
    "import matplotlib.ticker as ticker"
   ]
  },
  {
   "cell_type": "code",
   "execution_count": 2,
   "id": "imposed-earthquake",
   "metadata": {},
   "outputs": [],
   "source": [
    "np.random.seed(123)"
   ]
  },
  {
   "cell_type": "markdown",
   "id": "adequate-small",
   "metadata": {},
   "source": [
    "Comento el código. En ## es el mío. "
   ]
  },
  {
   "cell_type": "code",
   "execution_count": 3,
   "id": "robust-connection",
   "metadata": {},
   "outputs": [
    {
     "name": "stdout",
     "output_type": "stream",
     "text": [
      "['Hoja1', 'Hoja2', 'Hoja3', 'Hoja4']\n"
     ]
    }
   ],
   "source": [
    "## Tengo en la misma carpeta la notebook y el excel:\n",
    "file = './Example_1.xlsx'\n",
    "## levanto el excel\n",
    "xl = pd.ExcelFile(file)\n",
    "print(xl.sheet_names)\n",
    "## me quedo con Hoja1\n",
    "df1 = xl.parse('Hoja1')\n"
   ]
  },
  {
   "cell_type": "code",
   "execution_count": 4,
   "id": "emerging-slovakia",
   "metadata": {},
   "outputs": [
    {
     "data": {
      "text/html": [
       "<div>\n",
       "<style scoped>\n",
       "    .dataframe tbody tr th:only-of-type {\n",
       "        vertical-align: middle;\n",
       "    }\n",
       "\n",
       "    .dataframe tbody tr th {\n",
       "        vertical-align: top;\n",
       "    }\n",
       "\n",
       "    .dataframe thead th {\n",
       "        text-align: right;\n",
       "    }\n",
       "</style>\n",
       "<table border=\"1\" class=\"dataframe\">\n",
       "  <thead>\n",
       "    <tr style=\"text-align: right;\">\n",
       "      <th></th>\n",
       "      <th>Date</th>\n",
       "      <th>SPX</th>\n",
       "      <th>NWL</th>\n",
       "      <th>MSFT</th>\n",
       "    </tr>\n",
       "  </thead>\n",
       "  <tbody>\n",
       "    <tr>\n",
       "      <th>0</th>\n",
       "      <td>2000-01-03</td>\n",
       "      <td>1441.47</td>\n",
       "      <td>72.27</td>\n",
       "      <td>47.63</td>\n",
       "    </tr>\n",
       "    <tr>\n",
       "      <th>1</th>\n",
       "      <td>2000-01-10</td>\n",
       "      <td>1465.15</td>\n",
       "      <td>70.53</td>\n",
       "      <td>47.98</td>\n",
       "    </tr>\n",
       "    <tr>\n",
       "      <th>2</th>\n",
       "      <td>2000-01-18</td>\n",
       "      <td>1441.36</td>\n",
       "      <td>70.28</td>\n",
       "      <td>44.34</td>\n",
       "    </tr>\n",
       "    <tr>\n",
       "      <th>3</th>\n",
       "      <td>2000-01-24</td>\n",
       "      <td>1360.16</td>\n",
       "      <td>69.53</td>\n",
       "      <td>41.99</td>\n",
       "    </tr>\n",
       "    <tr>\n",
       "      <th>4</th>\n",
       "      <td>2000-01-31</td>\n",
       "      <td>1424.37</td>\n",
       "      <td>70.53</td>\n",
       "      <td>45.54</td>\n",
       "    </tr>\n",
       "  </tbody>\n",
       "</table>\n",
       "</div>"
      ],
      "text/plain": [
       "        Date      SPX    NWL   MSFT\n",
       "0 2000-01-03  1441.47  72.27  47.63\n",
       "1 2000-01-10  1465.15  70.53  47.98\n",
       "2 2000-01-18  1441.36  70.28  44.34\n",
       "3 2000-01-24  1360.16  69.53  41.99\n",
       "4 2000-01-31  1424.37  70.53  45.54"
      ]
     },
     "execution_count": 4,
     "metadata": {},
     "output_type": "execute_result"
    }
   ],
   "source": [
    "## a ver que tiene adentro:\n",
    "df1.head()"
   ]
  },
  {
   "cell_type": "code",
   "execution_count": 5,
   "id": "ignored-injection",
   "metadata": {},
   "outputs": [],
   "source": [
    "## con pct_change obtiene el retorno, en este caso de MSFT\n",
    "MSFT_ret = df1.MSFT.pct_change()\n",
    "\n",
    "## dropea los nans \n",
    "## (en este caso solo el primer día, que no tiene como calcular la diferencia con el dia anterior) \n",
    "## y convierte en array los retornos\n",
    "MSFT_ret = np.array(MSFT_ret.dropna())\n",
    "\n",
    "## repite lo mismo para NWL\n",
    "NWL_ret = df1.NWL.pct_change()\n",
    "NWL_ret = np.array(NWL_ret.dropna())\n",
    "\n",
    "## y ahora hace lo mismo para el s&p 500\n",
    "SPX_ret = df1.SPX.pct_change()\n",
    "SPX_ret = np.array(SPX_ret.dropna())\n",
    "\n",
    "## este reshape lo que hace es convertir el array en un vector columna\n",
    "SPX_ret = SPX_ret.reshape(-1, 1)"
   ]
  },
  {
   "cell_type": "code",
   "execution_count": 6,
   "id": "experimental-bottle",
   "metadata": {},
   "outputs": [
    {
     "name": "stdout",
     "output_type": "stream",
     "text": [
      "                            OLS Regression Results                            \n",
      "==============================================================================\n",
      "Dep. Variable:                      y   R-squared:                       0.331\n",
      "Model:                            OLS   Adj. R-squared:                  0.329\n",
      "Method:                 Least Squares   F-statistic:                     196.1\n",
      "Date:                Sun, 11 Jul 2021   Prob (F-statistic):           1.80e-36\n",
      "Time:                        02:24:55   Log-Likelihood:                 762.72\n",
      "No. Observations:                 398   AIC:                            -1521.\n",
      "Df Residuals:                     396   BIC:                            -1513.\n",
      "Df Model:                           1                                         \n",
      "Covariance Type:            nonrobust                                         \n",
      "==============================================================================\n",
      "                 coef    std err          t      P>|t|      [0.025      0.975]\n",
      "------------------------------------------------------------------------------\n",
      "const         -0.0007      0.002     -0.370      0.712      -0.004       0.003\n",
      "x1             1.1042      0.079     14.002      0.000       0.949       1.259\n",
      "==============================================================================\n",
      "Omnibus:                       57.152   Durbin-Watson:                   1.908\n",
      "Prob(Omnibus):                  0.000   Jarque-Bera (JB):              516.837\n",
      "Skew:                           0.132   Prob(JB):                    5.89e-113\n",
      "Kurtosis:                       8.576   Cond. No.                         44.1\n",
      "==============================================================================\n",
      "\n",
      "Notes:\n",
      "[1] Standard Errors assume that the covariance matrix of the errors is correctly specified.\n"
     ]
    }
   ],
   "source": [
    "## define X como el SPX_ret (los retornos del s&p 500)\n",
    "## y le agrega con add_constant un vector de 1 \n",
    "## esto se hace para despues hacer una regresion, para ajustar el alfa (el intercept u ordenada)\n",
    "X = sm.add_constant(SPX_ret)\n",
    "\n",
    "## ajusta una regresion. Regresa los retornos % de MSFT contra el S&P500\n",
    "## ahora cuando hacemos el print vamos a ver un cuadro con todos los estadisticos\n",
    "## que nos calcula statsmodel (el paquete que estamos usando para hacer regresiones)\n",
    "## const es el alfa y x1 nos da el beta del s&p500\n",
    "results = sm.OLS(MSFT_ret, X).fit()\n",
    "print(results.summary())"
   ]
  },
  {
   "cell_type": "code",
   "execution_count": 7,
   "id": "judicial-winning",
   "metadata": {},
   "outputs": [
    {
     "name": "stdout",
     "output_type": "stream",
     "text": [
      "Coeficiente de determinación R^2: 0.3311507835612817\n"
     ]
    }
   ],
   "source": [
    "## muestra el r cuadrado\n",
    "print('Coeficiente de determinación R^2: ' + str(results.rsquared))"
   ]
  },
  {
   "cell_type": "code",
   "execution_count": 8,
   "id": "raised-collectible",
   "metadata": {},
   "outputs": [
    {
     "name": "stdout",
     "output_type": "stream",
     "text": [
      "Standard Error: Specific Risk MSFT \n",
      "0.2573861544752122\n"
     ]
    }
   ],
   "source": [
    "## aca muestra el riesgo específico: results.scale es SSR/(n - p) donde n es la cantidad de datos\n",
    "## y p la cantidad de parámetros. SSR es la suma de residuos al cuadrado\n",
    "## La raiz cuadrada de esto es el error estandar de la regresion\n",
    "## TE dice, en la misma unidad de y, en promedio cuanto se aleja el modelo de los datos\n",
    "## o sea que cuanto mas chico, mejor. Además, lo que tiene de piola es que te sirve\n",
    "## para aproximar el intervalo de prediccion (digo el de prediccion, no el de confianza)\n",
    "## que con R cuadrado no podes\n",
    "\n",
    "## lo multiplica por la raiz cuadrada de 52 porque lo que nosotros tenemos son retornos semanales\n",
    "\n",
    "# Specific Risk MSFT (residual standard error)\n",
    "MSFT_SR = np.sqrt(results.scale)*np.sqrt(52)\n",
    "print('Standard Error: Specific Risk MSFT \\n' + str(MSFT_SR))"
   ]
  },
  {
   "cell_type": "code",
   "execution_count": 9,
   "id": "temporal-series",
   "metadata": {},
   "outputs": [
    {
     "name": "stdout",
     "output_type": "stream",
     "text": [
      "MSFT = Intercept ; SPX: \n",
      "[-0.0006618592810449703 1.1042103183844842]\n"
     ]
    }
   ],
   "source": [
    "## ahora imprime el intercept y el beta de SPX\n",
    "# Params\n",
    "MSFT_params = results.params\n",
    "print('MSFT = Intercept ; SPX: \\n' + str(MSFT_params.astype(decimal.Decimal)))\n",
    "\n",
    "## se guarda los parametros\n",
    "a_MSFT = MSFT_params[0,]\n",
    "B_MSFT = MSFT_params[1,]"
   ]
  },
  {
   "cell_type": "code",
   "execution_count": 10,
   "id": "polyphonic-suspension",
   "metadata": {},
   "outputs": [
    {
     "name": "stdout",
     "output_type": "stream",
     "text": [
      "                            OLS Regression Results                            \n",
      "==============================================================================\n",
      "Dep. Variable:                      y   R-squared:                       0.114\n",
      "Model:                            OLS   Adj. R-squared:                  0.111\n",
      "Method:                 Least Squares   F-statistic:                     50.82\n",
      "Date:                Sun, 11 Jul 2021   Prob (F-statistic):           4.84e-12\n",
      "Time:                        02:24:55   Log-Likelihood:                 804.64\n",
      "No. Observations:                 398   AIC:                            -1605.\n",
      "Df Residuals:                     396   BIC:                            -1597.\n",
      "Df Model:                           1                                         \n",
      "Covariance Type:            nonrobust                                         \n",
      "==============================================================================\n",
      "                 coef    std err          t      P>|t|      [0.025      0.975]\n",
      "------------------------------------------------------------------------------\n",
      "const          0.0036      0.002      2.224      0.027       0.000       0.007\n",
      "x1             0.5060      0.071      7.129      0.000       0.366       0.645\n",
      "==============================================================================\n",
      "Omnibus:                       47.147   Durbin-Watson:                   2.014\n",
      "Prob(Omnibus):                  0.000   Jarque-Bera (JB):              135.111\n",
      "Skew:                           0.541   Prob(JB):                     4.58e-30\n",
      "Kurtosis:                       5.641   Cond. No.                         44.1\n",
      "==============================================================================\n",
      "\n",
      "Notes:\n",
      "[1] Standard Errors assume that the covariance matrix of the errors is correctly specified.\n"
     ]
    }
   ],
   "source": [
    "## ahora repite lo mismo para NWL\n",
    "# NWL\n",
    "results = sm.OLS(NWL_ret, X).fit()\n",
    "print(results.summary())"
   ]
  },
  {
   "cell_type": "code",
   "execution_count": 11,
   "id": "combined-desktop",
   "metadata": {},
   "outputs": [
    {
     "data": {
      "text/plain": [
       "0.11373039647490812"
      ]
     },
     "execution_count": 11,
     "metadata": {},
     "output_type": "execute_result"
    }
   ],
   "source": [
    "## toma el r cuadrado\n",
    "results.rsquared"
   ]
  },
  {
   "cell_type": "code",
   "execution_count": 12,
   "id": "religious-guest",
   "metadata": {},
   "outputs": [
    {
     "name": "stdout",
     "output_type": "stream",
     "text": [
      "Standard Error: Specific Risk NWL \n",
      "0.2316536214321529\n",
      "NWL = Intercept ; SPX: \n",
      "[0.00358142184744622 0.505955452927042]\n"
     ]
    }
   ],
   "source": [
    "## y repite el calculo del riesgo especifico (error estandar por raiz de 52)\n",
    "# Specific Risk NWL (residual standard error)\n",
    "NWL_SR = np.sqrt(results.scale)*np.sqrt(52)\n",
    "print('Standard Error: Specific Risk NWL \\n' + str(NWL_SR))\n",
    "\n",
    "## saca los parametros\n",
    "# Params\n",
    "NWL_params = results.params\n",
    "print('NWL = Intercept ; SPX: \\n' + str(NWL_params.astype(decimal.Decimal)))\n",
    "a_NWL = NWL_params[0,]\n",
    "B_NWL = NWL_params[1,]\n",
    "\n"
   ]
  },
  {
   "cell_type": "code",
   "execution_count": 13,
   "id": "biological-saying",
   "metadata": {},
   "outputs": [
    {
     "name": "stdout",
     "output_type": "stream",
     "text": [
      "a_porfolio: 0.0023084375088988627\n",
      "B_porfolio: 0.6854319125642747\n",
      "SpecR_porfolio: 0.17960332147398525\n"
     ]
    }
   ],
   "source": [
    "## construye un portfolio. Va a definir los pesos: 0.7 y 0.3\n",
    "# Portfolio Characteristics\n",
    "w_1 = 0.7\n",
    "w_2 = 1-w_1\n",
    "\n",
    "## define el alfa del portfolio como la suma pesada de los alfas que se guardó arriba\n",
    "a_porfolio = w_1*a_NWL + w_2*a_MSFT\n",
    "print('a_porfolio: ' + str(a_porfolio))\n",
    "\n",
    "## define el beta del portfolio como la suma pesada de los betas que se guardó arriba\n",
    "B_porfolio = w_1*B_NWL + w_2*B_MSFT\n",
    "print('B_porfolio: ' + str(B_porfolio))\n",
    "\n",
    "## define el riesgo específico del portfolio como la suma del producto \n",
    "## de los cuadrados de los riesgos específicos por los cuadrados de los pesos\n",
    "SpecR_porfolio = np.sqrt(w_1**2 * NWL_SR**2 + w_2**2 * MSFT_SR**2)\n",
    "print('SpecR_porfolio: ' + str(SpecR_porfolio))"
   ]
  },
  {
   "cell_type": "code",
   "execution_count": 14,
   "id": "ordered-builder",
   "metadata": {},
   "outputs": [
    {
     "data": {
      "text/plain": [
       "Text(0, 0.5, 'MSFT_ret')"
      ]
     },
     "execution_count": 14,
     "metadata": {},
     "output_type": "execute_result"
    },
    {
     "data": {
      "image/png": "[encoded data removed]",
      "text/plain": [
       "<Figure size 576x432 with 1 Axes>"
      ]
     },
     "metadata": {
      "needs_background": "light"
     },
     "output_type": "display_data"
    }
   ],
   "source": [
    "## aca sacamos los intervalos de prediccion \n",
    "## van a ser mucho mas anchos que los de confianza\n",
    "prstd, iv_l, iv_u = wls_prediction_std(results)\n",
    "\n",
    "## y graficamos\n",
    "fig, ax = plt.subplots(figsize=(8,6))\n",
    "## plotea retornos del s&p contra los retornos de msft\n",
    "ax.plot(SPX_ret, MSFT_ret, 'o', label=\"data\", alpha=0.4)\n",
    "## plotea la linea de regresion\n",
    "ax.plot(SPX_ret, results.fittedvalues, 'o-.', label=\"OLS\")\n",
    "## y el intervalo de prediccion\n",
    "ax.plot(SPX_ret, iv_u, 'r')\n",
    "ax.plot(SPX_ret, iv_l, 'r')\n",
    "ax.legend(loc='best')\n",
    "plt.title(\"MSF_LINE\")\n",
    "plt.xlabel(\"SPX_ret\")\n",
    "plt.ylabel(\"MSFT_ret\")"
   ]
  },
  {
   "cell_type": "code",
   "execution_count": 15,
   "id": "active-cabin",
   "metadata": {},
   "outputs": [
    {
     "name": "stdout",
     "output_type": "stream",
     "text": [
      "['Hoja1', 'Hoja2', 'Hoja3', 'Hoja4']\n"
     ]
    }
   ],
   "source": [
    "## ahora levantamos hoja 2\n",
    "\n",
    "# Assign spreadsheet filename to `file`\n",
    "file = 'Example_1.xlsx'\n",
    "# Load spreadsheet\n",
    "xl = pd.ExcelFile(file)\n",
    "# Print the sheet names\n",
    "print(xl.sheet_names)\n",
    "# Load a sheet into a DataFrame by name: df1\n",
    "df1 = xl.parse('Hoja2')"
   ]
  },
  {
   "cell_type": "code",
   "execution_count": 16,
   "id": "least-aruba",
   "metadata": {},
   "outputs": [],
   "source": [
    "## calcula retornos logaritmicos. Para eso toma el diff \n",
    "## (es la diferencia entre cada valor y el anterior)\n",
    "## y a eso le calcula el logaritmo. \n",
    "## o sea. log(X(t) - X(t-1))\n",
    "\n",
    "## calcula el reotnro para el s&p100, para amex y para cisco\n",
    "\n",
    "# log return\n",
    "SP100_ret = np.log(df1['SP100']).diff()\n",
    "SP100_ret = np.array(SP100_ret.dropna())\n",
    "\n",
    "AMEX_ret = np.log(df1['Amex']).diff()\n",
    "AMEX_ret = np.array(AMEX_ret.dropna())\n",
    "\n",
    "CISCO_ret = np.log(df1['Cisco']).diff()\n",
    "CISCO_ret = np.array(CISCO_ret.dropna())\n",
    "\n"
   ]
  },
  {
   "cell_type": "code",
   "execution_count": 17,
   "id": "hindu-reason",
   "metadata": {},
   "outputs": [],
   "source": [
    "## tomo el s&p100 y le agrego una constante de unos p/ regresion\n",
    "X = sm.add_constant(SP100_ret)"
   ]
  },
  {
   "cell_type": "code",
   "execution_count": 18,
   "id": "funky-player",
   "metadata": {},
   "outputs": [
    {
     "name": "stdout",
     "output_type": "stream",
     "text": [
      "                            OLS Regression Results                            \n",
      "==============================================================================\n",
      "Dep. Variable:                      y   R-squared:                       0.508\n",
      "Model:                            OLS   Adj. R-squared:                  0.508\n",
      "Method:                 Least Squares   F-statistic:                     2071.\n",
      "Date:                Sun, 11 Jul 2021   Prob (F-statistic):          2.86e-311\n",
      "Time:                        02:24:56   Log-Likelihood:                 5702.9\n",
      "No. Observations:                2009   AIC:                        -1.140e+04\n",
      "Df Residuals:                    2007   BIC:                        -1.139e+04\n",
      "Df Model:                           1                                         \n",
      "Covariance Type:            nonrobust                                         \n",
      "==============================================================================\n",
      "                 coef    std err          t      P>|t|      [0.025      0.975]\n",
      "------------------------------------------------------------------------------\n",
      "const          0.0002      0.000      0.554      0.579      -0.000       0.001\n",
      "x1             1.2400      0.027     45.505      0.000       1.187       1.293\n",
      "==============================================================================\n",
      "Omnibus:                      226.570   Durbin-Watson:                   2.069\n",
      "Prob(Omnibus):                  0.000   Jarque-Bera (JB):             1717.867\n",
      "Skew:                          -0.225   Prob(JB):                         0.00\n",
      "Kurtosis:                       7.508   Cond. No.                         86.2\n",
      "==============================================================================\n",
      "\n",
      "Notes:\n",
      "[1] Standard Errors assume that the covariance matrix of the errors is correctly specified.\n"
     ]
    }
   ],
   "source": [
    "## regresamos los retornos de AMEX contra el s&p\n",
    "# AMEX\n",
    "AMEX_results = sm.OLS(AMEX_ret, X).fit()\n",
    "print(AMEX_results.summary())"
   ]
  },
  {
   "cell_type": "code",
   "execution_count": 19,
   "id": "julian-branch",
   "metadata": {},
   "outputs": [
    {
     "data": {
      "text/plain": [
       "0.5078061411087695"
      ]
     },
     "execution_count": 19,
     "metadata": {},
     "output_type": "execute_result"
    }
   ],
   "source": [
    "## el r cuadrado de la regresion de AMEX\n",
    "# R Square\n",
    "AMEX_results.rsquared"
   ]
  },
  {
   "cell_type": "code",
   "execution_count": 20,
   "id": "visible-course",
   "metadata": {},
   "outputs": [
    {
     "name": "stdout",
     "output_type": "stream",
     "text": [
      "Standard Error: Specific Risk AMEX \n",
      "0.2239415444904576\n"
     ]
    }
   ],
   "source": [
    "## igual que arriba, tomamos el riesgo específico de AMEX:\n",
    "# Specific Risk AMEX (residual standard error)\n",
    "AMEX_SR = np.sqrt(AMEX_results.scale)*np.sqrt(250)\n",
    "print('Standard Error: Specific Risk AMEX \\n' + str(AMEX_SR))"
   ]
  },
  {
   "cell_type": "code",
   "execution_count": 21,
   "id": "pressing-slide",
   "metadata": {},
   "outputs": [
    {
     "name": "stdout",
     "output_type": "stream",
     "text": [
      "AMEX = Intercept ; SPX: \n",
      "[0.00017517661507409802 1.2400111395349356]\n"
     ]
    }
   ],
   "source": [
    "## tomamos los parámetros\n",
    "# Params\n",
    "AMEX_params = AMEX_results.params\n",
    "print('AMEX = Intercept ; SPX: \\n' + str(AMEX_params.astype(decimal.Decimal)))\n",
    "a_AMEX = AMEX_params[0,]\n",
    "B_AMEX = AMEX_params[1,]"
   ]
  },
  {
   "cell_type": "code",
   "execution_count": 22,
   "id": "greenhouse-amplifier",
   "metadata": {},
   "outputs": [
    {
     "name": "stdout",
     "output_type": "stream",
     "text": [
      "                            OLS Regression Results                            \n",
      "==============================================================================\n",
      "Dep. Variable:                      y   R-squared:                       0.433\n",
      "Model:                            OLS   Adj. R-squared:                  0.433\n",
      "Method:                 Least Squares   F-statistic:                     1534.\n",
      "Date:                Sun, 11 Jul 2021   Prob (F-statistic):          8.92e-250\n",
      "Time:                        02:24:56   Log-Likelihood:                 4696.4\n",
      "No. Observations:                2009   AIC:                            -9389.\n",
      "Df Residuals:                    2007   BIC:                            -9378.\n",
      "Df Model:                           1                                         \n",
      "Covariance Type:            nonrobust                                         \n",
      "==============================================================================\n",
      "                 coef    std err          t      P>|t|      [0.025      0.975]\n",
      "------------------------------------------------------------------------------\n",
      "const         -0.0002      0.001     -0.424      0.672      -0.001       0.001\n",
      "x1             1.7615      0.045     39.170      0.000       1.673       1.850\n",
      "==============================================================================\n",
      "Omnibus:                      269.722   Durbin-Watson:                   2.057\n",
      "Prob(Omnibus):                  0.000   Jarque-Bera (JB):             3257.482\n",
      "Skew:                           0.068   Prob(JB):                         0.00\n",
      "Kurtosis:                       9.237   Cond. No.                         86.2\n",
      "==============================================================================\n",
      "\n",
      "Notes:\n",
      "[1] Standard Errors assume that the covariance matrix of the errors is correctly specified.\n",
      "Standard Error: Specific Risk CISCO \n",
      "0.36957275336930484\n",
      "CISCO = Intercept ; SPX: \n",
      "[-0.00022113607312567734 1.761549875989108]\n"
     ]
    }
   ],
   "source": [
    "### exactamente lo mismo para cisco\n",
    "# CISCO\n",
    "CISCO_results = sm.OLS(CISCO_ret, X).fit()\n",
    "print(CISCO_results.summary())\n",
    "# R Square\n",
    "CISCO_results.rsquared\n",
    "\n",
    "# Specific Risk NWL (residual standard error)\n",
    "CISCO_SR = np.sqrt(CISCO_results.scale)*np.sqrt(250)\n",
    "print('Standard Error: Specific Risk CISCO \\n' + str(CISCO_SR))\n",
    "# Params\n",
    "CISCO_params = CISCO_results.params\n",
    "print('CISCO = Intercept ; SPX: \\n' + str(CISCO_params.astype(decimal.Decimal)))\n",
    "a_CISCO = CISCO_params[0,]\n",
    "B_CISCO = CISCO_params[1,]"
   ]
  },
  {
   "cell_type": "code",
   "execution_count": 23,
   "id": "female-contract",
   "metadata": {},
   "outputs": [
    {
     "name": "stdout",
     "output_type": "stream",
     "text": [
      "a_porfolio: 1.6651539794187878e-05\n",
      "B_porfolio: 1.4486266341166045\n",
      "SpecR_porfolio: 0.19976830762368897\n"
     ]
    }
   ],
   "source": [
    "## y ahora repite la construccion de portfolio que hizo más arriba\n",
    "## lo que cambia son los pesos y las acciones, pero el procedimiento es el mismo\n",
    "\n",
    "# Portfolio Characteristics\n",
    "w_AMEX = 0.6\n",
    "w_CISCO = 1- w_AMEX\n",
    "\n",
    "a_porfolio = w_AMEX * a_AMEX + w_CISCO * a_CISCO\n",
    "print('a_porfolio: ' + str(a_porfolio))\n",
    "B_porfolio = w_AMEX * B_AMEX + w_CISCO * B_CISCO\n",
    "print('B_porfolio: ' + str(B_porfolio))\n",
    "SpecR_porfolio = np.sqrt(w_AMEX**2 * AMEX_SR**2 + w_CISCO**2 * CISCO_SR**2)\n",
    "print('SpecR_porfolio: ' + str(SpecR_porfolio))"
   ]
  },
  {
   "cell_type": "code",
   "execution_count": 24,
   "id": "dress-pizza",
   "metadata": {},
   "outputs": [
    {
     "name": "stdout",
     "output_type": "stream",
     "text": [
      "                            OLS Regression Results                            \n",
      "==============================================================================\n",
      "Dep. Variable:                      y   R-squared:                       0.681\n",
      "Model:                            OLS   Adj. R-squared:                  0.681\n",
      "Method:                 Least Squares   F-statistic:                     4284.\n",
      "Date:                Sun, 11 Jul 2021   Prob (F-statistic):               0.00\n",
      "Time:                        02:24:56   Log-Likelihood:                 6120.7\n",
      "No. Observations:                2009   AIC:                        -1.224e+04\n",
      "Df Residuals:                    2007   BIC:                        -1.223e+04\n",
      "Df Model:                           1                                         \n",
      "Covariance Type:            nonrobust                                         \n",
      "==============================================================================\n",
      "                 coef    std err          t      P>|t|      [0.025      0.975]\n",
      "------------------------------------------------------------------------------\n",
      "const       1.665e-05      0.000      0.065      0.948      -0.000       0.001\n",
      "x1             1.4486      0.022     65.450      0.000       1.405       1.492\n",
      "==============================================================================\n",
      "Omnibus:                      185.585   Durbin-Watson:                   2.099\n",
      "Prob(Omnibus):                  0.000   Jarque-Bera (JB):             1263.474\n",
      "Skew:                           0.021   Prob(JB):                    4.37e-275\n",
      "Kurtosis:                       6.885   Cond. No.                         86.2\n",
      "==============================================================================\n",
      "\n",
      "Notes:\n",
      "[1] Standard Errors assume that the covariance matrix of the errors is correctly specified.\n"
     ]
    }
   ],
   "source": [
    "#### PORTFOLIO CONSTANT WEIGHTS RETURNS\n",
    "\n",
    "## acá define los retornos del portfolio (pesos por retornos)\n",
    "PORFT_Const_W_Ret = w_AMEX * AMEX_ret + w_CISCO * CISCO_ret\n",
    "\n",
    "## y regresa el portfolio contra el mercado\n",
    "PORTF_CW_results = sm.OLS(PORFT_Const_W_Ret, X).fit()\n",
    "print(PORTF_CW_results.summary())"
   ]
  },
  {
   "cell_type": "code",
   "execution_count": 25,
   "id": "centered-trinidad",
   "metadata": {},
   "outputs": [
    {
     "data": {
      "text/plain": [
       "0.6809560849258582"
      ]
     },
     "execution_count": 25,
     "metadata": {},
     "output_type": "execute_result"
    }
   ],
   "source": [
    "## mira el r cuadrado de la regresion del portfolio contra el mercado\n",
    "# R Square\n",
    "PORTF_CW_results.rsquared"
   ]
  },
  {
   "cell_type": "code",
   "execution_count": 26,
   "id": "potential-gauge",
   "metadata": {},
   "outputs": [
    {
     "name": "stdout",
     "output_type": "stream",
     "text": [
      "Standard Error: Specific Risk PORTF_CW \n",
      "0.18189137574237382\n"
     ]
    }
   ],
   "source": [
    "## y analiza el riestgo específico del portfolio\n",
    "# Specific Risk NWL (residual standard error)\n",
    "PORTF_CW_SR = np.sqrt(PORTF_CW_results.scale)*np.sqrt(250)\n",
    "print('Standard Error: Specific Risk PORTF_CW \\n' + str(PORTF_CW_SR))"
   ]
  },
  {
   "cell_type": "code",
   "execution_count": 27,
   "id": "recognized-vertical",
   "metadata": {},
   "outputs": [
    {
     "name": "stdout",
     "output_type": "stream",
     "text": [
      "PORTF_CW = Intercept ; SPX: \n",
      "[1.665153979418739e-05 1.4486266341166059]\n"
     ]
    }
   ],
   "source": [
    "## se queda con los parámetros\n",
    "# Params\n",
    "PORTF_CW_params = PORTF_CW_results.params\n",
    "print('PORTF_CW = Intercept ; SPX: \\n' + str(PORTF_CW_params.astype(decimal.Decimal)))\n",
    "a_PORTF_CW = PORTF_CW_params[0,]\n",
    "B_PORTF_CW = PORTF_CW_params[1,]\n",
    "\n"
   ]
  },
  {
   "cell_type": "code",
   "execution_count": 28,
   "id": "female-grove",
   "metadata": {},
   "outputs": [],
   "source": [
    "## ahora va a hacer un EWMA\n",
    "Lambda = 0.95 ## define lambda\n",
    "\n",
    "## calcula los retornos del portfolio con amex y cisco\n",
    "PORTF_ret = AMEX_ret * w_AMEX + CISCO_ret * (1-w_AMEX)\n",
    "\n",
    "\n",
    "## hace el producto de los retornos de s&100 con los retornos de amex\n",
    "SP100_AMEX = SP100_ret * AMEX_ret\n",
    "## repite para cisco\n",
    "SP100_CISCO = SP100_ret * CISCO_ret\n",
    "## y repite para el portfolio\n",
    "SP100_PORTF = SP100_ret * PORTF_ret\n",
    "\n",
    "## a todo lo eleva al cuadrado\n",
    "SP100_2 = SP100_ret**2\n",
    "AMEX_2 = AMEX_ret**2\n",
    "CISCO_2 = CISCO_ret**2\n",
    "PORTF_2 = PORTF_ret**2"
   ]
  },
  {
   "cell_type": "code",
   "execution_count": 29,
   "id": "religious-roller",
   "metadata": {},
   "outputs": [
    {
     "name": "stdout",
     "output_type": "stream",
     "text": [
      "0.0002029879226996217\n",
      "0.00014415682427000042\n",
      "0.00017945548332777317\n"
     ]
    }
   ],
   "source": [
    "## aca lo que calcula la covarianza usando ewma \n",
    "## es la formula de la pagina 34 de \"parte 2\"\n",
    "## lambda * cov(t-1) + (1-lambda) * retorno_s&p(t-1) * retorno_accion(t-1)\n",
    "\n",
    "## define un primer elemento de la lista\n",
    "EWMA_Cov_SP100_AMEX = [0.0001]\n",
    "## y va iterando: hace el calculo con el elemento de la lista anterior y despues\n",
    "## agrega el resultado a la lista, como para en el siguiente paso tomarlo:\n",
    "## arranca por el valor que le define (0.0001), hace el calculo y  guarda el rdo en la lista.\n",
    "## en la iteración dos, agarra este valor nuevo (el resultado anterior), hace el calculo y lo guarda en la lista\n",
    "## y así.\n",
    "for i in range(len(df1['SP100'])-1):\n",
    "    EWMA_Cov_SP100_AMEX.append(Lambda * EWMA_Cov_SP100_AMEX[i] + (1-Lambda) * SP100_AMEX[i])\n",
    "print(EWMA_Cov_SP100_AMEX[-1])\n",
    "\n",
    "EWMA_Cov_SP100_CISCO = [0.0001]\n",
    "for i in range(len(df1['SP100'])-1):\n",
    "    EWMA_Cov_SP100_CISCO.append(Lambda * EWMA_Cov_SP100_CISCO[i] + (1-Lambda) * SP100_CISCO[i])\n",
    "print(EWMA_Cov_SP100_CISCO[-1])\n",
    "\n",
    "## aca en vez de accion, el segundo término es con retorno_s&p(t-1) * retorno_portfolio(t-1)\n",
    "EWMA_Cov_PORTF_CISCO = [0.0001]\n",
    "for i in range(len(df1['SP100'])-1):\n",
    "    EWMA_Cov_PORTF_CISCO.append(Lambda * EWMA_Cov_PORTF_CISCO[i] + (1-Lambda) * SP100_PORTF[i])\n",
    "print(EWMA_Cov_PORTF_CISCO[-1])\n"
   ]
  },
  {
   "cell_type": "code",
   "execution_count": 30,
   "id": "productive-venture",
   "metadata": {},
   "outputs": [
    {
     "name": "stdout",
     "output_type": "stream",
     "text": [
      "0.00013789377030709417\n",
      "0.0005562577717000374\n",
      "0.00035583182389002893\n",
      "0.00033512023440289266\n"
     ]
    }
   ],
   "source": [
    "## y acá lo que calcula es la varianza por ewma\n",
    "## la logica es la misma, define un primer valor en una lista\n",
    "## usa ese valor para el cálculo de la varianza, y lo guarda en esa misma lista.\n",
    "## en la siguiente iteración toma ese último valor calculado y trabaja con él. \n",
    "\n",
    "## lo que cambia es la fórmula que ahora es la de la varianza:\n",
    "## lambda * sigma(t-1)**2 + (1-lambda) * retorno_acción(t-1)**2\n",
    "\n",
    "EWMA_Var_SP100 = [0.0001]\n",
    "for i in range(len(df1['SP100'])-1):\n",
    "    EWMA_Var_SP100.append(Lambda * EWMA_Var_SP100[i] + (1-Lambda) * SP100_2[i])\n",
    "\n",
    "EWMA_Var_AMEX = [0.0001]\n",
    "for i in range(len(df1['SP100'])-1):\n",
    "    EWMA_Var_AMEX.append(Lambda * EWMA_Var_AMEX[i] + (1-Lambda) * AMEX_2[i])\n",
    "\n",
    "EWMA_Var_CISCO = [0.0001]\n",
    "for i in range(len(df1['SP100'])-1):\n",
    "    EWMA_Var_CISCO.append(Lambda * EWMA_Var_CISCO[i] + (1-Lambda) * CISCO_2[i])\n",
    "\n",
    "EWMA_Var_PORTF = [0.0001]\n",
    "for i in range(len(df1['SP100'])-1):\n",
    "    EWMA_Var_PORTF.append(Lambda * EWMA_Var_PORTF[i] + (1-Lambda) * PORTF_2[i])\n",
    "\n",
    "print(EWMA_Var_SP100[-1])\n",
    "print(EWMA_Var_AMEX[-1])\n",
    "print(EWMA_Var_CISCO[-1])\n",
    "print(EWMA_Var_PORTF[-1])"
   ]
  },
  {
   "cell_type": "code",
   "execution_count": 31,
   "id": "hydraulic-dividend",
   "metadata": {},
   "outputs": [],
   "source": [
    "## calculas los betas: la covarianza entre s&p100 y cada accion (o el portfolio) \n",
    "## dividido la varianza dle s&p 100\n",
    "EWMA_Beta_AMEX = np.asarray(EWMA_Cov_SP100_AMEX) / np.asarray(EWMA_Var_SP100)\n",
    "EWMA_Beta_CISCO = np.asarray(EWMA_Cov_SP100_CISCO) / np.asarray(EWMA_Var_SP100)\n",
    "EWMA_BETA = np.asarray(EWMA_Cov_PORTF_CISCO) / np.asarray(EWMA_Var_SP100)"
   ]
  },
  {
   "cell_type": "code",
   "execution_count": 32,
   "id": "certified-resolution",
   "metadata": {},
   "outputs": [],
   "source": [
    "## calcula el riesgo sistemático (formula en pagina 39 de \"parte 2\")\n",
    "## es el beta * la raiz cuadrada de la varianza * la raiz cuadrada de h\n",
    "Systematic_Risk = np.asarray(EWMA_BETA) * np.sqrt(np.asarray(EWMA_Var_SP100)*250)"
   ]
  },
  {
   "cell_type": "code",
   "execution_count": 33,
   "id": "graphic-press",
   "metadata": {},
   "outputs": [
    {
     "data": {
      "text/plain": [
       "<matplotlib.legend.Legend at 0x7f668a43b220>"
      ]
     },
     "execution_count": 33,
     "metadata": {},
     "output_type": "execute_result"
    },
    {
     "data": {
      "image/png": "[encoded data removed]",
      "text/plain": [
       "<Figure size 432x288 with 2 Axes>"
      ]
     },
     "metadata": {
      "needs_background": "light"
     },
     "output_type": "display_data"
    }
   ],
   "source": [
    "## repite el beta de ols del portfolio\n",
    "## esto es para graficar el beta contra le tiempo y que le quede una constante\n",
    "\n",
    "OLS_B = np.repeat(B_PORTF_CW, len(df1['SP100']))\n",
    "OLS_B = np.asarray(OLS_B)\n",
    "\n",
    "## Acá repr\n",
    "fig, ax = plt.subplots()\n",
    "ax.plot(df1['Date'], Systematic_Risk, label=\"Systematic_Risk\", color=\"midnightblue\", lw=1)\n",
    "# twin object for two different y-axis on the sample plot\n",
    "ax2 = ax.twinx()\n",
    "ax2.plot(df1['Date'], EWMA_BETA, label=\"EWMA_Beta\", color='orangered', lw=1)\n",
    "ax2.plot(df1['Date'], OLS_B, label=\"OLS_Beta\", color='black', lw=1)\n",
    "\n",
    "ax.set_xlabel(\"Date\")\n",
    "ax.set_ylabel(r\"Systematic_Risk\")\n",
    "ax2.set_ylabel(r\"BETAs\")\n",
    "#plt.legend(loc='lower left', mode=\"expand\")\n",
    "fig.legend(loc='upper center', mode=\"expand\",  ncol=3)\n",
    "\n"
   ]
  },
  {
   "cell_type": "code",
   "execution_count": 34,
   "id": "adjacent-omega",
   "metadata": {},
   "outputs": [
    {
     "name": "stdout",
     "output_type": "stream",
     "text": [
      "[[ 0.0225 -0.015 ]\n",
      " [-0.015   0.04  ]]\n"
     ]
    }
   ],
   "source": [
    "##este es el ejercicio de la página 24\n",
    "## La volatilidad de una acción es del 25%. Un modelo lineal con dos factores de riesgo indica que la acción\n",
    "## tiene 2 betas de 0.8 y 1.2. Asimismo los factores de riesgo tienen una volatilidad del 15% y 20%\n",
    "## respectivamente y una correlación de −0.5.\n",
    "\n",
    "## ¿Qué parte de la volatilidad de la acción se puede atribuir a los factores de riesgo y qué tan grande es el\n",
    "## riesgo específico de la acción?\n",
    "\n",
    "# Inputs\n",
    "## define los betas de los factores y su volatilidad. Además, la correlación de los factores de riesgo\n",
    "## y la volatilidad de la accion\n",
    "\n",
    "beta_1 = 0.8 \n",
    "beta_2 = 1.2\n",
    "RiskF1_vol = 0.15\n",
    "RiskF2_vol = 0.20\n",
    "RiskF_corr = -0.5\n",
    "Portf_Vol = 0.25\n",
    "\n",
    "## calcula la matriz de covarianzas de factores de riesgo\n",
    "# Covariance Matrix\n",
    "Cov_Mtrx = np.array([[RiskF1_vol**2, RiskF1_vol * RiskF2_vol * RiskF_corr],[RiskF1_vol * RiskF2_vol * RiskF_corr, RiskF2_vol**2]])\n",
    "print(Cov_Mtrx)"
   ]
  },
  {
   "cell_type": "code",
   "execution_count": 35,
   "id": "settled-yahoo",
   "metadata": {},
   "outputs": [
    {
     "name": "stdout",
     "output_type": "stream",
     "text": [
      "[0.8 1.2]\n"
     ]
    }
   ],
   "source": [
    "# Risk Decomposition\n",
    "## estos son los betas\n",
    "Factors_vector = np.array([beta_1,beta_2])\n",
    "print(Factors_vector)"
   ]
  },
  {
   "cell_type": "code",
   "execution_count": 36,
   "id": "provincial-style",
   "metadata": {},
   "outputs": [
    {
     "name": "stdout",
     "output_type": "stream",
     "text": [
      "0.0432\n"
     ]
    }
   ],
   "source": [
    "## La varianza de la acción debido a los factores de riesgo es:\n",
    "FactorsVar = np.dot(np.dot(Cov_Mtrx , Factors_vector.transpose()),Factors_vector)  ## Variance due to factors\n",
    "print(FactorsVar)"
   ]
  },
  {
   "cell_type": "code",
   "execution_count": 37,
   "id": "dense-market",
   "metadata": {},
   "outputs": [
    {
     "name": "stdout",
     "output_type": "stream",
     "text": [
      "0.20784609690826528\n"
     ]
    }
   ],
   "source": [
    "## y si quiero el desvío estándar:\n",
    "FactorsVol = np.sqrt(FactorsVar)    ## Volatility due to factors\n",
    "print(FactorsVol)"
   ]
  },
  {
   "cell_type": "code",
   "execution_count": 38,
   "id": "described-excess",
   "metadata": {},
   "outputs": [
    {
     "name": "stdout",
     "output_type": "stream",
     "text": [
      "0.13892443989449804\n"
     ]
    }
   ],
   "source": [
    "## Si varianza total = var sistemática + var específica, \n",
    "## descomponemos la varianza total del 25% ** 2 = 0.0625(Portfol_vol **2)\n",
    "## como:\n",
    "## 0.0625=0.0432 + 0.0193. Por lo tanto la volatilidad específica del activo es raíz(0.019) = 13.89%\n",
    "\n",
    "SpecR = np.sqrt(Portf_Vol**2 - FactorsVar)    ## Specific risk\n",
    "print(SpecR)\n",
    "\n",
    "\n",
    "## En resumen, la volatilidad de la acción del 25% se puede descomponer en dos, 20,78% debido a los factores\n",
    "## de riesgo y 13,89% de volatilidad idiosincrásica (riesgo específico)"
   ]
  },
  {
   "cell_type": "code",
   "execution_count": 39,
   "id": "productive-collector",
   "metadata": {},
   "outputs": [
    {
     "name": "stdout",
     "output_type": "stream",
     "text": [
      "0.1747185236315829\n"
     ]
    }
   ],
   "source": [
    "## que pasa si en vez de 1 activo tenemos varios?\n",
    "## el codigo es muy parecido al anterior:\n",
    "\n",
    "# Inputs\n",
    "## defino los weights de los activos y los betas de cada uno para los dos factores:\n",
    "weights123 = np.array([-0.25, 0.75, 0.5])\n",
    "Beta1_123 = np.array([0.2, 0.9, 1.3])\n",
    "Beta2_123 = np.array([1.2, 0.2, 0.7])\n",
    "RiskFactor1_vol = 0.15\n",
    "RiskFactor2_vol = 0.2\n",
    "RiskF_Corr= -0.5\n",
    "\n",
    "# Net Betas\n",
    "## multiplica los betas por los pesos\n",
    "Factor1 = np.dot(Beta1_123, weights123.transpose())\n",
    "Factor2 = np.dot(Beta2_123, weights123.transpose())\n",
    "\n",
    "## y genera un array con ambos factores\n",
    "Factors = np.array([Factor1, Factor2])\n",
    "\n",
    "## matriz de var y cov:\n",
    "# Covariance Matrix\n",
    "CovM = [[RiskFactor1_vol**2, RiskFactor1_vol*RiskFactor2_vol*RiskF_Corr],[RiskFactor1_vol*RiskFactor2_vol*RiskF_Corr, RiskFactor2_vol**2]]\n",
    "\n",
    "\n",
    "# Outputs\n",
    "Result = np.dot(np.dot(CovM , Factors.transpose()),Factors)\n",
    "\n",
    "SystematicRisk = np.sqrt(Result)\n",
    "print(SystematicRisk)"
   ]
  },
  {
   "cell_type": "code",
   "execution_count": 40,
   "id": "prospective-district",
   "metadata": {},
   "outputs": [
    {
     "name": "stdout",
     "output_type": "stream",
     "text": [
      "[[0.2  0.   0.   0.   0.  ]\n",
      " [0.   0.22 0.   0.   0.  ]\n",
      " [0.   0.   0.25 0.   0.  ]\n",
      " [0.   0.   0.   0.1  0.  ]\n",
      " [0.   0.   0.   0.   0.12]]\n"
     ]
    }
   ],
   "source": [
    "# Modelos multifactoriales con tenencias internacionales:\n",
    "# Ejemplo descomposición de Riesgo Sistemático en factores de Acciones y FX\n",
    "\n",
    "## define a manopla la data de input\n",
    "## este es el ejercicio de la pagina 82 de \"PARTE 2\"\n",
    "\n",
    "# Holding\n",
    "P_FTSE100 = 2.5\n",
    "P_SP500 = 1\n",
    "P_Dax30 = 1.5\n",
    "P_USDGBP = 1\n",
    "P_EURGBP = 1.5\n",
    "TOTAL_POSI = P_FTSE100 + P_SP500 + P_Dax30\n",
    "\n",
    "B_FTSE100 = 1.5\n",
    "B_SP500 = 1.2\n",
    "B_Dax30 = 0.8\n",
    "B_USDGBP = 1\n",
    "B_EURGBP = 1\n",
    "\n",
    "Vol_FTSE100 = 0.2\n",
    "Vol_SP500 = 0.22\n",
    "Vol_Dax30 = 0.25\n",
    "Vol_USDGBP = 0.1\n",
    "Vol_EURGBP = 0.12\n",
    "\n",
    "Volatilities = np.array([0.2, 0.22, 0.25, 0.1, 0.12])\n",
    "Vol_MTRX = np.diag(Volatilities)\n",
    "print (Vol_MTRX)"
   ]
  },
  {
   "cell_type": "code",
   "execution_count": 41,
   "id": "thick-advancement",
   "metadata": {},
   "outputs": [
    {
     "name": "stdout",
     "output_type": "stream",
     "text": [
      "[[ 0.04     0.0352   0.035    0.004    0.0072 ]\n",
      " [ 0.0352   0.0484   0.033   -0.0055   0.00132]\n",
      " [ 0.035    0.033    0.0625   0.00125 -0.0045 ]\n",
      " [ 0.004   -0.0055   0.00125  0.01     0.0072 ]\n",
      " [ 0.0072   0.00132 -0.0045   0.0072   0.0144 ]]\n"
     ]
    }
   ],
   "source": [
    "## define a mano una matriz de correlacion\n",
    "\n",
    "Correlations = [1, 0.8, 1, 0.7, 0.6, 1, 0.2, -0.25, 0.05, 1, 0.3, 0.05, -0.15, 0.6, 1]\n",
    "Corr_MTRX = [\n",
    "    [1.0, 0.8, 0.7, 0.2, 0.3],\n",
    "    [0.8, 1.0, 0.6, -0.25, 0.05],\n",
    "    [0.7, 0.6, 1.0, 0.05, -0.15],\n",
    "    [0.2, -0.25, 0.05, 1.0, 0.6],\n",
    "    [0.3, 0.05, -0.15, 0.6, 1.0]]\n",
    "\n",
    "## hace producto de matriz de correlacion con las volatilidades que definió arriba\n",
    "## obtiene acá la matriz de la pagina 84:\n",
    "# Covariance\n",
    "COV_MTRX = np.dot(np.dot(Vol_MTRX, Corr_MTRX),Vol_MTRX)\n",
    "print(COV_MTRX)"
   ]
  },
  {
   "cell_type": "code",
   "execution_count": 42,
   "id": "classical-anniversary",
   "metadata": {},
   "outputs": [
    {
     "name": "stdout",
     "output_type": "stream",
     "text": [
      "[0.75 0.24 0.24 0.2  0.3 ]\n",
      "0.06409552\n"
     ]
    }
   ],
   "source": [
    "## calcula los weights del ftse100, sp500 y dax30 (divide contra el total de la posición)\n",
    "w = np.array([P_FTSE100 / TOTAL_POSI, P_SP500 / TOTAL_POSI, P_Dax30 / TOTAL_POSI])\n",
    "\n",
    "## ahora va a calcular la varianza systematica (p.84)\n",
    "\n",
    "## define la matriz de betas\n",
    "Beta_MTRX = [\n",
    "    [1.5, 0, 0],\n",
    "    [0, 1.2, 0],\n",
    "    [0, 0, 0.8],\n",
    "    [0, 1.0, 0],\n",
    "    [0, 0, 1.0]]\n",
    "\n",
    "## y hace el producto con los weights \n",
    "## esto lo va a usar en un ratito para valcular la varianza sistematica\n",
    "Bw = np.dot(Beta_MTRX,w.transpose())\n",
    "print(Bw)\n",
    "\n",
    "## y con esto ya tiene para calcular varianza sistemática\n",
    "## como en la primera ecuacion de la página 84 (abajo a derecha)\n",
    "Systematic_Variance = np.dot(np.dot(COV_MTRX, Bw.transpose()),Bw)\n",
    "print(Systematic_Variance)"
   ]
  },
  {
   "cell_type": "code",
   "execution_count": 43,
   "id": "behavioral-airplane",
   "metadata": {},
   "outputs": [
    {
     "name": "stdout",
     "output_type": "stream",
     "text": [
      "0.25317093040078675\n"
     ]
    }
   ],
   "source": [
    "## le saca la raiz para tener el desvío:\n",
    "Systematic_Risk = Systematic_Variance**0.5\n",
    "print(Systematic_Risk)"
   ]
  },
  {
   "cell_type": "code",
   "execution_count": 44,
   "id": "casual-science",
   "metadata": {},
   "outputs": [
    {
     "name": "stdout",
     "output_type": "stream",
     "text": [
      "[[0.01   0.0072]\n",
      " [0.0072 0.0144]]\n"
     ]
    }
   ],
   "source": [
    "## riesgo de fx: \n",
    "print(COV_MTRX[3:5,3:5])"
   ]
  },
  {
   "cell_type": "code",
   "execution_count": 45,
   "id": "standing-platform",
   "metadata": {},
   "outputs": [
    {
     "name": "stdout",
     "output_type": "stream",
     "text": [
      "[0.75 0.24 0.24]\n"
     ]
    }
   ],
   "source": [
    "## vector de betas\n",
    "print(Bw[0:3])"
   ]
  },
  {
   "cell_type": "code",
   "execution_count": 46,
   "id": "least-battery",
   "metadata": {},
   "outputs": [
    {
     "name": "stdout",
     "output_type": "stream",
     "text": [
      "[0.2 0.3]\n"
     ]
    }
   ],
   "source": [
    "## vector de weights\n",
    "print(w[1:3])"
   ]
  },
  {
   "cell_type": "code",
   "execution_count": 47,
   "id": "extraordinary-brush",
   "metadata": {},
   "outputs": [
    {
     "name": "stdout",
     "output_type": "stream",
     "text": [
      "0.24075182242300888\n"
     ]
    }
   ],
   "source": [
    "## y acá calcula el riesgo de equity:\n",
    "## (Equity variance, la segunda ecuacion de p.84)\n",
    "Equity_Variance = np.dot(np.dot(COV_MTRX[0:3,0:3], Bw[0:3].transpose()),Bw[0:3])\n",
    "Equity_Risk = Equity_Variance**0.5\n",
    "print(Equity_Risk)"
   ]
  },
  {
   "cell_type": "code",
   "execution_count": 48,
   "id": "considered-maine",
   "metadata": {},
   "outputs": [
    {
     "name": "stdout",
     "output_type": "stream",
     "text": [
      "0.05059644256269407\n"
     ]
    }
   ],
   "source": [
    "## fx variance, esta es la 3ra ecuacion de p.84\n",
    "FX_Variance = np.dot(np.dot(COV_MTRX[3:5,3:5], w[1:3].transpose()),w[1:3])\n",
    "FX_Risk = FX_Variance**0.5\n",
    "print(FX_Risk)\n",
    "\n",
    "\n",
    "## define esto en 0 (¿?)\n",
    "Quanto_Covariance = 0\n",
    "Quanto_Risk = 0"
   ]
  },
  {
   "cell_type": "code",
   "execution_count": 49,
   "id": "falling-symposium",
   "metadata": {},
   "outputs": [
    {
     "name": "stdout",
     "output_type": "stream",
     "text": [
      "['Hoja1', 'Hoja2', 'Hoja3', 'Hoja4']\n"
     ]
    }
   ],
   "source": [
    "###################\n",
    "# Caso de estudio #\n",
    "###################\n",
    "\n",
    "### va a reproducir el gráfico de p.85\n",
    "\n",
    "## acá levanta al data:\n",
    "# Assign spreadsheet filename to `file`\n",
    "file = 'Example_1.xlsx'\n",
    "# Load spreadsheet\n",
    "xl = pd.ExcelFile(file)\n",
    "# Print the sheet names\n",
    "print(xl.sheet_names)\n",
    "# Load a sheet into a DataFrame by name: df1\n",
    "df1 = xl.parse('Hoja4')"
   ]
  },
  {
   "cell_type": "code",
   "execution_count": 52,
   "id": "advanced-companion",
   "metadata": {},
   "outputs": [],
   "source": [
    "# rebase\n",
    "\n",
    "## droplea la columna Date\n",
    "df1_aux = df1.drop(df1.columns[[0]], axis=1, inplace=False)\n",
    "\n",
    "## multiplica todos los valores por 100 \n",
    "## Y divide todos los valores de cada columna por el primer valor de esa columna.\n",
    "## entonces te dice, para cada valor, que % representa respecto del primer valor.\n",
    "perf_rb = df1_aux * 100 / (df1_aux['Vodafone'][0], df1_aux['Nokia'][0], df1_aux['NYSE Index'][0], df1_aux['Communications'][0], df1_aux['Growth'][0], df1_aux['Large Cap'][0])"
   ]
  },
  {
   "cell_type": "code",
   "execution_count": 53,
   "id": "circular-repository",
   "metadata": {},
   "outputs": [
    {
     "data": {
      "text/plain": [
       "<matplotlib.legend.Legend at 0x7f668a2ffee0>"
      ]
     },
     "execution_count": 53,
     "metadata": {},
     "output_type": "execute_result"
    },
    {
     "data": {
      "image/png": "[encoded data removed]",
      "text/plain": [
       "<Figure size 432x288 with 2 Axes>"
      ]
     },
     "metadata": {
      "needs_background": "light"
     },
     "output_type": "display_data"
    }
   ],
   "source": [
    "## y plotea los valores de recién. Lo que vemos es como cambian los valores respecto al primer valor.\n",
    "## El priemr valor es el 100% y de ahí se va moviendo\n",
    "\n",
    "## PLOT     #https://matplotlib.org/3.1.0/gallery/color/named_colors.html\n",
    "fig, ax = plt.subplots()\n",
    "ax.plot(df1['Date'], perf_rb['Vodafone'], label=\"Vodafone\", color=\"deepskyblue\", lw=1)\n",
    "ax.plot(df1['Date'], perf_rb['Nokia'], label=\"Nokia\", color=\"lightskyblue\", lw=1)\n",
    "ax.plot(df1['Date'], perf_rb['NYSE Index'], label=\"NYSE Index\", color=\"black\", lw=1)\n",
    "ax.plot(df1['Date'], perf_rb['Communications'], label=\"Communications\", color=\"green\", lw=1)\n",
    "ax.plot(df1['Date'], perf_rb['Growth'], label=\"Growth\", color=\"lightseagreen\", lw=1)\n",
    "ax.plot(df1['Date'], perf_rb['Large Cap'], label=\"Large Cap\", color=\"limegreen\", lw=1)\n",
    "\n",
    "# twin object for two different y-axis on the sample plot\n",
    "ax2 = ax.twinx()\n",
    "#ax2.plot(df1['Date'], EWMA_BETA, label=\"EWMA_Beta\", color='orangered', lw=1)\n",
    "#ax2.plot(df1['Date'], OLS_B, label=\"OLS_Beta\", color='black', lw=1)\n",
    "\n",
    "ax.set_xlabel(\"Date\")\n",
    "ax.set_ylabel(r\"Base 100\")\n",
    "#plt.legend(loc='lower left', mode=\"expand\")\n",
    "fig.legend(loc='upper center', mode=\"expand\",  ncol=3)\n"
   ]
  },
  {
   "cell_type": "code",
   "execution_count": 54,
   "id": "female-methodology",
   "metadata": {},
   "outputs": [
    {
     "name": "stdout",
     "output_type": "stream",
     "text": [
      "42.53180198061199%\n"
     ]
    }
   ],
   "source": [
    "##########\n",
    "# PART A #\n",
    "##########\n",
    "\n",
    "# log return\n",
    "## calcula los retornos log: toma el diff (diferencia respecto al valor anterior)\n",
    "## y calcula el logaritmo.\n",
    "## eso lo pasa a array y dropea los nans.\n",
    "## Esto lo hace para vodafone y para nokia\n",
    "Vodafone_ret = np.log(df1['Vodafone']).diff()\n",
    "Vodafone_ret = np.array(Vodafone_ret.dropna())\n",
    "Nokia_ret = np.log(df1['Nokia']).diff()\n",
    "Nokia_ret = np.array(Nokia_ret.dropna())\n",
    "\n",
    "# Weights\n",
    "## define un peso de 1 para vodafone y de 3 para nokia\n",
    "Vodafone_P = 1\n",
    "Nokia_P = 3\n",
    "## y lo divide por la suma para que sean pesos posta (o sea, que sumen 1)\n",
    "w_Vodafone = Vodafone_P / (Vodafone_P + Nokia_P)\n",
    "w_Nokia = 1- w_Vodafone\n",
    "\n",
    "## define el retorno del portfolio (pesos x retornos)\n",
    "Portfolio_ret = Vodafone_ret * w_Vodafone + Nokia_ret * w_Nokia\n",
    "\n",
    "## y el desvío del portfolio\n",
    "Portf_StDev = np.std(Portfolio_ret)\n",
    "## anual:\n",
    "Portf_Volatility = np.sqrt(250)*Portf_StDev\n",
    "print(str(Portf_Volatility*100)+'%')\n"
   ]
  },
  {
   "cell_type": "code",
   "execution_count": 55,
   "id": "meaningful-adventure",
   "metadata": {},
   "outputs": [],
   "source": [
    "##########\n",
    "# PART B #\n",
    "##########\n",
    "\n",
    "## define log returns para vodafone, nokia y NYSE\n",
    "## tmb tiene communications, growth y LCap que son factores\n",
    "## creo que comos los que vimos con Siri\n",
    "# log return\n",
    "Vodafone_ret = np.log(df1['Vodafone']).diff()\n",
    "Vodafone_ret = np.array(Vodafone_ret.dropna())\n",
    "Nokia_ret = np.log(df1['Nokia']).diff()\n",
    "Nokia_ret = np.array(Nokia_ret.dropna())\n",
    "NYSE_ret = np.log(df1['NYSE Index']).diff()\n",
    "NYSE_ret = np.array(NYSE_ret.dropna())\n",
    "Comm_ret = np.log(df1['Communications']).diff()\n",
    "Comm_ret = np.array(Comm_ret.dropna())\n",
    "Growth_ret = np.log(df1['Growth']).diff()\n",
    "Growth_ret = np.array(Growth_ret.dropna())\n",
    "LCap_ret = np.log(df1['Large Cap']).diff()\n",
    "LCap_ret = np.array(LCap_ret.dropna())"
   ]
  },
  {
   "cell_type": "code",
   "execution_count": 56,
   "id": "national-indication",
   "metadata": {},
   "outputs": [],
   "source": [
    "##  concatenamos los factores (NYSE que es mercado, communications, growth y LCap que supongo es large cap)\n",
    "# Nokia 4 factors\n",
    "Four_Factors = np.vstack((NYSE_ret, Comm_ret, Growth_ret, LCap_ret)).T\n",
    "\n",
    "## agregamos columna de 1 para intercept\n",
    "X = sm.add_constant(Four_Factors)"
   ]
  },
  {
   "cell_type": "code",
   "execution_count": 57,
   "id": "tough-reducing",
   "metadata": {},
   "outputs": [
    {
     "name": "stdout",
     "output_type": "stream",
     "text": [
      "                            OLS Regression Results                            \n",
      "==============================================================================\n",
      "Dep. Variable:                      y   R-squared:                       0.461\n",
      "Model:                            OLS   Adj. R-squared:                  0.459\n",
      "Method:                 Least Squares   F-statistic:                     283.3\n",
      "Date:                Sun, 11 Jul 2021   Prob (F-statistic):          4.32e-176\n",
      "Time:                        02:25:22   Log-Likelihood:                 3143.4\n",
      "No. Observations:                1331   AIC:                            -6277.\n",
      "Df Residuals:                    1326   BIC:                            -6251.\n",
      "Df Model:                           4                                         \n",
      "Covariance Type:            nonrobust                                         \n",
      "==============================================================================\n",
      "                 coef    std err          t      P>|t|      [0.025      0.975]\n",
      "------------------------------------------------------------------------------\n",
      "Const      -7.398e-05      0.001     -0.118      0.906      -0.001       0.001\n",
      "NYSE_ret      -0.2674      0.173     -1.545      0.123      -0.607       0.072\n",
      "Comm_ret       0.2705      0.061      4.471      0.000       0.152       0.389\n",
      "Growth_ret     0.2003      0.140      1.432      0.152      -0.074       0.475\n",
      "LCap_ret       1.1461      0.159      7.193      0.000       0.833       1.459\n",
      "==============================================================================\n",
      "Omnibus:                      400.108   Durbin-Watson:                   1.944\n",
      "Prob(Omnibus):                  0.000   Jarque-Bera (JB):            21522.977\n",
      "Skew:                          -0.559   Prob(JB):                         0.00\n",
      "Kurtosis:                      22.668   Cond. No.                         359.\n",
      "==============================================================================\n",
      "\n",
      "Notes:\n",
      "[1] Standard Errors assume that the covariance matrix of the errors is correctly specified.\n"
     ]
    }
   ],
   "source": [
    "## regresamos los retornos de Nokia (ojo que acá regresamos retornos, con siri regresabamos exceso)\n",
    "Nokia_results = sm.OLS(Nokia_ret, X).fit()\n",
    "print(Nokia_results.summary(xname=['Const', 'NYSE_ret', 'Comm_ret', 'Growth_ret', 'LCap_ret']))"
   ]
  },
  {
   "cell_type": "code",
   "execution_count": 58,
   "id": "suspended-setting",
   "metadata": {},
   "outputs": [
    {
     "name": "stdout",
     "output_type": "stream",
     "text": [
      "0.46080267049502266 0.6788244769415895\n"
     ]
    }
   ],
   "source": [
    "## printeamos el R cuadrado (no el ajustado) y la correlación\n",
    "print(Nokia_results.rsquared, Nokia_results.rsquared**0.5)\n",
    "# R2 squared (or) Multiple R. is the correlation coefficient. It tells you how strong the linear relationship is."
   ]
  },
  {
   "cell_type": "code",
   "execution_count": 59,
   "id": "sacred-lemon",
   "metadata": {},
   "outputs": [
    {
     "name": "stdout",
     "output_type": "stream",
     "text": [
      "Const: -7.397826103185176e-05\n",
      "NYSE_ret: -0.26743828722303936\n",
      "Comm_ret: 0.27053274389164206\n",
      "Growth_ret: 0.2003417756431091\n",
      "LCap_ret: 1.146053374446805\n"
     ]
    }
   ],
   "source": [
    "## y aca printeamos los parámetros (también los podríamos ver de arriba, del summary)\n",
    "# Params\n",
    "Nokia_Betas = Nokia_results.params\n",
    "print('Const: ' + str(Nokia_Betas[0,].astype(decimal.Decimal)) +\n",
    "      '\\n' + 'NYSE_ret: ' + str(Nokia_Betas[1,].astype(decimal.Decimal)) +\n",
    "      '\\n' + 'Comm_ret: ' + str(Nokia_Betas[2,].astype(decimal.Decimal)) +\n",
    "      '\\n' + 'Growth_ret: ' + str(Nokia_Betas[3,].astype(decimal.Decimal)) +\n",
    "      '\\n' + 'LCap_ret: ' + str(Nokia_Betas[4,].astype(decimal.Decimal)))"
   ]
  },
  {
   "cell_type": "code",
   "execution_count": 60,
   "id": "unknown-practice",
   "metadata": {},
   "outputs": [
    {
     "name": "stdout",
     "output_type": "stream",
     "text": [
      "                            OLS Regression Results                            \n",
      "==============================================================================\n",
      "Dep. Variable:                      y   R-squared:                       0.347\n",
      "Model:                            OLS   Adj. R-squared:                  0.345\n",
      "Method:                 Least Squares   F-statistic:                     175.8\n",
      "Date:                Sun, 11 Jul 2021   Prob (F-statistic):          7.33e-121\n",
      "Time:                        02:25:23   Log-Likelihood:                 3362.9\n",
      "No. Observations:                1331   AIC:                            -6716.\n",
      "Df Residuals:                    1326   BIC:                            -6690.\n",
      "Df Model:                           4                                         \n",
      "Covariance Type:            nonrobust                                         \n",
      "==============================================================================\n",
      "                 coef    std err          t      P>|t|      [0.025      0.975]\n",
      "------------------------------------------------------------------------------\n",
      "Const         -0.0002      0.001     -0.467      0.640      -0.001       0.001\n",
      "NYSE_ret       0.8566      0.147      5.835      0.000       0.569       1.145\n",
      "Comm_ret       0.1373      0.051      2.676      0.008       0.037       0.238\n",
      "Growth_ret     0.2236      0.119      1.885      0.060      -0.009       0.456\n",
      "LCap_ret       0.0092      0.135      0.068      0.946      -0.256       0.274\n",
      "==============================================================================\n",
      "Omnibus:                      145.543   Durbin-Watson:                   2.045\n",
      "Prob(Omnibus):                  0.000   Jarque-Bera (JB):             1163.199\n",
      "Skew:                           0.100   Prob(JB):                    2.60e-253\n",
      "Kurtosis:                       7.575   Cond. No.                         359.\n",
      "==============================================================================\n",
      "\n",
      "Notes:\n",
      "[1] Standard Errors assume that the covariance matrix of the errors is correctly specified.\n"
     ]
    }
   ],
   "source": [
    "## Ahora repite para vodafone!\n",
    "# Vodafone 4 factors\n",
    "Four_Factors = np.vstack((NYSE_ret, Comm_ret, Growth_ret, LCap_ret)).T\n",
    "\n",
    "X = sm.add_constant(Four_Factors)\n",
    "\n",
    "Vodafone_results = sm.OLS(Vodafone_ret, X).fit()\n",
    "print(Vodafone_results.summary(xname=['Const', 'NYSE_ret', 'Comm_ret', 'Growth_ret', 'LCap_ret']))"
   ]
  },
  {
   "cell_type": "code",
   "execution_count": 61,
   "id": "silver-celebrity",
   "metadata": {},
   "outputs": [
    {
     "name": "stdout",
     "output_type": "stream",
     "text": [
      "0.34651380654739594 0.5886542334404773\n"
     ]
    }
   ],
   "source": [
    "## R y R cuadrado para vodafone\n",
    "print(Vodafone_results.rsquared, Vodafone_results.rsquared**0.5)\n",
    "\n"
   ]
  },
  {
   "cell_type": "code",
   "execution_count": 62,
   "id": "initial-choir",
   "metadata": {},
   "outputs": [
    {
     "name": "stdout",
     "output_type": "stream",
     "text": [
      "Const: -0.0002487205857213451\n",
      "NYSE_ret: 0.8565539150929808\n",
      "Comm_ret: 0.13729806704753275\n",
      "Growth_ret: 0.22360462074617765\n",
      "LCap_ret: 0.009236109287933947\n"
     ]
    }
   ],
   "source": [
    "## parametros para vodafone\n",
    "# Params\n",
    "Vodafone_Betas = Vodafone_results.params\n",
    "print('Const: ' + str(Vodafone_Betas[0,].astype(decimal.Decimal)) +\n",
    "      '\\n' + 'NYSE_ret: ' + str(Vodafone_Betas[1,].astype(decimal.Decimal)) +\n",
    "      '\\n' + 'Comm_ret: ' + str(Vodafone_Betas[2,].astype(decimal.Decimal)) +\n",
    "      '\\n' + 'Growth_ret: ' + str(Vodafone_Betas[3,].astype(decimal.Decimal)) +\n",
    "      '\\n' + 'LCap_ret: ' + str(Vodafone_Betas[4,].astype(decimal.Decimal)))\n"
   ]
  },
  {
   "cell_type": "code",
   "execution_count": 63,
   "id": "better-spouse",
   "metadata": {},
   "outputs": [],
   "source": [
    "###################\n",
    "# Portfolio_Betas #\n",
    "###################\n",
    "\n",
    "## junta los betas de nokia y vodafone\n",
    "## en Nokia_Vodafone_Betas tiene 2 columnas (una para nokia y uno para vodafone)\n",
    "## y una fila para cada factor de riesgo \n",
    "Nokia_Vodafone_Betas = np.vstack((Nokia_Betas[1:,], Vodafone_Betas[1:,])).T\n",
    "\n",
    "## concatena los weights\n",
    "weights = np.vstack((w_Nokia, w_Vodafone))\n",
    "\n",
    "## hace el producto de los betas por los pesos\n",
    "Portfolio_Betas = np.dot(Nokia_Vodafone_Betas, weights)"
   ]
  },
  {
   "cell_type": "code",
   "execution_count": 64,
   "id": "moral-trout",
   "metadata": {},
   "outputs": [
    {
     "name": "stdout",
     "output_type": "stream",
     "text": [
      "[[0.30322629]]\n"
     ]
    }
   ],
   "source": [
    "from sklearn.covariance import EmpiricalCovariance\n",
    "\n",
    "\n",
    "## EmpiricalCovariance es el estimador de maxima verosimilitud de la matriz de covarianza\n",
    "## lo usa para calcular la matriz de covarianza de la matriz de factores\n",
    "cov = EmpiricalCovariance().fit(Four_Factors)\n",
    "Risk_Factor_Cov_Matrix = cov.covariance_\n",
    "\n",
    "## para calcular le riesgo sistemático hace: Betas_traspuesto * cov * Betas\n",
    "## (Ver página 89, en la diapo la matriz de cov es omega)\n",
    "Systematic_Risk_Variance = np.dot(Portfolio_Betas.transpose(),np.dot(Risk_Factor_Cov_Matrix, Portfolio_Betas))\n",
    "## como es anual lo multiplica por 250 y le saca la raiz a todo\n",
    "Systematic_Risk_Volatility = (Systematic_Risk_Variance*250)**0.5\n",
    "\n",
    "## entonces, el riesgo sistemático es de:\n",
    "print(Systematic_Risk_Volatility)"
   ]
  },
  {
   "cell_type": "code",
   "execution_count": 65,
   "id": "plastic-syndrome",
   "metadata": {},
   "outputs": [
    {
     "name": "stdout",
     "output_type": "stream",
     "text": [
      "[0.90247054 0.07435621 0.0160072  0.00716605]\n",
      "[1.13961836 0.32711583 0.15177511 0.10155066]\n"
     ]
    }
   ],
   "source": [
    "## y ahora va a clacular el riesgo sistematico por PCA:\n",
    "# PCA\n",
    "## va a pedirle 4 componentes\n",
    "pca = PCA(n_components=4)\n",
    "## y ajusta el pca\n",
    "pca.fit(Four_Factors)\n",
    "print(pca.explained_variance_ratio_) ## ratio de varianza explicada por cada componente\n",
    "## fijate que le primer componente te explica + del 90% de variabilidad\n",
    "print(pca.singular_values_) ## los valores singulares"
   ]
  },
  {
   "cell_type": "code",
   "execution_count": 66,
   "id": "positive-thumb",
   "metadata": {},
   "outputs": [
    {
     "name": "stdout",
     "output_type": "stream",
     "text": [
      "shape of X_pca (1331, 4)\n",
      "[0.90247054 0.07435621 0.0160072  0.00716605]\n",
      "suma: 0.9768267549937071\n"
     ]
    }
   ],
   "source": [
    "## transforma las variables\n",
    "X_pca = pca.transform(Four_Factors) # convertimos nuestros datos con las nuevas dimensiones de PCA\n",
    "print(\"shape of X_pca\", X_pca.shape)\n",
    "expl = pca.explained_variance_ratio_\n",
    "print(expl) ## variabilidad explicada por cada componente (%)\n",
    "print('suma:',sum(expl[0:2]))\n",
    "#Vemos que con 2 componentes tenemos algo mas del 97% de varianza explicada\n"
   ]
  },
  {
   "cell_type": "code",
   "execution_count": 67,
   "id": "labeled-official",
   "metadata": {},
   "outputs": [
    {
     "data": {
      "text/plain": [
       "Text(0, 0.5, 'cumulative explained variance')"
      ]
     },
     "execution_count": 67,
     "metadata": {},
     "output_type": "execute_result"
    },
    {
     "data": {
      "image/png": "[encoded data removed]",
      "text/plain": [
       "<Figure size 432x288 with 1 Axes>"
      ]
     },
     "metadata": {
      "needs_background": "light"
     },
     "output_type": "display_data"
    }
   ],
   "source": [
    "# graficamos el acumulado de varianza explicada en las nuevas dimensiones\n",
    "plt.plot(np.cumsum(pca.explained_variance_ratio_))\n",
    "plt.xlabel('number of components')\n",
    "plt.ylabel('cumulative explained variance')\n"
   ]
  },
  {
   "cell_type": "code",
   "execution_count": 68,
   "id": "weird-housing",
   "metadata": {},
   "outputs": [],
   "source": [
    "## Ojo que está tomando todos los componentes, acá no baja la dimensionalidad ni se pierde información\n",
    "## la ventaja de lo que se está haciendo acá es obtener un nuevo juego de variables que sean ortogonales entre sí\n",
    "## o sea, descorrelacionaste todo."
   ]
  },
  {
   "cell_type": "code",
   "execution_count": 69,
   "id": "complete-sentence",
   "metadata": {},
   "outputs": [
    {
     "name": "stdout",
     "output_type": "stream",
     "text": [
      "                            OLS Regression Results                            \n",
      "==============================================================================\n",
      "Dep. Variable:                      y   R-squared:                       0.461\n",
      "Model:                            OLS   Adj. R-squared:                  0.459\n",
      "Method:                 Least Squares   F-statistic:                     283.3\n",
      "Date:                Sun, 11 Jul 2021   Prob (F-statistic):          4.32e-176\n",
      "Time:                        02:25:23   Log-Likelihood:                 3143.4\n",
      "No. Observations:                1331   AIC:                            -6277.\n",
      "Df Residuals:                    1326   BIC:                            -6251.\n",
      "Df Model:                           4                                         \n",
      "Covariance Type:            nonrobust                                         \n",
      "==============================================================================\n",
      "                 coef    std err          t      P>|t|      [0.025      0.975]\n",
      "------------------------------------------------------------------------------\n",
      "Const         -0.0004      0.001     -0.644      0.520      -0.002       0.001\n",
      "PC1            0.6626      0.020     33.045      0.000       0.623       0.702\n",
      "PC2            0.2942      0.070      4.211      0.000       0.157       0.431\n",
      "PC3           -0.4194      0.151     -2.786      0.005      -0.715      -0.124\n",
      "PC4            0.8926      0.225      3.967      0.000       0.451       1.334\n",
      "==============================================================================\n",
      "Omnibus:                      400.108   Durbin-Watson:                   1.944\n",
      "Prob(Omnibus):                  0.000   Jarque-Bera (JB):            21522.977\n",
      "Skew:                          -0.559   Prob(JB):                         0.00\n",
      "Kurtosis:                      22.668   Cond. No.                         359.\n",
      "==============================================================================\n",
      "\n",
      "Notes:\n",
      "[1] Standard Errors assume that the covariance matrix of the errors is correctly specified.\n"
     ]
    }
   ],
   "source": [
    "## agrega un vector de 1 a las 4 componentes\n",
    "# Regression 4 PC\n",
    "X_PCA = sm.add_constant(X_pca)\n",
    "\n",
    "# Nokia 4 factors\n",
    "## y regresa los retornos de nokia contra los 4 componentes de PCA\n",
    "Nokia_results = sm.OLS(Nokia_ret, X_PCA).fit()\n",
    "print(Nokia_results.summary(xname=['Const', 'PC1', 'PC2', 'PC3', 'PC4']))"
   ]
  },
  {
   "cell_type": "code",
   "execution_count": 70,
   "id": "another-confidence",
   "metadata": {},
   "outputs": [
    {
     "name": "stdout",
     "output_type": "stream",
     "text": [
      "0.46080267049502266 0.6788244769415895\n"
     ]
    }
   ],
   "source": [
    "## muestra el R cuadrado y el R\n",
    "print(Nokia_results.rsquared, Nokia_results.rsquared**0.5)\n",
    "# R2 squared (or) Multiple R. is the correlation coefficient. It tells you how strong the linear relationship is."
   ]
  },
  {
   "cell_type": "code",
   "execution_count": 71,
   "id": "moderate-closure",
   "metadata": {},
   "outputs": [
    {
     "name": "stdout",
     "output_type": "stream",
     "text": [
      "Const: -0.0004033623583010285\n",
      "PC1: 0.6625967216896244\n",
      "PC2: 0.2941803201385804\n",
      "PC3: -0.41944720267180424\n",
      "PC4: 0.8926219440273708\n"
     ]
    }
   ],
   "source": [
    "## y muestra los betas de cada componente\n",
    "# Params\n",
    "Nokia_Betas = Nokia_results.params\n",
    "print('Const: ' + str(Nokia_Betas[0,].astype(decimal.Decimal)) +\n",
    "      '\\n' + 'PC1: ' + str(Nokia_Betas[1,].astype(decimal.Decimal)) +\n",
    "      '\\n' + 'PC2: ' + str(Nokia_Betas[2,].astype(decimal.Decimal)) +\n",
    "      '\\n' + 'PC3: ' + str(Nokia_Betas[3,].astype(decimal.Decimal)) +\n",
    "      '\\n' + 'PC4: ' + str(Nokia_Betas[4,].astype(decimal.Decimal)))\n"
   ]
  },
  {
   "cell_type": "code",
   "execution_count": 72,
   "id": "square-texas",
   "metadata": {},
   "outputs": [
    {
     "name": "stdout",
     "output_type": "stream",
     "text": [
      "                            OLS Regression Results                            \n",
      "==============================================================================\n",
      "Dep. Variable:                      y   R-squared:                       0.347\n",
      "Model:                            OLS   Adj. R-squared:                  0.345\n",
      "Method:                 Least Squares   F-statistic:                     175.8\n",
      "Date:                Sun, 11 Jul 2021   Prob (F-statistic):          7.33e-121\n",
      "Time:                        02:25:23   Log-Likelihood:                 3362.9\n",
      "No. Observations:                1331   AIC:                            -6716.\n",
      "Df Residuals:                    1326   BIC:                            -6690.\n",
      "Df Model:                           4                                         \n",
      "Covariance Type:            nonrobust                                         \n",
      "==============================================================================\n",
      "                 coef    std err          t      P>|t|      [0.025      0.975]\n",
      "------------------------------------------------------------------------------\n",
      "Const         -0.0003      0.001     -0.514      0.608      -0.001       0.001\n",
      "PC1            0.4230      0.017     24.881      0.000       0.390       0.456\n",
      "PC2            0.5090      0.059      8.593      0.000       0.393       0.625\n",
      "PC3            0.0762      0.128      0.597      0.551      -0.174       0.327\n",
      "PC4           -0.5989      0.191     -3.139      0.002      -0.973      -0.225\n",
      "==============================================================================\n",
      "Omnibus:                      145.543   Durbin-Watson:                   2.045\n",
      "Prob(Omnibus):                  0.000   Jarque-Bera (JB):             1163.199\n",
      "Skew:                           0.100   Prob(JB):                    2.60e-253\n",
      "Kurtosis:                       7.575   Cond. No.                         359.\n",
      "==============================================================================\n",
      "\n",
      "Notes:\n",
      "[1] Standard Errors assume that the covariance matrix of the errors is correctly specified.\n",
      "0.34651380654739605 0.5886542334404774\n",
      "Const: -0.0002727569493651187\n",
      "PC1: 0.42304332064786704\n",
      "PC2: 0.5090319451401709\n",
      "PC3: 0.07623597264241287\n",
      "PC4: -0.5989395670409735\n"
     ]
    }
   ],
   "source": [
    "## ahora repite para vodafone:\n",
    "\n",
    "# Vodafone 4 factors\n",
    "Vodafone_results = sm.OLS(Vodafone_ret, X_PCA).fit()\n",
    "print(Vodafone_results.summary(xname=['Const', 'PC1', 'PC2', 'PC3', 'PC4']))\n",
    "print(Vodafone_results.rsquared, Vodafone_results.rsquared**0.5)\n",
    "# R2 squared (or) Multiple R. is the correlation coefficient. It tells you how strong the linear relationship is.\n",
    "\n",
    "# Params\n",
    "Vodafone_Betas = Vodafone_results.params\n",
    "print('Const: ' + str(Vodafone_Betas[0,].astype(decimal.Decimal)) +\n",
    "      '\\n' + 'PC1: ' + str(Vodafone_Betas[1,].astype(decimal.Decimal)) +\n",
    "      '\\n' + 'PC2: ' + str(Vodafone_Betas[2,].astype(decimal.Decimal)) +\n",
    "      '\\n' + 'PC3: ' + str(Vodafone_Betas[3,].astype(decimal.Decimal)) +\n",
    "      '\\n' + 'PC4: ' + str(Vodafone_Betas[4,].astype(decimal.Decimal)))"
   ]
  },
  {
   "cell_type": "code",
   "execution_count": 73,
   "id": "modular-billy",
   "metadata": {},
   "outputs": [
    {
     "name": "stdout",
     "output_type": "stream",
     "text": [
      "                            OLS Regression Results                            \n",
      "==============================================================================\n",
      "Dep. Variable:                      y   R-squared:                       0.451\n",
      "Model:                            OLS   Adj. R-squared:                  0.450\n",
      "Method:                 Least Squares   F-statistic:                     546.0\n",
      "Date:                Sun, 11 Jul 2021   Prob (F-statistic):          8.83e-174\n",
      "Time:                        02:25:23   Log-Likelihood:                 3131.7\n",
      "No. Observations:                1331   AIC:                            -6257.\n",
      "Df Residuals:                    1328   BIC:                            -6242.\n",
      "Df Model:                           2                                         \n",
      "Covariance Type:            nonrobust                                         \n",
      "==============================================================================\n",
      "                 coef    std err          t      P>|t|      [0.025      0.975]\n",
      "------------------------------------------------------------------------------\n",
      "Const         -0.0004      0.001     -0.639      0.523      -0.002       0.001\n",
      "PC1            0.6626      0.020     32.781      0.000       0.623       0.702\n",
      "PC2            0.2942      0.070      4.178      0.000       0.156       0.432\n",
      "==============================================================================\n",
      "Omnibus:                      433.983   Durbin-Watson:                   1.936\n",
      "Prob(Omnibus):                  0.000   Jarque-Bera (JB):            22394.287\n",
      "Skew:                          -0.710   Prob(JB):                         0.00\n",
      "Kurtosis:                      23.045   Cond. No.                         112.\n",
      "==============================================================================\n",
      "\n",
      "Notes:\n",
      "[1] Standard Errors assume that the covariance matrix of the errors is correctly specified.\n"
     ]
    }
   ],
   "source": [
    "## Ahora lo que va a hacer es repetir el análisis pero solo con dos factores en vez de los 4\n",
    "## va a tomar los primeros 2 (97% variabilidad explicada!)\n",
    "# Regression 2 PC\n",
    "# Nokia 2 factors\n",
    "## regresa retornos de nokia contra esos 2 factores\n",
    "Nokia_results = sm.OLS(Nokia_ret, X_PCA[:,0:3]).fit()\n",
    "print(Nokia_results.summary(xname=['Const', 'PC1', 'PC2']))"
   ]
  },
  {
   "cell_type": "code",
   "execution_count": 74,
   "id": "sustainable-monroe",
   "metadata": {},
   "outputs": [
    {
     "name": "stdout",
     "output_type": "stream",
     "text": [
      "0.4512476848139688 0.6717497188789653\n"
     ]
    }
   ],
   "source": [
    "## r cuadrado y r\n",
    "print(Nokia_results.rsquared, Nokia_results.rsquared**0.5)\n",
    "# R2 squared (or) Multiple R. is the correlation coefficient. It tells you how strong the linear relationship is.\n"
   ]
  },
  {
   "cell_type": "code",
   "execution_count": 75,
   "id": "twelve-victor",
   "metadata": {},
   "outputs": [
    {
     "name": "stdout",
     "output_type": "stream",
     "text": [
      "Const: -0.00040336235830102757\n",
      "PC1: 0.662596721689625\n",
      "PC2: 0.294180320138579\n"
     ]
    }
   ],
   "source": [
    "## parametros\n",
    "# Params\n",
    "Nokia_Betas = Nokia_results.params\n",
    "print('Const: ' + str(Nokia_Betas[0,].astype(decimal.Decimal)) +\n",
    "      '\\n' + 'PC1: ' + str(Nokia_Betas[1,].astype(decimal.Decimal)) +\n",
    "      '\\n' + 'PC2: ' + str(Nokia_Betas[2,].astype(decimal.Decimal)))"
   ]
  },
  {
   "cell_type": "code",
   "execution_count": 76,
   "id": "veterinary-border",
   "metadata": {},
   "outputs": [
    {
     "name": "stdout",
     "output_type": "stream",
     "text": [
      "                            OLS Regression Results                            \n",
      "==============================================================================\n",
      "Dep. Variable:                      y   R-squared:                       0.341\n",
      "Model:                            OLS   Adj. R-squared:                  0.340\n",
      "Method:                 Least Squares   F-statistic:                     344.3\n",
      "Date:                Sun, 11 Jul 2021   Prob (F-statistic):          3.38e-121\n",
      "Time:                        02:25:23   Log-Likelihood:                 3357.8\n",
      "No. Observations:                1331   AIC:                            -6710.\n",
      "Df Residuals:                    1328   BIC:                            -6694.\n",
      "Df Model:                           2                                         \n",
      "Covariance Type:            nonrobust                                         \n",
      "==============================================================================\n",
      "                 coef    std err          t      P>|t|      [0.025      0.975]\n",
      "------------------------------------------------------------------------------\n",
      "Const         -0.0003      0.001     -0.512      0.609      -0.001       0.001\n",
      "PC1            0.4230      0.017     24.804      0.000       0.390       0.457\n",
      "PC2            0.5090      0.059      8.567      0.000       0.392       0.626\n",
      "==============================================================================\n",
      "Omnibus:                      145.705   Durbin-Watson:                   2.044\n",
      "Prob(Omnibus):                  0.000   Jarque-Bera (JB):             1169.590\n",
      "Skew:                           0.097   Prob(JB):                    1.06e-254\n",
      "Kurtosis:                       7.588   Cond. No.                         112.\n",
      "==============================================================================\n",
      "\n",
      "Notes:\n",
      "[1] Standard Errors assume that the covariance matrix of the errors is correctly specified.\n"
     ]
    }
   ],
   "source": [
    "## repite lo mismo con vodafone\n",
    "# Vodafone 2 factors\n",
    "Vodafone_results = sm.OLS(Vodafone_ret, X_PCA[:,0:3]).fit()\n",
    "print(Vodafone_results.summary(xname=['Const', 'PC1', 'PC2']))"
   ]
  },
  {
   "cell_type": "code",
   "execution_count": 77,
   "id": "christian-elevation",
   "metadata": {},
   "outputs": [
    {
     "name": "stdout",
     "output_type": "stream",
     "text": [
      "0.34148218724384893 0.5843647724186057\n"
     ]
    }
   ],
   "source": [
    "## r cuadrado y r\n",
    "\n",
    "print(Vodafone_results.rsquared, Vodafone_results.rsquared**0.5)\n",
    "# R2 squared (or) Multiple R. is the correlation coefficient. It tells you how strong the linear relationship is."
   ]
  },
  {
   "cell_type": "code",
   "execution_count": 78,
   "id": "significant-murder",
   "metadata": {},
   "outputs": [
    {
     "name": "stdout",
     "output_type": "stream",
     "text": [
      "Const: -0.0002727569493651188\n",
      "PC1: 0.4230433206478674\n",
      "PC2: 0.50903194514017\n"
     ]
    }
   ],
   "source": [
    "## parametros\n",
    "# Params\n",
    "Vodafone_Betas = Vodafone_results.params\n",
    "print('Const: ' + str(Vodafone_Betas[0,].astype(decimal.Decimal)) +\n",
    "      '\\n' + 'PC1: ' + str(Vodafone_Betas[1,].astype(decimal.Decimal)) +\n",
    "      '\\n' + 'PC2: ' + str(Vodafone_Betas[2,].astype(decimal.Decimal)))"
   ]
  }
 ],
 "metadata": {
  "kernelspec": {
   "display_name": "Python 3",
   "language": "python",
   "name": "python3"
  },
  "language_info": {
   "codemirror_mode": {
    "name": "ipython",
    "version": 3
   },
   "file_extension": ".py",
   "mimetype": "text/x-python",
   "name": "python",
   "nbconvert_exporter": "python",
   "pygments_lexer": "ipython3",
   "version": "3.8.10"
  }
 },
 "nbformat": 4,
 "nbformat_minor": 5
}
