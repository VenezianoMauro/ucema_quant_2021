{
 "cells": [
  {
   "cell_type": "code",
   "execution_count": 146,
   "id": "caring-inflation",
   "metadata": {},
   "outputs": [],
   "source": [
    "import numpy as np\n",
    "import pandas as pd\n",
    "from scipy.stats import norm\n",
    "import yfinance as yf\n",
    "import matplotlib.pyplot as plt"
   ]
  },
  {
   "cell_type": "markdown",
   "id": "manual-kitty",
   "metadata": {},
   "source": [
    "#### Semivarianza y Semidesvío"
   ]
  },
  {
   "cell_type": "code",
   "execution_count": 46,
   "id": "adult-surname",
   "metadata": {},
   "outputs": [
    {
     "name": "stdout",
     "output_type": "stream",
     "text": [
      "[*********************100%***********************]  1 of 1 completed\n"
     ]
    }
   ],
   "source": [
    "## descargo data para tener\n",
    "gallega = yf.download(tickers = \"GGAL.BA\", period = \"ytd\")\n",
    "gallega = gallega[\"Adj Close\"]\n",
    "retornos = gallega.pct_change() * 100\n",
    "retornos = retornos.dropna()"
   ]
  },
  {
   "cell_type": "code",
   "execution_count": 63,
   "id": "expensive-overhead",
   "metadata": {},
   "outputs": [],
   "source": [
    "def semivarianza(retornos):\n",
    "    ## centramos retornos\n",
    "    centrados = retornos - retornos.mean()\n",
    "    \n",
    "    ## a cada valor le tomamos el min(x,0)\n",
    "    ## o lo que es lo mismo: clippeamos por arriba en 0 \n",
    "    ## (si pasa 0, lo dejamos en 0)\n",
    "    centrados = centrados.clip(upper=0)\n",
    "    ## elevamos al cuadrado\n",
    "    centrados_sq = centrados.pow(2)\n",
    "    ## sumamos y dividimos por la cantidad de filas\n",
    "    centrados_sq = centrados_sq.sum()/centrados_sq.shape[0]  \n",
    "    return centrados_sq\n",
    "\n",
    "def semidesvio(retornos):\n",
    "    return np.sqrt(semivarianza(retornos))"
   ]
  },
  {
   "cell_type": "code",
   "execution_count": 64,
   "id": "aging-alignment",
   "metadata": {},
   "outputs": [
    {
     "data": {
      "text/plain": [
       "2.6773958072154964"
      ]
     },
     "execution_count": 64,
     "metadata": {},
     "output_type": "execute_result"
    }
   ],
   "source": [
    "semivarianza(retornos)"
   ]
  },
  {
   "cell_type": "code",
   "execution_count": 65,
   "id": "catholic-criticism",
   "metadata": {},
   "outputs": [
    {
     "data": {
      "text/plain": [
       "1.6362749790959636"
      ]
     },
     "execution_count": 65,
     "metadata": {},
     "output_type": "execute_result"
    }
   ],
   "source": [
    "semidesvio(retornos)"
   ]
  },
  {
   "cell_type": "markdown",
   "id": "ready-profile",
   "metadata": {},
   "source": [
    "#### Cuantil como métrica de riesgo"
   ]
  },
  {
   "cell_type": "markdown",
   "id": "furnished-newark",
   "metadata": {},
   "source": [
    "El cuantil es el valor que te deja por detrás un p% de la distribución. Por ejemplo, el cuantil 5 te deja el 5% de la distribución por detrás. O dicho de otra manera: dado un cuantil a, p(X <  x) = a"
   ]
  },
  {
   "cell_type": "code",
   "execution_count": 143,
   "id": "furnished-state",
   "metadata": {},
   "outputs": [],
   "source": [
    "r = norm.rvs(size=10000, loc=0, scale=4)"
   ]
  },
  {
   "cell_type": "code",
   "execution_count": 163,
   "id": "rational-thriller",
   "metadata": {},
   "outputs": [
    {
     "data": {
      "text/plain": [
       "<matplotlib.collections.LineCollection at 0x7f434a63ffd0>"
      ]
     },
     "execution_count": 163,
     "metadata": {},
     "output_type": "execute_result"
    },
    {
     "data": {
      "image/png": "[encoded data removed]",
      "text/plain": [
       "<Figure size 432x288 with 1 Axes>"
      ]
     },
     "metadata": {
      "needs_background": "light"
     },
     "output_type": "display_data"
    }
   ],
   "source": [
    "x  = np.linspace(norm.ppf(0.01,loc=0, scale=4), norm.ppf(0.99, loc=0, scale=4), 100)\n",
    "plt.plot(x, norm.pdf(x, loc=0, scale=4), 'r-', lw=5, alpha=0.6, label='norm pdf')\n",
    "plt.vlines(x=-5, ymin=0, ymax=0.1, linestyle = \"--\")"
   ]
  },
  {
   "cell_type": "code",
   "execution_count": 166,
   "id": "preceding-district",
   "metadata": {},
   "outputs": [
    {
     "data": {
      "text/plain": [
       "0.10564977366685535"
      ]
     },
     "execution_count": 166,
     "metadata": {},
     "output_type": "execute_result"
    }
   ],
   "source": [
    "## si el cuantil 0.1 está en -5 ¿cual es el area que queda por detras de -5?\n",
    "## para eso usamos cdf: Cumulative distribution function.\n",
    "\n",
    "norm.cdf( -5,loc= 0., scale=4) \n",
    "\n",
    "## loc es media, scale es desvio. Acá los pongo yo a mano para que me reproduzca \n",
    "## el gráfico del profe. Pero en general es algo que no sabemos, que tenemos que estimar. "
   ]
  },
  {
   "cell_type": "markdown",
   "id": "controlling-deployment",
   "metadata": {},
   "source": [
    "Cdf te da el area dado el punto de corte. Por ejemplo, en el caso anterior  cdf(-5, loc=0, scale=4) te dice: para una normal de media 0, desvio 4, ¿cual es la proba de sacar un valor menor a -5?"
   ]
  },
  {
   "cell_type": "code",
   "execution_count": 180,
   "id": "aging-scotland",
   "metadata": {},
   "outputs": [
    {
     "data": {
      "text/plain": [
       "0.42074029056089696"
      ]
     },
     "execution_count": 180,
     "metadata": {},
     "output_type": "execute_result"
    }
   ],
   "source": [
    "## pagina 17:\n",
    "# si tenemos un retorno que se distribuye normalmente con una media de 10% y desviación\n",
    "# estándar del 25%, entonces la probabilidad de obtener un retorno menor del 5% es del 42%, porque:\n",
    "\n",
    "norm.cdf(.05, loc=.10, scale=.25) ## 42%"
   ]
  },
  {
   "cell_type": "markdown",
   "id": "critical-wayne",
   "metadata": {},
   "source": [
    "pagina 18:\n",
    "Ejemplo: probabilidad de obtener un desempeño menor al\n",
    "benchmark: Consideremos un fondo cuyos rendimientos futuros se\n",
    "distribuyen normalmente, con un rendimiento esperado durante el\n",
    "próximo año del 1% y una desviación estándar sobre este\n",
    "rendimiento activo (tracking error o error de seguimiento) del 3%.\n",
    "¿Cuál es la probabilidad de tener un rendimiento inferior al\n",
    "benchmark, por ejemplo de -2% o más durante el próximo año?"
   ]
  },
  {
   "cell_type": "code",
   "execution_count": 187,
   "id": "right-deployment",
   "metadata": {},
   "outputs": [
    {
     "data": {
      "text/plain": [
       "0.15865525393145707"
      ]
     },
     "execution_count": 187,
     "metadata": {},
     "output_type": "execute_result"
    }
   ],
   "source": [
    "norm.cdf(-0.02, loc=.01, scale=.03) "
   ]
  },
  {
   "cell_type": "markdown",
   "id": "nuclear-progress",
   "metadata": {},
   "source": [
    "¿Cuál es el VaR al 10% en un horizonte de 1 año de $ 2\n",
    "millones invertidos en un fondo cuyos retornos anuales (por encima a\n",
    "la tasa libre de riesgo) que se supone que se distribuyen\n",
    "normalmente, tienen una media del 5% y una volatilidad del 12%?"
   ]
  },
  {
   "cell_type": "code",
   "execution_count": 235,
   "id": "wound-spider",
   "metadata": {},
   "outputs": [
    {
     "data": {
      "text/plain": [
       "-0.10378618786535203"
      ]
     },
     "execution_count": 235,
     "metadata": {},
     "output_type": "execute_result"
    }
   ],
   "source": [
    "## hasta acá habíamos usado cdf. \n",
    "## podemos hacer la inversa. Percent point function (inverse of cdf — percentiles).\n",
    "## o ppf. Hasta acá, con cdf, calculabamos el área dado un punto de corte.\n",
    "## acá lo que hacemos es responder ¿cual es el punto de corte dado el área?\n",
    "## Por ejemplo, ¿cual es el valor que nos deja un var al 10%?\n",
    "\n",
    "## para una normal con media .05 y un desvio de .12, obtenemos:\n",
    "norm.ppf(0.1, loc=.05, scale=.12) "
   ]
  },
  {
   "cell_type": "markdown",
   "id": "danish-passenger",
   "metadata": {},
   "source": [
    "Por lo tanto el VaR al 10% en un horizonte de un año es 0.1038 ∗ 2 millones = 207,572. Es decir, estamos\n",
    "90% seguros de que no perderemos un monto mayor que este en el próximo año."
   ]
  },
  {
   "cell_type": "code",
   "execution_count": 236,
   "id": "friendly-nurse",
   "metadata": {},
   "outputs": [
    {
     "data": {
      "text/plain": [
       "-207572.37573070405"
      ]
     },
     "execution_count": 236,
     "metadata": {},
     "output_type": "execute_result"
    }
   ],
   "source": [
    "## para 2 millones entonces:\n",
    "plata = 2000000\n",
    "norm.ppf(0.1, loc=.05, scale=.12)  * plata"
   ]
  },
  {
   "cell_type": "markdown",
   "id": "structural-briefs",
   "metadata": {},
   "source": [
    "En las diapos el profe usa mucho multiplicar por sigma y restarle mu. Por que nosotros acá no? Porque eso es para pasar de Z a la escala original. Acá con pasarle mu a loc u sigma a scale, scipy te lo hace solo. "
   ]
  },
  {
   "cell_type": "markdown",
   "id": "least-deviation",
   "metadata": {},
   "source": [
    "Aproximamos retornos semanales con los diarios"
   ]
  },
  {
   "cell_type": "code",
   "execution_count": 237,
   "id": "inner-canal",
   "metadata": {},
   "outputs": [],
   "source": [
    "## me copio el ejemplo de la diapo (p.35)\n",
    "ej = [1211.92, 1202.08, 1188.05, 1183.74, 1187.89, 1186.19]\n",
    "ej = pd.Series(ej)"
   ]
  },
  {
   "cell_type": "code",
   "execution_count": 241,
   "id": "healthy-interpretation",
   "metadata": {},
   "outputs": [],
   "source": [
    "## calculo retornos log\n",
    "log_r = np.log(ej/ej.shift(1))"
   ]
  },
  {
   "cell_type": "code",
   "execution_count": 242,
   "id": "fundamental-forestry",
   "metadata": {},
   "outputs": [
    {
     "data": {
      "text/plain": [
       "0         NaN\n",
       "1   -0.008152\n",
       "2   -0.011740\n",
       "3   -0.003634\n",
       "4    0.003500\n",
       "5   -0.001432\n",
       "dtype: float64"
      ]
     },
     "execution_count": 242,
     "metadata": {},
     "output_type": "execute_result"
    }
   ],
   "source": [
    "log_r"
   ]
  },
  {
   "cell_type": "code",
   "execution_count": 250,
   "id": "efficient-claim",
   "metadata": {},
   "outputs": [
    {
     "data": {
      "text/plain": [
       "True"
      ]
     },
     "execution_count": 250,
     "metadata": {},
     "output_type": "execute_result"
    }
   ],
   "source": [
    "## la suma de los retornos diarios me da parecido al retorno a 5 días:\n",
    "\n",
    "## divido el ultimo (-1) por el primero (0)\n",
    "## y le calculo el logaritmo\n",
    "log_r_total = np.log(ej.iloc[-1]/ej.iloc[0])\n",
    "\n",
    "## sumo todos los retornos logaritmicos\n",
    "log_r_aprox = log_r.sum()\n",
    "\n",
    "## son parecidos?\n",
    "np.isclose(log_r_total, log_r_aprox)"
   ]
  },
  {
   "cell_type": "code",
   "execution_count": 257,
   "id": "aerial-aside",
   "metadata": {},
   "outputs": [
    {
     "name": "stdout",
     "output_type": "stream",
     "text": [
      "-0.01563103131089201\n",
      "-0.034952048569582186\n"
     ]
    }
   ],
   "source": [
    "## como se calcularía el var al 10% usando a 5 días en vez de diario?\n",
    "\n",
    "## supongamos un retorno diario con media del 1%\n",
    "## y desvio del 2%\n",
    "\n",
    "## el var al 10% diario sería:\n",
    "var_10_diario = norm.ppf(0.1, loc=.01, scale=.02) \n",
    "print(var_10_diario)\n",
    "\n",
    "## y a 5 dias: alcanza con multiplicar el var por la raiz cuadrada de la cantidad de días\n",
    "var_5_dias = norm.ppf(0.1, loc=.01, scale=.02) * np.sqrt(5)\n",
    "print(var_5_dias)"
   ]
  },
  {
   "cell_type": "markdown",
   "id": "twelve-syndication",
   "metadata": {},
   "source": [
    "Tenemos una cartera tiene rendimientos diarios, descontados al día\n",
    "de hoy, que se distribuyen Niid con una expectativa del 0% y\n",
    "desviación estándar del 1,5%.\n",
    "Estimemos el VaR de 1% a 1 día. Luego el VaR a 10 días al 1% bajo el\n",
    "supuesto de que los rendimientos en exceso diarios (a) son\n",
    "independientes y (b) siguen un proceso autorregresivo de primer\n",
    "orden con autocorrelación de 0.25.\n",
    "¿La autocorrelación positiva aumenta o disminuye el VaR?"
   ]
  },
  {
   "cell_type": "code",
   "execution_count": 268,
   "id": "whole-tract",
   "metadata": {},
   "outputs": [
    {
     "data": {
      "text/plain": [
       "12.5"
      ]
     },
     "execution_count": 268,
     "metadata": {},
     "output_type": "execute_result"
    }
   ],
   "source": [
    "0.25*10 + 10"
   ]
  },
  {
   "cell_type": "code",
   "execution_count": 260,
   "id": "apart-selling",
   "metadata": {},
   "outputs": [
    {
     "name": "stdout",
     "output_type": "stream",
     "text": [
      "El var al 1% de 1 día es de -3.49%. A 10 días me queda en -11.03%\n"
     ]
    }
   ],
   "source": [
    "var_1_1 = norm.ppf(.01, loc=0, scale=0.015)\n",
    "var_10_1 = var_1_1 * np.sqrt(10)\n",
    "\n",
    "print(f\"El var al 1% de 1 día es de {round(var_1_1 * 100,2)}%. A 10 días me queda en {round(var_10_1 * 100,2)}%\n",
    "      \")"
   ]
  }
 ],
 "metadata": {
  "kernelspec": {
   "display_name": "Python 3",
   "language": "python",
   "name": "python3"
  },
  "language_info": {
   "codemirror_mode": {
    "name": "ipython",
    "version": 3
   },
   "file_extension": ".py",
   "mimetype": "text/x-python",
   "name": "python",
   "nbconvert_exporter": "python",
   "pygments_lexer": "ipython3",
   "version": "3.8.10"
  }
 },
 "nbformat": 4,
 "nbformat_minor": 5
}
